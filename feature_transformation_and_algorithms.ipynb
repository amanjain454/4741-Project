{
 "cells": [
  {
   "cell_type": "code",
   "execution_count": 1,
   "metadata": {},
   "outputs": [],
   "source": [
    "import numpy as np\n",
    "import scipy.stats as sc\n",
    "import matplotlib.pyplot as plt\n",
    "%matplotlib inline\n",
    "import pandas as pd\n",
    "from time import gmtime, strftime\n",
    "import datetime\n",
    "from numpy import nan\n",
    "import pandas as pd  \n",
    "import numpy as np  \n",
    "import matplotlib.pyplot as plt  \n",
    "import seaborn as seabornInstance \n",
    "from sklearn.model_selection import train_test_split \n",
    "from sklearn.linear_model import LinearRegression\n",
    "from sklearn import metrics\n",
    "from datetime import datetime\n",
    "from sklearn.model_selection import cross_val_score\n",
    "from sklearn.metrics import make_scorer\n",
    "%matplotlib inline"
   ]
  },
  {
   "cell_type": "code",
   "execution_count": 2,
   "metadata": {},
   "outputs": [
    {
     "name": "stdout",
     "output_type": "stream",
     "text": [
      "  employee_id  trip_id trip_type  gender  cab_type trip_state_text  \\\n",
      "0    ATT-0001   461353    LOGOUT    MALE  4 Seater       COMPLETED   \n",
      "1    ATT-0002   461528     LOGIN    MALE  4 Seater       COMPLETED   \n",
      "2    ATT-0003   461849    LOGOUT    MALE  4 Seater       COMPLETED   \n",
      "3    ATT-0004   461431    LOGOUT    MALE  4 Seater       COMPLETED   \n",
      "4    ATT-0005   461915     LOGIN  FEMALE  4 Seater       COMPLETED   \n",
      "\n",
      "  planned_pickup_time  pickup_geoX  pickup_geoY  drop_geoX  ...  \\\n",
      "0      5/16/2019 6:45    12.923583    77.671061  12.988366  ...   \n",
      "1      5/16/2019 6:26    12.955146    77.738991  12.934748  ...   \n",
      "2     5/16/2019 15:45    12.924626    77.671098  12.968512  ...   \n",
      "3      5/16/2019 1:45    12.924514    77.671051  13.043238  ...   \n",
      "4      5/16/2019 6:09    12.921150    77.646636  12.923322  ...   \n",
      "\n",
      "   total_distance  costoftrip  perpersoncost hour_shift  minute_shift  hour  \\\n",
      "0       30.629322  155.066034      77.047147          6            30   6.0   \n",
      "1        7.177641   53.012574      46.083283          6            45   6.0   \n",
      "2       46.928047  165.427313      56.728831         15            30  15.0   \n",
      "3       59.086995  458.732089     128.031994          1            30   1.0   \n",
      "4        5.193483   51.934835      25.967417          6            15   6.0   \n",
      "\n",
      "  minute  month  date_of_month  day  \n",
      "0   45.0      5             16    5  \n",
      "1   26.0      5             16    5  \n",
      "2   45.0      5             16    5  \n",
      "3   45.0      5             16    5  \n",
      "4    9.0      5             16    5  \n",
      "\n",
      "[5 rows x 30 columns]\n",
      "['employee_id' 'trip_id' 'trip_type' 'gender' 'cab_type' 'trip_state_text'\n",
      " 'planned_pickup_time' 'pickup_geoX' 'pickup_geoY' 'drop_geoX' 'drop_geoY'\n",
      " 'distance' 'Company' 'dayofweek' 'employee_count_x' 'required_escort_x'\n",
      " 'trip_state_text_y' 'employee_count_y' 'required_escort_y' 'max_distance'\n",
      " 'total_distance' 'costoftrip' 'perpersoncost' 'hour_shift' 'minute_shift'\n",
      " 'hour' 'minute' 'month' 'date_of_month' 'day']\n",
      "(510778, 30)\n"
     ]
    }
   ],
   "source": [
    "data_full = pd.read_csv(\"MoveInSyncData-final.csv\")\n",
    "print(data_full.head())\n",
    "np.shape(data_full)\n",
    "#data = data_full.head(500)\n",
    "data = data_full\n",
    "print(data.columns.values)\n",
    "data_rows = data.shape[0]\n",
    "data_col = data.shape[1]\n",
    "data_transformed = pd.DataFrame()\n",
    "data.reset_index(drop = True, inplace = True)\n",
    "data.head()\n",
    "print(data.shape)"
   ]
  },
  {
   "cell_type": "code",
   "execution_count": 3,
   "metadata": {},
   "outputs": [],
   "source": [
    "## Defining set of functions required for feature transformation \n",
    "\n",
    "# Generic functions\n",
    "def one_hot(x):\n",
    "    num_rows = x.shape[0]\n",
    "    unique_list = []\n",
    "    \n",
    "    for i in range(0,num_rows):\n",
    "        if(x[i] not in unique_list):\n",
    "            unique_list.append(x[i])\n",
    "    print(\"column key is:\", unique_list)\n",
    "    unique_list_length = np.size(unique_list)\n",
    "    one_hot_vector = np.zeros((num_rows,unique_list_length))\n",
    "    \n",
    "    for i in range(0,num_rows):\n",
    "        for j in range(0,unique_list_length):\n",
    "            if x[i]==unique_list[j]:\n",
    "                one_hot_vector[i][j] = 1\n",
    "    \n",
    "    return(one_hot_vector)\n",
    "\n",
    "def freq(lst):\n",
    "    d = {}\n",
    "    for i in lst:\n",
    "        if d.get(i):\n",
    "            d[i] += 1\n",
    "        else:\n",
    "            d[i] = 1\n",
    "    return d\n",
    "\n",
    "\n",
    "def ordinal_many_hot(z,ordered_list):\n",
    "    num_rows = np.size(z)\n",
    "    num_col = np.size(ordered_list)-1\n",
    "    ordinal_vector = np.zeros((num_rows,num_col))\n",
    "    \n",
    "    for i in range(0,num_rows):\n",
    "        j=ordered_list.index(z[i])\n",
    "        if j > 0:\n",
    "            for k in range(0, j):\n",
    "                ordinal_vector[i,k]=1\n",
    "    \n",
    "    return(ordinal_vector)   \n",
    "\n",
    "\n",
    "\n",
    "#feature transformation 1 - One hot vector for Hour of the request.\n",
    "def hour(x):\n",
    "    y = x.find(':')\n",
    "    z = int(x[0:y])\n",
    "    return(z) \n",
    "\n",
    "#feature transformation 2 - One hot vector for quardant of Hour of the request. \n",
    "def minute(z):\n",
    "    if z <=15:\n",
    "        return(1)  #1st quardant\n",
    "    elif 15<z<=30:\n",
    "        return(2)  #2nd quardant\n",
    "    elif 30<z<=45:\n",
    "        return(3)  #3rd quardant\n",
    "    else:\n",
    "        return(4)  #4th quardant\n",
    "    \n",
    "#feature transformation 4 - One hot vector for day of the week\n",
    "#0 = sunday, 1= monday, 2 = tuesday and so on\n",
    "def day_of_week(x):\n",
    "    y_1 = x.find('/')\n",
    "    #print(y_1)\n",
    "    y_2 = x.find('/', y_1+1)\n",
    "    #print(y_2)\n",
    "    \n",
    "    date = x[y_1+1:y_2]\n",
    "    #print(date)\n",
    "    if(len(date) == 1):\n",
    "        date = \"0\"+date\n",
    "        \n",
    "    month = x[0:y_1]\n",
    "    #print(month)\n",
    "    if(len(month) == 1):\n",
    "        month = \"0\"+month\n",
    "    \n",
    "    year = \"20\"+x[y_2+1:len(x)]\n",
    "    #print(year)\n",
    "    \n",
    "    date = month+\",\"+date+\",\"+year\n",
    "    print(date)\n",
    "        \n",
    "    day_of_week = datetime.datetime.strptime(date, '%m,%d,%Y').strftime('%w')\n",
    "    \n",
    "    return(int(day_of_week))\n",
    "\n",
    "\n",
    "# Feature # 10: calculates customer location density at 2 decimal points\n",
    "def cx_loc_density(cx_lat_long_X,cx_lat_long_Y, z):\n",
    "#     print(\"x =\", x)\n",
    "    num_rows = cx_lat_long_X.shape[0]\n",
    "    lat_long = np.zeros((num_rows,2))\n",
    "    lat_long_concat = [None]*num_rows\n",
    "    x_final_cat = [None]*num_rows\n",
    "    \n",
    "    \n",
    "    for i in range(0,num_rows):\n",
    "        lat = cx_lat_long_X[i]\n",
    "        long = cx_lat_long_Y[i]\n",
    "#         print(lat)\n",
    "#         print(long)\n",
    "        lat_shortened = str(round(lat,z)) #12.42 (2 digits post decimal)\n",
    "        long_shortened = str(round(lat,z))\n",
    "        lat_long_concat[i] = lat_shortened+\"-\"+long_shortened\n",
    "    \n",
    "    #print(lat_long_concat)\n",
    "            \n",
    "    unique_list = []\n",
    "    \n",
    "    for i in range(0,num_rows):\n",
    "        if(lat_long_concat[i] not in unique_list):\n",
    "            unique_list.append(lat_long_concat[i])\n",
    "            \n",
    "#     print(\"unique_list =\", unique_list)\n",
    "    L = len(unique_list)\n",
    "#     print(np.size(unique_list))\n",
    "    \n",
    "    # counting occurance of unique items \n",
    "    \n",
    "    unique_list_freq = []\n",
    "    \n",
    "    for i in range(0,L):\n",
    "        y = lat_long_concat.count(unique_list[i])\n",
    "        a = [unique_list[i], y]\n",
    "        unique_list_freq.append(a)\n",
    "#     print(\"unique_list_freq =\", unique_list_freq)\n",
    "    \n",
    "    unique_list_freq.sort(key=lambda x: x[1])\n",
    "#     print(unique_list_freq)\n",
    "        \n",
    "    # Assigning cateogries = {1,2,3,4,5} to the unique list. 5 being with highest density. \n",
    "    # Ideally we woudl want to do it for geohash-hour level densities, but due to data sparsity that matrix may not useful. \n",
    "    # further cuts for day of week etc can be make to get this density function. but we are not getting into those comlexities as of now.\n",
    "    # if current transformation do not work, we can explore some of these enhancements. \n",
    "    \n",
    "    unique_list_freq_sum = np.zeros(L)\n",
    "    for i in range(0,L):\n",
    "        b = 0\n",
    "        for j in range(0,i):\n",
    "            b = b+unique_list_freq[j][1]\n",
    "        unique_list_freq_sum[i] = b\n",
    "        \n",
    "    category = [None]*L\n",
    "    \n",
    "#     print(\"L=\", L)\n",
    "    for i in range(0,L):\n",
    "        if unique_list_freq_sum[i] <= num_rows*0.2:\n",
    "            category[i] = '1'\n",
    "        elif ((num_rows*0.2) < unique_list_freq_sum[i] <= (num_rows*0.4)): \n",
    "            category[i] = '2'\n",
    "        elif ((num_rows*0.4) < unique_list_freq_sum[i] <= (num_rows*0.6)): \n",
    "            category[i] = '3'\n",
    "        elif ((num_rows*0.6) < unique_list_freq_sum[i] <= (num_rows*0.8)): \n",
    "            category[i] = '4'\n",
    "        else: \n",
    "            category[i] = '5'\n",
    "    \n",
    "    \n",
    "    ### Assignging categories for input data points\n",
    "    \n",
    "    x_final_cat = ['5']*num_rows\n",
    "    for i in range(0,num_rows):\n",
    "        for j in range(0,L-1):\n",
    "            if lat_long_concat[i] == unique_list_freq[j][0]:\n",
    "                x_final_cat[i] = category[j]         \n",
    "        \n",
    "#     print(unique_list_freq)\n",
    "#     print(category)\n",
    "#     print(x_final_cat)\n",
    "    \n",
    "    return(x_final_cat)\n",
    "\n",
    "#feature transformation 11 - traffic points on the way\n",
    "\n",
    "# x is array containing lat longs. \n",
    "# z is digits after decimal. \n",
    "\n",
    "def geo_hash_trim(x,z):\n",
    "    num_rows = x.shape[0]\n",
    "    lat_long = np.zeros((num_rows,1))\n",
    "    \n",
    "    for i in range(0,num_rows):\n",
    "        y = x[i]\n",
    "        lat_long[i] = round(y,z)\n",
    "    return(lat_long)\n",
    "\n",
    "#returns distance in meters. \n",
    "#assumes all inputs in 2 decimal digit significance, hence multiplier of 110. \n",
    "#areal distance\n",
    "def line_point_distance(x1,y1,x2,y2,xp,yp):\n",
    "    p1=np.array([x1,y1])\n",
    "    p2=np.array([x2,y2])\n",
    "    p3=np.array([xp,yp])\n",
    "    d=abs(np.cross(p2-p1,p3-p1)/np.linalg.norm(p2-p1))*110\n",
    "    #print (\"distance from line=\", d)\n",
    "    return(d) \n",
    "\n",
    "#x==4 column array (x1,y1,x2,y2), \n",
    "#y==2 column array with points xp,yp in each row, \n",
    "#threshhold in meters. \n",
    "def num_points_nearby(from_to,point,threshold):\n",
    "    #print(point)\n",
    "    num_row = np.shape(from_to)[0]\n",
    "    #print(num_row)\n",
    "    num_points = np.shape(point)[0]\n",
    "    #print(num_points)\n",
    "    points_on_the_way = np.zeros(num_row)\n",
    "    \n",
    "    for i in range(0,num_row):\n",
    "#         print(from_to[i,0])\n",
    "#         print(from_to[i,1])\n",
    "#         print(from_to[i,2])\n",
    "#         print(from_to[i,3])\n",
    "#         print(point[0])\n",
    "#         print(point[1])\n",
    "        distance = line_point_distance(from_to[i,0],from_to[i,1],from_to[i,2],from_to[i,3],point[0],point[1])\n",
    "        if(distance <= threshold):\n",
    "            #print(j, \"lies near connecting line\")\n",
    "            points_on_the_way[i] = 1\n",
    "                \n",
    "    return(points_on_the_way)\n"
   ]
  },
  {
   "cell_type": "code",
   "execution_count": 4,
   "metadata": {},
   "outputs": [
    {
     "name": "stdout",
     "output_type": "stream",
     "text": [
      "(488472, 8)\n",
      "column key is: [1, 3, 4, 2, 7, 5, 6, 9, 8, 10]\n",
      "(488472, 10)\n",
      "column key is: ['LOGOUT', 'LOGIN']\n",
      "column key is: ['MALE', 'FEMALE']\n"
     ]
    },
    {
     "name": "stderr",
     "output_type": "stream",
     "text": [
      "/Users/ankitajain/anaconda3/lib/python3.7/site-packages/ipykernel_launcher.py:50: FutureWarning: Method .as_matrix will be removed in a future version. Use .values instead.\n"
     ]
    },
    {
     "name": "stdout",
     "output_type": "stream",
     "text": [
      "column key is: ['4 Seater', '6 Seater', 'Xylo', '4Seater', '4 SEATER', 'Sumo', 'Indica', 'TT', 'SEDAN', 'INOVO', 'Sedan', nan]\n"
     ]
    },
    {
     "name": "stderr",
     "output_type": "stream",
     "text": [
      "/Users/ankitajain/anaconda3/lib/python3.7/site-packages/ipykernel_launcher.py:199: RuntimeWarning: invalid value encountered in true_divide\n"
     ]
    },
    {
     "name": "stdout",
     "output_type": "stream",
     "text": [
      "(488472, 5)\n",
      "          1    0    0    0    0\n",
      "0       0.0  0.0  0.0  0.0  1.0\n",
      "1       1.0  1.0  0.0  0.0  1.0\n",
      "2       0.0  0.0  0.0  0.0  1.0\n",
      "3       0.0  1.0  0.0  1.0  1.0\n",
      "4       1.0  1.0  0.0  0.0  1.0\n",
      "5       1.0  1.0  0.0  0.0  1.0\n",
      "6       1.0  1.0  0.0  0.0  1.0\n",
      "7       0.0  1.0  0.0  0.0  0.0\n",
      "8       1.0  1.0  0.0  0.0  1.0\n",
      "9       0.0  1.0  0.0  1.0  1.0\n",
      "10      1.0  1.0  0.0  0.0  1.0\n",
      "11      0.0  0.0  1.0  1.0  0.0\n",
      "12      1.0  1.0  0.0  0.0  1.0\n",
      "13      0.0  0.0  0.0  0.0  1.0\n",
      "14      0.0  0.0  0.0  1.0  1.0\n",
      "15      0.0  0.0  0.0  0.0  1.0\n",
      "16      1.0  1.0  0.0  0.0  1.0\n",
      "17      1.0  1.0  0.0  0.0  1.0\n",
      "18      0.0  0.0  0.0  0.0  1.0\n",
      "19      0.0  0.0  0.0  0.0  1.0\n",
      "20      0.0  0.0  0.0  0.0  1.0\n",
      "21      0.0  0.0  1.0  1.0  0.0\n",
      "22      0.0  1.0  0.0  1.0  1.0\n",
      "23      1.0  1.0  0.0  0.0  1.0\n",
      "24      0.0  0.0  0.0  1.0  1.0\n",
      "25      0.0  0.0  0.0  1.0  1.0\n",
      "26      0.0  0.0  0.0  1.0  1.0\n",
      "27      0.0  0.0  0.0  0.0  1.0\n",
      "28      0.0  0.0  0.0  0.0  1.0\n",
      "29      0.0  1.0  0.0  0.0  1.0\n",
      "...     ...  ...  ...  ...  ...\n",
      "488442  0.0  1.0  0.0  0.0  1.0\n",
      "488443  1.0  1.0  0.0  0.0  1.0\n",
      "488444  1.0  1.0  0.0  0.0  1.0\n",
      "488445  1.0  1.0  0.0  0.0  1.0\n",
      "488446  0.0  1.0  0.0  0.0  1.0\n",
      "488447  1.0  1.0  0.0  0.0  1.0\n",
      "488448  0.0  1.0  0.0  0.0  0.0\n",
      "488449  0.0  1.0  0.0  0.0  0.0\n",
      "488450  1.0  1.0  0.0  0.0  1.0\n",
      "488451  0.0  1.0  0.0  0.0  1.0\n",
      "488452  1.0  1.0  0.0  0.0  1.0\n",
      "488453  1.0  1.0  0.0  0.0  1.0\n",
      "488454  0.0  1.0  0.0  0.0  1.0\n",
      "488455  0.0  1.0  0.0  0.0  1.0\n",
      "488456  0.0  1.0  0.0  0.0  0.0\n",
      "488457  1.0  1.0  0.0  0.0  1.0\n",
      "488458  0.0  1.0  0.0  1.0  0.0\n",
      "488459  0.0  1.0  0.0  1.0  0.0\n",
      "488460  0.0  1.0  0.0  0.0  1.0\n",
      "488461  0.0  1.0  0.0  1.0  0.0\n",
      "488462  0.0  1.0  0.0  0.0  1.0\n",
      "488463  0.0  1.0  0.0  1.0  0.0\n",
      "488464  0.0  1.0  0.0  0.0  1.0\n",
      "488465  0.0  1.0  0.0  0.0  0.0\n",
      "488466  0.0  1.0  1.0  0.0  0.0\n",
      "488467  1.0  1.0  0.0  0.0  1.0\n",
      "488468  1.0  1.0  0.0  0.0  1.0\n",
      "488469  0.0  1.0  0.0  0.0  1.0\n",
      "488470  0.0  1.0  0.0  1.0  0.0\n",
      "488471  1.0  1.0  0.0  0.0  1.0\n",
      "\n",
      "[488472 rows x 5 columns]\n",
      "column key is: [0.0, 1.0]\n",
      "(488472, 1)\n",
      "<class 'numpy.ndarray'>\n"
     ]
    }
   ],
   "source": [
    "#feature transformation 1 - One hot vector for Hour of the request.\n",
    "\n",
    "X_hour = np.zeros((data_rows,24))\n",
    "for i in range(0,(data_rows)):\n",
    "    y = int(data[\"hour\"][i])\n",
    "    X_hour[i,y-1] = 1    ##X[i,j] indices i nd j starts from 0. \n",
    "X_hour.shape\n",
    "\n",
    "#feature transformation 2 - One hot vector for quardant of Hour of the request. \n",
    "\n",
    "X_min = np.zeros((data_rows,4))\n",
    "for i in range(0,(data_rows)):\n",
    "    y = minute(data[\"minute\"][i])\n",
    "    X_min[i,y-1] = 1\n",
    "X_min.shape\n",
    "\n",
    "#feature transformation 3 - One hot vector for month. \n",
    "X_month = np.zeros((data_rows,12))\n",
    "for i in range(0,(data_rows)):\n",
    "    y = data[\"month\"][i]\n",
    "    X_month[i,y-1] = 1\n",
    "X_month.shape\n",
    "\n",
    "#feature transformation 4 - One hot vector for day of the week\n",
    "\n",
    "X_dow = np.zeros((data_rows,8))\n",
    "for i in range(0,(data_rows)):\n",
    "    y = data[\"day\"][i]\n",
    "    X_dow[i,y] = 1  \n",
    "print(X_dow.shape)\n",
    "sum(sum(X_dow))\n",
    "\n",
    "#feature transformation 5 - One hot vector for office location\n",
    " \n",
    "X_office = one_hot(data[\"Company\"])\n",
    "print(X_office.shape) \n",
    "\n",
    "#feature transformation 6 - trip_type\n",
    "    \n",
    "X_trip_type = one_hot(data[\"trip_type\"])\n",
    "X_trip_type.shape\n",
    "\n",
    "#feature transformation 7 - gender\n",
    "\n",
    "X_gender = one_hot(data[\"gender\"])\n",
    "X_gender.shape\n",
    "\n",
    "#feature transformation 8 - distance\n",
    "\n",
    "X_distance = data[\"distance\"].as_matrix().reshape(len(data[\"distance\"]),1)\n",
    "#print(X_distance.shape)\n",
    "\n",
    "import numpy as np\n",
    "from sklearn.preprocessing import PolynomialFeatures\n",
    "poly = PolynomialFeatures(2)\n",
    "X_distance_poly = poly.fit_transform(X_distance)\n",
    "np.shape(X_distance_poly)\n",
    "\n",
    "\n",
    "#feature transformation 9 - cab_type\n",
    "\n",
    "X_cab_type = one_hot(data[\"cab_type\"])\n",
    "X_cab_type.shape\n",
    "\n",
    "#feature transformation 10 - user_location_density one hot\n",
    "\n",
    "data.loc[data[\"trip_type\"] == \"LOGOUT\", \"cx_lat_long_X\"] = data[\"drop_geoX\"]\n",
    "data.loc[data[\"trip_type\"] == \"LOGOUT\", \"cx_lat_long_Y\"] = data[\"drop_geoY\"]\n",
    "\n",
    "data.loc[data[\"trip_type\"] == \"LOGOUT\", \"office_lat_long_X\"] = data[\"pickup_geoX\"]\n",
    "data.loc[data[\"trip_type\"] == \"LOGOUT\", \"office_lat_long_Y\"] = data[\"pickup_geoY\"]\n",
    "\n",
    "data.loc[data[\"trip_type\"] == \"LOGIN\", \"cx_lat_long_X\"] = data[\"pickup_geoX\"]\n",
    "data.loc[data[\"trip_type\"] == \"LOGIN\", \"cx_lat_long_Y\"] = data[\"pickup_geoY\"]\n",
    "\n",
    "data.loc[data[\"trip_type\"] == \"LOGIN\", \"office_lat_long_X\"] = data[\"drop_geoX\"]\n",
    "data.loc[data[\"trip_type\"] == \"LOGIN\", \"office_lat_long_Y\"] = data[\"drop_geoY\"]\n",
    "\n",
    "\n",
    "      # 2 significant digit is showing large number of uniques points (23), hence 1 significant digit is used. might changes once we have more data. \n",
    "z = cx_loc_density(data[\"cx_lat_long_X\"],data[\"cx_lat_long_Y\"],2)\n",
    "\n",
    "freq(z)\n",
    "\n",
    "ordered_list = ['1', '2', '3', '4', '5']\n",
    "X_cx_density = ordinal_many_hot(z,ordered_list)\n",
    "# print(X_cx_density)\n",
    "# print(X_cx_density.shape)\n",
    "# (sum(X_cx_density))\n",
    "\n",
    "#feature transformation 11 - traffic points on the way\n",
    "\n",
    "traffic_points = [[12.9, 77.6],[12.95, 77.70],[13.01, 77.58],[13.00, 77.67],[12.92, 77.66]]\n",
    "#silk board: 12.91, 77.62\n",
    "#marathalli bridge: 12.95, 77.70\n",
    "#mekhari circle: 13.01, 77.58\n",
    "#KR puram junction: 13.00, 77.67\n",
    "# Sarjapur junciton: 12.92, 77.66\n",
    "\n",
    "cx_trimmed_lat_long_X = geo_hash_trim(data[\"cx_lat_long_X\"],3)\n",
    "cx_trimmed_lat_long_Y = geo_hash_trim(data[\"cx_lat_long_Y\"],3)\n",
    "office_trimmed_lat_long_X = geo_hash_trim(data[\"office_lat_long_X\"],3)\n",
    "office_trimmed_lat_long_Y = geo_hash_trim(data[\"office_lat_long_Y\"],3)\n",
    "\n",
    "from_to_lat_long = np.concatenate((cx_trimmed_lat_long_X, cx_trimmed_lat_long_Y, office_trimmed_lat_long_X, office_trimmed_lat_long_Y), axis=1)\n",
    "X_traffic_points = pd.Series()\n",
    "#print(type(X_traffic_points))\n",
    "for i in range(0, len(traffic_points)):\n",
    "    A = num_points_nearby(from_to_lat_long,traffic_points[i], 3)\n",
    "    A = pd.Series(A)\n",
    "    X_traffic_points = pd.concat([X_traffic_points, A], axis=1)\n",
    "#print(type(X_traffic_points))\n",
    "    \n",
    "X_traffic_points = X_traffic_points.iloc[:,1:]\n",
    "print(X_traffic_points.shape)\n",
    "print((X_traffic_points))\n",
    "#X_traffic_points\n",
    "\n",
    "#feature transformation 12 - speed categorization of office_cx geo hash\n",
    "\n",
    "### speed data does not look accurate\n",
    "\n",
    "\n",
    "#feature transformation 13 - escort prediction (using SVM classifier)\n",
    "#seperate file\n",
    "X_escort = one_hot(data[\"required_escort_y\"])\n",
    "X_escort = X_escort[:,:-1]\n",
    "\n",
    "print(np.shape(X_escort))\n",
    "print(type(X_escort))"
   ]
  },
  {
   "cell_type": "code",
   "execution_count": 5,
   "metadata": {},
   "outputs": [
    {
     "name": "stdout",
     "output_type": "stream",
     "text": [
      "Shape of X_hour is: (488472, 24)\n",
      "Shape of X_dow is: (488472, 8)\n",
      "Shape of X_gender is: (488472, 2)\n",
      "Shape of X_distance_poly is: (488472, 3)\n",
      "Shape of X_trip_type is: (488472, 2)\n",
      "Shape of X_cab_type is: (488472, 12)\n",
      "Shape of X_month is: (488472, 12)\n",
      "Shape of X_min is: (488472, 4)\n",
      "Shape of X_cx_density is: (488472, 4)\n",
      "Shape of X_traffic_points is: (488472, 5)\n",
      "Shape of X_escort is: (488472, 1)\n",
      "(488472, 77)\n",
      "(488472, 66)\n"
     ]
    }
   ],
   "source": [
    "### Printing shape of mini features\n",
    "\n",
    "print(\"Shape of X_hour is:\", np.shape(X_hour))\n",
    "print(\"Shape of X_dow is:\", np.shape(X_dow))\n",
    "print(\"Shape of X_gender is:\", np.shape(X_gender))\n",
    "print(\"Shape of X_distance_poly is:\", np.shape(X_distance_poly))\n",
    "print(\"Shape of X_trip_type is:\", np.shape(X_trip_type))\n",
    "print(\"Shape of X_cab_type is:\", np.shape(X_cab_type))\n",
    "print(\"Shape of X_month is:\", np.shape(X_month))\n",
    "print(\"Shape of X_min is:\", np.shape(X_min))\n",
    "print(\"Shape of X_cx_density is:\", np.shape(X_cx_density))\n",
    "print(\"Shape of X_traffic_points is:\", np.shape(X_traffic_points))\n",
    "print(\"Shape of X_escort is:\", np.shape(X_escort))\n",
    "\n",
    "### Concating and dropping columns with all 0s or all 1s. \n",
    "X_final = np.concatenate((X_hour, X_dow, X_gender,X_distance_poly, X_trip_type, X_cab_type, X_month, X_min, X_cx_density,X_traffic_points, X_escort), axis=1) #\n",
    "print(np.shape(X_final))\n",
    "X_final = np.transpose(X_final)\n",
    "X_final = X_final[~np.all(X_final == 0, axis=1)]  # removing all 1 columns\n",
    "X_final = X_final[~np.all(X_final == 1, axis=1)]  # removing all zero columns\n",
    "X_final = np.transpose(X_final)\n",
    "X_final = np.hstack((X_final,np.ones((len(X_distance),1))))\n",
    "print(np.shape(X_final))\n"
   ]
  },
  {
   "cell_type": "code",
   "execution_count": 6,
   "metadata": {},
   "outputs": [],
   "source": [
    "## Calculating Ys\n",
    "per_person_cost = data[\"perpersoncost\"].fillna(0)\n",
    "per_person_cost = per_person_cost.values.reshape(len( data[\"perpersoncost\"]),1)\n",
    "## writting X and Y to csv files \n",
    "pd.DataFrame(X_final).to_csv('processed_features.csv')\n",
    "pd.DataFrame(per_person_cost).to_csv('perpersoncost.csv')"
   ]
  },
  {
   "cell_type": "code",
   "execution_count": 214,
   "metadata": {},
   "outputs": [],
   "source": [
    "#-----Linear Regression -----#"
   ]
  },
  {
   "cell_type": "code",
   "execution_count": 215,
   "metadata": {},
   "outputs": [
    {
     "name": "stdout",
     "output_type": "stream",
     "text": [
      "y_mean =  57.53583772081395\n",
      "Absolute Mean Error for training data: 19.754264584868395\n",
      "Absolute Mean Squared Error for test data: 19.72270242309356\n",
      "time take for algorithm to run: 0:00:02.516143\n",
      "response time is : 0:00:00\n",
      "Cross validation MAE are: [19.58604755 19.66997132 19.72871429 19.71752019 19.85366736 19.81208971\n",
      " 19.79516181 19.94359442 19.77512191 19.69536323]\n"
     ]
    }
   ],
   "source": [
    "t1 = datetime.now()\n",
    "X = X_final\n",
    "y = per_person_cost\n",
    "X_train, X_test, y_train, y_test = train_test_split(X, y, test_size=0.2, random_state=0)\n",
    "regressor = LinearRegression()  \n",
    "regressor.fit(X_train, y_train) #training the algorithm\n",
    "#print(regressor.intercept_)\n",
    "#print(regressor.coef_)\n",
    "t1_response = datetime.now()\n",
    "y_pred_test = regressor.predict(X_test)\n",
    "t2_response = datetime.now()\n",
    "y_pred_train = regressor.predict(X_train)\n",
    "print (\"y_mean = \", np.mean(y))\n",
    "print('Absolute Mean Error for training data:', metrics.mean_absolute_error(y_train, y_pred_train))\n",
    "print('Absolute Mean Squared Error for test data:', metrics.mean_absolute_error(y_test, y_pred_test))\n",
    "t2 = datetime.now()\n",
    "print(\"time take for algorithm to run:\", t2-t1)\n",
    "print(\"response time is :\", (t2_response-t1_response)/np.shape(X_test)[0])\n",
    "my_scorer = make_scorer(metrics.mean_absolute_error)\n",
    "scores = cross_val_score(regressor, X_train, y_train, scoring=my_scorer, cv=10) #\n",
    "print(\"Cross validation MAE are:\", scores)"
   ]
  },
  {
   "cell_type": "code",
   "execution_count": 216,
   "metadata": {},
   "outputs": [],
   "source": [
    "#-----Huber Regression -----#"
   ]
  },
  {
   "cell_type": "code",
   "execution_count": 217,
   "metadata": {},
   "outputs": [
    {
     "name": "stderr",
     "output_type": "stream",
     "text": [
      "/Users/ankitajain/anaconda3/lib/python3.7/site-packages/sklearn/utils/validation.py:724: DataConversionWarning: A column-vector y was passed when a 1d array was expected. Please change the shape of y to (n_samples, ), for example using ravel().\n",
      "  y = column_or_1d(y, warn=True)\n"
     ]
    },
    {
     "name": "stdout",
     "output_type": "stream",
     "text": [
      "y_mean =  57.53583772081395\n",
      "Absolute Mean Error for training data: 18.777862774214775\n",
      "Absolute Mean Squared Error for test data: 18.71337373406781\n",
      "time take for algorithm to run: 0:00:28.566592\n",
      "response time is : 0:00:00\n"
     ]
    },
    {
     "name": "stderr",
     "output_type": "stream",
     "text": [
      "/Users/ankitajain/anaconda3/lib/python3.7/site-packages/sklearn/utils/validation.py:724: DataConversionWarning: A column-vector y was passed when a 1d array was expected. Please change the shape of y to (n_samples, ), for example using ravel().\n",
      "  y = column_or_1d(y, warn=True)\n",
      "/Users/ankitajain/anaconda3/lib/python3.7/site-packages/sklearn/utils/validation.py:724: DataConversionWarning: A column-vector y was passed when a 1d array was expected. Please change the shape of y to (n_samples, ), for example using ravel().\n",
      "  y = column_or_1d(y, warn=True)\n",
      "/Users/ankitajain/anaconda3/lib/python3.7/site-packages/sklearn/utils/validation.py:724: DataConversionWarning: A column-vector y was passed when a 1d array was expected. Please change the shape of y to (n_samples, ), for example using ravel().\n",
      "  y = column_or_1d(y, warn=True)\n",
      "/Users/ankitajain/anaconda3/lib/python3.7/site-packages/sklearn/utils/validation.py:724: DataConversionWarning: A column-vector y was passed when a 1d array was expected. Please change the shape of y to (n_samples, ), for example using ravel().\n",
      "  y = column_or_1d(y, warn=True)\n",
      "/Users/ankitajain/anaconda3/lib/python3.7/site-packages/sklearn/utils/validation.py:724: DataConversionWarning: A column-vector y was passed when a 1d array was expected. Please change the shape of y to (n_samples, ), for example using ravel().\n",
      "  y = column_or_1d(y, warn=True)\n",
      "/Users/ankitajain/anaconda3/lib/python3.7/site-packages/sklearn/utils/validation.py:724: DataConversionWarning: A column-vector y was passed when a 1d array was expected. Please change the shape of y to (n_samples, ), for example using ravel().\n",
      "  y = column_or_1d(y, warn=True)\n",
      "/Users/ankitajain/anaconda3/lib/python3.7/site-packages/sklearn/utils/validation.py:724: DataConversionWarning: A column-vector y was passed when a 1d array was expected. Please change the shape of y to (n_samples, ), for example using ravel().\n",
      "  y = column_or_1d(y, warn=True)\n",
      "/Users/ankitajain/anaconda3/lib/python3.7/site-packages/sklearn/utils/validation.py:724: DataConversionWarning: A column-vector y was passed when a 1d array was expected. Please change the shape of y to (n_samples, ), for example using ravel().\n",
      "  y = column_or_1d(y, warn=True)\n",
      "/Users/ankitajain/anaconda3/lib/python3.7/site-packages/sklearn/utils/validation.py:724: DataConversionWarning: A column-vector y was passed when a 1d array was expected. Please change the shape of y to (n_samples, ), for example using ravel().\n",
      "  y = column_or_1d(y, warn=True)\n",
      "/Users/ankitajain/anaconda3/lib/python3.7/site-packages/sklearn/utils/validation.py:724: DataConversionWarning: A column-vector y was passed when a 1d array was expected. Please change the shape of y to (n_samples, ), for example using ravel().\n",
      "  y = column_or_1d(y, warn=True)\n"
     ]
    },
    {
     "name": "stdout",
     "output_type": "stream",
     "text": [
      "Cross validation MAE are: [18.5467868  18.25208407 18.94107835 18.78925494 18.97093669 18.68032384\n",
      " 18.6694181  18.80986609 18.43378673 18.75658018]\n"
     ]
    }
   ],
   "source": [
    "t1 = datetime.now()\n",
    "import numpy as np\n",
    "from sklearn.linear_model import HuberRegressor\n",
    "X = X_final\n",
    "y = per_person_cost\n",
    "X_train, X_test, y_train, y_test = train_test_split(X, y, test_size=0.2, random_state=0)\n",
    "huber = HuberRegressor().fit(X_train, y_train)\n",
    "t1_response = datetime.now()\n",
    "y_pred_test = huber.predict(X_test)\n",
    "t2_response = datetime.now()\n",
    "y_pred_train = huber.predict(X_train)\n",
    "print(\"y_mean = \", np.mean(y))\n",
    "print('Absolute Mean Error for training data:', metrics.mean_absolute_error(y_train, y_pred_train))\n",
    "print('Absolute Mean Squared Error for test data:', metrics.mean_absolute_error(y_test, y_pred_test))\n",
    "t2 = datetime.now()\n",
    "print(\"time take for algorithm to run:\", t2-t1)\n",
    "print(\"response time is :\", (t2_response-t1_response)/np.shape(X_test)[0])\n",
    "my_scorer = make_scorer(metrics.mean_absolute_error)\n",
    "scores = cross_val_score(huber, X_train, y_train, scoring=my_scorer, cv=10) #\n",
    "print(\"Cross validation MAE are:\", scores)"
   ]
  },
  {
   "cell_type": "code",
   "execution_count": 218,
   "metadata": {},
   "outputs": [],
   "source": [
    "#-----Ridge Regression -----#"
   ]
  },
  {
   "cell_type": "code",
   "execution_count": 219,
   "metadata": {},
   "outputs": [
    {
     "name": "stdout",
     "output_type": "stream",
     "text": [
      "y_mean =  57.53583772081395\n",
      "Absolute Mean Error for training data: 19.75426388518387\n",
      "Absolute Mean Squared Error for test data: 19.722696339307074\n",
      "time take for algorithm to run: 0:00:01.597042\n",
      "response time is : 0:00:00\n",
      "Cross validation MAE are: [19.58604051 19.66996443 19.72870796 19.71751339 19.85366087 19.81208299\n",
      " 19.79515432 19.94358845 19.77511608 19.69535714]\n"
     ]
    }
   ],
   "source": [
    "t1 = datetime.now()\n",
    "import numpy as np\n",
    "from sklearn import linear_model\n",
    "X = X_final\n",
    "y = per_person_cost\n",
    "X_train, X_test, y_train, y_test = train_test_split(X, y, test_size=0.2, random_state=0)\n",
    "reg = linear_model.Ridge(alpha=0.1)\n",
    "reg.fit(X_train, y_train)\n",
    "t1_response = datetime.now()\n",
    "y_pred_test = reg.predict(X_test)\n",
    "t2_response = datetime.now()\n",
    "y_pred_train = reg.predict(X_train)\n",
    "print(\"y_mean = \", np.mean(y))\n",
    "print('Absolute Mean Error for training data:', metrics.mean_absolute_error(y_train, y_pred_train))\n",
    "print('Absolute Mean Squared Error for test data:', metrics.mean_absolute_error(y_test, y_pred_test))\n",
    "t2 = datetime.now()\n",
    "print(\"time take for algorithm to run:\", t2-t1)\n",
    "print(\"response time is :\", (t2_response-t1_response)/np.shape(X_test)[0])\n",
    "my_scorer = make_scorer(metrics.mean_absolute_error)\n",
    "scores = cross_val_score(reg, X_train, y_train, scoring=my_scorer, cv=10) #\n",
    "print(\"Cross validation MAE are:\", scores)"
   ]
  },
  {
   "cell_type": "code",
   "execution_count": 220,
   "metadata": {},
   "outputs": [],
   "source": [
    "#-----LASSO Regression-------#"
   ]
  },
  {
   "cell_type": "code",
   "execution_count": 221,
   "metadata": {},
   "outputs": [
    {
     "name": "stdout",
     "output_type": "stream",
     "text": [
      "y_mean =  57.53583772081395\n",
      "Absolute Mean Error for training data: 19.781693233889765\n",
      "Absolute Mean Squared Error for test data: 19.73686926018247\n",
      "time take for algorithm to run: 0:00:05.943550\n",
      "response time is : 0:00:00\n",
      "Cross validation MAE are: [19.59917334 19.6856162  19.77275868 19.74705787 19.88585167 19.86766035\n",
      " 19.80691969 19.96973729 19.78645436 19.71557522]\n"
     ]
    }
   ],
   "source": [
    "t1 = datetime.now()\n",
    "import numpy as np\n",
    "from sklearn import linear_model\n",
    "X = X_final\n",
    "y = per_person_cost\n",
    "X_train, X_test, y_train, y_test = train_test_split(X, y, test_size=0.2, random_state=0)\n",
    "reg = linear_model.Lasso(alpha=0.1)\n",
    "reg.fit(X_train, y_train)\n",
    "t1_response = datetime.now()\n",
    "y_pred_test = reg.predict(X_test)\n",
    "t2_response = datetime.now()\n",
    "y_pred_train = reg.predict(X_train)\n",
    "print(\"y_mean = \", np.mean(y))\n",
    "print('Absolute Mean Error for training data:', metrics.mean_absolute_error(y_train, y_pred_train))\n",
    "print('Absolute Mean Squared Error for test data:', metrics.mean_absolute_error(y_test, y_pred_test))\n",
    "t2 = datetime.now()\n",
    "print(\"time take for algorithm to run:\", t2-t1)\n",
    "print(\"response time is :\", (t2_response-t1_response)/np.shape(X_test)[0])\n",
    "my_scorer = make_scorer(metrics.mean_absolute_error)\n",
    "scores = cross_val_score(reg, X_train, y_train, scoring=my_scorer, cv=10) #\n",
    "print(\"Cross validation MAE are:\", scores)"
   ]
  },
  {
   "cell_type": "code",
   "execution_count": 222,
   "metadata": {},
   "outputs": [],
   "source": [
    "#-----LARS Lasso Regression-------#"
   ]
  },
  {
   "cell_type": "code",
   "execution_count": 223,
   "metadata": {},
   "outputs": [
    {
     "name": "stdout",
     "output_type": "stream",
     "text": [
      "y_mean =  57.53583772081395\n",
      "Absolute Mean Error for training data: 32.54908378501242\n",
      "Absolute Mean Squared Error for test data: 32.36544821587066\n",
      "time take for algorithm to run: 0:00:01.383515\n",
      "response time is : 0:00:00\n",
      "Cross validation MAE are: [32.16017936 32.26667786 32.5924324  32.66207618 32.64247068 32.71003794\n",
      " 32.56647449 32.89792214 32.52634732 32.46709666]\n"
     ]
    }
   ],
   "source": [
    "t1 = datetime.now()\n",
    "import numpy as np\n",
    "from sklearn import linear_model\n",
    "X = X_final\n",
    "y = per_person_cost\n",
    "X_train, X_test, y_train, y_test = train_test_split(X, y, test_size=0.2, random_state=0)\n",
    "reg = linear_model.LassoLars(alpha=.1)\n",
    "reg.fit(X_train, y_train)\n",
    "t1_response = datetime.now()\n",
    "y_pred_test = reg.predict(X_test)\n",
    "t2_response = datetime.now()\n",
    "y_pred_train = reg.predict(X_train)\n",
    "print(\"y_mean = \", np.mean(y))\n",
    "print('Absolute Mean Error for training data:', metrics.mean_absolute_error(y_train, y_pred_train))\n",
    "print('Absolute Mean Squared Error for test data:', metrics.mean_absolute_error(y_test, y_pred_test))\n",
    "t2 = datetime.now()\n",
    "print(\"time take for algorithm to run:\", t2-t1)\n",
    "print(\"response time is :\", (t2_response-t1_response)/np.shape(X_test)[0])\n",
    "my_scorer = make_scorer(metrics.mean_absolute_error)\n",
    "scores = cross_val_score(reg, X_train, y_train, scoring=my_scorer, cv=10) #\n",
    "print(\"Cross validation MAE are:\", scores)"
   ]
  },
  {
   "cell_type": "code",
   "execution_count": 224,
   "metadata": {},
   "outputs": [],
   "source": [
    "#-----Bayesian Regression-------#"
   ]
  },
  {
   "cell_type": "code",
   "execution_count": 225,
   "metadata": {},
   "outputs": [
    {
     "name": "stderr",
     "output_type": "stream",
     "text": [
      "/Users/ankitajain/anaconda3/lib/python3.7/site-packages/sklearn/utils/validation.py:724: DataConversionWarning: A column-vector y was passed when a 1d array was expected. Please change the shape of y to (n_samples, ), for example using ravel().\n",
      "  y = column_or_1d(y, warn=True)\n"
     ]
    },
    {
     "name": "stdout",
     "output_type": "stream",
     "text": [
      "y_mean =  57.53583772081395\n",
      "Absolute Mean Error for training data: 19.75374940363546\n",
      "Absolute Mean Squared Error for test data: 19.722156150114955\n",
      "time take for algorithm to run: 0:00:03.791611\n",
      "response time is : 0:00:00\n"
     ]
    },
    {
     "name": "stderr",
     "output_type": "stream",
     "text": [
      "/Users/ankitajain/anaconda3/lib/python3.7/site-packages/sklearn/utils/validation.py:724: DataConversionWarning: A column-vector y was passed when a 1d array was expected. Please change the shape of y to (n_samples, ), for example using ravel().\n",
      "  y = column_or_1d(y, warn=True)\n",
      "/Users/ankitajain/anaconda3/lib/python3.7/site-packages/sklearn/utils/validation.py:724: DataConversionWarning: A column-vector y was passed when a 1d array was expected. Please change the shape of y to (n_samples, ), for example using ravel().\n",
      "  y = column_or_1d(y, warn=True)\n",
      "/Users/ankitajain/anaconda3/lib/python3.7/site-packages/sklearn/utils/validation.py:724: DataConversionWarning: A column-vector y was passed when a 1d array was expected. Please change the shape of y to (n_samples, ), for example using ravel().\n",
      "  y = column_or_1d(y, warn=True)\n",
      "/Users/ankitajain/anaconda3/lib/python3.7/site-packages/sklearn/utils/validation.py:724: DataConversionWarning: A column-vector y was passed when a 1d array was expected. Please change the shape of y to (n_samples, ), for example using ravel().\n",
      "  y = column_or_1d(y, warn=True)\n",
      "/Users/ankitajain/anaconda3/lib/python3.7/site-packages/sklearn/utils/validation.py:724: DataConversionWarning: A column-vector y was passed when a 1d array was expected. Please change the shape of y to (n_samples, ), for example using ravel().\n",
      "  y = column_or_1d(y, warn=True)\n",
      "/Users/ankitajain/anaconda3/lib/python3.7/site-packages/sklearn/utils/validation.py:724: DataConversionWarning: A column-vector y was passed when a 1d array was expected. Please change the shape of y to (n_samples, ), for example using ravel().\n",
      "  y = column_or_1d(y, warn=True)\n",
      "/Users/ankitajain/anaconda3/lib/python3.7/site-packages/sklearn/utils/validation.py:724: DataConversionWarning: A column-vector y was passed when a 1d array was expected. Please change the shape of y to (n_samples, ), for example using ravel().\n",
      "  y = column_or_1d(y, warn=True)\n",
      "/Users/ankitajain/anaconda3/lib/python3.7/site-packages/sklearn/utils/validation.py:724: DataConversionWarning: A column-vector y was passed when a 1d array was expected. Please change the shape of y to (n_samples, ), for example using ravel().\n",
      "  y = column_or_1d(y, warn=True)\n",
      "/Users/ankitajain/anaconda3/lib/python3.7/site-packages/sklearn/utils/validation.py:724: DataConversionWarning: A column-vector y was passed when a 1d array was expected. Please change the shape of y to (n_samples, ), for example using ravel().\n",
      "  y = column_or_1d(y, warn=True)\n",
      "/Users/ankitajain/anaconda3/lib/python3.7/site-packages/sklearn/utils/validation.py:724: DataConversionWarning: A column-vector y was passed when a 1d array was expected. Please change the shape of y to (n_samples, ), for example using ravel().\n",
      "  y = column_or_1d(y, warn=True)\n"
     ]
    },
    {
     "name": "stdout",
     "output_type": "stream",
     "text": [
      "Cross validation MAE are: [19.58541026 19.66936315 19.72821758 19.71692054 19.85307506 19.81151622\n",
      " 19.79450885 19.94302636 19.77457701 19.69480598]\n"
     ]
    }
   ],
   "source": [
    "t1 = datetime.now()\n",
    "import numpy as np\n",
    "from sklearn import linear_model\n",
    "X = X_final\n",
    "y = per_person_cost\n",
    "X_train, X_test, y_train, y_test = train_test_split(X, y, test_size=0.2, random_state=0)\n",
    "reg = linear_model.BayesianRidge()\n",
    "reg.fit(X_train, y_train)\n",
    "t1_response = datetime.now()\n",
    "y_pred_test = reg.predict(X_test)\n",
    "t2_response = datetime.now()\n",
    "y_pred_train = reg.predict(X_train)\n",
    "print(\"y_mean = \", np.mean(y))\n",
    "print('Absolute Mean Error for training data:', metrics.mean_absolute_error(y_train, y_pred_train))\n",
    "print('Absolute Mean Squared Error for test data:', metrics.mean_absolute_error(y_test, y_pred_test))\n",
    "t2 = datetime.now()\n",
    "print(\"time take for algorithm to run:\", t2-t1)\n",
    "print(\"response time is :\", (t2_response-t1_response)/np.shape(X_test)[0])\n",
    "my_scorer = make_scorer(metrics.mean_absolute_error)\n",
    "scores = cross_val_score(reg, X_train, y_train, scoring=my_scorer, cv=10) #\n",
    "print(\"Cross validation MAE are:\", scores)"
   ]
  },
  {
   "cell_type": "code",
   "execution_count": 226,
   "metadata": {},
   "outputs": [],
   "source": [
    "#--------DT regressor ---------#"
   ]
  },
  {
   "cell_type": "code",
   "execution_count": 7,
   "metadata": {},
   "outputs": [
    {
     "name": "stdout",
     "output_type": "stream",
     "text": [
      "y_mean =  57.53583772081395\n",
      "Absolute Mean Error for training data: 0.45415394731384173\n",
      "Absolute Mean Squared Error for test data: 14.365150836539632\n",
      "time take for algorithm to run: 0:00:13.084408\n",
      "response time is : 0:00:00.000002\n",
      "Cross validation MAE are: [14.45029298 14.39049444 14.54024613 14.44300384 14.54452154 14.3410605\n",
      " 14.41218566 14.67437989 14.64150811 14.39175579]\n"
     ]
    }
   ],
   "source": [
    "t1 = datetime.now()\n",
    "import numpy as np\n",
    "from sklearn.tree import DecisionTreeRegressor\n",
    "X = X_final\n",
    "y = per_person_cost\n",
    "X_train, X_test, y_train, y_test = train_test_split(X, y, test_size=0.2, random_state=0)\n",
    "reg = DecisionTreeRegressor(random_state = 0, max_depth = 40)\n",
    "reg.fit(X_train, y_train)\n",
    "t1_response = datetime.now()\n",
    "y_pred_test = reg.predict(X_test)\n",
    "t2_response = datetime.now()\n",
    "y_pred_train = reg.predict(X_train)\n",
    "print(\"y_mean = \", np.mean(y))\n",
    "print('Absolute Mean Error for training data:', metrics.mean_absolute_error(y_train, y_pred_train))\n",
    "print('Absolute Mean Squared Error for test data:', metrics.mean_absolute_error(y_test, y_pred_test))\n",
    "t2 = datetime.now()\n",
    "print(\"time take for algorithm to run:\", t2-t1)\n",
    "print(\"response time is :\", (t2_response-t1_response)/np.shape(X_test)[0])\n",
    "my_scorer = make_scorer(metrics.mean_absolute_error)\n",
    "scores = cross_val_score(reg, X_train, y_train, scoring=my_scorer, cv=10) #\n",
    "print(\"Cross validation MAE are:\", scores)"
   ]
  },
  {
   "cell_type": "code",
   "execution_count": 228,
   "metadata": {},
   "outputs": [],
   "source": [
    "#--------Random Forest ---------#"
   ]
  },
  {
   "cell_type": "code",
   "execution_count": 230,
   "metadata": {},
   "outputs": [
    {
     "name": "stderr",
     "output_type": "stream",
     "text": [
      "/Users/ankitajain/anaconda3/lib/python3.7/site-packages/ipykernel_launcher.py:9: DataConversionWarning: A column-vector y was passed when a 1d array was expected. Please change the shape of y to (n_samples,), for example using ravel().\n",
      "  if __name__ == '__main__':\n"
     ]
    },
    {
     "name": "stdout",
     "output_type": "stream",
     "text": [
      "y_mean =  57.53583772081395\n",
      "Absolute Mean Error for training data: 8.342956401189689\n",
      "Absolute Mean Error for test data: 12.302081114852568\n",
      "time take for algorithm to run: 1:51:56.127918\n",
      "response time is : 0:00:00.001156\n"
     ]
    },
    {
     "name": "stderr",
     "output_type": "stream",
     "text": [
      "/Users/ankitajain/anaconda3/lib/python3.7/site-packages/sklearn/model_selection/_validation.py:514: DataConversionWarning: A column-vector y was passed when a 1d array was expected. Please change the shape of y to (n_samples,), for example using ravel().\n",
      "  estimator.fit(X_train, y_train, **fit_params)\n",
      "/Users/ankitajain/anaconda3/lib/python3.7/site-packages/sklearn/model_selection/_validation.py:514: DataConversionWarning: A column-vector y was passed when a 1d array was expected. Please change the shape of y to (n_samples,), for example using ravel().\n",
      "  estimator.fit(X_train, y_train, **fit_params)\n",
      "/Users/ankitajain/anaconda3/lib/python3.7/site-packages/sklearn/model_selection/_validation.py:514: DataConversionWarning: A column-vector y was passed when a 1d array was expected. Please change the shape of y to (n_samples,), for example using ravel().\n",
      "  estimator.fit(X_train, y_train, **fit_params)\n",
      "/Users/ankitajain/anaconda3/lib/python3.7/site-packages/sklearn/model_selection/_validation.py:514: DataConversionWarning: A column-vector y was passed when a 1d array was expected. Please change the shape of y to (n_samples,), for example using ravel().\n",
      "  estimator.fit(X_train, y_train, **fit_params)\n",
      "/Users/ankitajain/anaconda3/lib/python3.7/site-packages/sklearn/model_selection/_validation.py:514: DataConversionWarning: A column-vector y was passed when a 1d array was expected. Please change the shape of y to (n_samples,), for example using ravel().\n",
      "  estimator.fit(X_train, y_train, **fit_params)\n"
     ]
    },
    {
     "name": "stdout",
     "output_type": "stream",
     "text": [
      "Cross validation MAE are: [12.50235504 12.56188471 12.64982907 12.6822331  12.56353074]\n"
     ]
    }
   ],
   "source": [
    "t1 = datetime.now()\n",
    "import numpy as np\n",
    "from sklearn.ensemble import RandomForestRegressor\n",
    "X = X_final\n",
    "y = per_person_cost\n",
    "X_train, X_test, y_train, y_test = train_test_split(X, y, test_size=0.2, random_state=1)\n",
    "reg = RandomForestRegressor(n_estimators=1000, min_samples_split=10, min_samples_leaf=1, max_features='auto', max_depth=35, bootstrap=True, random_state = 42)\n",
    "# Best Performing Hyperparameters: {'n_estimators': 1000, 'min_samples_split': 10, 'min_samples_leaf': 1, 'max_features': 'auto', 'max_depth': 35, 'bootstrap': True}\n",
    "reg.fit(X_train, y_train)\n",
    "y_pred_train = reg.predict(X_train)\n",
    "t1_response = datetime.now()\n",
    "y_pred_test = reg.predict(X_test)\n",
    "t2_response = datetime.now()\n",
    "print(\"y_mean = \", np.mean(y))\n",
    "print('Absolute Mean Error for training data:', metrics.mean_absolute_error(y_train, y_pred_train))\n",
    "print('Absolute Mean Error for test data:', metrics.mean_absolute_error(y_test, y_pred_test))\n",
    "t2 = datetime.now()\n",
    "print(\"time take for algorithm to run:\", t2-t1)\n",
    "print(\"response time is :\", (t2_response-t1_response)/np.shape(X_test)[0])\n",
    "my_scorer = make_scorer(metrics.mean_absolute_error)\n",
    "scores = cross_val_score(reg, X_train, y_train, scoring=my_scorer, cv=5) #\n",
    "print(\"Cross validation MAE are:\", scores)"
   ]
  },
  {
   "cell_type": "code",
   "execution_count": null,
   "metadata": {},
   "outputs": [],
   "source": [
    "### Fairness"
   ]
  },
  {
   "cell_type": "code",
   "execution_count": 241,
   "metadata": {},
   "outputs": [
    {
     "data": {
      "text/plain": [
       "array([1., 1., 1., ..., 1., 0., 0.])"
      ]
     },
     "execution_count": 241,
     "metadata": {},
     "output_type": "execute_result"
    }
   ],
   "source": [
    "X_train[:,31] #Column no. 31 is Male, 32 is female, 33 is distance."
   ]
  },
  {
   "cell_type": "code",
   "execution_count": 256,
   "metadata": {},
   "outputs": [
    {
     "name": "stdout",
     "output_type": "stream",
     "text": [
      "(39676,)\n",
      "Average distance = 11.436200836728904\n",
      "Average price = 50.30143903672411\n"
     ]
    }
   ],
   "source": [
    "a = X_test[:,31]==0\n",
    "print(np.shape(X_test[a,33]))\n",
    "print(\"Average distance =\", np.mean(X_test[a,33]))\n",
    "print(\"Average price =\", np.mean(y_test[a]))"
   ]
  },
  {
   "cell_type": "code",
   "execution_count": 280,
   "metadata": {},
   "outputs": [
    {
     "data": {
      "text/plain": [
       "Text(0, 0.5, 'Fraction of passengers')"
      ]
     },
     "execution_count": 280,
     "metadata": {},
     "output_type": "execute_result"
    },
    {
     "data": {
      "image/png": "[encoded data removed]",
      "text/plain": [
       "<Figure size 432x288 with 1 Axes>"
      ]
     },
     "metadata": {
      "needs_background": "light"
     },
     "output_type": "display_data"
    }
   ],
   "source": [
    "plt.hist(y_train, bins=[0,10,20,30,40,50,60,70,80,90,100,110,120,130,140,150,160], density = True, label = \"Train\", alpha = 1)\n",
    "plt.hist(y_test, bins=[0,10,20,30,40,50,60,70,80,90,100,110,120,130,140,150,160], density = True, label = \"Train\", alpha = 0.5)\n",
    "plt.xlabel('Range of Price (in Indian Rupee)',fontsize=13)\n",
    "plt.ylabel('Fraction of passengers',fontsize=13)"
   ]
  },
  {
   "cell_type": "code",
   "execution_count": 272,
   "metadata": {},
   "outputs": [
    {
     "data": {
      "text/plain": [
       "(array([ 3680., 12455., 13230., 12486., 10866., 10329.,  7589.,  6086.,\n",
       "         4006.,  3361.,  3035.,  2029.,  1610.,  1271.,  1040.,   865.]),\n",
       " array([  0,  10,  20,  30,  40,  50,  60,  70,  80,  90, 100, 110, 120,\n",
       "        130, 140, 150, 160]),\n",
       " <a list of 16 Patch objects>)"
      ]
     },
     "execution_count": 272,
     "metadata": {},
     "output_type": "execute_result"
    },
    {
     "data": {
      "image/png": "[encoded data removed]",
      "text/plain": [
       "<Figure size 432x288 with 1 Axes>"
      ]
     },
     "metadata": {
      "needs_background": "light"
     },
     "output_type": "display_data"
    }
   ],
   "source": [
    "plt.hist(y_test, bins=[0,10,20,30,40,50,60,70,80,90,100,110,120,130,140,150,160])"
   ]
  },
  {
   "cell_type": "code",
   "execution_count": null,
   "metadata": {},
   "outputs": [],
   "source": [
    "residual = y_test-y_pred_test"
   ]
  },
  {
   "cell_type": "code",
   "execution_count": null,
   "metadata": {},
   "outputs": [],
   "source": [
    "plt.hist(residual, bins=[-50,-40,-30,-20,-10, 0, 10, 20, 30, 40,50])"
   ]
  },
  {
   "cell_type": "code",
   "execution_count": null,
   "metadata": {},
   "outputs": [],
   "source": []
  },
  {
   "cell_type": "code",
   "execution_count": null,
   "metadata": {},
   "outputs": [],
   "source": []
  },
  {
   "cell_type": "code",
   "execution_count": null,
   "metadata": {},
   "outputs": [],
   "source": [
    "##---HyperParameter Training---DO NOT REFRESH THIS PART ------"
   ]
  },
  {
   "cell_type": "code",
   "execution_count": null,
   "metadata": {},
   "outputs": [],
   "source": [
    "##---HyperParameter Training---"
   ]
  },
  {
   "cell_type": "code",
   "execution_count": 447,
   "metadata": {},
   "outputs": [],
   "source": [
    "training_error = np.zeros(100)\n",
    "testing_error = np.zeros(100)\n",
    "import numpy as np\n",
    "from sklearn.tree import DecisionTreeRegressor\n",
    "X = X_final\n",
    "y = per_person_cost\n",
    "X_train, X_test, y_train, y_test = train_test_split(X, y, test_size=0.2, random_state=0)\n",
    "\n",
    "for i in range(1,100):\n",
    "    reg = DecisionTreeRegressor(random_state = 0, max_depth = i)\n",
    "    reg.fit(X_train, y_train)\n",
    "    t1_response = datetime.now()\n",
    "    y_pred_test = reg.predict(X_test)\n",
    "    t2_response = datetime.now()\n",
    "    y_pred_train = reg.predict(X_train)\n",
    "    training_error[i] = metrics.mean_absolute_error(y_train, y_pred_train)/np.mean(y)\n",
    "    testing_error[i] = metrics.mean_absolute_error(y_test, y_pred_test)/np.mean(y)"
   ]
  },
  {
   "cell_type": "code",
   "execution_count": 454,
   "metadata": {},
   "outputs": [
    {
     "data": {
      "text/plain": [
       "Text(0.5, 0, 'Depth of Tree')"
      ]
     },
     "execution_count": 454,
     "metadata": {},
     "output_type": "execute_result"
    },
    {
     "data": {
      "image/png": "[encoded data removed]",
      "text/plain": [
       "<Figure size 432x288 with 1 Axes>"
      ]
     },
     "metadata": {
      "needs_background": "light"
     },
     "output_type": "display_data"
    }
   ],
   "source": [
    "plt.plot(training_error, \"-g\" , label = \"Training error\")\n",
    "plt.plot(testing_error, \"-b\", label=\"Testing error\")\n",
    "plt.ylabel('Error (with only 50k datapoints)')\n",
    "plt.xlabel('Depth of Tree')"
   ]
  },
  {
   "cell_type": "code",
   "execution_count": 455,
   "metadata": {},
   "outputs": [],
   "source": [
    "##---HyperParameter testing for Ridge regression---"
   ]
  },
  {
   "cell_type": "code",
   "execution_count": 461,
   "metadata": {},
   "outputs": [
    {
     "data": {
      "text/plain": [
       "Text(0.5, 0, 'Alpha of Ridge Regression (0.01 time X-label)')"
      ]
     },
     "execution_count": 461,
     "metadata": {},
     "output_type": "execute_result"
    },
    {
     "data": {
      "image/png": "[encoded data removed]",
      "text/plain": [
       "<Figure size 432x288 with 1 Axes>"
      ]
     },
     "metadata": {
      "needs_background": "light"
     },
     "output_type": "display_data"
    }
   ],
   "source": [
    "num_iter = 20\n",
    "training_error = np.zeros(num_iter)\n",
    "testing_error = np.zeros(num_iter)\n",
    "\n",
    "import numpy as np\n",
    "from sklearn import linear_model\n",
    "X = X_final\n",
    "y = per_person_cost\n",
    "X_train, X_test, y_train, y_test = train_test_split(X, y, test_size=0.2, random_state=0)\n",
    "for i in range(1,num_iter):\n",
    "    reg = linear_model.Ridge(alpha=0.01*i)\n",
    "    reg.fit(X_train, y_train)\n",
    "    t1_response = datetime.now()\n",
    "    y_pred_test = reg.predict(X_test)\n",
    "    t2_response = datetime.now()\n",
    "    y_pred_train = reg.predict(X_train)\n",
    "    training_error[i] = metrics.mean_absolute_error(y_train, y_pred_train)/np.mean(y)\n",
    "    testing_error[i] = metrics.mean_absolute_error(y_test, y_pred_test)/np.mean(y)\n",
    "\n",
    "fig = plt.figure()\n",
    "plt.plot(training_error, \"-g\" , label = \"Training error\")\n",
    "plt.plot(testing_error, \"-b\", label=\"Testing error\")\n",
    "plt.ylabel('Error (with only 50k datapoints)')\n",
    "plt.xlabel('Alpha of Ridge Regression (0.01 time X-label)')\n"
   ]
  },
  {
   "cell_type": "code",
   "execution_count": null,
   "metadata": {},
   "outputs": [],
   "source": [
    "##---HyperParameter testing for LASSO--"
   ]
  },
  {
   "cell_type": "code",
   "execution_count": 462,
   "metadata": {},
   "outputs": [
    {
     "data": {
      "text/plain": [
       "Text(0.5, 0, 'Alpha of LASSO Regression (0.01 time X-label)')"
      ]
     },
     "execution_count": 462,
     "metadata": {},
     "output_type": "execute_result"
    },
    {
     "data": {
      "image/png": "[encoded data removed]",
      "text/plain": [
       "<Figure size 432x288 with 1 Axes>"
      ]
     },
     "metadata": {
      "needs_background": "light"
     },
     "output_type": "display_data"
    }
   ],
   "source": [
    "num_iter = 20\n",
    "training_error = np.zeros(num_iter)\n",
    "testing_error = np.zeros(num_iter)\n",
    "\n",
    "import numpy as np\n",
    "from sklearn import linear_model\n",
    "X = X_final\n",
    "y = per_person_cost\n",
    "X_train, X_test, y_train, y_test = train_test_split(X, y, test_size=0.2, random_state=0)\n",
    "for i in range(1, num_iter):\n",
    "    reg = linear_model.Lasso(alpha=0.1)\n",
    "    reg.fit(X_train, y_train)\n",
    "    t1_response = datetime.now()\n",
    "    y_pred_test = reg.predict(X_test)\n",
    "    t2_response = datetime.now()\n",
    "    y_pred_train = reg.predict(X_train)\n",
    "    training_error[i] = metrics.mean_absolute_error(y_train, y_pred_train)/np.mean(y)\n",
    "    testing_error[i] = metrics.mean_absolute_error(y_test, y_pred_test)/np.mean(y)\n",
    "\n",
    "fig = plt.figure()\n",
    "plt.plot(training_error, \"-g\" , label = \"Training error\")\n",
    "plt.plot(testing_error, \"-b\", label=\"Testing error\")\n",
    "plt.ylabel('Error (with only 50k datapoints)')\n",
    "plt.xlabel('Alpha of LASSO Regression (0.01 time X-label)')\n"
   ]
  },
  {
   "cell_type": "code",
   "execution_count": null,
   "metadata": {},
   "outputs": [],
   "source": [
    "##---HyperParameter testing for Random forest regressor--"
   ]
  },
  {
   "cell_type": "code",
   "execution_count": 464,
   "metadata": {},
   "outputs": [
    {
     "name": "stderr",
     "output_type": "stream",
     "text": [
      "/Users/ankitajain/anaconda3/lib/python3.7/site-packages/ipykernel_launcher.py:11: DataConversionWarning: A column-vector y was passed when a 1d array was expected. Please change the shape of y to (n_samples,), for example using ravel().\n",
      "  # This is added back by InteractiveShellApp.init_path()\n",
      "/Users/ankitajain/anaconda3/lib/python3.7/site-packages/ipykernel_launcher.py:11: DataConversionWarning: A column-vector y was passed when a 1d array was expected. Please change the shape of y to (n_samples,), for example using ravel().\n",
      "  # This is added back by InteractiveShellApp.init_path()\n",
      "/Users/ankitajain/anaconda3/lib/python3.7/site-packages/ipykernel_launcher.py:11: DataConversionWarning: A column-vector y was passed when a 1d array was expected. Please change the shape of y to (n_samples,), for example using ravel().\n",
      "  # This is added back by InteractiveShellApp.init_path()\n",
      "/Users/ankitajain/anaconda3/lib/python3.7/site-packages/ipykernel_launcher.py:11: DataConversionWarning: A column-vector y was passed when a 1d array was expected. Please change the shape of y to (n_samples,), for example using ravel().\n",
      "  # This is added back by InteractiveShellApp.init_path()\n",
      "/Users/ankitajain/anaconda3/lib/python3.7/site-packages/ipykernel_launcher.py:11: DataConversionWarning: A column-vector y was passed when a 1d array was expected. Please change the shape of y to (n_samples,), for example using ravel().\n",
      "  # This is added back by InteractiveShellApp.init_path()\n",
      "/Users/ankitajain/anaconda3/lib/python3.7/site-packages/ipykernel_launcher.py:11: DataConversionWarning: A column-vector y was passed when a 1d array was expected. Please change the shape of y to (n_samples,), for example using ravel().\n",
      "  # This is added back by InteractiveShellApp.init_path()\n",
      "/Users/ankitajain/anaconda3/lib/python3.7/site-packages/ipykernel_launcher.py:11: DataConversionWarning: A column-vector y was passed when a 1d array was expected. Please change the shape of y to (n_samples,), for example using ravel().\n",
      "  # This is added back by InteractiveShellApp.init_path()\n",
      "/Users/ankitajain/anaconda3/lib/python3.7/site-packages/ipykernel_launcher.py:11: DataConversionWarning: A column-vector y was passed when a 1d array was expected. Please change the shape of y to (n_samples,), for example using ravel().\n",
      "  # This is added back by InteractiveShellApp.init_path()\n",
      "/Users/ankitajain/anaconda3/lib/python3.7/site-packages/ipykernel_launcher.py:11: DataConversionWarning: A column-vector y was passed when a 1d array was expected. Please change the shape of y to (n_samples,), for example using ravel().\n",
      "  # This is added back by InteractiveShellApp.init_path()\n",
      "/Users/ankitajain/anaconda3/lib/python3.7/site-packages/ipykernel_launcher.py:11: DataConversionWarning: A column-vector y was passed when a 1d array was expected. Please change the shape of y to (n_samples,), for example using ravel().\n",
      "  # This is added back by InteractiveShellApp.init_path()\n",
      "/Users/ankitajain/anaconda3/lib/python3.7/site-packages/ipykernel_launcher.py:11: DataConversionWarning: A column-vector y was passed when a 1d array was expected. Please change the shape of y to (n_samples,), for example using ravel().\n",
      "  # This is added back by InteractiveShellApp.init_path()\n",
      "/Users/ankitajain/anaconda3/lib/python3.7/site-packages/ipykernel_launcher.py:11: DataConversionWarning: A column-vector y was passed when a 1d array was expected. Please change the shape of y to (n_samples,), for example using ravel().\n",
      "  # This is added back by InteractiveShellApp.init_path()\n",
      "/Users/ankitajain/anaconda3/lib/python3.7/site-packages/ipykernel_launcher.py:11: DataConversionWarning: A column-vector y was passed when a 1d array was expected. Please change the shape of y to (n_samples,), for example using ravel().\n",
      "  # This is added back by InteractiveShellApp.init_path()\n",
      "/Users/ankitajain/anaconda3/lib/python3.7/site-packages/ipykernel_launcher.py:11: DataConversionWarning: A column-vector y was passed when a 1d array was expected. Please change the shape of y to (n_samples,), for example using ravel().\n",
      "  # This is added back by InteractiveShellApp.init_path()\n"
     ]
    },
    {
     "data": {
      "text/plain": [
       "Text(0.5, 0, 'number of estimators for RandomForestRegressor(100 time X-label)')"
      ]
     },
     "execution_count": 464,
     "metadata": {},
     "output_type": "execute_result"
    },
    {
     "data": {
      "image/png": "[encoded data removed]",
      "text/plain": [
       "<Figure size 432x288 with 1 Axes>"
      ]
     },
     "metadata": {
      "needs_background": "light"
     },
     "output_type": "display_data"
    }
   ],
   "source": [
    "num_iter = 15\n",
    "training_error = np.zeros(num_iter)\n",
    "testing_error = np.zeros(num_iter)\n",
    "import numpy as np\n",
    "from sklearn.ensemble import RandomForestRegressor\n",
    "X = X_final\n",
    "y = per_person_cost\n",
    "X_train, X_test, y_train, y_test = train_test_split(X, y, test_size=0.2, random_state=1)\n",
    "for i in range(1,num_iter):\n",
    "    reg = RandomForestRegressor(n_estimators = i*100, random_state = i)\n",
    "    reg.fit(X_train, y_train)\n",
    "    y_pred_train = reg.predict(X_train)\n",
    "    t1_response = datetime.now()\n",
    "    y_pred_test = reg.predict(X_test)\n",
    "    t2_response = datetime.now()\n",
    "    training_error[i] = metrics.mean_absolute_error(y_train, y_pred_train)/np.mean(y)\n",
    "    testing_error[i] = metrics.mean_absolute_error(y_test, y_pred_test)/np.mean(y)\n",
    "\n",
    "fig = plt.figure()\n",
    "plt.plot(training_error, \"-g\" , label = \"Training error\")\n",
    "plt.plot(testing_error, \"-b\", label=\"Testing error\")\n",
    "plt.ylabel('Error (with only 50k datapoints)')\n",
    "plt.xlabel('number of estimators for RandomForestRegressor(100 time X-label)')"
   ]
  },
  {
   "cell_type": "code",
   "execution_count": 480,
   "metadata": {},
   "outputs": [
    {
     "name": "stdout",
     "output_type": "stream",
     "text": [
      "{'n_estimators': [500, 750, 1000, 1250, 1500], 'max_features': ['auto', 'sqrt'], 'max_depth': [5, 10, 15, 20, 25, 30, 35, 40, None], 'min_samples_split': [2, 5, 10], 'min_samples_leaf': [1, 2, 4], 'bootstrap': [True, False]}\n"
     ]
    }
   ],
   "source": [
    "## Grid search on Random Forest\n",
    "# Number of trees in random forest\n",
    "n_estimators = [int(x) for x in np.linspace(start = 500, stop = 1500, num = 5)]\n",
    "max_features = ['auto', 'sqrt']\n",
    "max_depth = [int(x) for x in np.linspace(5, 40, num = 8)]\n",
    "max_depth.append(None)\n",
    "min_samples_split = [2, 5, 10]\n",
    "min_samples_leaf = [1, 2, 4]\n",
    "bootstrap = [True, False]\n",
    "# Create the random grid\n",
    "random_grid = {'n_estimators': n_estimators,\n",
    "               'max_features': max_features,\n",
    "               'max_depth': max_depth,\n",
    "               'min_samples_split': min_samples_split,\n",
    "               'min_samples_leaf': min_samples_leaf,\n",
    "               'bootstrap': bootstrap}\n",
    "print(random_grid)"
   ]
  },
  {
   "cell_type": "code",
   "execution_count": 481,
   "metadata": {},
   "outputs": [
    {
     "name": "stdout",
     "output_type": "stream",
     "text": [
      "Fitting 3 folds for each of 100 candidates, totalling 300 fits\n"
     ]
    },
    {
     "name": "stderr",
     "output_type": "stream",
     "text": [
      "[Parallel(n_jobs=-1)]: Using backend LokyBackend with 4 concurrent workers.\n",
      "[Parallel(n_jobs=-1)]: Done  33 tasks      | elapsed: 34.4min\n",
      "[Parallel(n_jobs=-1)]: Done 154 tasks      | elapsed: 154.8min\n",
      "[Parallel(n_jobs=-1)]: Done 300 out of 300 | elapsed: 370.4min finished\n",
      "/Users/ankitajain/anaconda3/lib/python3.7/site-packages/sklearn/model_selection/_search.py:714: DataConversionWarning: A column-vector y was passed when a 1d array was expected. Please change the shape of y to (n_samples,), for example using ravel().\n",
      "  self.best_estimator_.fit(X, y, **fit_params)\n"
     ]
    },
    {
     "name": "stdout",
     "output_type": "stream",
     "text": [
      "{'n_estimators': 1000, 'min_samples_split': 10, 'min_samples_leaf': 1, 'max_features': 'auto', 'max_depth': 35, 'bootstrap': True}\n",
      "Absolute Mean Squared Error for test data: 1.4848173772307298\n"
     ]
    }
   ],
   "source": [
    "from sklearn.model_selection import RandomizedSearchCV\n",
    "# Use the random grid to search for best hyperparameters\n",
    "# First create the base model to tune\n",
    "rf = RandomForestRegressor()\n",
    "# Random search of parameters, using 3 fold cross validation, \n",
    "# search across 100 different combinations, and use all available cores\n",
    "rf_random = RandomizedSearchCV(estimator = rf, param_distributions = random_grid, n_iter = 100, cv = 3, verbose=2, random_state=42, n_jobs = -1)\n",
    "# Fit the random search model\n",
    "rf_random.fit(X_train, y_train);\n",
    "print(rf_random.best_params_)\n",
    "best_random = rf_random.best_estimator_\n",
    "Y_pred = best_random.predict(X_test)\n",
    "\n",
    "print('Absolute Mean Squared Error for test data:', metrics.mean_absolute_error(y_test, Y_pred))"
   ]
  },
  {
   "cell_type": "code",
   "execution_count": 475,
   "metadata": {},
   "outputs": [
    {
     "name": "stdout",
     "output_type": "stream",
     "text": [
      "Absolute Mean Squared Error for test data: 1.4871448150821998\n"
     ]
    }
   ],
   "source": [
    "print('Absolute Mean Squared Error for test data:', metrics.mean_absolute_error(y_test, Y_pred))"
   ]
  },
  {
   "cell_type": "code",
   "execution_count": 234,
   "metadata": {},
   "outputs": [
    {
     "data": {
      "text/plain": [
       "array([31.03575011, 14.21493936, 12.76303624,  5.63103019])"
      ]
     },
     "execution_count": 234,
     "metadata": {},
     "output_type": "execute_result"
    }
   ],
   "source": []
  },
  {
   "cell_type": "code",
   "execution_count": null,
   "metadata": {},
   "outputs": [],
   "source": []
  }
 ],
 "metadata": {
  "kernelspec": {
   "display_name": "Python 3",
   "language": "python",
   "name": "python3"
  },
  "language_info": {
   "codemirror_mode": {
    "name": "ipython",
    "version": 3
   },
   "file_extension": ".py",
   "mimetype": "text/x-python",
   "name": "python",
   "nbconvert_exporter": "python",
   "pygments_lexer": "ipython3",
   "version": "3.7.3"
  }
 },
 "nbformat": 4,
 "nbformat_minor": 2
}
