{
 "cells": [
  {
   "cell_type": "code",
   "execution_count": 1,
   "metadata": {
    "scrolled": true
   },
   "outputs": [],
   "source": [
    "using Statistics, LinearAlgebra, Random, DataFrames, Plots, StatsPlots, CSV"
   ]
  },
  {
   "cell_type": "code",
   "execution_count": 2,
   "metadata": {
    "scrolled": true
   },
   "outputs": [
    {
     "data": {
      "text/html": [
       "<table class=\"data-frame\"><thead><tr><th></th><th>Year</th><th>County</th><th>IncomeClass</th><th>Disclosure</th><th>ReturnCount</th><th>TotalIncome</th></tr><tr><th></th><th>Int64</th><th>String</th><th>String</th><th>String⍰</th><th>Int64⍰</th><th>Int64⍰</th></tr></thead><tbody><p>12,589 rows × 13 columns (omitted printing of 7 columns)</p><tr><th>1</th><td>2011</td><td>Hamilton</td><td>500,000 and over</td><td>d/</td><td>missing</td><td>missing</td></tr><tr><th>2</th><td>2003</td><td> Dutchess </td><td>100,000 - 199,999</td><td>missing</td><td>12738</td><td>1668991</td></tr><tr><th>3</th><td>2001</td><td> Ontario </td><td>Total</td><td>missing</td><td>44898</td><td>1829734</td></tr><tr><th>4</th><td>2012</td><td>New York City - Richmond</td><td>30,000 - 39,999</td><td>missing</td><td>16086</td><td>559918</td></tr><tr><th>5</th><td>2007</td><td> Clinton </td><td>50,000 - 59,999</td><td>missing</td><td>2197</td><td>120482</td></tr><tr><th>6</th><td>1999</td><td> Saratoga </td><td>Total</td><td>missing</td><td>88920</td><td>3969074</td></tr><tr><th>7</th><td>2010</td><td>Onondaga</td><td>60,000 - 74,999</td><td>missing</td><td>13837</td><td>928570</td></tr><tr><th>8</th><td>2008</td><td> Ulster </td><td>40,000 - 49,999</td><td>missing</td><td>5971</td><td>266988</td></tr><tr><th>9</th><td>2005</td><td> Clinton </td><td>Total</td><td>missing</td><td>33634</td><td>1284580</td></tr><tr><th>10</th><td>2007</td><td> Livingston </td><td>200,000 - 249,999</td><td>missing</td><td>104</td><td>22811</td></tr><tr><th>11</th><td>2012</td><td>Washington</td><td>500,000 and over</td><td>missing</td><td>35</td><td>44397</td></tr><tr><th>12</th><td>2011</td><td>New York City - Kings</td><td>100,000 - 199,999</td><td>missing</td><td>65072</td><td>8717982</td></tr><tr><th>13</th><td>2005</td><td> Westchester </td><td>50,000 - 59,999</td><td>missing</td><td>23546</td><td>1290957</td></tr><tr><th>14</th><td>2004</td><td> Orange </td><td>60,000 - 74,999</td><td>missing</td><td>11545</td><td>776872</td></tr><tr><th>15</th><td>2008</td><td> Dutchess </td><td>75,000 - 99,999</td><td>missing</td><td>12391</td><td>1077050</td></tr><tr><th>16</th><td>2012</td><td>Cortland</td><td>30,000 - 39,999</td><td>missing</td><td>2069</td><td>71838</td></tr><tr><th>17</th><td>2000</td><td> New York City - Kings </td><td>5,000 - 9,999</td><td>missing</td><td>125794</td><td>951643</td></tr><tr><th>18</th><td>2008</td><td> Dutchess </td><td>60,000 - 74,999</td><td>missing</td><td>9577</td><td>643643</td></tr><tr><th>19</th><td>2012</td><td>Ulster</td><td>5,000 - 9,999</td><td>missing</td><td>7048</td><td>52553</td></tr><tr><th>20</th><td>2010</td><td>Ontario</td><td>200,000 - 249,999</td><td>missing</td><td>408</td><td>90828</td></tr><tr><th>21</th><td>2006</td><td> Oswego </td><td>100,000 - 199,999</td><td>missing</td><td>2778</td><td>346108</td></tr><tr><th>22</th><td>2010</td><td>Oswego</td><td>Total</td><td>missing</td><td>50958</td><td>2023764</td></tr><tr><th>23</th><td>2002</td><td> Sullivan </td><td>50,000 - 59,999</td><td>missing</td><td>1676</td><td>91734</td></tr><tr><th>24</th><td>2010</td><td>Rockland</td><td>10,000 - 19,999</td><td>missing</td><td>18173</td><td>268331</td></tr><tr><th>25</th><td>2003</td><td> Delaware </td><td>60,000 - 74,999</td><td>missing</td><td>1075</td><td>71844</td></tr><tr><th>26</th><td>2005</td><td> Washington </td><td>75,000 - 99,999</td><td>missing</td><td>1572</td><td>135013</td></tr><tr><th>27</th><td>2002</td><td> Fulton </td><td>100,000 - 199,999</td><td>missing</td><td>632</td><td>80160</td></tr><tr><th>28</th><td>2006</td><td> Schoharie </td><td>20,000 - 29,999</td><td>missing</td><td>1769</td><td>43849</td></tr><tr><th>29</th><td>2003</td><td> Genesee </td><td>40,000 - 49,999</td><td>missing</td><td>2154</td><td>96606</td></tr><tr><th>30</th><td>2007</td><td> Seneca </td><td>40,000 - 49,999</td><td>missing</td><td>1174</td><td>52525</td></tr><tr><th>&vellip;</th><td>&vellip;</td><td>&vellip;</td><td>&vellip;</td><td>&vellip;</td><td>&vellip;</td><td>&vellip;</td></tr></tbody></table>"
      ],
      "text/latex": [
       "\\begin{tabular}{r|ccccccc}\n",
       "\t& Year & County & IncomeClass & Disclosure & ReturnCount & TotalIncome & \\\\\n",
       "\t\\hline\n",
       "\t& Int64 & String & String & String⍰ & Int64⍰ & Int64⍰ & \\\\\n",
       "\t\\hline\n",
       "\t1 & 2011 & Hamilton & 500,000 and over & d/ &  &  & $\\dots$ \\\\\n",
       "\t2 & 2003 &  Dutchess  & 100,000 - 199,999 &  & 12738 & 1668991 & $\\dots$ \\\\\n",
       "\t3 & 2001 &  Ontario  & Total &  & 44898 & 1829734 & $\\dots$ \\\\\n",
       "\t4 & 2012 & New York City - Richmond & 30,000 - 39,999 &  & 16086 & 559918 & $\\dots$ \\\\\n",
       "\t5 & 2007 &  Clinton  & 50,000 - 59,999 &  & 2197 & 120482 & $\\dots$ \\\\\n",
       "\t6 & 1999 &  Saratoga  & Total &  & 88920 & 3969074 & $\\dots$ \\\\\n",
       "\t7 & 2010 & Onondaga & 60,000 - 74,999 &  & 13837 & 928570 & $\\dots$ \\\\\n",
       "\t8 & 2008 &  Ulster  & 40,000 - 49,999 &  & 5971 & 266988 & $\\dots$ \\\\\n",
       "\t9 & 2005 &  Clinton  & Total &  & 33634 & 1284580 & $\\dots$ \\\\\n",
       "\t10 & 2007 &  Livingston  & 200,000 - 249,999 &  & 104 & 22811 & $\\dots$ \\\\\n",
       "\t11 & 2012 & Washington & 500,000 and over &  & 35 & 44397 & $\\dots$ \\\\\n",
       "\t12 & 2011 & New York City - Kings & 100,000 - 199,999 &  & 65072 & 8717982 & $\\dots$ \\\\\n",
       "\t13 & 2005 &  Westchester  & 50,000 - 59,999 &  & 23546 & 1290957 & $\\dots$ \\\\\n",
       "\t14 & 2004 &  Orange  & 60,000 - 74,999 &  & 11545 & 776872 & $\\dots$ \\\\\n",
       "\t15 & 2008 &  Dutchess  & 75,000 - 99,999 &  & 12391 & 1077050 & $\\dots$ \\\\\n",
       "\t16 & 2012 & Cortland & 30,000 - 39,999 &  & 2069 & 71838 & $\\dots$ \\\\\n",
       "\t17 & 2000 &  New York City - Kings  & 5,000 - 9,999 &  & 125794 & 951643 & $\\dots$ \\\\\n",
       "\t18 & 2008 &  Dutchess  & 60,000 - 74,999 &  & 9577 & 643643 & $\\dots$ \\\\\n",
       "\t19 & 2012 & Ulster & 5,000 - 9,999 &  & 7048 & 52553 & $\\dots$ \\\\\n",
       "\t20 & 2010 & Ontario & 200,000 - 249,999 &  & 408 & 90828 & $\\dots$ \\\\\n",
       "\t21 & 2006 &  Oswego  & 100,000 - 199,999 &  & 2778 & 346108 & $\\dots$ \\\\\n",
       "\t22 & 2010 & Oswego & Total &  & 50958 & 2023764 & $\\dots$ \\\\\n",
       "\t23 & 2002 &  Sullivan  & 50,000 - 59,999 &  & 1676 & 91734 & $\\dots$ \\\\\n",
       "\t24 & 2010 & Rockland & 10,000 - 19,999 &  & 18173 & 268331 & $\\dots$ \\\\\n",
       "\t25 & 2003 &  Delaware  & 60,000 - 74,999 &  & 1075 & 71844 & $\\dots$ \\\\\n",
       "\t26 & 2005 &  Washington  & 75,000 - 99,999 &  & 1572 & 135013 & $\\dots$ \\\\\n",
       "\t27 & 2002 &  Fulton  & 100,000 - 199,999 &  & 632 & 80160 & $\\dots$ \\\\\n",
       "\t28 & 2006 &  Schoharie  & 20,000 - 29,999 &  & 1769 & 43849 & $\\dots$ \\\\\n",
       "\t29 & 2003 &  Genesee  & 40,000 - 49,999 &  & 2154 & 96606 & $\\dots$ \\\\\n",
       "\t30 & 2007 &  Seneca  & 40,000 - 49,999 &  & 1174 & 52525 & $\\dots$ \\\\\n",
       "\t$\\dots$ & $\\dots$ & $\\dots$ & $\\dots$ & $\\dots$ & $\\dots$ & $\\dots$ &  \\\\\n",
       "\\end{tabular}\n"
      ],
      "text/plain": [
       "12589×13 DataFrame. Omitted printing of 9 columns\n",
       "│ Row   │ Year  │ County                   │ IncomeClass       │ Disclosure │\n",
       "│       │ \u001b[90mInt64\u001b[39m │ \u001b[90mString\u001b[39m                   │ \u001b[90mString\u001b[39m            │ \u001b[90mString⍰\u001b[39m    │\n",
       "├───────┼───────┼──────────────────────────┼───────────────────┼────────────┤\n",
       "│ 1     │ 2011  │ Hamilton                 │ 500,000 and over  │ d/         │\n",
       "│ 2     │ 2003  │  Dutchess                │ 100,000 - 199,999 │ \u001b[90mmissing\u001b[39m    │\n",
       "│ 3     │ 2001  │  Ontario                 │ Total             │ \u001b[90mmissing\u001b[39m    │\n",
       "│ 4     │ 2012  │ New York City - Richmond │ 30,000 - 39,999   │ \u001b[90mmissing\u001b[39m    │\n",
       "│ 5     │ 2007  │  Clinton                 │ 50,000 - 59,999   │ \u001b[90mmissing\u001b[39m    │\n",
       "│ 6     │ 1999  │  Saratoga                │ Total             │ \u001b[90mmissing\u001b[39m    │\n",
       "│ 7     │ 2010  │ Onondaga                 │ 60,000 - 74,999   │ \u001b[90mmissing\u001b[39m    │\n",
       "│ 8     │ 2008  │  Ulster                  │ 40,000 - 49,999   │ \u001b[90mmissing\u001b[39m    │\n",
       "│ 9     │ 2005  │  Clinton                 │ Total             │ \u001b[90mmissing\u001b[39m    │\n",
       "│ 10    │ 2007  │  Livingston              │ 200,000 - 249,999 │ \u001b[90mmissing\u001b[39m    │\n",
       "⋮\n",
       "│ 12579 │ 2013  │ Residence Unknown ++     │ 20,000 - 29,999   │ \u001b[90mmissing\u001b[39m    │\n",
       "│ 12580 │ 2013  │ Residence Unknown ++     │ 30,000 - 39,999   │ \u001b[90mmissing\u001b[39m    │\n",
       "│ 12581 │ 2013  │ Residence Unknown ++     │ 40,000 - 49,999   │ \u001b[90mmissing\u001b[39m    │\n",
       "│ 12582 │ 2013  │ Residence Unknown ++     │ 50,000 - 59,999   │ \u001b[90mmissing\u001b[39m    │\n",
       "│ 12583 │ 2013  │ Residence Unknown ++     │ 60,000 - 74,999   │ \u001b[90mmissing\u001b[39m    │\n",
       "│ 12584 │ 2013  │ Residence Unknown ++     │ 75,000 - 99,999   │ \u001b[90mmissing\u001b[39m    │\n",
       "│ 12585 │ 2013  │ Residence Unknown ++     │ 100,000 - 199,999 │ \u001b[90mmissing\u001b[39m    │\n",
       "│ 12586 │ 2013  │ Residence Unknown ++     │ 200,000 - 249,999 │ \u001b[90mmissing\u001b[39m    │\n",
       "│ 12587 │ 2013  │ Residence Unknown ++     │ 250,000 - 499,999 │ \u001b[90mmissing\u001b[39m    │\n",
       "│ 12588 │ 2013  │ Residence Unknown ++     │ 500,000 and over  │ \u001b[90mmissing\u001b[39m    │\n",
       "│ 12589 │ 2013  │ Residence Unknown ++     │ Total             │ \u001b[90mmissing\u001b[39m    │"
      ]
     },
     "execution_count": 2,
     "metadata": {},
     "output_type": "execute_result"
    }
   ],
   "source": [
    "# load data\n",
    "tax = CSV.read(\"incomeTaxData.csv\")"
   ]
  },
  {
   "cell_type": "markdown",
   "metadata": {},
   "source": [
    "You can see just from the first line of the dataset that the there are some rows with no returns associated with it. Let's delete those from the dataset.\n",
    "\n",
    "Also note that all of the data is in thousands of dollars."
   ]
  },
  {
   "cell_type": "code",
   "execution_count": 5,
   "metadata": {},
   "outputs": [],
   "source": [
    "# clean data\n",
    "tax = tax[.!(ismissing.(tax[:,:ReturnCount])), :];\n",
    "sort(tax, cols = :Year)\n",
    "\n",
    "# create new columns\n",
    "tax[!,:avg_tax] = tax[:,:TotalTaxLiability]./tax[:,:ReturnCount];"
   ]
  },
  {
   "cell_type": "markdown",
   "metadata": {},
   "source": [
    "# a)"
   ]
  },
  {
   "cell_type": "markdown",
   "metadata": {},
   "source": [
    "Plot the number of returns in Tompkins County over time.\n",
    "（you should draw the plot for each income class and ignore the rows with the class of 'Total'.）\n"
   ]
  },
  {
   "cell_type": "code",
   "execution_count": null,
   "metadata": {},
   "outputs": [],
   "source": []
  },
  {
   "cell_type": "markdown",
   "metadata": {},
   "source": [
    "\n",
    "Plot the average income tax per return in Tompkins County (disregarding income tax).\n",
    "（you could add up the all income classes (except 'Total') to calculate the weighted average tax OR just plot the rows of 'Total'. The added up number might be different with the number in 'total', and it should be fine.）"
   ]
  },
  {
   "cell_type": "code",
   "execution_count": null,
   "metadata": {},
   "outputs": [],
   "source": []
  },
  {
   "cell_type": "markdown",
   "metadata": {},
   "source": [
    "What kind of plot did you choose to make? Why?"
   ]
  },
  {
   "cell_type": "markdown",
   "metadata": {},
   "source": [
    "# b)"
   ]
  },
  {
   "cell_type": "markdown",
   "metadata": {},
   "source": [
    "Continuing to look only at Tompkins County, fit a model that predicts avg_tax using the year number. Do this with least squares."
   ]
  },
  {
   "cell_type": "code",
   "execution_count": null,
   "metadata": {},
   "outputs": [],
   "source": []
  },
  {
   "cell_type": "markdown",
   "metadata": {},
   "source": [
    "Transform the input to include an offset term in the model"
   ]
  },
  {
   "cell_type": "code",
   "execution_count": null,
   "metadata": {},
   "outputs": [],
   "source": []
  },
  {
   "cell_type": "markdown",
   "metadata": {},
   "source": [
    "# c)"
   ]
  },
  {
   "cell_type": "markdown",
   "metadata": {},
   "source": [
    "Now we will change the feature space.\n",
    "Fit a model using the year and the avg_tax from the previous year."
   ]
  },
  {
   "cell_type": "code",
   "execution_count": null,
   "metadata": {},
   "outputs": [],
   "source": []
  },
  {
   "cell_type": "markdown",
   "metadata": {},
   "source": [
    "Interpret the coefficients of this. What do they mean?\n",
    "\n",
    "Plot the real average tax return per year against your model's prediction. Discuss how you think your model fits."
   ]
  },
  {
   "cell_type": "code",
   "execution_count": null,
   "metadata": {},
   "outputs": [],
   "source": []
  },
  {
   "cell_type": "markdown",
   "metadata": {},
   "source": [
    "# d)"
   ]
  },
  {
   "cell_type": "markdown",
   "metadata": {},
   "source": [
    "Add two new features to your model. This could be a column of the data, a transformation of a column, or a new column formed from another. The only requirement is that the prediction in year $t$ be based on data avilable by the end of year $t-1$\n",
    "\n",
    "Fit this model and interpret the coefficients. "
   ]
  },
  {
   "cell_type": "code",
   "execution_count": null,
   "metadata": {},
   "outputs": [],
   "source": []
  },
  {
   "cell_type": "markdown",
   "metadata": {},
   "source": [
    "# e)"
   ]
  },
  {
   "cell_type": "markdown",
   "metadata": {},
   "source": [
    "Compare the coefficients from part c and d. Does the coefficient of avg_tax differ in the two models? If so, how do you interpret this difference?"
   ]
  },
  {
   "cell_type": "markdown",
   "metadata": {},
   "source": [
    "# f)"
   ]
  },
  {
   "cell_type": "markdown",
   "metadata": {},
   "source": [
    "Now we want to see how this model performs in other counties. Apply the model you fit in part c, with coefficients $w^c$, to data from the other counties and compute the error of this model on each data set.\n",
    "\n",
    "Plot a histogram of the mean errors the model makes."
   ]
  },
  {
   "cell_type": "code",
   "execution_count": null,
   "metadata": {
    "scrolled": true
   },
   "outputs": [],
   "source": []
  },
  {
   "cell_type": "markdown",
   "metadata": {},
   "source": [
    "Are there major outliers?"
   ]
  },
  {
   "cell_type": "markdown",
   "metadata": {},
   "source": [
    "# g)"
   ]
  },
  {
   "cell_type": "markdown",
   "metadata": {},
   "source": [
    "Using the same features you chose in part d, fit a model to the data for each of the other counties. These will be county-specific models. They may have different coefficient vectors from $w^d$.\n",
    "\n",
    "Plot a histogram of the mean square errors of the county-specific models for their respective counties."
   ]
  },
  {
   "cell_type": "code",
   "execution_count": null,
   "metadata": {},
   "outputs": [],
   "source": []
  },
  {
   "cell_type": "markdown",
   "metadata": {},
   "source": [
    "Again, are there major outliers? How do the coefficients compare across counties?"
   ]
  },
  {
   "cell_type": "code",
   "execution_count": null,
   "metadata": {},
   "outputs": [],
   "source": []
  }
 ],
 "metadata": {
  "kernelspec": {
   "display_name": "Julia 1.2.0",
   "language": "julia",
   "name": "julia-1.2"
  },
  "language_info": {
   "file_extension": ".jl",
   "mimetype": "application/julia",
   "name": "julia",
   "version": "1.2.0"
  }
 },
 "nbformat": 4,
 "nbformat_minor": 1
}
