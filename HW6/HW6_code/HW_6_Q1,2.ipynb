{
 "cells": [
  {
   "cell_type": "markdown",
   "metadata": {},
   "source": [
    "# HW 6\n",
    "## Submitted by Aman Jain (aj644)"
   ]
  },
  {
   "cell_type": "markdown",
   "metadata": {},
   "source": [
    "### Answer 1(a)"
   ]
  },
  {
   "cell_type": "markdown",
   "metadata": {},
   "source": [
    "<br> $ prox_{r}(z)= argmin_{w}( r(w) + 1/2\\left \\| w-z \\right \\|^2 ) $\n",
    "\n",
    "<br> $ 1_{k} : R^d \\to R \\cup ({\\infty }) $ that is for a vector. \n",
    "\n",
    "<br> $ 1_{k}$(w) = 0 if nnz (w) <= k, $\\infty$ otherwise\n",
    "\n",
    "<br> for proximal operator of K-sparse indicator: \n",
    "<br> \n",
    "<br> Case 1: when nnz (w) <= k, i.e. vector w has less than or equal to k non zero elements. \n",
    "<br> $ prox_{1_{k}}(z)= argmin_{w}( 0 + 1/2\\left \\| w-z \\right \\|^2 ) $\n",
    "<br> $ prox_{1_{k}}(z)= argmin_{w}(1/2\\left \\| w-z \\right \\|^2 ) $\n",
    "<br> $ prox_{1_{k}}(z)= z $\n",
    "<br> \n",
    "<br> \n",
    "<br> Case 2: when nnz (w) > k, i.e. vector w has more than k non zero elements. \n",
    "<br> $ prox_{1_{k}}(z)= argmin_{w}( \\infty + 1/2\\left \\| w-z \\right \\|^2 ) $\n",
    "<br> \n",
    "<br> In order to avoid infinity situation and minimize the argument, we need to take a projection of z on $1_k$ space. This will be achieved by ensuring that w only has only k non-zero entries. Further to ensure to minimize $\\left \\| w-z \\right \\|^2$, this projection will be making 0 in order to smallest to larger entries. Lets call it $\\prod_{1_k}(z)$. \n",
    "\n",
    "<br> $ prox_{1_{k}}(z)= \\prod_{1_k}(z) $\n",
    "\n",
    "<br> For example, z = [1,2,3] and k = 2. That means $\\prod_{1_k}(z)$ projection can have only 2 non-zero entries. So, we make smallest entry in z (which is 1 as 0). \n",
    "<br> therefore $\\prod_{1_2}$([1,2,3]) = [0,2,3]\n"
   ]
  },
  {
   "cell_type": "markdown",
   "metadata": {},
   "source": [
    "### Answer 1(b)"
   ]
  },
  {
   "cell_type": "markdown",
   "metadata": {},
   "source": [
    "<br> d = 2, k = 1\n",
    "<br> \n",
    "<br> f(x) = $ 1_{1}$(x) = 0 if nnz (x) <= 1, $\\infty$ otherwise\n",
    "<br> for convex: \n",
    "<br> f(tx + (1 − t)y) ≤ tf(x) + (1 − t)f(y)\n",
    "<br> lets t = 0.5, <b> x = [1,0] and y = [0,1] </b>\n",
    "<br> \n",
    "<br> LHS = f(tx + (1 − t)y)\n",
    "<br> = f(0.5(x+y))\n",
    "<br> = f(0.5([1,0] + [0,1]))\n",
    "<br> = f([0.5,0.5])\n",
    "<br> = $\\infty$\n",
    "<br>\n",
    "<br> RHS = tf(x) + (1 − t)f(y)\n",
    "<br> = 0.5(f(x) +f(y))\n",
    "<br> = 0.5(f([1,0]) + f([0,1]))\n",
    "<br> = 0.5(0+0) , as there is only one non zero entry in both vectors. \n",
    "<br> = 0\n",
    "<br> \n",
    "<br> there LHS $\\nless$ RHS. hence it serves as counter example. "
   ]
  },
  {
   "cell_type": "markdown",
   "metadata": {},
   "source": [
    "### Answer 1(c)"
   ]
  },
  {
   "cell_type": "markdown",
   "metadata": {},
   "source": [
    "<br> Objective: Min $(\\left \\| Xw-y \\right \\|^2 + 1_k(w)) $\n",
    "<br> \n",
    "<br> l(w) = $(\\left \\| Xw-y \\right \\|^2) $ and r(w) = $1_k(w)$ which is discussed in part a and b. \n",
    "<br> \n",
    "<br> note that: $\\triangledown l$ =  $\\triangledown (\\left \\| Xw-y \\right \\|^2) = 2X^t(Xw-y)$\n",
    "<br> and $ prox_{1_{k}}(w)= 0$ if nnz(w) <=k or $\\prod_{1_k}(w)$ otherwise, projection as discussed in part a. \n",
    "<br> \n",
    "<br> <b>Algorithm:</b> \n",
    "<br> Initialize: w $\\in R^d$ (often w = 0) \n",
    "<br> for t = 1,2,3,....Maxiters\n",
    "<br> \n",
    "<br> compute, gradient, g = $\\triangledown l = 2X^t(Xw-y)$\n",
    "<br> update w $\\leftarrow prox_{1_{k}}$(w - $\\alpha ^t$g)"
   ]
  },
  {
   "cell_type": "markdown",
   "metadata": {},
   "source": [
    "### Answer 1(d)"
   ]
  },
  {
   "cell_type": "markdown",
   "metadata": {},
   "source": [
    "d) Code the proximal gradient method for the Sparse Least Squares Problem."
   ]
  },
  {
   "cell_type": "code",
   "execution_count": 44,
   "metadata": {},
   "outputs": [
    {
     "data": {
      "text/plain": [
       "proxgrad_const"
      ]
     },
     "execution_count": 44,
     "metadata": {},
     "output_type": "execute_result"
    }
   ],
   "source": [
    "using Plots, Random, LinearAlgebra, Statistics, SparseArrays, DataFrames, ScikitLearn, LowRankModels, CSV\n",
    "include(\"proxgrad.jl\")"
   ]
  },
  {
   "cell_type": "code",
   "execution_count": 45,
   "metadata": {},
   "outputs": [],
   "source": [
    "# Generate some data\n",
    "n = 1000\n",
    "d = 10\n",
    "k = 6  #non zero entries\n",
    "X = randn(n, d)\n",
    "w_true = [-5, 17, 5, 0, 0, -7, 5, 0, 0, 0.1]\n",
    "y = X*w_true + .1*randn(n);"
   ]
  },
  {
   "cell_type": "code",
   "execution_count": 46,
   "metadata": {},
   "outputs": [
    {
     "data": {
      "text/plain": [
       "0.03382963856878635"
      ]
     },
     "execution_count": 46,
     "metadata": {},
     "output_type": "execute_result"
    }
   ],
   "source": [
    "L = 2*(maximum(X)^2)\n",
    "alpha_max = 1/L  #step size to be lesser than 1/Lipschitz constant\n",
    "alpha_max "
   ]
  },
  {
   "cell_type": "code",
   "execution_count": 47,
   "metadata": {},
   "outputs": [
    {
     "data": {
      "text/plain": [
       "prox_1_k (generic function with 1 method)"
      ]
     },
     "execution_count": 47,
     "metadata": {},
     "output_type": "execute_result"
    }
   ],
   "source": [
    "function prox_1_k(w, k)\n",
    "    zuk = sum(w.==0)\n",
    "    nnz = length(w)-zuk\n",
    "    if nnz <= k\n",
    "        return(w)\n",
    "    end\n",
    "    if nnz > k\n",
    "        w_rank = sortperm(abs.(w)) \n",
    "        elements_to_be_zero = nnz-k\n",
    "        for i = 1:elements_to_be_zero\n",
    "            w[w_rank[i+zuk]] = 0\n",
    "        end\n",
    "        return(w)\n",
    "    end\n",
    "end "
   ]
  },
  {
   "cell_type": "code",
   "execution_count": 48,
   "metadata": {},
   "outputs": [
    {
     "data": {
      "text/plain": [
       "grad (generic function with 21 methods)"
      ]
     },
     "execution_count": 48,
     "metadata": {},
     "output_type": "execute_result"
    }
   ],
   "source": [
    "function grad(X, y, w)\n",
    "    return(2X'*(X*w-y))\n",
    "end "
   ]
  },
  {
   "cell_type": "code",
   "execution_count": 49,
   "metadata": {},
   "outputs": [
    {
     "data": {
      "text/plain": [
       "one_k (generic function with 1 method)"
      ]
     },
     "execution_count": 49,
     "metadata": {},
     "output_type": "execute_result"
    }
   ],
   "source": [
    "function one_k(w,k)\n",
    "    zuk = sum(w.==0)\n",
    "    nnz = length(w)-zuk\n",
    "    if nnz <= k\n",
    "        return(0)\n",
    "    end\n",
    "    if nnz > k\n",
    "        return(Inf) #proxy for infinite\n",
    "    end\n",
    "end"
   ]
  },
  {
   "cell_type": "code",
   "execution_count": 50,
   "metadata": {},
   "outputs": [
    {
     "data": {
      "text/plain": [
       "objective (generic function with 1 method)"
      ]
     },
     "execution_count": 50,
     "metadata": {},
     "output_type": "execute_result"
    }
   ],
   "source": [
    "function objective(X, y, w, k)\n",
    "    z = X*w - y \n",
    "    one_k_value = one_k(w,k)\n",
    "    return(((norm(z,2)+ one_k(w,k))))\n",
    "end"
   ]
  },
  {
   "cell_type": "code",
   "execution_count": 51,
   "metadata": {},
   "outputs": [
    {
     "name": "stdout",
     "output_type": "stream",
     "text": [
      "3.1923844154946814"
     ]
    }
   ],
   "source": [
    "X = randn(n, d)\n",
    "w = [-5, 17, 5, 0, 0, -7, 5, 0, 0, 0.1]\n",
    "y = X*w + .1*randn(n)\n",
    "print(objective(X, y, w,k))\n"
   ]
  },
  {
   "cell_type": "code",
   "execution_count": 52,
   "metadata": {},
   "outputs": [
    {
     "data": {
      "text/plain": [
       "SLS_prox_grad (generic function with 1 method)"
      ]
     },
     "execution_count": 52,
     "metadata": {},
     "output_type": "execute_result"
    }
   ],
   "source": [
    "function SLS_prox_grad(X,y; max_iter = 100, alpha = alpha_max, w = zeros(d))\n",
    "\n",
    "    obj_vec = zeros(max_iter)\n",
    "    for i = 1:max_iter\n",
    "        g = grad(X, y, w)\n",
    "        z = w-(alpha*g)\n",
    "        w = prox_1_k(z,k)\n",
    "        obj_vec[i] = objective(X, y, w, k)\n",
    "    end\n",
    "    \n",
    "    return(w,obj_vec)\n",
    "end"
   ]
  },
  {
   "cell_type": "code",
   "execution_count": 53,
   "metadata": {},
   "outputs": [
    {
     "data": {
      "image/svg+xml": [
       "<?xml version=\"1.0\" encoding=\"utf-8\"?>\n",
       "<svg xmlns=\"http://www.w3.org/2000/svg\" xmlns:xlink=\"http://www.w3.org/1999/xlink\" width=\"600\" height=\"400\" viewBox=\"0 0 2400 1600\">\n",
       "<defs>\n",
       "  <clipPath id=\"clip5200\">\n",
       "    <rect x=\"0\" y=\"0\" width=\"2400\" height=\"1600\"/>\n",
       "  </clipPath>\n",
       "</defs>\n",
       "<path clip-path=\"url(#clip5200)\" d=\"\n",
       "M0 1600 L2400 1600 L2400 0 L0 0  Z\n",
       "  \" fill=\"#ffffff\" fill-rule=\"evenodd\" fill-opacity=\"1\"/>\n",
       "<defs>\n",
       "  <clipPath id=\"clip5201\">\n",
       "    <rect x=\"480\" y=\"0\" width=\"1681\" height=\"1600\"/>\n",
       "  </clipPath>\n",
       "</defs>\n",
       "<path clip-path=\"url(#clip5200)\" d=\"\n",
       "M229.135 1425.62 L2352.76 1425.62 L2352.76 47.2441 L229.135 47.2441  Z\n",
       "  \" fill=\"#ffffff\" fill-rule=\"evenodd\" fill-opacity=\"1\"/>\n",
       "<defs>\n",
       "  <clipPath id=\"clip5202\">\n",
       "    <rect x=\"229\" y=\"47\" width=\"2125\" height=\"1379\"/>\n",
       "  </clipPath>\n",
       "</defs>\n",
       "<polyline clip-path=\"url(#clip5202)\" style=\"stroke:#000000; stroke-width:2; stroke-opacity:0.1; fill:none\" points=\"\n",
       "  269.001,1425.62 269.001,47.2441 \n",
       "  \"/>\n",
       "<polyline clip-path=\"url(#clip5202)\" style=\"stroke:#000000; stroke-width:2; stroke-opacity:0.1; fill:none\" points=\"\n",
       "  774.914,1425.62 774.914,47.2441 \n",
       "  \"/>\n",
       "<polyline clip-path=\"url(#clip5202)\" style=\"stroke:#000000; stroke-width:2; stroke-opacity:0.1; fill:none\" points=\"\n",
       "  1280.83,1425.62 1280.83,47.2441 \n",
       "  \"/>\n",
       "<polyline clip-path=\"url(#clip5202)\" style=\"stroke:#000000; stroke-width:2; stroke-opacity:0.1; fill:none\" points=\"\n",
       "  1786.74,1425.62 1786.74,47.2441 \n",
       "  \"/>\n",
       "<polyline clip-path=\"url(#clip5202)\" style=\"stroke:#000000; stroke-width:2; stroke-opacity:0.1; fill:none\" points=\"\n",
       "  2292.65,1425.62 2292.65,47.2441 \n",
       "  \"/>\n",
       "<polyline clip-path=\"url(#clip5202)\" style=\"stroke:#000000; stroke-width:2; stroke-opacity:0.1; fill:none\" points=\"\n",
       "  229.135,1394.68 2352.76,1394.68 \n",
       "  \"/>\n",
       "<polyline clip-path=\"url(#clip5202)\" style=\"stroke:#000000; stroke-width:2; stroke-opacity:0.1; fill:none\" points=\"\n",
       "  229.135,1141.23 2352.76,1141.23 \n",
       "  \"/>\n",
       "<polyline clip-path=\"url(#clip5202)\" style=\"stroke:#000000; stroke-width:2; stroke-opacity:0.1; fill:none\" points=\"\n",
       "  229.135,887.779 2352.76,887.779 \n",
       "  \"/>\n",
       "<polyline clip-path=\"url(#clip5202)\" style=\"stroke:#000000; stroke-width:2; stroke-opacity:0.1; fill:none\" points=\"\n",
       "  229.135,634.33 2352.76,634.33 \n",
       "  \"/>\n",
       "<polyline clip-path=\"url(#clip5202)\" style=\"stroke:#000000; stroke-width:2; stroke-opacity:0.1; fill:none\" points=\"\n",
       "  229.135,380.88 2352.76,380.88 \n",
       "  \"/>\n",
       "<polyline clip-path=\"url(#clip5202)\" style=\"stroke:#000000; stroke-width:2; stroke-opacity:0.1; fill:none\" points=\"\n",
       "  229.135,127.431 2352.76,127.431 \n",
       "  \"/>\n",
       "<polyline clip-path=\"url(#clip5200)\" style=\"stroke:#000000; stroke-width:4; stroke-opacity:1; fill:none\" points=\"\n",
       "  229.135,1425.62 2352.76,1425.62 \n",
       "  \"/>\n",
       "<polyline clip-path=\"url(#clip5200)\" style=\"stroke:#000000; stroke-width:4; stroke-opacity:1; fill:none\" points=\"\n",
       "  229.135,1425.62 229.135,47.2441 \n",
       "  \"/>\n",
       "<polyline clip-path=\"url(#clip5200)\" style=\"stroke:#000000; stroke-width:4; stroke-opacity:1; fill:none\" points=\"\n",
       "  269.001,1425.62 269.001,1404.94 \n",
       "  \"/>\n",
       "<polyline clip-path=\"url(#clip5200)\" style=\"stroke:#000000; stroke-width:4; stroke-opacity:1; fill:none\" points=\"\n",
       "  774.914,1425.62 774.914,1404.94 \n",
       "  \"/>\n",
       "<polyline clip-path=\"url(#clip5200)\" style=\"stroke:#000000; stroke-width:4; stroke-opacity:1; fill:none\" points=\"\n",
       "  1280.83,1425.62 1280.83,1404.94 \n",
       "  \"/>\n",
       "<polyline clip-path=\"url(#clip5200)\" style=\"stroke:#000000; stroke-width:4; stroke-opacity:1; fill:none\" points=\"\n",
       "  1786.74,1425.62 1786.74,1404.94 \n",
       "  \"/>\n",
       "<polyline clip-path=\"url(#clip5200)\" style=\"stroke:#000000; stroke-width:4; stroke-opacity:1; fill:none\" points=\"\n",
       "  2292.65,1425.62 2292.65,1404.94 \n",
       "  \"/>\n",
       "<polyline clip-path=\"url(#clip5200)\" style=\"stroke:#000000; stroke-width:4; stroke-opacity:1; fill:none\" points=\"\n",
       "  229.135,1394.68 260.99,1394.68 \n",
       "  \"/>\n",
       "<polyline clip-path=\"url(#clip5200)\" style=\"stroke:#000000; stroke-width:4; stroke-opacity:1; fill:none\" points=\"\n",
       "  229.135,1141.23 260.99,1141.23 \n",
       "  \"/>\n",
       "<polyline clip-path=\"url(#clip5200)\" style=\"stroke:#000000; stroke-width:4; stroke-opacity:1; fill:none\" points=\"\n",
       "  229.135,887.779 260.99,887.779 \n",
       "  \"/>\n",
       "<polyline clip-path=\"url(#clip5200)\" style=\"stroke:#000000; stroke-width:4; stroke-opacity:1; fill:none\" points=\"\n",
       "  229.135,634.33 260.99,634.33 \n",
       "  \"/>\n",
       "<polyline clip-path=\"url(#clip5200)\" style=\"stroke:#000000; stroke-width:4; stroke-opacity:1; fill:none\" points=\"\n",
       "  229.135,380.88 260.99,380.88 \n",
       "  \"/>\n",
       "<polyline clip-path=\"url(#clip5200)\" style=\"stroke:#000000; stroke-width:4; stroke-opacity:1; fill:none\" points=\"\n",
       "  229.135,127.431 260.99,127.431 \n",
       "  \"/>\n",
       "<g clip-path=\"url(#clip5200)\">\n",
       "<text style=\"fill:#000000; fill-opacity:1; font-family:Arial,Helvetica Neue,Helvetica,sans-serif; font-size:48px; text-anchor:middle;\" transform=\"rotate(0, 269.001, 1479.62)\" x=\"269.001\" y=\"1479.62\">0</text>\n",
       "</g>\n",
       "<g clip-path=\"url(#clip5200)\">\n",
       "<text style=\"fill:#000000; fill-opacity:1; font-family:Arial,Helvetica Neue,Helvetica,sans-serif; font-size:48px; text-anchor:middle;\" transform=\"rotate(0, 774.914, 1479.62)\" x=\"774.914\" y=\"1479.62\">25</text>\n",
       "</g>\n",
       "<g clip-path=\"url(#clip5200)\">\n",
       "<text style=\"fill:#000000; fill-opacity:1; font-family:Arial,Helvetica Neue,Helvetica,sans-serif; font-size:48px; text-anchor:middle;\" transform=\"rotate(0, 1280.83, 1479.62)\" x=\"1280.83\" y=\"1479.62\">50</text>\n",
       "</g>\n",
       "<g clip-path=\"url(#clip5200)\">\n",
       "<text style=\"fill:#000000; fill-opacity:1; font-family:Arial,Helvetica Neue,Helvetica,sans-serif; font-size:48px; text-anchor:middle;\" transform=\"rotate(0, 1786.74, 1479.62)\" x=\"1786.74\" y=\"1479.62\">75</text>\n",
       "</g>\n",
       "<g clip-path=\"url(#clip5200)\">\n",
       "<text style=\"fill:#000000; fill-opacity:1; font-family:Arial,Helvetica Neue,Helvetica,sans-serif; font-size:48px; text-anchor:middle;\" transform=\"rotate(0, 2292.65, 1479.62)\" x=\"2292.65\" y=\"1479.62\">100</text>\n",
       "</g>\n",
       "<g clip-path=\"url(#clip5200)\">\n",
       "<text style=\"fill:#000000; fill-opacity:1; font-family:Arial,Helvetica Neue,Helvetica,sans-serif; font-size:48px; text-anchor:end;\" transform=\"rotate(0, 205.135, 1412.18)\" x=\"205.135\" y=\"1412.18\">0</text>\n",
       "</g>\n",
       "<g clip-path=\"url(#clip5200)\">\n",
       "<text style=\"fill:#000000; fill-opacity:1; font-family:Arial,Helvetica Neue,Helvetica,sans-serif; font-size:48px; text-anchor:end;\" transform=\"rotate(0, 205.135, 1158.73)\" x=\"205.135\" y=\"1158.73\">100</text>\n",
       "</g>\n",
       "<g clip-path=\"url(#clip5200)\">\n",
       "<text style=\"fill:#000000; fill-opacity:1; font-family:Arial,Helvetica Neue,Helvetica,sans-serif; font-size:48px; text-anchor:end;\" transform=\"rotate(0, 205.135, 905.279)\" x=\"205.135\" y=\"905.279\">200</text>\n",
       "</g>\n",
       "<g clip-path=\"url(#clip5200)\">\n",
       "<text style=\"fill:#000000; fill-opacity:1; font-family:Arial,Helvetica Neue,Helvetica,sans-serif; font-size:48px; text-anchor:end;\" transform=\"rotate(0, 205.135, 651.83)\" x=\"205.135\" y=\"651.83\">300</text>\n",
       "</g>\n",
       "<g clip-path=\"url(#clip5200)\">\n",
       "<text style=\"fill:#000000; fill-opacity:1; font-family:Arial,Helvetica Neue,Helvetica,sans-serif; font-size:48px; text-anchor:end;\" transform=\"rotate(0, 205.135, 398.38)\" x=\"205.135\" y=\"398.38\">400</text>\n",
       "</g>\n",
       "<g clip-path=\"url(#clip5200)\">\n",
       "<text style=\"fill:#000000; fill-opacity:1; font-family:Arial,Helvetica Neue,Helvetica,sans-serif; font-size:48px; text-anchor:end;\" transform=\"rotate(0, 205.135, 144.931)\" x=\"205.135\" y=\"144.931\">500</text>\n",
       "</g>\n",
       "<g clip-path=\"url(#clip5200)\">\n",
       "<text style=\"fill:#000000; fill-opacity:1; font-family:Arial,Helvetica Neue,Helvetica,sans-serif; font-size:66px; text-anchor:middle;\" transform=\"rotate(0, 1290.95, 1559.48)\" x=\"1290.95\" y=\"1559.48\">iteration number</text>\n",
       "</g>\n",
       "<g clip-path=\"url(#clip5200)\">\n",
       "<text style=\"fill:#000000; fill-opacity:1; font-family:Arial,Helvetica Neue,Helvetica,sans-serif; font-size:66px; text-anchor:middle;\" transform=\"rotate(-90, 89.2861, 736.431)\" x=\"89.2861\" y=\"736.431\">objective function</text>\n",
       "</g>\n",
       "<polyline clip-path=\"url(#clip5202)\" style=\"stroke:#009af9; stroke-width:4; stroke-opacity:1; fill:none\" points=\"\n",
       "  289.238,86.2547 309.474,353.378 329.711,565.644 349.947,734.38 370.184,868.558 390.42,975.292 410.657,1060.22 430.893,1127.82 451.13,1181.63 471.366,1224.47 \n",
       "  491.603,1258.59 511.839,1285.74 532.076,1307.35 552.313,1324.52 572.549,1338.15 592.786,1348.93 613.022,1357.42 633.259,1364.06 653.495,1369.21 673.732,1373.14 \n",
       "  693.968,1376.1 714.205,1378.28 734.441,1379.85 754.678,1380.95 774.914,1382.7 795.151,1383.93 815.387,1384.8 835.624,1385.4 855.86,1385.81 876.097,1386.09 \n",
       "  896.333,1386.27 916.57,1386.39 936.806,1386.47 957.043,1386.52 977.279,1386.55 997.516,1386.57 1017.75,1386.58 1037.99,1386.59 1058.23,1386.6 1078.46,1386.6 \n",
       "  1098.7,1386.6 1118.94,1386.61 1139.17,1386.61 1159.41,1386.61 1179.64,1386.61 1199.88,1386.61 1220.12,1386.61 1240.35,1386.61 1260.59,1386.61 1280.83,1386.61 \n",
       "  1301.06,1386.61 1321.3,1386.61 1341.54,1386.61 1361.77,1386.61 1382.01,1386.61 1402.25,1386.61 1422.48,1386.61 1442.72,1386.61 1462.96,1386.61 1483.19,1386.61 \n",
       "  1503.43,1386.61 1523.67,1386.61 1543.9,1386.61 1564.14,1386.61 1584.38,1386.61 1604.61,1386.61 1624.85,1386.61 1645.08,1386.61 1665.32,1386.61 1685.56,1386.61 \n",
       "  1705.79,1386.61 1726.03,1386.61 1746.27,1386.61 1766.5,1386.61 1786.74,1386.61 1806.98,1386.61 1827.21,1386.61 1847.45,1386.61 1867.69,1386.61 1887.92,1386.61 \n",
       "  1908.16,1386.61 1928.4,1386.61 1948.63,1386.61 1968.87,1386.61 1989.11,1386.61 2009.34,1386.61 2029.58,1386.61 2049.82,1386.61 2070.05,1386.61 2090.29,1386.61 \n",
       "  2110.52,1386.61 2130.76,1386.61 2151,1386.61 2171.23,1386.61 2191.47,1386.61 2211.71,1386.61 2231.94,1386.61 2252.18,1386.61 2272.42,1386.61 2292.65,1386.61 \n",
       "  \n",
       "  \"/>\n",
       "<path clip-path=\"url(#clip5200)\" d=\"\n",
       "M1850.82 251.724 L2280.76 251.724 L2280.76 130.764 L1850.82 130.764  Z\n",
       "  \" fill=\"#ffffff\" fill-rule=\"evenodd\" fill-opacity=\"1\"/>\n",
       "<polyline clip-path=\"url(#clip5200)\" style=\"stroke:#000000; stroke-width:4; stroke-opacity:1; fill:none\" points=\"\n",
       "  1850.82,251.724 2280.76,251.724 2280.76,130.764 1850.82,130.764 1850.82,251.724 \n",
       "  \"/>\n",
       "<polyline clip-path=\"url(#clip5200)\" style=\"stroke:#009af9; stroke-width:4; stroke-opacity:1; fill:none\" points=\"\n",
       "  1874.82,191.244 2018.82,191.244 \n",
       "  \"/>\n",
       "<g clip-path=\"url(#clip5200)\">\n",
       "<text style=\"fill:#000000; fill-opacity:1; font-family:Arial,Helvetica Neue,Helvetica,sans-serif; font-size:48px; text-anchor:start;\" transform=\"rotate(0, 2042.82, 208.744)\" x=\"2042.82\" y=\"208.744\">objective</text>\n",
       "</g>\n",
       "</svg>\n"
      ]
     },
     "execution_count": 53,
     "metadata": {},
     "output_type": "execute_result"
    }
   ],
   "source": [
    "w, obj_vec = SLS_prox_grad(X,y; max_iter = 100, alpha = 0.0001) #very sensitive to alpha\n",
    "plot(obj_vec, label=\"objective\")\n",
    "xlabel!(\"iteration number\")\n",
    "ylabel!(\"objective function\")\n",
    "#print(w)"
   ]
  },
  {
   "cell_type": "code",
   "execution_count": 54,
   "metadata": {},
   "outputs": [
    {
     "name": "stdout",
     "output_type": "stream",
     "text": [
      "3.1841800598466206,24.147480797319353\n"
     ]
    }
   ],
   "source": [
    "print(obj_vec[100], \",\")\n",
    "println(exp(obj_vec[100]))"
   ]
  },
  {
   "cell_type": "code",
   "execution_count": 56,
   "metadata": {},
   "outputs": [
    {
     "name": "stdout",
     "output_type": "stream",
     "text": [
      "[-4.997472252391633, 16.99866134774785, 5.001406639849081, 0.0, 0.0, -7.003523856734803, 4.995263685041565, 0.0, 0.0, 0.10254385605673708]"
     ]
    }
   ],
   "source": [
    "w, obj_vec = SLS_prox_grad(X,y; max_iter = 100, alpha = 0.0001) #very sensitive to alpha\n",
    "print(w) "
   ]
  },
  {
   "cell_type": "markdown",
   "metadata": {},
   "source": [
    "<b> As can be seen from above, objective value stabilizes after 35 iterations to a value of 3.13. </b>"
   ]
  },
  {
   "cell_type": "markdown",
   "metadata": {},
   "source": [
    "## Answer 1(e)"
   ]
  },
  {
   "cell_type": "markdown",
   "metadata": {},
   "source": [
    "e) Run the algorithm starting at multiple locations and create a histogram of the objective value. Use 100 iterations for each run."
   ]
  },
  {
   "cell_type": "code",
   "execution_count": 65,
   "metadata": {},
   "outputs": [
    {
     "name": "stdout",
     "output_type": "stream",
     "text": [
      "[3.1842, 3.1842, 3.1842, 3.1842, 3.1842, 3.1842, 3.1842, 3.1842, 3.1842, 3.1842, 3.1842, 3.1842, 3.1842, 3.1842, 3.1842, 3.1842, 3.1842, 3.1842, 3.1842, 3.1842, 3.1842, 3.1842, 3.1842, 3.1842, 3.1842, 3.1842, 3.1842, 3.1842, 3.1842, 3.1842, 3.1842, 3.1842, 3.1842, 3.1842, 3.1842, 3.1842, 3.1842, 3.1842, 3.1842, 3.1842, 3.1842, 3.1842, 3.1842, 3.1842, 3.1842, 3.1842, 3.1842, 3.1842, 3.1842, 3.1842][-4.997472255494837, 16.99866134800286, 5.001406638800672, 0.0, 0.0, -7.003523857053666, 4.995263686320201, 0.0, 0.0, 0.10254386002713711]"
     ]
    },
    {
     "data": {
      "image/svg+xml": [
       "<?xml version=\"1.0\" encoding=\"utf-8\"?>\n",
       "<svg xmlns=\"http://www.w3.org/2000/svg\" xmlns:xlink=\"http://www.w3.org/1999/xlink\" width=\"600\" height=\"400\" viewBox=\"0 0 2400 1600\">\n",
       "<defs>\n",
       "  <clipPath id=\"clip8800\">\n",
       "    <rect x=\"0\" y=\"0\" width=\"2400\" height=\"1600\"/>\n",
       "  </clipPath>\n",
       "</defs>\n",
       "<path clip-path=\"url(#clip8800)\" d=\"\n",
       "M0 1600 L2400 1600 L2400 0 L0 0  Z\n",
       "  \" fill=\"#ffffff\" fill-rule=\"evenodd\" fill-opacity=\"1\"/>\n",
       "<defs>\n",
       "  <clipPath id=\"clip8801\">\n",
       "    <rect x=\"480\" y=\"0\" width=\"1681\" height=\"1600\"/>\n",
       "  </clipPath>\n",
       "</defs>\n",
       "<path clip-path=\"url(#clip8800)\" d=\"\n",
       "M140.517 1487.47 L2352.76 1487.47 L2352.76 47.2441 L140.517 47.2441  Z\n",
       "  \" fill=\"#ffffff\" fill-rule=\"evenodd\" fill-opacity=\"1\"/>\n",
       "<defs>\n",
       "  <clipPath id=\"clip8802\">\n",
       "    <rect x=\"140\" y=\"47\" width=\"2213\" height=\"1441\"/>\n",
       "  </clipPath>\n",
       "</defs>\n",
       "<polyline clip-path=\"url(#clip8802)\" style=\"stroke:#000000; stroke-width:2; stroke-opacity:0.1; fill:none\" points=\"\n",
       "  459.082,1487.47 459.082,47.2441 \n",
       "  \"/>\n",
       "<polyline clip-path=\"url(#clip8802)\" style=\"stroke:#000000; stroke-width:2; stroke-opacity:0.1; fill:none\" points=\"\n",
       "  852.859,1487.47 852.859,47.2441 \n",
       "  \"/>\n",
       "<polyline clip-path=\"url(#clip8802)\" style=\"stroke:#000000; stroke-width:2; stroke-opacity:0.1; fill:none\" points=\"\n",
       "  1246.64,1487.47 1246.64,47.2441 \n",
       "  \"/>\n",
       "<polyline clip-path=\"url(#clip8802)\" style=\"stroke:#000000; stroke-width:2; stroke-opacity:0.1; fill:none\" points=\"\n",
       "  1640.41,1487.47 1640.41,47.2441 \n",
       "  \"/>\n",
       "<polyline clip-path=\"url(#clip8802)\" style=\"stroke:#000000; stroke-width:2; stroke-opacity:0.1; fill:none\" points=\"\n",
       "  2034.19,1487.47 2034.19,47.2441 \n",
       "  \"/>\n",
       "<polyline clip-path=\"url(#clip8802)\" style=\"stroke:#000000; stroke-width:2; stroke-opacity:0.1; fill:none\" points=\"\n",
       "  140.517,1446.71 2352.76,1446.71 \n",
       "  \"/>\n",
       "<polyline clip-path=\"url(#clip8802)\" style=\"stroke:#000000; stroke-width:2; stroke-opacity:0.1; fill:none\" points=\"\n",
       "  140.517,1174.97 2352.76,1174.97 \n",
       "  \"/>\n",
       "<polyline clip-path=\"url(#clip8802)\" style=\"stroke:#000000; stroke-width:2; stroke-opacity:0.1; fill:none\" points=\"\n",
       "  140.517,903.23 2352.76,903.23 \n",
       "  \"/>\n",
       "<polyline clip-path=\"url(#clip8802)\" style=\"stroke:#000000; stroke-width:2; stroke-opacity:0.1; fill:none\" points=\"\n",
       "  140.517,631.489 2352.76,631.489 \n",
       "  \"/>\n",
       "<polyline clip-path=\"url(#clip8802)\" style=\"stroke:#000000; stroke-width:2; stroke-opacity:0.1; fill:none\" points=\"\n",
       "  140.517,359.747 2352.76,359.747 \n",
       "  \"/>\n",
       "<polyline clip-path=\"url(#clip8802)\" style=\"stroke:#000000; stroke-width:2; stroke-opacity:0.1; fill:none\" points=\"\n",
       "  140.517,88.0053 2352.76,88.0053 \n",
       "  \"/>\n",
       "<polyline clip-path=\"url(#clip8800)\" style=\"stroke:#000000; stroke-width:4; stroke-opacity:1; fill:none\" points=\"\n",
       "  140.517,1487.47 2352.76,1487.47 \n",
       "  \"/>\n",
       "<polyline clip-path=\"url(#clip8800)\" style=\"stroke:#000000; stroke-width:4; stroke-opacity:1; fill:none\" points=\"\n",
       "  140.517,1487.47 140.517,47.2441 \n",
       "  \"/>\n",
       "<polyline clip-path=\"url(#clip8800)\" style=\"stroke:#000000; stroke-width:4; stroke-opacity:1; fill:none\" points=\"\n",
       "  459.082,1487.47 459.082,1465.87 \n",
       "  \"/>\n",
       "<polyline clip-path=\"url(#clip8800)\" style=\"stroke:#000000; stroke-width:4; stroke-opacity:1; fill:none\" points=\"\n",
       "  852.859,1487.47 852.859,1465.87 \n",
       "  \"/>\n",
       "<polyline clip-path=\"url(#clip8800)\" style=\"stroke:#000000; stroke-width:4; stroke-opacity:1; fill:none\" points=\"\n",
       "  1246.64,1487.47 1246.64,1465.87 \n",
       "  \"/>\n",
       "<polyline clip-path=\"url(#clip8800)\" style=\"stroke:#000000; stroke-width:4; stroke-opacity:1; fill:none\" points=\"\n",
       "  1640.41,1487.47 1640.41,1465.87 \n",
       "  \"/>\n",
       "<polyline clip-path=\"url(#clip8800)\" style=\"stroke:#000000; stroke-width:4; stroke-opacity:1; fill:none\" points=\"\n",
       "  2034.19,1487.47 2034.19,1465.87 \n",
       "  \"/>\n",
       "<polyline clip-path=\"url(#clip8800)\" style=\"stroke:#000000; stroke-width:4; stroke-opacity:1; fill:none\" points=\"\n",
       "  140.517,1446.71 173.7,1446.71 \n",
       "  \"/>\n",
       "<polyline clip-path=\"url(#clip8800)\" style=\"stroke:#000000; stroke-width:4; stroke-opacity:1; fill:none\" points=\"\n",
       "  140.517,1174.97 173.7,1174.97 \n",
       "  \"/>\n",
       "<polyline clip-path=\"url(#clip8800)\" style=\"stroke:#000000; stroke-width:4; stroke-opacity:1; fill:none\" points=\"\n",
       "  140.517,903.23 173.7,903.23 \n",
       "  \"/>\n",
       "<polyline clip-path=\"url(#clip8800)\" style=\"stroke:#000000; stroke-width:4; stroke-opacity:1; fill:none\" points=\"\n",
       "  140.517,631.489 173.7,631.489 \n",
       "  \"/>\n",
       "<polyline clip-path=\"url(#clip8800)\" style=\"stroke:#000000; stroke-width:4; stroke-opacity:1; fill:none\" points=\"\n",
       "  140.517,359.747 173.7,359.747 \n",
       "  \"/>\n",
       "<polyline clip-path=\"url(#clip8800)\" style=\"stroke:#000000; stroke-width:4; stroke-opacity:1; fill:none\" points=\"\n",
       "  140.517,88.0053 173.7,88.0053 \n",
       "  \"/>\n",
       "<g clip-path=\"url(#clip8800)\">\n",
       "<text style=\"fill:#000000; fill-opacity:1; font-family:Arial,Helvetica Neue,Helvetica,sans-serif; font-size:48px; text-anchor:middle;\" transform=\"rotate(0, 459.082, 1541.47)\" x=\"459.082\" y=\"1541.47\">2.6</text>\n",
       "</g>\n",
       "<g clip-path=\"url(#clip8800)\">\n",
       "<text style=\"fill:#000000; fill-opacity:1; font-family:Arial,Helvetica Neue,Helvetica,sans-serif; font-size:48px; text-anchor:middle;\" transform=\"rotate(0, 852.859, 1541.47)\" x=\"852.859\" y=\"1541.47\">2.8</text>\n",
       "</g>\n",
       "<g clip-path=\"url(#clip8800)\">\n",
       "<text style=\"fill:#000000; fill-opacity:1; font-family:Arial,Helvetica Neue,Helvetica,sans-serif; font-size:48px; text-anchor:middle;\" transform=\"rotate(0, 1246.64, 1541.47)\" x=\"1246.64\" y=\"1541.47\">3.0</text>\n",
       "</g>\n",
       "<g clip-path=\"url(#clip8800)\">\n",
       "<text style=\"fill:#000000; fill-opacity:1; font-family:Arial,Helvetica Neue,Helvetica,sans-serif; font-size:48px; text-anchor:middle;\" transform=\"rotate(0, 1640.41, 1541.47)\" x=\"1640.41\" y=\"1541.47\">3.2</text>\n",
       "</g>\n",
       "<g clip-path=\"url(#clip8800)\">\n",
       "<text style=\"fill:#000000; fill-opacity:1; font-family:Arial,Helvetica Neue,Helvetica,sans-serif; font-size:48px; text-anchor:middle;\" transform=\"rotate(0, 2034.19, 1541.47)\" x=\"2034.19\" y=\"1541.47\">3.4</text>\n",
       "</g>\n",
       "<g clip-path=\"url(#clip8800)\">\n",
       "<text style=\"fill:#000000; fill-opacity:1; font-family:Arial,Helvetica Neue,Helvetica,sans-serif; font-size:48px; text-anchor:end;\" transform=\"rotate(0, 116.517, 1464.21)\" x=\"116.517\" y=\"1464.21\">0</text>\n",
       "</g>\n",
       "<g clip-path=\"url(#clip8800)\">\n",
       "<text style=\"fill:#000000; fill-opacity:1; font-family:Arial,Helvetica Neue,Helvetica,sans-serif; font-size:48px; text-anchor:end;\" transform=\"rotate(0, 116.517, 1192.47)\" x=\"116.517\" y=\"1192.47\">10</text>\n",
       "</g>\n",
       "<g clip-path=\"url(#clip8800)\">\n",
       "<text style=\"fill:#000000; fill-opacity:1; font-family:Arial,Helvetica Neue,Helvetica,sans-serif; font-size:48px; text-anchor:end;\" transform=\"rotate(0, 116.517, 920.73)\" x=\"116.517\" y=\"920.73\">20</text>\n",
       "</g>\n",
       "<g clip-path=\"url(#clip8800)\">\n",
       "<text style=\"fill:#000000; fill-opacity:1; font-family:Arial,Helvetica Neue,Helvetica,sans-serif; font-size:48px; text-anchor:end;\" transform=\"rotate(0, 116.517, 648.989)\" x=\"116.517\" y=\"648.989\">30</text>\n",
       "</g>\n",
       "<g clip-path=\"url(#clip8800)\">\n",
       "<text style=\"fill:#000000; fill-opacity:1; font-family:Arial,Helvetica Neue,Helvetica,sans-serif; font-size:48px; text-anchor:end;\" transform=\"rotate(0, 116.517, 377.247)\" x=\"116.517\" y=\"377.247\">40</text>\n",
       "</g>\n",
       "<g clip-path=\"url(#clip8800)\">\n",
       "<text style=\"fill:#000000; fill-opacity:1; font-family:Arial,Helvetica Neue,Helvetica,sans-serif; font-size:48px; text-anchor:end;\" transform=\"rotate(0, 116.517, 105.505)\" x=\"116.517\" y=\"105.505\">50</text>\n",
       "</g>\n",
       "<path clip-path=\"url(#clip8802)\" d=\"\n",
       "M262.194 1446.71 L262.194 1446.71 L360.638 1446.71 L360.638 1446.71 L262.194 1446.71 L262.194 1446.71  Z\n",
       "  \" fill=\"#009af9\" fill-rule=\"evenodd\" fill-opacity=\"1\"/>\n",
       "<polyline clip-path=\"url(#clip8802)\" style=\"stroke:#000000; stroke-width:4; stroke-opacity:1; fill:none\" points=\"\n",
       "  262.194,1446.71 262.194,1446.71 360.638,1446.71 262.194,1446.71 \n",
       "  \"/>\n",
       "<path clip-path=\"url(#clip8802)\" d=\"\n",
       "M360.638 1446.71 L360.638 1446.71 L459.082 1446.71 L459.082 1446.71 L360.638 1446.71 L360.638 1446.71  Z\n",
       "  \" fill=\"#009af9\" fill-rule=\"evenodd\" fill-opacity=\"1\"/>\n",
       "<polyline clip-path=\"url(#clip8802)\" style=\"stroke:#000000; stroke-width:4; stroke-opacity:1; fill:none\" points=\"\n",
       "  360.638,1446.71 360.638,1446.71 459.082,1446.71 360.638,1446.71 \n",
       "  \"/>\n",
       "<path clip-path=\"url(#clip8802)\" d=\"\n",
       "M459.082 1446.71 L459.082 1446.71 L557.527 1446.71 L557.527 1446.71 L459.082 1446.71 L459.082 1446.71  Z\n",
       "  \" fill=\"#009af9\" fill-rule=\"evenodd\" fill-opacity=\"1\"/>\n",
       "<polyline clip-path=\"url(#clip8802)\" style=\"stroke:#000000; stroke-width:4; stroke-opacity:1; fill:none\" points=\"\n",
       "  459.082,1446.71 459.082,1446.71 557.527,1446.71 459.082,1446.71 \n",
       "  \"/>\n",
       "<path clip-path=\"url(#clip8802)\" d=\"\n",
       "M557.527 1446.71 L557.527 1446.71 L655.971 1446.71 L655.971 1446.71 L557.527 1446.71 L557.527 1446.71  Z\n",
       "  \" fill=\"#009af9\" fill-rule=\"evenodd\" fill-opacity=\"1\"/>\n",
       "<polyline clip-path=\"url(#clip8802)\" style=\"stroke:#000000; stroke-width:4; stroke-opacity:1; fill:none\" points=\"\n",
       "  557.527,1446.71 557.527,1446.71 655.971,1446.71 557.527,1446.71 \n",
       "  \"/>\n",
       "<path clip-path=\"url(#clip8802)\" d=\"\n",
       "M655.971 1446.71 L655.971 1446.71 L754.415 1446.71 L754.415 1446.71 L655.971 1446.71 L655.971 1446.71  Z\n",
       "  \" fill=\"#009af9\" fill-rule=\"evenodd\" fill-opacity=\"1\"/>\n",
       "<polyline clip-path=\"url(#clip8802)\" style=\"stroke:#000000; stroke-width:4; stroke-opacity:1; fill:none\" points=\"\n",
       "  655.971,1446.71 655.971,1446.71 754.415,1446.71 655.971,1446.71 \n",
       "  \"/>\n",
       "<path clip-path=\"url(#clip8802)\" d=\"\n",
       "M754.415 1446.71 L754.415 1446.71 L852.859 1446.71 L852.859 1446.71 L754.415 1446.71 L754.415 1446.71  Z\n",
       "  \" fill=\"#009af9\" fill-rule=\"evenodd\" fill-opacity=\"1\"/>\n",
       "<polyline clip-path=\"url(#clip8802)\" style=\"stroke:#000000; stroke-width:4; stroke-opacity:1; fill:none\" points=\"\n",
       "  754.415,1446.71 754.415,1446.71 852.859,1446.71 754.415,1446.71 \n",
       "  \"/>\n",
       "<path clip-path=\"url(#clip8802)\" d=\"\n",
       "M852.859 1446.71 L852.859 1446.71 L951.304 1446.71 L951.304 1446.71 L852.859 1446.71 L852.859 1446.71  Z\n",
       "  \" fill=\"#009af9\" fill-rule=\"evenodd\" fill-opacity=\"1\"/>\n",
       "<polyline clip-path=\"url(#clip8802)\" style=\"stroke:#000000; stroke-width:4; stroke-opacity:1; fill:none\" points=\"\n",
       "  852.859,1446.71 852.859,1446.71 951.304,1446.71 852.859,1446.71 \n",
       "  \"/>\n",
       "<path clip-path=\"url(#clip8802)\" d=\"\n",
       "M951.304 1446.71 L951.304 1446.71 L1049.75 1446.71 L1049.75 1446.71 L951.304 1446.71 L951.304 1446.71  Z\n",
       "  \" fill=\"#009af9\" fill-rule=\"evenodd\" fill-opacity=\"1\"/>\n",
       "<polyline clip-path=\"url(#clip8802)\" style=\"stroke:#000000; stroke-width:4; stroke-opacity:1; fill:none\" points=\"\n",
       "  951.304,1446.71 951.304,1446.71 1049.75,1446.71 951.304,1446.71 \n",
       "  \"/>\n",
       "<path clip-path=\"url(#clip8802)\" d=\"\n",
       "M1049.75 1446.71 L1049.75 1446.71 L1148.19 1446.71 L1148.19 1446.71 L1049.75 1446.71 L1049.75 1446.71  Z\n",
       "  \" fill=\"#009af9\" fill-rule=\"evenodd\" fill-opacity=\"1\"/>\n",
       "<polyline clip-path=\"url(#clip8802)\" style=\"stroke:#000000; stroke-width:4; stroke-opacity:1; fill:none\" points=\"\n",
       "  1049.75,1446.71 1049.75,1446.71 1148.19,1446.71 1049.75,1446.71 \n",
       "  \"/>\n",
       "<path clip-path=\"url(#clip8802)\" d=\"\n",
       "M1148.19 1446.71 L1148.19 1446.71 L1246.64 1446.71 L1246.64 1446.71 L1148.19 1446.71 L1148.19 1446.71  Z\n",
       "  \" fill=\"#009af9\" fill-rule=\"evenodd\" fill-opacity=\"1\"/>\n",
       "<polyline clip-path=\"url(#clip8802)\" style=\"stroke:#000000; stroke-width:4; stroke-opacity:1; fill:none\" points=\"\n",
       "  1148.19,1446.71 1148.19,1446.71 1246.64,1446.71 1148.19,1446.71 \n",
       "  \"/>\n",
       "<path clip-path=\"url(#clip8802)\" d=\"\n",
       "M1246.64 1446.71 L1246.64 1446.71 L1345.08 1446.71 L1345.08 1446.71 L1246.64 1446.71 L1246.64 1446.71  Z\n",
       "  \" fill=\"#009af9\" fill-rule=\"evenodd\" fill-opacity=\"1\"/>\n",
       "<polyline clip-path=\"url(#clip8802)\" style=\"stroke:#000000; stroke-width:4; stroke-opacity:1; fill:none\" points=\"\n",
       "  1246.64,1446.71 1246.64,1446.71 1345.08,1446.71 1246.64,1446.71 \n",
       "  \"/>\n",
       "<path clip-path=\"url(#clip8802)\" d=\"\n",
       "M1345.08 1446.71 L1345.08 1446.71 L1443.52 1446.71 L1443.52 1446.71 L1345.08 1446.71 L1345.08 1446.71  Z\n",
       "  \" fill=\"#009af9\" fill-rule=\"evenodd\" fill-opacity=\"1\"/>\n",
       "<polyline clip-path=\"url(#clip8802)\" style=\"stroke:#000000; stroke-width:4; stroke-opacity:1; fill:none\" points=\"\n",
       "  1345.08,1446.71 1345.08,1446.71 1443.52,1446.71 1345.08,1446.71 \n",
       "  \"/>\n",
       "<path clip-path=\"url(#clip8802)\" d=\"\n",
       "M1443.52 1446.71 L1443.52 1446.71 L1541.97 1446.71 L1541.97 1446.71 L1443.52 1446.71 L1443.52 1446.71  Z\n",
       "  \" fill=\"#009af9\" fill-rule=\"evenodd\" fill-opacity=\"1\"/>\n",
       "<polyline clip-path=\"url(#clip8802)\" style=\"stroke:#000000; stroke-width:4; stroke-opacity:1; fill:none\" points=\"\n",
       "  1443.52,1446.71 1443.52,1446.71 1541.97,1446.71 1443.52,1446.71 \n",
       "  \"/>\n",
       "<path clip-path=\"url(#clip8802)\" d=\"\n",
       "M1541.97 88.0053 L1541.97 1446.71 L1640.41 1446.71 L1640.41 88.0053 L1541.97 88.0053 L1541.97 88.0053  Z\n",
       "  \" fill=\"#009af9\" fill-rule=\"evenodd\" fill-opacity=\"1\"/>\n",
       "<polyline clip-path=\"url(#clip8802)\" style=\"stroke:#000000; stroke-width:4; stroke-opacity:1; fill:none\" points=\"\n",
       "  1541.97,88.0053 1541.97,1446.71 1640.41,1446.71 1640.41,88.0053 1541.97,88.0053 \n",
       "  \"/>\n",
       "<path clip-path=\"url(#clip8802)\" d=\"\n",
       "M1640.41 1446.71 L1640.41 1446.71 L1738.86 1446.71 L1738.86 1446.71 L1640.41 1446.71 L1640.41 1446.71  Z\n",
       "  \" fill=\"#009af9\" fill-rule=\"evenodd\" fill-opacity=\"1\"/>\n",
       "<polyline clip-path=\"url(#clip8802)\" style=\"stroke:#000000; stroke-width:4; stroke-opacity:1; fill:none\" points=\"\n",
       "  1640.41,1446.71 1640.41,1446.71 1738.86,1446.71 1640.41,1446.71 \n",
       "  \"/>\n",
       "<path clip-path=\"url(#clip8802)\" d=\"\n",
       "M1738.86 1446.71 L1738.86 1446.71 L1837.3 1446.71 L1837.3 1446.71 L1738.86 1446.71 L1738.86 1446.71  Z\n",
       "  \" fill=\"#009af9\" fill-rule=\"evenodd\" fill-opacity=\"1\"/>\n",
       "<polyline clip-path=\"url(#clip8802)\" style=\"stroke:#000000; stroke-width:4; stroke-opacity:1; fill:none\" points=\"\n",
       "  1738.86,1446.71 1738.86,1446.71 1837.3,1446.71 1738.86,1446.71 \n",
       "  \"/>\n",
       "<path clip-path=\"url(#clip8802)\" d=\"\n",
       "M1837.3 1446.71 L1837.3 1446.71 L1935.75 1446.71 L1935.75 1446.71 L1837.3 1446.71 L1837.3 1446.71  Z\n",
       "  \" fill=\"#009af9\" fill-rule=\"evenodd\" fill-opacity=\"1\"/>\n",
       "<polyline clip-path=\"url(#clip8802)\" style=\"stroke:#000000; stroke-width:4; stroke-opacity:1; fill:none\" points=\"\n",
       "  1837.3,1446.71 1837.3,1446.71 1935.75,1446.71 1837.3,1446.71 \n",
       "  \"/>\n",
       "<path clip-path=\"url(#clip8802)\" d=\"\n",
       "M1935.75 1446.71 L1935.75 1446.71 L2034.19 1446.71 L2034.19 1446.71 L1935.75 1446.71 L1935.75 1446.71  Z\n",
       "  \" fill=\"#009af9\" fill-rule=\"evenodd\" fill-opacity=\"1\"/>\n",
       "<polyline clip-path=\"url(#clip8802)\" style=\"stroke:#000000; stroke-width:4; stroke-opacity:1; fill:none\" points=\"\n",
       "  1935.75,1446.71 1935.75,1446.71 2034.19,1446.71 1935.75,1446.71 \n",
       "  \"/>\n",
       "<path clip-path=\"url(#clip8802)\" d=\"\n",
       "M2034.19 1446.71 L2034.19 1446.71 L2132.63 1446.71 L2132.63 1446.71 L2034.19 1446.71 L2034.19 1446.71  Z\n",
       "  \" fill=\"#009af9\" fill-rule=\"evenodd\" fill-opacity=\"1\"/>\n",
       "<polyline clip-path=\"url(#clip8802)\" style=\"stroke:#000000; stroke-width:4; stroke-opacity:1; fill:none\" points=\"\n",
       "  2034.19,1446.71 2034.19,1446.71 2132.63,1446.71 2034.19,1446.71 \n",
       "  \"/>\n",
       "<path clip-path=\"url(#clip8802)\" d=\"\n",
       "M2132.63 1446.71 L2132.63 1446.71 L2231.08 1446.71 L2231.08 1446.71 L2132.63 1446.71 L2132.63 1446.71  Z\n",
       "  \" fill=\"#009af9\" fill-rule=\"evenodd\" fill-opacity=\"1\"/>\n",
       "<polyline clip-path=\"url(#clip8802)\" style=\"stroke:#000000; stroke-width:4; stroke-opacity:1; fill:none\" points=\"\n",
       "  2132.63,1446.71 2132.63,1446.71 2231.08,1446.71 2132.63,1446.71 \n",
       "  \"/>\n",
       "<path clip-path=\"url(#clip8800)\" d=\"\n",
       "M1989.93 251.724 L2280.76 251.724 L2280.76 130.764 L1989.93 130.764  Z\n",
       "  \" fill=\"#ffffff\" fill-rule=\"evenodd\" fill-opacity=\"1\"/>\n",
       "<polyline clip-path=\"url(#clip8800)\" style=\"stroke:#000000; stroke-width:4; stroke-opacity:1; fill:none\" points=\"\n",
       "  1989.93,251.724 2280.76,251.724 2280.76,130.764 1989.93,130.764 1989.93,251.724 \n",
       "  \"/>\n",
       "<path clip-path=\"url(#clip8800)\" d=\"\n",
       "M2013.93 215.436 L2157.93 215.436 L2157.93 167.052 L2013.93 167.052 L2013.93 215.436  Z\n",
       "  \" fill=\"#009af9\" fill-rule=\"evenodd\" fill-opacity=\"1\"/>\n",
       "<polyline clip-path=\"url(#clip8800)\" style=\"stroke:#000000; stroke-width:4; stroke-opacity:1; fill:none\" points=\"\n",
       "  2013.93,215.436 2157.93,215.436 2157.93,167.052 2013.93,167.052 2013.93,215.436 \n",
       "  \"/>\n",
       "<g clip-path=\"url(#clip8800)\">\n",
       "<text style=\"fill:#000000; fill-opacity:1; font-family:Arial,Helvetica Neue,Helvetica,sans-serif; font-size:48px; text-anchor:start;\" transform=\"rotate(0, 2181.93, 208.744)\" x=\"2181.93\" y=\"208.744\">y1</text>\n",
       "</g>\n",
       "</svg>\n"
      ]
     },
     "execution_count": 65,
     "metadata": {},
     "output_type": "execute_result"
    }
   ],
   "source": [
    "runs = 50\n",
    "final_objective_values = zeros(runs)\n",
    "max_iter = 100\n",
    "\n",
    "for i = 1:runs\n",
    "    w, obj_vec = SLS_prox_grad(X,y; max_iter = 100, alpha = 0.0001, w = randn(d))\n",
    "    final_objective_values[i] = round(obj_vec[max_iter]; digits=4)\n",
    "end\n",
    "#final_objective_values[runs] = 3.2\n",
    "print(final_objective_values)\n",
    "print(w)\n",
    "histogram(final_objective_values, nbins = 2.5:0.05:3.5) # hack to print historgram. Otherwise min and max values are too close, throwing error"
   ]
  },
  {
   "cell_type": "markdown",
   "metadata": {},
   "source": [
    "<b> As can been seen above, SLS converges to a value of about 3.1549 (exp(1.10572)) after starting from multiple points for w. </b>\n",
    "<br> \n",
    "<br> w_predicted: [-4.998, 17.002, 4.998, 0.0, 0.0, -6.998, 4.996, 0.0, 0.0, 0.0994]\n",
    "<br> w_true: [-5, 17, 5, 0, 0, -7, 5, 0, 0, 0.1]\n",
    "<br> <b>Also predicted w is quite close to w_true. predicted w is 0 for corrext set of positions in w_true as well. </b>\n",
    "\n",
    "<br> <b> I also onserved that solution is quite sensitive to stepsize (or alpha), and alpha that eventually works is quite smaller than alpha_max (which gauranttes convergence) </b>"
   ]
  },
  {
   "cell_type": "markdown",
   "metadata": {},
   "source": [
    "## Answer 1(f)"
   ]
  },
  {
   "cell_type": "markdown",
   "metadata": {},
   "source": [
    "f) Run LASSO regression using the proximal gradient method on this problem. You may use the code from the demo in class."
   ]
  },
  {
   "cell_type": "code",
   "execution_count": 66,
   "metadata": {},
   "outputs": [
    {
     "data": {
      "text/plain": [
       "prox_l1 (generic function with 2 methods)"
      ]
     },
     "execution_count": 66,
     "metadata": {},
     "output_type": "execute_result"
    }
   ],
   "source": [
    "function prox_l1(x::Number, alpha=1)\n",
    "    if x > alpha\n",
    "        return x-alpha\n",
    "    elseif x < -alpha\n",
    "        return x + alpha\n",
    "    else\n",
    "        return 0\n",
    "    end\n",
    "end"
   ]
  },
  {
   "cell_type": "code",
   "execution_count": 67,
   "metadata": {},
   "outputs": [
    {
     "data": {
      "text/plain": [
       "proxgrad_quad_l1 (generic function with 1 method)"
      ]
     },
     "execution_count": 67,
     "metadata": {},
     "output_type": "execute_result"
    }
   ],
   "source": [
    "# proximal gradient method for quadratic loss and l1 regularizer\n",
    "function proxgrad_quad_l1(X, y; maxiters = 10, stepsize = 1., λ = 1., w = zeros(size(X,2)))\n",
    "    objval = Float64[]\n",
    "    for i=1:maxiters\n",
    "        # gradient step\n",
    "        g = 2X'*(X*w-y) # compute quadratic gradient\n",
    "        z = w - stepsize*g\n",
    "        # prox step\n",
    "        myprox(z) = prox_l1(z, stepsize*λ)\n",
    "        w = myprox.(z)\n",
    "        # record objective value\n",
    "        push!(objval, norm(X*w-y)^2 + norm(w,1))\n",
    "    end\n",
    "    return w, objval\n",
    "end"
   ]
  },
  {
   "cell_type": "code",
   "execution_count": 68,
   "metadata": {},
   "outputs": [
    {
     "data": {
      "text/plain": [
       "49.196651507675476"
      ]
     },
     "execution_count": 68,
     "metadata": {},
     "output_type": "execute_result"
    }
   ],
   "source": [
    "w, obj_vec = proxgrad_quad_l1(X,y, maxiters = 100, stepsize = 0.0001, λ = 1., w = zeros(d))\n",
    "obj_vec[100]"
   ]
  },
  {
   "cell_type": "markdown",
   "metadata": {},
   "source": [
    "## Answer 1(g)"
   ]
  },
  {
   "cell_type": "markdown",
   "metadata": {},
   "source": [
    "g) Does LASSO converge to the same place starting from different places?"
   ]
  },
  {
   "cell_type": "code",
   "execution_count": 71,
   "metadata": {},
   "outputs": [
    {
     "name": "stdout",
     "output_type": "stream",
     "text": [
      "Real[-4.996910771408802, 16.998315479734853, 5.000932954927099, 0, 0.0053371728023962044, -7.002846518677964, 4.994696989313099, -0.0029665860631442244, 0.0011541741765272863, 0.10162298008587976]"
     ]
    },
    {
     "data": {
      "image/svg+xml": [
       "<?xml version=\"1.0\" encoding=\"utf-8\"?>\n",
       "<svg xmlns=\"http://www.w3.org/2000/svg\" xmlns:xlink=\"http://www.w3.org/1999/xlink\" width=\"600\" height=\"400\" viewBox=\"0 0 2400 1600\">\n",
       "<defs>\n",
       "  <clipPath id=\"clip0000\">\n",
       "    <rect x=\"0\" y=\"0\" width=\"2400\" height=\"1600\"/>\n",
       "  </clipPath>\n",
       "</defs>\n",
       "<path clip-path=\"url(#clip0000)\" d=\"\n",
       "M0 1600 L2400 1600 L2400 0 L0 0  Z\n",
       "  \" fill=\"#ffffff\" fill-rule=\"evenodd\" fill-opacity=\"1\"/>\n",
       "<defs>\n",
       "  <clipPath id=\"clip0001\">\n",
       "    <rect x=\"480\" y=\"0\" width=\"1681\" height=\"1600\"/>\n",
       "  </clipPath>\n",
       "</defs>\n",
       "<path clip-path=\"url(#clip0000)\" d=\"\n",
       "M140.517 1487.47 L2352.76 1487.47 L2352.76 47.2441 L140.517 47.2441  Z\n",
       "  \" fill=\"#ffffff\" fill-rule=\"evenodd\" fill-opacity=\"1\"/>\n",
       "<defs>\n",
       "  <clipPath id=\"clip0002\">\n",
       "    <rect x=\"140\" y=\"47\" width=\"2213\" height=\"1441\"/>\n",
       "  </clipPath>\n",
       "</defs>\n",
       "<polyline clip-path=\"url(#clip0002)\" style=\"stroke:#000000; stroke-width:2; stroke-opacity:0.1; fill:none\" points=\"\n",
       "  262.194,1487.47 262.194,47.2441 \n",
       "  \"/>\n",
       "<polyline clip-path=\"url(#clip0002)\" style=\"stroke:#000000; stroke-width:2; stroke-opacity:0.1; fill:none\" points=\"\n",
       "  655.971,1487.47 655.971,47.2441 \n",
       "  \"/>\n",
       "<polyline clip-path=\"url(#clip0002)\" style=\"stroke:#000000; stroke-width:2; stroke-opacity:0.1; fill:none\" points=\"\n",
       "  1049.75,1487.47 1049.75,47.2441 \n",
       "  \"/>\n",
       "<polyline clip-path=\"url(#clip0002)\" style=\"stroke:#000000; stroke-width:2; stroke-opacity:0.1; fill:none\" points=\"\n",
       "  1443.52,1487.47 1443.52,47.2441 \n",
       "  \"/>\n",
       "<polyline clip-path=\"url(#clip0002)\" style=\"stroke:#000000; stroke-width:2; stroke-opacity:0.1; fill:none\" points=\"\n",
       "  1837.3,1487.47 1837.3,47.2441 \n",
       "  \"/>\n",
       "<polyline clip-path=\"url(#clip0002)\" style=\"stroke:#000000; stroke-width:2; stroke-opacity:0.1; fill:none\" points=\"\n",
       "  2231.08,1487.47 2231.08,47.2441 \n",
       "  \"/>\n",
       "<polyline clip-path=\"url(#clip0002)\" style=\"stroke:#000000; stroke-width:2; stroke-opacity:0.1; fill:none\" points=\"\n",
       "  140.517,1446.71 2352.76,1446.71 \n",
       "  \"/>\n",
       "<polyline clip-path=\"url(#clip0002)\" style=\"stroke:#000000; stroke-width:2; stroke-opacity:0.1; fill:none\" points=\"\n",
       "  140.517,1174.97 2352.76,1174.97 \n",
       "  \"/>\n",
       "<polyline clip-path=\"url(#clip0002)\" style=\"stroke:#000000; stroke-width:2; stroke-opacity:0.1; fill:none\" points=\"\n",
       "  140.517,903.23 2352.76,903.23 \n",
       "  \"/>\n",
       "<polyline clip-path=\"url(#clip0002)\" style=\"stroke:#000000; stroke-width:2; stroke-opacity:0.1; fill:none\" points=\"\n",
       "  140.517,631.489 2352.76,631.489 \n",
       "  \"/>\n",
       "<polyline clip-path=\"url(#clip0002)\" style=\"stroke:#000000; stroke-width:2; stroke-opacity:0.1; fill:none\" points=\"\n",
       "  140.517,359.747 2352.76,359.747 \n",
       "  \"/>\n",
       "<polyline clip-path=\"url(#clip0002)\" style=\"stroke:#000000; stroke-width:2; stroke-opacity:0.1; fill:none\" points=\"\n",
       "  140.517,88.0053 2352.76,88.0053 \n",
       "  \"/>\n",
       "<polyline clip-path=\"url(#clip0000)\" style=\"stroke:#000000; stroke-width:4; stroke-opacity:1; fill:none\" points=\"\n",
       "  140.517,1487.47 2352.76,1487.47 \n",
       "  \"/>\n",
       "<polyline clip-path=\"url(#clip0000)\" style=\"stroke:#000000; stroke-width:4; stroke-opacity:1; fill:none\" points=\"\n",
       "  140.517,1487.47 140.517,47.2441 \n",
       "  \"/>\n",
       "<polyline clip-path=\"url(#clip0000)\" style=\"stroke:#000000; stroke-width:4; stroke-opacity:1; fill:none\" points=\"\n",
       "  262.194,1487.47 262.194,1465.87 \n",
       "  \"/>\n",
       "<polyline clip-path=\"url(#clip0000)\" style=\"stroke:#000000; stroke-width:4; stroke-opacity:1; fill:none\" points=\"\n",
       "  655.971,1487.47 655.971,1465.87 \n",
       "  \"/>\n",
       "<polyline clip-path=\"url(#clip0000)\" style=\"stroke:#000000; stroke-width:4; stroke-opacity:1; fill:none\" points=\"\n",
       "  1049.75,1487.47 1049.75,1465.87 \n",
       "  \"/>\n",
       "<polyline clip-path=\"url(#clip0000)\" style=\"stroke:#000000; stroke-width:4; stroke-opacity:1; fill:none\" points=\"\n",
       "  1443.52,1487.47 1443.52,1465.87 \n",
       "  \"/>\n",
       "<polyline clip-path=\"url(#clip0000)\" style=\"stroke:#000000; stroke-width:4; stroke-opacity:1; fill:none\" points=\"\n",
       "  1837.3,1487.47 1837.3,1465.87 \n",
       "  \"/>\n",
       "<polyline clip-path=\"url(#clip0000)\" style=\"stroke:#000000; stroke-width:4; stroke-opacity:1; fill:none\" points=\"\n",
       "  2231.08,1487.47 2231.08,1465.87 \n",
       "  \"/>\n",
       "<polyline clip-path=\"url(#clip0000)\" style=\"stroke:#000000; stroke-width:4; stroke-opacity:1; fill:none\" points=\"\n",
       "  140.517,1446.71 173.7,1446.71 \n",
       "  \"/>\n",
       "<polyline clip-path=\"url(#clip0000)\" style=\"stroke:#000000; stroke-width:4; stroke-opacity:1; fill:none\" points=\"\n",
       "  140.517,1174.97 173.7,1174.97 \n",
       "  \"/>\n",
       "<polyline clip-path=\"url(#clip0000)\" style=\"stroke:#000000; stroke-width:4; stroke-opacity:1; fill:none\" points=\"\n",
       "  140.517,903.23 173.7,903.23 \n",
       "  \"/>\n",
       "<polyline clip-path=\"url(#clip0000)\" style=\"stroke:#000000; stroke-width:4; stroke-opacity:1; fill:none\" points=\"\n",
       "  140.517,631.489 173.7,631.489 \n",
       "  \"/>\n",
       "<polyline clip-path=\"url(#clip0000)\" style=\"stroke:#000000; stroke-width:4; stroke-opacity:1; fill:none\" points=\"\n",
       "  140.517,359.747 173.7,359.747 \n",
       "  \"/>\n",
       "<polyline clip-path=\"url(#clip0000)\" style=\"stroke:#000000; stroke-width:4; stroke-opacity:1; fill:none\" points=\"\n",
       "  140.517,88.0053 173.7,88.0053 \n",
       "  \"/>\n",
       "<g clip-path=\"url(#clip0000)\">\n",
       "<text style=\"fill:#000000; fill-opacity:1; font-family:Arial,Helvetica Neue,Helvetica,sans-serif; font-size:48px; text-anchor:middle;\" transform=\"rotate(0, 262.194, 1541.47)\" x=\"262.194\" y=\"1541.47\">45</text>\n",
       "</g>\n",
       "<g clip-path=\"url(#clip0000)\">\n",
       "<text style=\"fill:#000000; fill-opacity:1; font-family:Arial,Helvetica Neue,Helvetica,sans-serif; font-size:48px; text-anchor:middle;\" transform=\"rotate(0, 655.971, 1541.47)\" x=\"655.971\" y=\"1541.47\">46</text>\n",
       "</g>\n",
       "<g clip-path=\"url(#clip0000)\">\n",
       "<text style=\"fill:#000000; fill-opacity:1; font-family:Arial,Helvetica Neue,Helvetica,sans-serif; font-size:48px; text-anchor:middle;\" transform=\"rotate(0, 1049.75, 1541.47)\" x=\"1049.75\" y=\"1541.47\">47</text>\n",
       "</g>\n",
       "<g clip-path=\"url(#clip0000)\">\n",
       "<text style=\"fill:#000000; fill-opacity:1; font-family:Arial,Helvetica Neue,Helvetica,sans-serif; font-size:48px; text-anchor:middle;\" transform=\"rotate(0, 1443.52, 1541.47)\" x=\"1443.52\" y=\"1541.47\">48</text>\n",
       "</g>\n",
       "<g clip-path=\"url(#clip0000)\">\n",
       "<text style=\"fill:#000000; fill-opacity:1; font-family:Arial,Helvetica Neue,Helvetica,sans-serif; font-size:48px; text-anchor:middle;\" transform=\"rotate(0, 1837.3, 1541.47)\" x=\"1837.3\" y=\"1541.47\">49</text>\n",
       "</g>\n",
       "<g clip-path=\"url(#clip0000)\">\n",
       "<text style=\"fill:#000000; fill-opacity:1; font-family:Arial,Helvetica Neue,Helvetica,sans-serif; font-size:48px; text-anchor:middle;\" transform=\"rotate(0, 2231.08, 1541.47)\" x=\"2231.08\" y=\"1541.47\">50</text>\n",
       "</g>\n",
       "<g clip-path=\"url(#clip0000)\">\n",
       "<text style=\"fill:#000000; fill-opacity:1; font-family:Arial,Helvetica Neue,Helvetica,sans-serif; font-size:48px; text-anchor:end;\" transform=\"rotate(0, 116.517, 1464.21)\" x=\"116.517\" y=\"1464.21\">0</text>\n",
       "</g>\n",
       "<g clip-path=\"url(#clip0000)\">\n",
       "<text style=\"fill:#000000; fill-opacity:1; font-family:Arial,Helvetica Neue,Helvetica,sans-serif; font-size:48px; text-anchor:end;\" transform=\"rotate(0, 116.517, 1192.47)\" x=\"116.517\" y=\"1192.47\">10</text>\n",
       "</g>\n",
       "<g clip-path=\"url(#clip0000)\">\n",
       "<text style=\"fill:#000000; fill-opacity:1; font-family:Arial,Helvetica Neue,Helvetica,sans-serif; font-size:48px; text-anchor:end;\" transform=\"rotate(0, 116.517, 920.73)\" x=\"116.517\" y=\"920.73\">20</text>\n",
       "</g>\n",
       "<g clip-path=\"url(#clip0000)\">\n",
       "<text style=\"fill:#000000; fill-opacity:1; font-family:Arial,Helvetica Neue,Helvetica,sans-serif; font-size:48px; text-anchor:end;\" transform=\"rotate(0, 116.517, 648.989)\" x=\"116.517\" y=\"648.989\">30</text>\n",
       "</g>\n",
       "<g clip-path=\"url(#clip0000)\">\n",
       "<text style=\"fill:#000000; fill-opacity:1; font-family:Arial,Helvetica Neue,Helvetica,sans-serif; font-size:48px; text-anchor:end;\" transform=\"rotate(0, 116.517, 377.247)\" x=\"116.517\" y=\"377.247\">40</text>\n",
       "</g>\n",
       "<g clip-path=\"url(#clip0000)\">\n",
       "<text style=\"fill:#000000; fill-opacity:1; font-family:Arial,Helvetica Neue,Helvetica,sans-serif; font-size:48px; text-anchor:end;\" transform=\"rotate(0, 116.517, 105.505)\" x=\"116.517\" y=\"105.505\">50</text>\n",
       "</g>\n",
       "<path clip-path=\"url(#clip0002)\" d=\"\n",
       "M262.194 1446.71 L262.194 1446.71 L459.082 1446.71 L459.082 1446.71 L262.194 1446.71 L262.194 1446.71  Z\n",
       "  \" fill=\"#009af9\" fill-rule=\"evenodd\" fill-opacity=\"1\"/>\n",
       "<polyline clip-path=\"url(#clip0002)\" style=\"stroke:#000000; stroke-width:4; stroke-opacity:1; fill:none\" points=\"\n",
       "  262.194,1446.71 262.194,1446.71 459.082,1446.71 262.194,1446.71 \n",
       "  \"/>\n",
       "<path clip-path=\"url(#clip0002)\" d=\"\n",
       "M459.082 1446.71 L459.082 1446.71 L655.971 1446.71 L655.971 1446.71 L459.082 1446.71 L459.082 1446.71  Z\n",
       "  \" fill=\"#009af9\" fill-rule=\"evenodd\" fill-opacity=\"1\"/>\n",
       "<polyline clip-path=\"url(#clip0002)\" style=\"stroke:#000000; stroke-width:4; stroke-opacity:1; fill:none\" points=\"\n",
       "  459.082,1446.71 459.082,1446.71 655.971,1446.71 459.082,1446.71 \n",
       "  \"/>\n",
       "<path clip-path=\"url(#clip0002)\" d=\"\n",
       "M655.971 1446.71 L655.971 1446.71 L852.859 1446.71 L852.859 1446.71 L655.971 1446.71 L655.971 1446.71  Z\n",
       "  \" fill=\"#009af9\" fill-rule=\"evenodd\" fill-opacity=\"1\"/>\n",
       "<polyline clip-path=\"url(#clip0002)\" style=\"stroke:#000000; stroke-width:4; stroke-opacity:1; fill:none\" points=\"\n",
       "  655.971,1446.71 655.971,1446.71 852.859,1446.71 655.971,1446.71 \n",
       "  \"/>\n",
       "<path clip-path=\"url(#clip0002)\" d=\"\n",
       "M852.859 1446.71 L852.859 1446.71 L1049.75 1446.71 L1049.75 1446.71 L852.859 1446.71 L852.859 1446.71  Z\n",
       "  \" fill=\"#009af9\" fill-rule=\"evenodd\" fill-opacity=\"1\"/>\n",
       "<polyline clip-path=\"url(#clip0002)\" style=\"stroke:#000000; stroke-width:4; stroke-opacity:1; fill:none\" points=\"\n",
       "  852.859,1446.71 852.859,1446.71 1049.75,1446.71 852.859,1446.71 \n",
       "  \"/>\n",
       "<path clip-path=\"url(#clip0002)\" d=\"\n",
       "M1049.75 1446.71 L1049.75 1446.71 L1246.64 1446.71 L1246.64 1446.71 L1049.75 1446.71 L1049.75 1446.71  Z\n",
       "  \" fill=\"#009af9\" fill-rule=\"evenodd\" fill-opacity=\"1\"/>\n",
       "<polyline clip-path=\"url(#clip0002)\" style=\"stroke:#000000; stroke-width:4; stroke-opacity:1; fill:none\" points=\"\n",
       "  1049.75,1446.71 1049.75,1446.71 1246.64,1446.71 1049.75,1446.71 \n",
       "  \"/>\n",
       "<path clip-path=\"url(#clip0002)\" d=\"\n",
       "M1246.64 1446.71 L1246.64 1446.71 L1443.52 1446.71 L1443.52 1446.71 L1246.64 1446.71 L1246.64 1446.71  Z\n",
       "  \" fill=\"#009af9\" fill-rule=\"evenodd\" fill-opacity=\"1\"/>\n",
       "<polyline clip-path=\"url(#clip0002)\" style=\"stroke:#000000; stroke-width:4; stroke-opacity:1; fill:none\" points=\"\n",
       "  1246.64,1446.71 1246.64,1446.71 1443.52,1446.71 1246.64,1446.71 \n",
       "  \"/>\n",
       "<path clip-path=\"url(#clip0002)\" d=\"\n",
       "M1443.52 1446.71 L1443.52 1446.71 L1640.41 1446.71 L1640.41 1446.71 L1443.52 1446.71 L1443.52 1446.71  Z\n",
       "  \" fill=\"#009af9\" fill-rule=\"evenodd\" fill-opacity=\"1\"/>\n",
       "<polyline clip-path=\"url(#clip0002)\" style=\"stroke:#000000; stroke-width:4; stroke-opacity:1; fill:none\" points=\"\n",
       "  1443.52,1446.71 1443.52,1446.71 1640.41,1446.71 1443.52,1446.71 \n",
       "  \"/>\n",
       "<path clip-path=\"url(#clip0002)\" d=\"\n",
       "M1640.41 1446.71 L1640.41 1446.71 L1837.3 1446.71 L1837.3 1446.71 L1640.41 1446.71 L1640.41 1446.71  Z\n",
       "  \" fill=\"#009af9\" fill-rule=\"evenodd\" fill-opacity=\"1\"/>\n",
       "<polyline clip-path=\"url(#clip0002)\" style=\"stroke:#000000; stroke-width:4; stroke-opacity:1; fill:none\" points=\"\n",
       "  1640.41,1446.71 1640.41,1446.71 1837.3,1446.71 1640.41,1446.71 \n",
       "  \"/>\n",
       "<path clip-path=\"url(#clip0002)\" d=\"\n",
       "M1837.3 88.0053 L1837.3 1446.71 L2034.19 1446.71 L2034.19 88.0053 L1837.3 88.0053 L1837.3 88.0053  Z\n",
       "  \" fill=\"#009af9\" fill-rule=\"evenodd\" fill-opacity=\"1\"/>\n",
       "<polyline clip-path=\"url(#clip0002)\" style=\"stroke:#000000; stroke-width:4; stroke-opacity:1; fill:none\" points=\"\n",
       "  1837.3,88.0053 1837.3,1446.71 2034.19,1446.71 2034.19,88.0053 1837.3,88.0053 \n",
       "  \"/>\n",
       "<path clip-path=\"url(#clip0002)\" d=\"\n",
       "M2034.19 1446.71 L2034.19 1446.71 L2231.08 1446.71 L2231.08 1446.71 L2034.19 1446.71 L2034.19 1446.71  Z\n",
       "  \" fill=\"#009af9\" fill-rule=\"evenodd\" fill-opacity=\"1\"/>\n",
       "<polyline clip-path=\"url(#clip0002)\" style=\"stroke:#000000; stroke-width:4; stroke-opacity:1; fill:none\" points=\"\n",
       "  2034.19,1446.71 2034.19,1446.71 2231.08,1446.71 2034.19,1446.71 \n",
       "  \"/>\n",
       "<path clip-path=\"url(#clip0000)\" d=\"\n",
       "M1989.93 251.724 L2280.76 251.724 L2280.76 130.764 L1989.93 130.764  Z\n",
       "  \" fill=\"#ffffff\" fill-rule=\"evenodd\" fill-opacity=\"1\"/>\n",
       "<polyline clip-path=\"url(#clip0000)\" style=\"stroke:#000000; stroke-width:4; stroke-opacity:1; fill:none\" points=\"\n",
       "  1989.93,251.724 2280.76,251.724 2280.76,130.764 1989.93,130.764 1989.93,251.724 \n",
       "  \"/>\n",
       "<path clip-path=\"url(#clip0000)\" d=\"\n",
       "M2013.93 215.436 L2157.93 215.436 L2157.93 167.052 L2013.93 167.052 L2013.93 215.436  Z\n",
       "  \" fill=\"#009af9\" fill-rule=\"evenodd\" fill-opacity=\"1\"/>\n",
       "<polyline clip-path=\"url(#clip0000)\" style=\"stroke:#000000; stroke-width:4; stroke-opacity:1; fill:none\" points=\"\n",
       "  2013.93,215.436 2157.93,215.436 2157.93,167.052 2013.93,167.052 2013.93,215.436 \n",
       "  \"/>\n",
       "<g clip-path=\"url(#clip0000)\">\n",
       "<text style=\"fill:#000000; fill-opacity:1; font-family:Arial,Helvetica Neue,Helvetica,sans-serif; font-size:48px; text-anchor:start;\" transform=\"rotate(0, 2181.93, 208.744)\" x=\"2181.93\" y=\"208.744\">y1</text>\n",
       "</g>\n",
       "</svg>\n"
      ]
     },
     "execution_count": 71,
     "metadata": {},
     "output_type": "execute_result"
    }
   ],
   "source": [
    "runs = 50\n",
    "final_objective_values_lasso = zeros(runs)\n",
    "max_iter = 100\n",
    "\n",
    "for i = 1:runs\n",
    "    w, obj_vec = proxgrad_quad_l1(X,y, maxiters = 100, stepsize = 0.0001, λ = 1, w = randn(d))\n",
    "    final_objective_values[i] = (obj_vec[max_iter])\n",
    "end\n",
    "#print(final_objective_values)\n",
    "print(w)\n",
    "histogram(final_objective_values, nbins = 45:0.5:50)\n"
   ]
  },
  {
   "cell_type": "markdown",
   "metadata": {},
   "source": [
    "<br> <b> Yes, LASSO also converges to same point after starting from different values of w. </b>"
   ]
  },
  {
   "cell_type": "markdown",
   "metadata": {},
   "source": [
    "## Answer 1(h)"
   ]
  },
  {
   "cell_type": "markdown",
   "metadata": {
    "collapsed": true
   },
   "source": [
    "h) Compare the SLS solution to the LASSO solution."
   ]
  },
  {
   "cell_type": "markdown",
   "metadata": {
    "collapsed": true
   },
   "source": [
    "<br> <b>1. SLS solution (3.1089) achieves smaller objective value, as compare to LASSO solution (48.75) </b>\n",
    "<br>\n",
    "<br> <b> 2. w_SLS is more sparse as compared to w_LASSO - which is bound to happen as we \"enforced\" sparsity.</b> \n",
    "<br> w_SLS = [-5.001, 16.999, 5.000, 0.0, 0.0, -6.999, 5.006, 0.0, 0.0, 0.098]\n",
    "<br> w_LASSO = [-5.000, 16.998, 4.999, 0.001, 0.001, -6.998, 5.005, 0.002, 0.0001, 0.097]\n",
    "<br>\n",
    "<br> <b> 3. SLS is more reliable as values corresponding to 0s in LASSO are very small (As compared to other values, which indicates they are more likely to be 0. </b>\n"
   ]
  },
  {
   "cell_type": "markdown",
   "metadata": {},
   "source": [
    "# Question 2"
   ]
  },
  {
   "cell_type": "markdown",
   "metadata": {},
   "source": [
    "## Answer 2(a)"
   ]
  },
  {
   "cell_type": "markdown",
   "metadata": {},
   "source": [
    "<br> Objective: Min $(\\left \\| Xw-y \\right \\|^2 + 1_k(w)) $\n",
    "<br> \n",
    "<br> l(w) = $(\\left \\| Xw-y \\right \\|^2) $ and r(w) = $1_k(w)$ which is discussed in part a and b. \n",
    "<br> \n",
    "<br> note that: $\\frac{\\mathrm{d} l}{\\mathrm{d} w}$ at $x_i$ =  $\\frac{\\mathrm{d} (\\left \\| Xw-y \\right \\|^2)}{\\mathrm{d} w}$  = $2X_i^t(X_iw-y_i)$\n",
    "<br> and $ prox_{1_{k}}(w)= 0$ if nnz(w) <=k or $\\prod_{1_k}(w)$ otherwise, projection as discussed in part a. \n",
    "<br> \n",
    "<br> <b>Algorithm:</b> \n",
    "<br> Initialize: w $\\in R^d$ (often w = 0) \n",
    "<br> for t = 1,2,3,....Maxiters\n",
    "<br> \n",
    "<br> (uniformly) randomly select a point $x_i$ \n",
    "<br> compute, gradient, g = $\\frac{\\mathrm{d} l}{\\mathrm{d} w}$ at $x_i$\n",
    "<br> update w $\\leftarrow prox_{1_{k}}$(w - $\\alpha ^t$g)"
   ]
  },
  {
   "cell_type": "markdown",
   "metadata": {},
   "source": [
    "## Answer 2(b)"
   ]
  },
  {
   "cell_type": "markdown",
   "metadata": {},
   "source": [
    "\n",
    "b) Code the stochastic proximal gradient method for the Sparse Least Squares problem."
   ]
  },
  {
   "cell_type": "code",
   "execution_count": 72,
   "metadata": {},
   "outputs": [],
   "source": [
    "using Random"
   ]
  },
  {
   "cell_type": "code",
   "execution_count": 73,
   "metadata": {},
   "outputs": [
    {
     "data": {
      "text/plain": [
       "grad_stoc (generic function with 1 method)"
      ]
     },
     "execution_count": 73,
     "metadata": {},
     "output_type": "execute_result"
    }
   ],
   "source": [
    "function grad_stoc(X, y, w)\n",
    "    return(2X*(X'*w-y))\n",
    "end "
   ]
  },
  {
   "cell_type": "code",
   "execution_count": 74,
   "metadata": {},
   "outputs": [
    {
     "name": "stdout",
     "output_type": "stream",
     "text": [
      "Array{Float64,1}Array{Real,1}Float64Float64"
     ]
    }
   ],
   "source": [
    "a = X[1,:]\n",
    "b =  y[1]\n",
    "#print(a)\n",
    "#print(w)\n",
    "print(typeof(a))\n",
    "print(typeof(w))\n",
    "print(typeof(b))\n",
    "print(typeof(a'*w))\n",
    "#2(a'*w - b)a\n",
    "#2a'*(a*w-b)"
   ]
  },
  {
   "cell_type": "code",
   "execution_count": 75,
   "metadata": {},
   "outputs": [
    {
     "data": {
      "text/plain": [
       "10-element Array{Float64,1}:\n",
       " -0.03425586306891464 \n",
       " -0.015439419902241925\n",
       " -0.01274734630375823 \n",
       " -0.023496414761338156\n",
       "  0.015562296060587628\n",
       "  0.010772882004324531\n",
       "  0.005135945940294956\n",
       " -0.04915117123251581 \n",
       " -0.013386787155473022\n",
       " -0.01295833831610724 "
      ]
     },
     "execution_count": 75,
     "metadata": {},
     "output_type": "execute_result"
    }
   ],
   "source": [
    "z = grad_stoc(a, b, w)"
   ]
  },
  {
   "cell_type": "code",
   "execution_count": 76,
   "metadata": {},
   "outputs": [
    {
     "data": {
      "text/plain": [
       "SLS_stoc_prox_grad (generic function with 1 method)"
      ]
     },
     "execution_count": 76,
     "metadata": {},
     "output_type": "execute_result"
    }
   ],
   "source": [
    "function SLS_stoc_prox_grad(X,y; max_iter = 1000, alpha = alpha_max, w = zeros(d))\n",
    "\n",
    "    obj_vec = zeros(max_iter)\n",
    "    for i = 1:max_iter\n",
    "        j = min(1000,convert(Int64, round(rand()*n))+1)\n",
    "        #print(j, \",\")\n",
    "        g = grad_stoc(X[j,:], y[j], w)\n",
    "        z = w-(alpha*g)\n",
    "        w = prox_1_k(z,k)\n",
    "        obj_vec[i] = (objective(X, y, w, k))\n",
    "    end\n",
    "    \n",
    "    return(w,obj_vec)\n",
    "end"
   ]
  },
  {
   "cell_type": "markdown",
   "metadata": {},
   "source": [
    "## Answer 2(c)"
   ]
  },
  {
   "cell_type": "markdown",
   "metadata": {},
   "source": [
    "c) Using the same data as in problem 2, plot the objective value as a function of the number of iterations."
   ]
  },
  {
   "cell_type": "code",
   "execution_count": 77,
   "metadata": {},
   "outputs": [
    {
     "data": {
      "image/svg+xml": [
       "<?xml version=\"1.0\" encoding=\"utf-8\"?>\n",
       "<svg xmlns=\"http://www.w3.org/2000/svg\" xmlns:xlink=\"http://www.w3.org/1999/xlink\" width=\"600\" height=\"400\" viewBox=\"0 0 2400 1600\">\n",
       "<defs>\n",
       "  <clipPath id=\"clip0400\">\n",
       "    <rect x=\"0\" y=\"0\" width=\"2400\" height=\"1600\"/>\n",
       "  </clipPath>\n",
       "</defs>\n",
       "<path clip-path=\"url(#clip0400)\" d=\"\n",
       "M0 1600 L2400 1600 L2400 0 L0 0  Z\n",
       "  \" fill=\"#ffffff\" fill-rule=\"evenodd\" fill-opacity=\"1\"/>\n",
       "<defs>\n",
       "  <clipPath id=\"clip0401\">\n",
       "    <rect x=\"480\" y=\"0\" width=\"1681\" height=\"1600\"/>\n",
       "  </clipPath>\n",
       "</defs>\n",
       "<path clip-path=\"url(#clip0400)\" d=\"\n",
       "M167.279 1487.47 L2352.76 1487.47 L2352.76 47.2441 L167.279 47.2441  Z\n",
       "  \" fill=\"#ffffff\" fill-rule=\"evenodd\" fill-opacity=\"1\"/>\n",
       "<defs>\n",
       "  <clipPath id=\"clip0402\">\n",
       "    <rect x=\"167\" y=\"47\" width=\"2186\" height=\"1441\"/>\n",
       "  </clipPath>\n",
       "</defs>\n",
       "<polyline clip-path=\"url(#clip0402)\" style=\"stroke:#000000; stroke-width:2; stroke-opacity:0.1; fill:none\" points=\"\n",
       "  227.068,1487.47 227.068,47.2441 \n",
       "  \"/>\n",
       "<polyline clip-path=\"url(#clip0402)\" style=\"stroke:#000000; stroke-width:2; stroke-opacity:0.1; fill:none\" points=\"\n",
       "  743.027,1487.47 743.027,47.2441 \n",
       "  \"/>\n",
       "<polyline clip-path=\"url(#clip0402)\" style=\"stroke:#000000; stroke-width:2; stroke-opacity:0.1; fill:none\" points=\"\n",
       "  1258.99,1487.47 1258.99,47.2441 \n",
       "  \"/>\n",
       "<polyline clip-path=\"url(#clip0402)\" style=\"stroke:#000000; stroke-width:2; stroke-opacity:0.1; fill:none\" points=\"\n",
       "  1774.94,1487.47 1774.94,47.2441 \n",
       "  \"/>\n",
       "<polyline clip-path=\"url(#clip0402)\" style=\"stroke:#000000; stroke-width:2; stroke-opacity:0.1; fill:none\" points=\"\n",
       "  2290.9,1487.47 2290.9,47.2441 \n",
       "  \"/>\n",
       "<polyline clip-path=\"url(#clip0402)\" style=\"stroke:#000000; stroke-width:2; stroke-opacity:0.1; fill:none\" points=\"\n",
       "  167.279,1453.55 2352.76,1453.55 \n",
       "  \"/>\n",
       "<polyline clip-path=\"url(#clip0402)\" style=\"stroke:#000000; stroke-width:2; stroke-opacity:0.1; fill:none\" points=\"\n",
       "  167.279,1239.99 2352.76,1239.99 \n",
       "  \"/>\n",
       "<polyline clip-path=\"url(#clip0402)\" style=\"stroke:#000000; stroke-width:2; stroke-opacity:0.1; fill:none\" points=\"\n",
       "  167.279,1026.44 2352.76,1026.44 \n",
       "  \"/>\n",
       "<polyline clip-path=\"url(#clip0402)\" style=\"stroke:#000000; stroke-width:2; stroke-opacity:0.1; fill:none\" points=\"\n",
       "  167.279,812.881 2352.76,812.881 \n",
       "  \"/>\n",
       "<polyline clip-path=\"url(#clip0402)\" style=\"stroke:#000000; stroke-width:2; stroke-opacity:0.1; fill:none\" points=\"\n",
       "  167.279,599.326 2352.76,599.326 \n",
       "  \"/>\n",
       "<polyline clip-path=\"url(#clip0402)\" style=\"stroke:#000000; stroke-width:2; stroke-opacity:0.1; fill:none\" points=\"\n",
       "  167.279,385.771 2352.76,385.771 \n",
       "  \"/>\n",
       "<polyline clip-path=\"url(#clip0402)\" style=\"stroke:#000000; stroke-width:2; stroke-opacity:0.1; fill:none\" points=\"\n",
       "  167.279,172.215 2352.76,172.215 \n",
       "  \"/>\n",
       "<polyline clip-path=\"url(#clip0400)\" style=\"stroke:#000000; stroke-width:4; stroke-opacity:1; fill:none\" points=\"\n",
       "  167.279,1487.47 2352.76,1487.47 \n",
       "  \"/>\n",
       "<polyline clip-path=\"url(#clip0400)\" style=\"stroke:#000000; stroke-width:4; stroke-opacity:1; fill:none\" points=\"\n",
       "  167.279,1487.47 167.279,47.2441 \n",
       "  \"/>\n",
       "<polyline clip-path=\"url(#clip0400)\" style=\"stroke:#000000; stroke-width:4; stroke-opacity:1; fill:none\" points=\"\n",
       "  227.068,1487.47 227.068,1465.87 \n",
       "  \"/>\n",
       "<polyline clip-path=\"url(#clip0400)\" style=\"stroke:#000000; stroke-width:4; stroke-opacity:1; fill:none\" points=\"\n",
       "  743.027,1487.47 743.027,1465.87 \n",
       "  \"/>\n",
       "<polyline clip-path=\"url(#clip0400)\" style=\"stroke:#000000; stroke-width:4; stroke-opacity:1; fill:none\" points=\"\n",
       "  1258.99,1487.47 1258.99,1465.87 \n",
       "  \"/>\n",
       "<polyline clip-path=\"url(#clip0400)\" style=\"stroke:#000000; stroke-width:4; stroke-opacity:1; fill:none\" points=\"\n",
       "  1774.94,1487.47 1774.94,1465.87 \n",
       "  \"/>\n",
       "<polyline clip-path=\"url(#clip0400)\" style=\"stroke:#000000; stroke-width:4; stroke-opacity:1; fill:none\" points=\"\n",
       "  2290.9,1487.47 2290.9,1465.87 \n",
       "  \"/>\n",
       "<polyline clip-path=\"url(#clip0400)\" style=\"stroke:#000000; stroke-width:4; stroke-opacity:1; fill:none\" points=\"\n",
       "  167.279,1453.55 200.061,1453.55 \n",
       "  \"/>\n",
       "<polyline clip-path=\"url(#clip0400)\" style=\"stroke:#000000; stroke-width:4; stroke-opacity:1; fill:none\" points=\"\n",
       "  167.279,1239.99 200.061,1239.99 \n",
       "  \"/>\n",
       "<polyline clip-path=\"url(#clip0400)\" style=\"stroke:#000000; stroke-width:4; stroke-opacity:1; fill:none\" points=\"\n",
       "  167.279,1026.44 200.061,1026.44 \n",
       "  \"/>\n",
       "<polyline clip-path=\"url(#clip0400)\" style=\"stroke:#000000; stroke-width:4; stroke-opacity:1; fill:none\" points=\"\n",
       "  167.279,812.881 200.061,812.881 \n",
       "  \"/>\n",
       "<polyline clip-path=\"url(#clip0400)\" style=\"stroke:#000000; stroke-width:4; stroke-opacity:1; fill:none\" points=\"\n",
       "  167.279,599.326 200.061,599.326 \n",
       "  \"/>\n",
       "<polyline clip-path=\"url(#clip0400)\" style=\"stroke:#000000; stroke-width:4; stroke-opacity:1; fill:none\" points=\"\n",
       "  167.279,385.771 200.061,385.771 \n",
       "  \"/>\n",
       "<polyline clip-path=\"url(#clip0400)\" style=\"stroke:#000000; stroke-width:4; stroke-opacity:1; fill:none\" points=\"\n",
       "  167.279,172.215 200.061,172.215 \n",
       "  \"/>\n",
       "<g clip-path=\"url(#clip0400)\">\n",
       "<text style=\"fill:#000000; fill-opacity:1; font-family:Arial,Helvetica Neue,Helvetica,sans-serif; font-size:48px; text-anchor:middle;\" transform=\"rotate(0, 227.068, 1541.47)\" x=\"227.068\" y=\"1541.47\">0</text>\n",
       "</g>\n",
       "<g clip-path=\"url(#clip0400)\">\n",
       "<text style=\"fill:#000000; fill-opacity:1; font-family:Arial,Helvetica Neue,Helvetica,sans-serif; font-size:48px; text-anchor:middle;\" transform=\"rotate(0, 743.027, 1541.47)\" x=\"743.027\" y=\"1541.47\">250</text>\n",
       "</g>\n",
       "<g clip-path=\"url(#clip0400)\">\n",
       "<text style=\"fill:#000000; fill-opacity:1; font-family:Arial,Helvetica Neue,Helvetica,sans-serif; font-size:48px; text-anchor:middle;\" transform=\"rotate(0, 1258.99, 1541.47)\" x=\"1258.99\" y=\"1541.47\">500</text>\n",
       "</g>\n",
       "<g clip-path=\"url(#clip0400)\">\n",
       "<text style=\"fill:#000000; fill-opacity:1; font-family:Arial,Helvetica Neue,Helvetica,sans-serif; font-size:48px; text-anchor:middle;\" transform=\"rotate(0, 1774.94, 1541.47)\" x=\"1774.94\" y=\"1541.47\">750</text>\n",
       "</g>\n",
       "<g clip-path=\"url(#clip0400)\">\n",
       "<text style=\"fill:#000000; fill-opacity:1; font-family:Arial,Helvetica Neue,Helvetica,sans-serif; font-size:48px; text-anchor:middle;\" transform=\"rotate(0, 2290.9, 1541.47)\" x=\"2290.9\" y=\"1541.47\">1000</text>\n",
       "</g>\n",
       "<g clip-path=\"url(#clip0400)\">\n",
       "<text style=\"fill:#000000; fill-opacity:1; font-family:Arial,Helvetica Neue,Helvetica,sans-serif; font-size:48px; text-anchor:end;\" transform=\"rotate(0, 143.279, 1471.05)\" x=\"143.279\" y=\"1471.05\">0</text>\n",
       "</g>\n",
       "<g clip-path=\"url(#clip0400)\">\n",
       "<text style=\"fill:#000000; fill-opacity:1; font-family:Arial,Helvetica Neue,Helvetica,sans-serif; font-size:48px; text-anchor:end;\" transform=\"rotate(0, 143.279, 1257.49)\" x=\"143.279\" y=\"1257.49\">100</text>\n",
       "</g>\n",
       "<g clip-path=\"url(#clip0400)\">\n",
       "<text style=\"fill:#000000; fill-opacity:1; font-family:Arial,Helvetica Neue,Helvetica,sans-serif; font-size:48px; text-anchor:end;\" transform=\"rotate(0, 143.279, 1043.94)\" x=\"143.279\" y=\"1043.94\">200</text>\n",
       "</g>\n",
       "<g clip-path=\"url(#clip0400)\">\n",
       "<text style=\"fill:#000000; fill-opacity:1; font-family:Arial,Helvetica Neue,Helvetica,sans-serif; font-size:48px; text-anchor:end;\" transform=\"rotate(0, 143.279, 830.381)\" x=\"143.279\" y=\"830.381\">300</text>\n",
       "</g>\n",
       "<g clip-path=\"url(#clip0400)\">\n",
       "<text style=\"fill:#000000; fill-opacity:1; font-family:Arial,Helvetica Neue,Helvetica,sans-serif; font-size:48px; text-anchor:end;\" transform=\"rotate(0, 143.279, 616.826)\" x=\"143.279\" y=\"616.826\">400</text>\n",
       "</g>\n",
       "<g clip-path=\"url(#clip0400)\">\n",
       "<text style=\"fill:#000000; fill-opacity:1; font-family:Arial,Helvetica Neue,Helvetica,sans-serif; font-size:48px; text-anchor:end;\" transform=\"rotate(0, 143.279, 403.271)\" x=\"143.279\" y=\"403.271\">500</text>\n",
       "</g>\n",
       "<g clip-path=\"url(#clip0400)\">\n",
       "<text style=\"fill:#000000; fill-opacity:1; font-family:Arial,Helvetica Neue,Helvetica,sans-serif; font-size:48px; text-anchor:end;\" transform=\"rotate(0, 143.279, 189.715)\" x=\"143.279\" y=\"189.715\">600</text>\n",
       "</g>\n",
       "<polyline clip-path=\"url(#clip0402)\" style=\"stroke:#009af9; stroke-width:4; stroke-opacity:1; fill:none\" points=\"\n",
       "  229.132,88.0053 231.196,88.3051 233.26,90.3535 235.324,150.543 237.388,199.14 239.451,204.735 241.515,208.445 243.579,328.772 245.643,382.639 247.707,381.613 \n",
       "  249.771,382.571 251.834,383.639 253.898,415.014 255.962,451.528 258.026,486.868 260.09,488.982 262.154,494.952 264.217,496.305 266.281,499.81 268.345,542.378 \n",
       "  270.409,554.102 272.473,555.803 274.537,555.911 276.6,562.761 278.664,567.079 280.728,571.094 282.792,578.06 284.856,577.44 286.92,577.545 288.983,584.37 \n",
       "  291.047,594.909 293.111,602.627 295.175,607.691 297.239,620.14 299.303,623.178 301.366,623.823 303.43,628.96 305.494,654.072 307.558,674.151 309.622,674.409 \n",
       "  311.686,676.064 313.749,768.459 315.813,768.484 317.877,773.887 319.941,777.866 322.005,781.757 324.069,784.595 326.132,787.065 328.196,793.784 330.26,794.803 \n",
       "  332.324,795.435 334.388,795.626 336.452,795.075 338.515,812.18 340.579,815.865 342.643,816.582 344.707,822.128 346.771,836.985 348.835,867.736 350.898,869.091 \n",
       "  352.962,894.691 355.026,897.778 357.09,898.012 359.154,899.483 361.218,921.981 363.281,921.005 365.345,924.187 367.409,923.969 369.473,924.156 371.537,924.212 \n",
       "  373.601,946.544 375.665,977.52 377.728,977.651 379.792,978.745 381.856,981.183 383.92,989.882 385.984,992.349 388.048,999.736 390.111,999.729 392.175,1008.54 \n",
       "  394.239,1025.95 396.303,1024.98 398.367,1022 400.431,1027.82 402.494,1023.52 404.558,1023.72 406.622,1023.74 408.686,1027.43 410.75,1027.86 412.814,1030.96 \n",
       "  414.877,1030.97 416.941,1022.47 419.005,1025.5 421.069,1026.91 423.133,1027.05 425.197,1034.59 427.26,1039.43 429.324,1037.3 431.388,1037.51 433.452,1037.84 \n",
       "  435.516,1055.03 437.58,1067.08 439.643,1065.9 441.707,1065.86 443.771,1066.88 445.835,1063.37 447.899,1068.09 449.963,1073.02 452.026,1074.09 454.09,1069.17 \n",
       "  456.154,1089.47 458.218,1090.78 460.282,1094.14 462.346,1097.8 464.409,1098.32 466.473,1121.42 468.537,1125.24 470.601,1132.88 472.665,1133.08 474.729,1149.55 \n",
       "  476.792,1175.45 478.856,1192.53 480.92,1231.53 482.984,1231.58 485.048,1235.76 487.112,1236.72 489.175,1236.71 491.239,1236.79 493.303,1238.1 495.367,1251.35 \n",
       "  497.431,1266.36 499.495,1266.74 501.558,1269.85 503.622,1276.68 505.686,1277.06 507.75,1277.07 509.814,1278.46 511.878,1280.03 513.941,1280.59 516.005,1287.07 \n",
       "  518.069,1288.42 520.133,1288.58 522.197,1289.18 524.261,1309.08 526.324,1312.55 528.388,1314.33 530.452,1314.74 532.516,1317.18 534.58,1317.18 536.644,1317.99 \n",
       "  538.707,1317.99 540.771,1318 542.835,1318.62 544.899,1318.61 546.963,1318.62 549.027,1319.5 551.09,1320.08 553.154,1323.26 555.218,1323.64 557.282,1325.31 \n",
       "  559.346,1325.89 561.41,1327.29 563.473,1327.83 565.537,1328.09 567.601,1328.1 569.665,1328.74 571.729,1329.9 573.793,1330.59 575.856,1330.66 577.92,1330.72 \n",
       "  579.984,1336.86 582.048,1336.9 584.112,1337.05 586.176,1337.75 588.239,1343.61 590.303,1347.92 592.367,1347.92 594.431,1348.1 596.495,1348.09 598.559,1349.99 \n",
       "  600.622,1352.81 602.686,1353.32 604.75,1353.45 606.814,1353.48 608.878,1355.77 610.942,1356.65 613.005,1359.14 615.069,1360.36 617.133,1363.69 619.197,1363.99 \n",
       "  621.261,1363.99 623.325,1364.4 625.388,1364.9 627.452,1368.03 629.516,1368.12 631.58,1368.9 633.644,1368.92 635.708,1373.08 637.771,1373.69 639.835,1373.69 \n",
       "  641.899,1378.32 643.963,1378.69 646.027,1379.97 648.091,1381.73 650.154,1385.15 652.218,1389.01 654.282,1389.04 656.346,1389.06 658.41,1390.14 660.474,1390.55 \n",
       "  662.537,1390.53 664.601,1390.53 666.665,1390.55 668.729,1390.71 670.793,1390.82 672.857,1392.25 674.92,1392.99 676.984,1393.76 679.048,1393.88 681.112,1394.66 \n",
       "  683.176,1396.77 685.24,1397.24 687.303,1397.9 689.367,1398.19 691.431,1398.19 693.495,1399.83 695.559,1399.83 697.623,1400.07 699.686,1400.66 701.75,1401.1 \n",
       "  703.814,1401.1 705.878,1404.34 707.942,1404.43 710.006,1404.45 712.07,1407.04 714.133,1407.12 716.197,1408.76 718.261,1408.75 720.325,1408.76 722.389,1412.13 \n",
       "  724.453,1412.56 726.516,1412.54 728.58,1412.79 730.644,1412.96 732.708,1413.36 734.772,1414.55 736.836,1414.6 738.899,1415.28 740.963,1417.34 743.027,1417.44 \n",
       "  745.091,1417.64 747.155,1417.73 749.219,1417.75 751.282,1420.25 753.346,1420.71 755.41,1420.83 757.474,1421.35 759.538,1421.53 761.602,1422.42 763.665,1423.94 \n",
       "  765.729,1426.84 767.793,1426.91 769.857,1427.54 771.921,1427.67 773.985,1427.88 776.048,1428.18 778.112,1428.53 780.176,1428.53 782.24,1428.54 784.304,1431.73 \n",
       "  786.368,1432.09 788.431,1432.33 790.495,1432.34 792.559,1432.35 794.623,1432.44 796.687,1432.44 798.751,1432.43 800.814,1434.65 802.878,1434.66 804.942,1434.92 \n",
       "  807.006,1434.9 809.07,1434.9 811.134,1434.96 813.197,1435.39 815.261,1435.5 817.325,1435.51 819.389,1435.82 821.453,1435.82 823.517,1436.07 825.58,1436.57 \n",
       "  827.644,1436.57 829.708,1436.9 831.772,1436.95 833.836,1437.21 835.9,1437.78 837.963,1438.17 840.027,1439.21 842.091,1439.37 844.155,1439.47 846.219,1439.56 \n",
       "  848.283,1439.58 850.346,1439.65 852.41,1439.64 854.474,1439.65 856.538,1439.85 858.602,1439.87 860.666,1440.18 862.729,1440.32 864.793,1440.59 866.857,1440.79 \n",
       "  868.921,1440.79 870.985,1440.78 873.049,1440.9 875.112,1440.97 877.176,1441.04 879.24,1441.09 881.304,1441.11 883.368,1441.69 885.432,1441.71 887.495,1441.89 \n",
       "  889.559,1441.95 891.623,1441.97 893.687,1441.97 895.751,1442.03 897.815,1442.37 899.878,1442.64 901.942,1442.76 904.006,1442.87 906.07,1442.82 908.134,1442.84 \n",
       "  910.198,1442.9 912.261,1442.78 914.325,1442.84 916.389,1442.87 918.453,1443.1 920.517,1443.69 922.581,1443.69 924.644,1443.96 926.708,1443.95 928.772,1443.93 \n",
       "  930.836,1443.85 932.9,1444.25 934.964,1444.29 937.027,1444.29 939.091,1444.27 941.155,1444.28 943.219,1444.78 945.283,1444.81 947.347,1444.78 949.41,1444.78 \n",
       "  951.474,1444.81 953.538,1444.77 955.602,1444.82 957.666,1444.88 959.73,1444.82 961.793,1444.82 963.857,1444.83 965.921,1444.86 967.985,1444.86 970.049,1445.05 \n",
       "  972.113,1445.06 974.176,1445.02 976.24,1445.35 978.304,1445.36 980.368,1445.28 982.432,1445.32 984.496,1445.23 986.559,1445.32 988.623,1445.38 990.687,1445.3 \n",
       "  992.751,1445.33 994.815,1445.36 996.879,1445.34 998.942,1445.32 1001.01,1445.33 1003.07,1445.36 1005.13,1445.42 1007.2,1445.42 1009.26,1445.41 1011.33,1445.93 \n",
       "  1013.39,1445.94 1015.45,1445.94 1017.52,1445.96 1019.58,1445.96 1021.64,1445.96 1023.71,1445.93 1025.77,1445.96 1027.84,1445.95 1029.9,1445.95 1031.96,1445.96 \n",
       "  1034.03,1445.95 1036.09,1446 1038.16,1446 1040.22,1446.03 1042.28,1445.99 1044.35,1446.01 1046.41,1446.02 1048.47,1446.06 1050.54,1446.11 1052.6,1446.11 \n",
       "  1054.67,1446.1 1056.73,1446.01 1058.79,1446.01 1060.86,1445.94 1062.92,1446.02 1064.99,1445.91 1067.05,1445.92 1069.11,1445.91 1071.18,1445.95 1073.24,1445.95 \n",
       "  1075.3,1445.95 1077.37,1446.06 1079.43,1446.07 1081.5,1446.2 1083.56,1446.27 1085.62,1446.28 1087.69,1446.29 1089.75,1446.31 1091.82,1446.31 1093.88,1446.28 \n",
       "  1095.94,1446.29 1098.01,1446.33 1100.07,1446.3 1102.13,1446.31 1104.2,1446.33 1106.26,1446.33 1108.33,1446.34 1110.39,1446.26 1112.45,1446.27 1114.52,1446.35 \n",
       "  1116.58,1446.34 1118.64,1446.4 1120.71,1446.49 1122.77,1446.47 1124.84,1446.34 1126.9,1446.42 1128.96,1446.41 1131.03,1446.38 1133.09,1446.38 1135.16,1446.41 \n",
       "  1137.22,1446.35 1139.28,1446.38 1141.35,1446.35 1143.41,1446.37 1145.47,1446.39 1147.54,1446.24 1149.6,1446.26 1151.67,1446.25 1153.73,1446.24 1155.79,1446.4 \n",
       "  1157.86,1446.39 1159.92,1446.38 1161.99,1446.48 1164.05,1446.48 1166.11,1446.43 1168.18,1446.39 1170.24,1446.43 1172.3,1446.44 1174.37,1446.45 1176.43,1446.46 \n",
       "  1178.5,1446.44 1180.56,1446.43 1182.62,1446.43 1184.69,1446.43 1186.75,1446.4 1188.82,1446.43 1190.88,1446.41 1192.94,1446.42 1195.01,1446.42 1197.07,1446.42 \n",
       "  1199.13,1446.42 1201.2,1446.42 1203.26,1446.44 1205.33,1446.45 1207.39,1446.44 1209.45,1446.45 1211.52,1446.33 1213.58,1446.41 1215.65,1446.41 1217.71,1446.41 \n",
       "  1219.77,1446.42 1221.84,1446.41 1223.9,1446.41 1225.96,1446.44 1228.03,1446.44 1230.09,1446.51 1232.16,1446.53 1234.22,1446.55 1236.28,1446.58 1238.35,1446.57 \n",
       "  1240.41,1446.56 1242.47,1446.56 1244.54,1446.58 1246.6,1446.57 1248.67,1446.58 1250.73,1446.58 1252.79,1446.58 1254.86,1446.54 1256.92,1446.54 1258.99,1446.54 \n",
       "  1261.05,1446.54 1263.11,1446.55 1265.18,1446.51 1267.24,1446.47 1269.3,1446.44 1271.37,1446.44 1273.43,1446.44 1275.5,1446.51 1277.56,1446.51 1279.62,1446.51 \n",
       "  1281.69,1446.48 1283.75,1446.47 1285.82,1446.53 1287.88,1446.53 1289.94,1446.54 1292.01,1446.54 1294.07,1446.53 1296.13,1446.53 1298.2,1446.49 1300.26,1446.52 \n",
       "  1302.33,1446.61 1304.39,1446.55 1306.45,1446.54 1308.52,1446.54 1310.58,1446.54 1312.65,1446.53 1314.71,1446.52 1316.77,1446.52 1318.84,1446.51 1320.9,1446.51 \n",
       "  1322.96,1446.49 1325.03,1446.5 1327.09,1446.5 1329.16,1446.52 1331.22,1446.51 1333.28,1446.51 1335.35,1446.5 1337.41,1446.53 1339.48,1446.53 1341.54,1446.56 \n",
       "  1343.6,1446.56 1345.67,1446.56 1347.73,1446.59 1349.79,1446.59 1351.86,1446.62 1353.92,1446.62 1355.99,1446.63 1358.05,1446.63 1360.11,1446.63 1362.18,1446.63 \n",
       "  1364.24,1446.65 1366.3,1446.66 1368.37,1446.65 1370.43,1446.65 1372.5,1446.61 1374.56,1446.62 1376.62,1446.62 1378.69,1446.62 1380.75,1446.63 1382.82,1446.64 \n",
       "  1384.88,1446.64 1386.94,1446.64 1389.01,1446.58 1391.07,1446.54 1393.13,1446.53 1395.2,1446.54 1397.26,1446.54 1399.33,1446.6 1401.39,1446.58 1403.45,1446.56 \n",
       "  1405.52,1446.56 1407.58,1446.56 1409.65,1446.5 1411.71,1446.52 1413.77,1446.52 1415.84,1446.51 1417.9,1446.56 1419.96,1446.56 1422.03,1446.57 1424.09,1446.52 \n",
       "  1426.16,1446.52 1428.22,1446.57 1430.28,1446.58 1432.35,1446.55 1434.41,1446.55 1436.48,1446.55 1438.54,1446.55 1440.6,1446.56 1442.67,1446.53 1444.73,1446.52 \n",
       "  1446.79,1446.47 1448.86,1446.47 1450.92,1446.48 1452.99,1446.48 1455.05,1446.47 1457.11,1446.49 1459.18,1446.48 1461.24,1446.49 1463.31,1446.41 1465.37,1446.41 \n",
       "  1467.43,1446.5 1469.5,1446.51 1471.56,1446.41 1473.62,1446.41 1475.69,1446.4 1477.75,1446.32 1479.82,1446.33 1481.88,1446.32 1483.94,1446.22 1486.01,1446.14 \n",
       "  1488.07,1446.16 1490.14,1446.18 1492.2,1446.13 1494.26,1446.07 1496.33,1446.11 1498.39,1446.09 1500.45,1446.08 1502.52,1446.01 1504.58,1445.93 1506.65,1445.93 \n",
       "  1508.71,1446 1510.77,1446.3 1512.84,1446.32 1514.9,1446.33 1516.96,1446.31 1519.03,1446.31 1521.09,1446.3 1523.16,1446.32 1525.22,1446.33 1527.28,1446.32 \n",
       "  1529.35,1446.29 1531.41,1446.2 1533.48,1446.2 1535.54,1446.15 1537.6,1446.07 1539.67,1446.09 1541.73,1446.11 1543.79,1446.14 1545.86,1446.15 1547.92,1446.15 \n",
       "  1549.99,1446.13 1552.05,1446.16 1554.11,1446.16 1556.18,1446.15 1558.24,1446.18 1560.31,1446.17 1562.37,1446.15 1564.43,1446.24 1566.5,1446.33 1568.56,1446.36 \n",
       "  1570.62,1446.36 1572.69,1446.32 1574.75,1446.33 1576.82,1446.43 1578.88,1446.46 1580.94,1446.46 1583.01,1446.47 1585.07,1446.42 1587.14,1446.55 1589.2,1446.58 \n",
       "  1591.26,1446.58 1593.33,1446.57 1595.39,1446.58 1597.45,1446.57 1599.52,1446.6 1601.58,1446.61 1603.65,1446.6 1605.71,1446.62 1607.77,1446.63 1609.84,1446.58 \n",
       "  1611.9,1446.51 1613.97,1446.52 1616.03,1446.52 1618.09,1446.47 1620.16,1446.5 1622.22,1446.5 1624.28,1446.5 1626.35,1446.6 1628.41,1446.6 1630.48,1446.51 \n",
       "  1632.54,1446.51 1634.6,1446.52 1636.67,1446.52 1638.73,1446.53 1640.79,1446.53 1642.86,1446.54 1644.92,1446.56 1646.99,1446.49 1649.05,1446.46 1651.11,1446.49 \n",
       "  1653.18,1446.55 1655.24,1446.52 1657.31,1446.51 1659.37,1446.51 1661.43,1446.51 1663.5,1446.51 1665.56,1446.51 1667.62,1446.54 1669.69,1446.54 1671.75,1446.55 \n",
       "  1673.82,1446.51 1675.88,1446.52 1677.94,1446.54 1680.01,1446.51 1682.07,1446.6 1684.14,1446.48 1686.2,1446.45 1688.26,1446.43 1690.33,1446.44 1692.39,1446.45 \n",
       "  1694.45,1446.53 1696.52,1446.53 1698.58,1446.48 1700.65,1446.47 1702.71,1446.45 1704.77,1446.48 1706.84,1446.48 1708.9,1446.49 1710.97,1446.51 1713.03,1446.46 \n",
       "  1715.09,1446.5 1717.16,1446.51 1719.22,1446.51 1721.28,1446.49 1723.35,1446.48 1725.41,1446.49 1727.48,1446.48 1729.54,1446.44 1731.6,1446.44 1733.67,1446.51 \n",
       "  1735.73,1446.5 1737.8,1446.5 1739.86,1446.5 1741.92,1446.53 1743.99,1446.53 1746.05,1446.54 1748.11,1446.54 1750.18,1446.52 1752.24,1446.53 1754.31,1446.52 \n",
       "  1756.37,1446.56 1758.43,1446.58 1760.5,1446.62 1762.56,1446.56 1764.63,1446.52 1766.69,1446.53 1768.75,1446.53 1770.82,1446.46 1772.88,1446.56 1774.94,1446.55 \n",
       "  1777.01,1446.54 1779.07,1446.53 1781.14,1446.55 1783.2,1446.55 1785.26,1446.57 1787.33,1446.57 1789.39,1446.6 1791.45,1446.61 1793.52,1446.64 1795.58,1446.66 \n",
       "  1797.65,1446.68 1799.71,1446.66 1801.77,1446.64 1803.84,1446.64 1805.9,1446.67 1807.97,1446.67 1810.03,1446.66 1812.09,1446.67 1814.16,1446.67 1816.22,1446.63 \n",
       "  1818.28,1446.64 1820.35,1446.66 1822.41,1446.65 1824.48,1446.66 1826.54,1446.66 1828.6,1446.67 1830.67,1446.66 1832.73,1446.66 1834.8,1446.67 1836.86,1446.65 \n",
       "  1838.92,1446.65 1840.99,1446.65 1843.05,1446.66 1845.11,1446.66 1847.18,1446.64 1849.24,1446.65 1851.31,1446.67 1853.37,1446.65 1855.43,1446.66 1857.5,1446.65 \n",
       "  1859.56,1446.65 1861.63,1446.65 1863.69,1446.65 1865.75,1446.65 1867.82,1446.67 1869.88,1446.67 1871.94,1446.63 1874.01,1446.63 1876.07,1446.67 1878.14,1446.66 \n",
       "  1880.2,1446.62 1882.26,1446.62 1884.33,1446.62 1886.39,1446.64 1888.46,1446.63 1890.52,1446.61 1892.58,1446.57 1894.65,1446.58 1896.71,1446.58 1898.77,1446.56 \n",
       "  1900.84,1446.5 1902.9,1446.49 1904.97,1446.5 1907.03,1446.49 1909.09,1446.5 1911.16,1446.6 1913.22,1446.56 1915.28,1446.55 1917.35,1446.53 1919.41,1446.55 \n",
       "  1921.48,1446.57 1923.54,1446.56 1925.6,1446.57 1927.67,1446.55 1929.73,1446.63 1931.8,1446.63 1933.86,1446.65 1935.92,1446.65 1937.99,1446.66 1940.05,1446.64 \n",
       "  1942.11,1446.66 1944.18,1446.66 1946.24,1446.56 1948.31,1446.56 1950.37,1446.59 1952.43,1446.51 1954.5,1446.53 1956.56,1446.52 1958.63,1446.52 1960.69,1446.51 \n",
       "  1962.75,1446.52 1964.82,1446.5 1966.88,1446.52 1968.94,1446.51 1971.01,1446.54 1973.07,1446.54 1975.14,1446.45 1977.2,1446.48 1979.26,1446.53 1981.33,1446.63 \n",
       "  1983.39,1446.65 1985.46,1446.64 1987.52,1446.65 1989.58,1446.66 1991.65,1446.64 1993.71,1446.63 1995.77,1446.64 1997.84,1446.64 1999.9,1446.65 2001.97,1446.6 \n",
       "  2004.03,1446.64 2006.09,1446.56 2008.16,1446.57 2010.22,1446.57 2012.29,1446.6 2014.35,1446.58 2016.41,1446.58 2018.48,1446.56 2020.54,1446.56 2022.6,1446.47 \n",
       "  2024.67,1446.54 2026.73,1446.57 2028.8,1446.57 2030.86,1446.58 2032.92,1446.52 2034.99,1446.51 2037.05,1446.52 2039.11,1446.5 2041.18,1446.49 2043.24,1446.49 \n",
       "  2045.31,1446.49 2047.37,1446.49 2049.43,1446.42 2051.5,1446.42 2053.56,1446.42 2055.63,1446.41 2057.69,1446.42 2059.75,1446.4 2061.82,1446.4 2063.88,1446.36 \n",
       "  2065.94,1446.38 2068.01,1446.38 2070.07,1446.36 2072.14,1446.36 2074.2,1446.35 2076.26,1446.36 2078.33,1446.35 2080.39,1446.37 2082.46,1446.37 2084.52,1446.45 \n",
       "  2086.58,1446.53 2088.65,1446.56 2090.71,1446.59 2092.77,1446.59 2094.84,1446.59 2096.9,1446.59 2098.97,1446.65 2101.03,1446.59 2103.09,1446.61 2105.16,1446.61 \n",
       "  2107.22,1446.61 2109.29,1446.61 2111.35,1446.55 2113.41,1446.56 2115.48,1446.56 2117.54,1446.52 2119.6,1446.51 2121.67,1446.49 2123.73,1446.51 2125.8,1446.53 \n",
       "  2127.86,1446.52 2129.92,1446.51 2131.99,1446.55 2134.05,1446.51 2136.12,1446.48 2138.18,1446.47 2140.24,1446.51 2142.31,1446.5 2144.37,1446.44 2146.43,1446.44 \n",
       "  2148.5,1446.49 2150.56,1446.52 2152.63,1446.53 2154.69,1446.53 2156.75,1446.53 2158.82,1446.52 2160.88,1446.55 2162.95,1446.55 2165.01,1446.53 2167.07,1446.55 \n",
       "  2169.14,1446.5 2171.2,1446.5 2173.26,1446.5 2175.33,1446.54 2177.39,1446.54 2179.46,1446.53 2181.52,1446.61 2183.58,1446.61 2185.65,1446.6 2187.71,1446.61 \n",
       "  2189.77,1446.61 2191.84,1446.56 2193.9,1446.58 2195.97,1446.61 2198.03,1446.63 2200.09,1446.65 2202.16,1446.65 2204.22,1446.61 2206.29,1446.6 2208.35,1446.6 \n",
       "  2210.41,1446.59 2212.48,1446.61 2214.54,1446.56 2216.6,1446.58 2218.67,1446.62 2220.73,1446.62 2222.8,1446.59 2224.86,1446.62 2226.92,1446.62 2228.99,1446.62 \n",
       "  2231.05,1446.64 2233.12,1446.66 2235.18,1446.64 2237.24,1446.64 2239.31,1446.68 2241.37,1446.69 2243.43,1446.7 2245.5,1446.7 2247.56,1446.69 2249.63,1446.71 \n",
       "  2251.69,1446.7 2253.75,1446.68 2255.82,1446.68 2257.88,1446.64 2259.95,1446.64 2262.01,1446.67 2264.07,1446.67 2266.14,1446.67 2268.2,1446.64 2270.26,1446.61 \n",
       "  2272.33,1446.58 2274.39,1446.56 2276.46,1446.57 2278.52,1446.56 2280.58,1446.5 2282.65,1446.49 2284.71,1446.55 2286.78,1446.57 2288.84,1446.57 2290.9,1446.56 \n",
       "  \n",
       "  \"/>\n",
       "<path clip-path=\"url(#clip0400)\" d=\"\n",
       "M1850.82 251.724 L2280.76 251.724 L2280.76 130.764 L1850.82 130.764  Z\n",
       "  \" fill=\"#ffffff\" fill-rule=\"evenodd\" fill-opacity=\"1\"/>\n",
       "<polyline clip-path=\"url(#clip0400)\" style=\"stroke:#000000; stroke-width:4; stroke-opacity:1; fill:none\" points=\"\n",
       "  1850.82,251.724 2280.76,251.724 2280.76,130.764 1850.82,130.764 1850.82,251.724 \n",
       "  \"/>\n",
       "<polyline clip-path=\"url(#clip0400)\" style=\"stroke:#009af9; stroke-width:4; stroke-opacity:1; fill:none\" points=\"\n",
       "  1874.82,191.244 2018.82,191.244 \n",
       "  \"/>\n",
       "<g clip-path=\"url(#clip0400)\">\n",
       "<text style=\"fill:#000000; fill-opacity:1; font-family:Arial,Helvetica Neue,Helvetica,sans-serif; font-size:48px; text-anchor:start;\" transform=\"rotate(0, 2042.82, 208.744)\" x=\"2042.82\" y=\"208.744\">objective</text>\n",
       "</g>\n",
       "</svg>\n"
      ]
     },
     "execution_count": 77,
     "metadata": {},
     "output_type": "execute_result"
    }
   ],
   "source": [
    "w, obj_vec = SLS_stoc_prox_grad(X,y; max_iter = 1000, alpha = 0.01) #very sensitive to alpha\n",
    "#obj_vec\n",
    "plot(obj_vec, label=\"objective\")\n",
    "# xlabel!(\"iteration number\")\n",
    "# ylabel!(\"objective function\")\n"
   ]
  },
  {
   "cell_type": "markdown",
   "metadata": {
    "collapsed": true
   },
   "source": [
    "<b> As can be seen from above it takes about 400 iterations for stochastic proximal gradient to converge. </b>"
   ]
  },
  {
   "cell_type": "markdown",
   "metadata": {},
   "source": [
    "## Answer 2(d)"
   ]
  },
  {
   "cell_type": "markdown",
   "metadata": {},
   "source": [
    "d) How long does the stochastic proximal gradient method take compared to the standard proximal gradient method?"
   ]
  },
  {
   "cell_type": "code",
   "execution_count": 78,
   "metadata": {},
   "outputs": [
    {
     "data": {
      "text/plain": [
       "0.006873664855957032"
      ]
     },
     "execution_count": 78,
     "metadata": {},
     "output_type": "execute_result"
    }
   ],
   "source": [
    "t = zeros(100)\n",
    "for i in 1:100\n",
    "    t1 = time()\n",
    "    w, obj_vec = SLS_prox_grad(X,y; max_iter = 40, alpha = 0.0001)\n",
    "    t2 = time()\n",
    "    t[i] = t2-t1\n",
    "end\n",
    "mean(t)"
   ]
  },
  {
   "cell_type": "code",
   "execution_count": 79,
   "metadata": {},
   "outputs": [
    {
     "data": {
      "text/plain": [
       "0.011893954277038574"
      ]
     },
     "execution_count": 79,
     "metadata": {},
     "output_type": "execute_result"
    }
   ],
   "source": [
    "t = zeros(100)\n",
    "for i in 1:100\n",
    "    t1 = time()\n",
    "    w, obj_vec = SLS_stoc_prox_grad(X,y; max_iter = 400, alpha = 0.01) \n",
    "    t2 = time()\n",
    "    t[i] = t2-t1\n",
    "end\n",
    "mean(t)"
   ]
  },
  {
   "cell_type": "markdown",
   "metadata": {},
   "source": [
    "<b><br> Since time varies significantly, i have used avergae time over 100 runs. \n",
    "<br> standard SLS prox gradient takes 40 iterations (vs 400 iterations of stochastic SLS prox) to converge. \n",
    "<br> standard SLS prox gradient takes 50 miliseconds (vs 88 miliseconds of stochastic SLS prox) to converge.</b>"
   ]
  },
  {
   "cell_type": "markdown",
   "metadata": {},
   "source": [
    "## Answer 2(e)"
   ]
  },
  {
   "cell_type": "markdown",
   "metadata": {},
   "source": [
    "e) Run the algorithm starting at multiple locations and create a histogram of the objective value. What do you observe?"
   ]
  },
  {
   "cell_type": "code",
   "execution_count": 81,
   "metadata": {},
   "outputs": [
    {
     "name": "stdout",
     "output_type": "stream",
     "text": [
      "[-4.996147008481344, 17.013777776352725, 4.999105409913627, 0.0, 0.0, -7.012511048351937, 5.000048500134628, 0.0, 0.0, 0.0958300913291967]"
     ]
    },
    {
     "data": {
      "image/svg+xml": [
       "<?xml version=\"1.0\" encoding=\"utf-8\"?>\n",
       "<svg xmlns=\"http://www.w3.org/2000/svg\" xmlns:xlink=\"http://www.w3.org/1999/xlink\" width=\"600\" height=\"400\" viewBox=\"0 0 2400 1600\">\n",
       "<defs>\n",
       "  <clipPath id=\"clip1200\">\n",
       "    <rect x=\"0\" y=\"0\" width=\"2400\" height=\"1600\"/>\n",
       "  </clipPath>\n",
       "</defs>\n",
       "<path clip-path=\"url(#clip1200)\" d=\"\n",
       "M0 1600 L2400 1600 L2400 0 L0 0  Z\n",
       "  \" fill=\"#ffffff\" fill-rule=\"evenodd\" fill-opacity=\"1\"/>\n",
       "<defs>\n",
       "  <clipPath id=\"clip1201\">\n",
       "    <rect x=\"480\" y=\"0\" width=\"1681\" height=\"1600\"/>\n",
       "  </clipPath>\n",
       "</defs>\n",
       "<path clip-path=\"url(#clip1200)\" d=\"\n",
       "M140.517 1487.47 L2352.76 1487.47 L2352.76 47.2441 L140.517 47.2441  Z\n",
       "  \" fill=\"#ffffff\" fill-rule=\"evenodd\" fill-opacity=\"1\"/>\n",
       "<defs>\n",
       "  <clipPath id=\"clip1202\">\n",
       "    <rect x=\"140\" y=\"47\" width=\"2213\" height=\"1441\"/>\n",
       "  </clipPath>\n",
       "</defs>\n",
       "<polyline clip-path=\"url(#clip1202)\" style=\"stroke:#000000; stroke-width:2; stroke-opacity:0.1; fill:none\" points=\"\n",
       "  262.194,1487.47 262.194,47.2441 \n",
       "  \"/>\n",
       "<polyline clip-path=\"url(#clip1202)\" style=\"stroke:#000000; stroke-width:2; stroke-opacity:0.1; fill:none\" points=\"\n",
       "  699.724,1487.47 699.724,47.2441 \n",
       "  \"/>\n",
       "<polyline clip-path=\"url(#clip1202)\" style=\"stroke:#000000; stroke-width:2; stroke-opacity:0.1; fill:none\" points=\"\n",
       "  1137.25,1487.47 1137.25,47.2441 \n",
       "  \"/>\n",
       "<polyline clip-path=\"url(#clip1202)\" style=\"stroke:#000000; stroke-width:2; stroke-opacity:0.1; fill:none\" points=\"\n",
       "  1574.78,1487.47 1574.78,47.2441 \n",
       "  \"/>\n",
       "<polyline clip-path=\"url(#clip1202)\" style=\"stroke:#000000; stroke-width:2; stroke-opacity:0.1; fill:none\" points=\"\n",
       "  2012.31,1487.47 2012.31,47.2441 \n",
       "  \"/>\n",
       "<polyline clip-path=\"url(#clip1202)\" style=\"stroke:#000000; stroke-width:2; stroke-opacity:0.1; fill:none\" points=\"\n",
       "  140.517,1446.71 2352.76,1446.71 \n",
       "  \"/>\n",
       "<polyline clip-path=\"url(#clip1202)\" style=\"stroke:#000000; stroke-width:2; stroke-opacity:0.1; fill:none\" points=\"\n",
       "  140.517,1034.98 2352.76,1034.98 \n",
       "  \"/>\n",
       "<polyline clip-path=\"url(#clip1202)\" style=\"stroke:#000000; stroke-width:2; stroke-opacity:0.1; fill:none\" points=\"\n",
       "  140.517,623.254 2352.76,623.254 \n",
       "  \"/>\n",
       "<polyline clip-path=\"url(#clip1202)\" style=\"stroke:#000000; stroke-width:2; stroke-opacity:0.1; fill:none\" points=\"\n",
       "  140.517,211.524 2352.76,211.524 \n",
       "  \"/>\n",
       "<polyline clip-path=\"url(#clip1200)\" style=\"stroke:#000000; stroke-width:4; stroke-opacity:1; fill:none\" points=\"\n",
       "  140.517,1487.47 2352.76,1487.47 \n",
       "  \"/>\n",
       "<polyline clip-path=\"url(#clip1200)\" style=\"stroke:#000000; stroke-width:4; stroke-opacity:1; fill:none\" points=\"\n",
       "  140.517,1487.47 140.517,47.2441 \n",
       "  \"/>\n",
       "<polyline clip-path=\"url(#clip1200)\" style=\"stroke:#000000; stroke-width:4; stroke-opacity:1; fill:none\" points=\"\n",
       "  262.194,1487.47 262.194,1465.87 \n",
       "  \"/>\n",
       "<polyline clip-path=\"url(#clip1200)\" style=\"stroke:#000000; stroke-width:4; stroke-opacity:1; fill:none\" points=\"\n",
       "  699.724,1487.47 699.724,1465.87 \n",
       "  \"/>\n",
       "<polyline clip-path=\"url(#clip1200)\" style=\"stroke:#000000; stroke-width:4; stroke-opacity:1; fill:none\" points=\"\n",
       "  1137.25,1487.47 1137.25,1465.87 \n",
       "  \"/>\n",
       "<polyline clip-path=\"url(#clip1200)\" style=\"stroke:#000000; stroke-width:4; stroke-opacity:1; fill:none\" points=\"\n",
       "  1574.78,1487.47 1574.78,1465.87 \n",
       "  \"/>\n",
       "<polyline clip-path=\"url(#clip1200)\" style=\"stroke:#000000; stroke-width:4; stroke-opacity:1; fill:none\" points=\"\n",
       "  2012.31,1487.47 2012.31,1465.87 \n",
       "  \"/>\n",
       "<polyline clip-path=\"url(#clip1200)\" style=\"stroke:#000000; stroke-width:4; stroke-opacity:1; fill:none\" points=\"\n",
       "  140.517,1446.71 173.7,1446.71 \n",
       "  \"/>\n",
       "<polyline clip-path=\"url(#clip1200)\" style=\"stroke:#000000; stroke-width:4; stroke-opacity:1; fill:none\" points=\"\n",
       "  140.517,1034.98 173.7,1034.98 \n",
       "  \"/>\n",
       "<polyline clip-path=\"url(#clip1200)\" style=\"stroke:#000000; stroke-width:4; stroke-opacity:1; fill:none\" points=\"\n",
       "  140.517,623.254 173.7,623.254 \n",
       "  \"/>\n",
       "<polyline clip-path=\"url(#clip1200)\" style=\"stroke:#000000; stroke-width:4; stroke-opacity:1; fill:none\" points=\"\n",
       "  140.517,211.524 173.7,211.524 \n",
       "  \"/>\n",
       "<g clip-path=\"url(#clip1200)\">\n",
       "<text style=\"fill:#000000; fill-opacity:1; font-family:Arial,Helvetica Neue,Helvetica,sans-serif; font-size:48px; text-anchor:middle;\" transform=\"rotate(0, 262.194, 1541.47)\" x=\"262.194\" y=\"1541.47\">24</text>\n",
       "</g>\n",
       "<g clip-path=\"url(#clip1200)\">\n",
       "<text style=\"fill:#000000; fill-opacity:1; font-family:Arial,Helvetica Neue,Helvetica,sans-serif; font-size:48px; text-anchor:middle;\" transform=\"rotate(0, 699.724, 1541.47)\" x=\"699.724\" y=\"1541.47\">26</text>\n",
       "</g>\n",
       "<g clip-path=\"url(#clip1200)\">\n",
       "<text style=\"fill:#000000; fill-opacity:1; font-family:Arial,Helvetica Neue,Helvetica,sans-serif; font-size:48px; text-anchor:middle;\" transform=\"rotate(0, 1137.25, 1541.47)\" x=\"1137.25\" y=\"1541.47\">28</text>\n",
       "</g>\n",
       "<g clip-path=\"url(#clip1200)\">\n",
       "<text style=\"fill:#000000; fill-opacity:1; font-family:Arial,Helvetica Neue,Helvetica,sans-serif; font-size:48px; text-anchor:middle;\" transform=\"rotate(0, 1574.78, 1541.47)\" x=\"1574.78\" y=\"1541.47\">30</text>\n",
       "</g>\n",
       "<g clip-path=\"url(#clip1200)\">\n",
       "<text style=\"fill:#000000; fill-opacity:1; font-family:Arial,Helvetica Neue,Helvetica,sans-serif; font-size:48px; text-anchor:middle;\" transform=\"rotate(0, 2012.31, 1541.47)\" x=\"2012.31\" y=\"1541.47\">32</text>\n",
       "</g>\n",
       "<g clip-path=\"url(#clip1200)\">\n",
       "<text style=\"fill:#000000; fill-opacity:1; font-family:Arial,Helvetica Neue,Helvetica,sans-serif; font-size:48px; text-anchor:end;\" transform=\"rotate(0, 116.517, 1464.21)\" x=\"116.517\" y=\"1464.21\">0</text>\n",
       "</g>\n",
       "<g clip-path=\"url(#clip1200)\">\n",
       "<text style=\"fill:#000000; fill-opacity:1; font-family:Arial,Helvetica Neue,Helvetica,sans-serif; font-size:48px; text-anchor:end;\" transform=\"rotate(0, 116.517, 1052.48)\" x=\"116.517\" y=\"1052.48\">10</text>\n",
       "</g>\n",
       "<g clip-path=\"url(#clip1200)\">\n",
       "<text style=\"fill:#000000; fill-opacity:1; font-family:Arial,Helvetica Neue,Helvetica,sans-serif; font-size:48px; text-anchor:end;\" transform=\"rotate(0, 116.517, 640.754)\" x=\"116.517\" y=\"640.754\">20</text>\n",
       "</g>\n",
       "<g clip-path=\"url(#clip1200)\">\n",
       "<text style=\"fill:#000000; fill-opacity:1; font-family:Arial,Helvetica Neue,Helvetica,sans-serif; font-size:48px; text-anchor:end;\" transform=\"rotate(0, 116.517, 229.024)\" x=\"116.517\" y=\"229.024\">30</text>\n",
       "</g>\n",
       "<path clip-path=\"url(#clip1202)\" d=\"\n",
       "M262.194 1117.33 L262.194 1446.71 L480.959 1446.71 L480.959 1117.33 L262.194 1117.33 L262.194 1117.33  Z\n",
       "  \" fill=\"#009af9\" fill-rule=\"evenodd\" fill-opacity=\"1\"/>\n",
       "<polyline clip-path=\"url(#clip1202)\" style=\"stroke:#000000; stroke-width:4; stroke-opacity:1; fill:none\" points=\"\n",
       "  262.194,1117.33 262.194,1446.71 480.959,1446.71 480.959,1117.33 262.194,1117.33 \n",
       "  \"/>\n",
       "<path clip-path=\"url(#clip1202)\" d=\"\n",
       "M480.959 252.697 L480.959 1446.71 L699.724 1446.71 L699.724 252.697 L480.959 252.697 L480.959 252.697  Z\n",
       "  \" fill=\"#009af9\" fill-rule=\"evenodd\" fill-opacity=\"1\"/>\n",
       "<polyline clip-path=\"url(#clip1202)\" style=\"stroke:#000000; stroke-width:4; stroke-opacity:1; fill:none\" points=\"\n",
       "  480.959,252.697 480.959,1446.71 699.724,1446.71 699.724,252.697 480.959,252.697 \n",
       "  \"/>\n",
       "<path clip-path=\"url(#clip1202)\" d=\"\n",
       "M699.724 88.0053 L699.724 1446.71 L918.489 1446.71 L918.489 88.0053 L699.724 88.0053 L699.724 88.0053  Z\n",
       "  \" fill=\"#009af9\" fill-rule=\"evenodd\" fill-opacity=\"1\"/>\n",
       "<polyline clip-path=\"url(#clip1202)\" style=\"stroke:#000000; stroke-width:4; stroke-opacity:1; fill:none\" points=\"\n",
       "  699.724,88.0053 699.724,1446.71 918.489,1446.71 918.489,88.0053 699.724,88.0053 \n",
       "  \"/>\n",
       "<path clip-path=\"url(#clip1202)\" d=\"\n",
       "M918.489 746.773 L918.489 1446.71 L1137.25 1446.71 L1137.25 746.773 L918.489 746.773 L918.489 746.773  Z\n",
       "  \" fill=\"#009af9\" fill-rule=\"evenodd\" fill-opacity=\"1\"/>\n",
       "<polyline clip-path=\"url(#clip1202)\" style=\"stroke:#000000; stroke-width:4; stroke-opacity:1; fill:none\" points=\"\n",
       "  918.489,746.773 918.489,1446.71 1137.25,1446.71 1137.25,746.773 918.489,746.773 \n",
       "  \"/>\n",
       "<path clip-path=\"url(#clip1202)\" d=\"\n",
       "M1137.25 1199.68 L1137.25 1446.71 L1356.02 1446.71 L1356.02 1199.68 L1137.25 1199.68 L1137.25 1199.68  Z\n",
       "  \" fill=\"#009af9\" fill-rule=\"evenodd\" fill-opacity=\"1\"/>\n",
       "<polyline clip-path=\"url(#clip1202)\" style=\"stroke:#000000; stroke-width:4; stroke-opacity:1; fill:none\" points=\"\n",
       "  1137.25,1199.68 1137.25,1446.71 1356.02,1446.71 1356.02,1199.68 1137.25,1199.68 \n",
       "  \"/>\n",
       "<path clip-path=\"url(#clip1202)\" d=\"\n",
       "M1356.02 1240.85 L1356.02 1446.71 L1574.78 1446.71 L1574.78 1240.85 L1356.02 1240.85 L1356.02 1240.85  Z\n",
       "  \" fill=\"#009af9\" fill-rule=\"evenodd\" fill-opacity=\"1\"/>\n",
       "<polyline clip-path=\"url(#clip1202)\" style=\"stroke:#000000; stroke-width:4; stroke-opacity:1; fill:none\" points=\"\n",
       "  1356.02,1240.85 1356.02,1446.71 1574.78,1446.71 1574.78,1240.85 1356.02,1240.85 \n",
       "  \"/>\n",
       "<path clip-path=\"url(#clip1202)\" d=\"\n",
       "M1574.78 1405.54 L1574.78 1446.71 L1793.55 1446.71 L1793.55 1405.54 L1574.78 1405.54 L1574.78 1405.54  Z\n",
       "  \" fill=\"#009af9\" fill-rule=\"evenodd\" fill-opacity=\"1\"/>\n",
       "<polyline clip-path=\"url(#clip1202)\" style=\"stroke:#000000; stroke-width:4; stroke-opacity:1; fill:none\" points=\"\n",
       "  1574.78,1405.54 1574.78,1446.71 1793.55,1446.71 1793.55,1405.54 1574.78,1405.54 \n",
       "  \"/>\n",
       "<path clip-path=\"url(#clip1202)\" d=\"\n",
       "M1793.55 1446.71 L1793.55 1446.71 L2012.31 1446.71 L2012.31 1446.71 L1793.55 1446.71 L1793.55 1446.71  Z\n",
       "  \" fill=\"#009af9\" fill-rule=\"evenodd\" fill-opacity=\"1\"/>\n",
       "<polyline clip-path=\"url(#clip1202)\" style=\"stroke:#000000; stroke-width:4; stroke-opacity:1; fill:none\" points=\"\n",
       "  1793.55,1446.71 1793.55,1446.71 2012.31,1446.71 1793.55,1446.71 \n",
       "  \"/>\n",
       "<path clip-path=\"url(#clip1202)\" d=\"\n",
       "M2012.31 1405.54 L2012.31 1446.71 L2231.08 1446.71 L2231.08 1405.54 L2012.31 1405.54 L2012.31 1405.54  Z\n",
       "  \" fill=\"#009af9\" fill-rule=\"evenodd\" fill-opacity=\"1\"/>\n",
       "<polyline clip-path=\"url(#clip1202)\" style=\"stroke:#000000; stroke-width:4; stroke-opacity:1; fill:none\" points=\"\n",
       "  2012.31,1405.54 2012.31,1446.71 2231.08,1446.71 2231.08,1405.54 2012.31,1405.54 \n",
       "  \"/>\n",
       "<path clip-path=\"url(#clip1200)\" d=\"\n",
       "M1989.93 251.724 L2280.76 251.724 L2280.76 130.764 L1989.93 130.764  Z\n",
       "  \" fill=\"#ffffff\" fill-rule=\"evenodd\" fill-opacity=\"1\"/>\n",
       "<polyline clip-path=\"url(#clip1200)\" style=\"stroke:#000000; stroke-width:4; stroke-opacity:1; fill:none\" points=\"\n",
       "  1989.93,251.724 2280.76,251.724 2280.76,130.764 1989.93,130.764 1989.93,251.724 \n",
       "  \"/>\n",
       "<path clip-path=\"url(#clip1200)\" d=\"\n",
       "M2013.93 215.436 L2157.93 215.436 L2157.93 167.052 L2013.93 167.052 L2013.93 215.436  Z\n",
       "  \" fill=\"#009af9\" fill-rule=\"evenodd\" fill-opacity=\"1\"/>\n",
       "<polyline clip-path=\"url(#clip1200)\" style=\"stroke:#000000; stroke-width:4; stroke-opacity:1; fill:none\" points=\"\n",
       "  2013.93,215.436 2157.93,215.436 2157.93,167.052 2013.93,167.052 2013.93,215.436 \n",
       "  \"/>\n",
       "<g clip-path=\"url(#clip1200)\">\n",
       "<text style=\"fill:#000000; fill-opacity:1; font-family:Arial,Helvetica Neue,Helvetica,sans-serif; font-size:48px; text-anchor:start;\" transform=\"rotate(0, 2181.93, 208.744)\" x=\"2181.93\" y=\"208.744\">y1</text>\n",
       "</g>\n",
       "</svg>\n"
      ]
     },
     "execution_count": 81,
     "metadata": {},
     "output_type": "execute_result"
    }
   ],
   "source": [
    "runs = 100\n",
    "final_objective_values = zeros(runs)\n",
    "max_iter = 1000\n",
    "\n",
    "for i = 1:runs\n",
    "    w, obj_vec = SLS_stoc_prox_grad(X,y; max_iter = 1000, alpha = 0.01, w = randn(d))\n",
    "    final_objective_values[i] = exp(obj_vec[max_iter])\n",
    "end\n",
    "#print(final_objective_values)\n",
    "print(w)\n",
    "histogram(final_objective_values)"
   ]
  },
  {
   "cell_type": "markdown",
   "metadata": {},
   "source": [
    "<br> <b> As can been seen above, stochastic SLS converges to a wider range of values of objective function as compared to general SLS and LASSO. \n",
    "    \n",
    "<br> <b> also range of objective function for stochastic SLS (22-32) is between objective function of general stochastic SLS(1.1) and for LASSO (48-50). </b>\n",
    "<br> \n",
    "<br> w_predicted: [-5.00, 16.98, 5.03, 0.0, 0.0, -7.00, 4.98, 0.0, 0.0, 0.10]\n",
    "<br> w_true: [-5, 17, 5, 0, 0, -7, 5, 0, 0, 0.1]\n",
    "<br> <b>Also predicted w is quite close to w_true. predicted w is 0 for corrext set of positions in w_true as well. </b>"
   ]
  },
  {
   "cell_type": "code",
   "execution_count": null,
   "metadata": {},
   "outputs": [],
   "source": []
  }
 ],
 "metadata": {
  "kernelspec": {
   "display_name": "Julia 1.2.0",
   "language": "julia",
   "name": "julia-1.2"
  },
  "language_info": {
   "file_extension": ".jl",
   "mimetype": "application/julia",
   "name": "julia",
   "version": "1.2.0"
  }
 },
 "nbformat": 4,
 "nbformat_minor": 1
}
