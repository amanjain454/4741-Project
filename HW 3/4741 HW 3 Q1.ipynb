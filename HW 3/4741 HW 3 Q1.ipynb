{
 "cells": [
  {
   "cell_type": "markdown",
   "metadata": {},
   "source": [
    "## <center> 4741, HW 3, Question 1 </center>\n",
    "## <center> Submitted by: Aman Jain (aj644) </center>"
   ]
  },
  {
   "cell_type": "markdown",
   "metadata": {},
   "source": [
    "### Part (a)"
   ]
  },
  {
   "cell_type": "markdown",
   "metadata": {},
   "source": [
    "<br> Probability that k people (at a polling station) vote for warren = $_{n}^{k}\\textrm{C} * \\mu^k * (1-\\mu)^(n-k) $\n",
    "<br> \n",
    "<br> Given n = 10, $/mu$ = 0.05\n",
    "<br> p = no. of polling stations, \n",
    "<br>\n",
    "<br> Lets P = Probability that at least one polling location will have ν_j = 0\n",
    "<br> or P = 1 - (No polling location will have νj = 0$)^p$ \n",
    "<br> or P = 1 - (P(At least one per person voted in favour)$)^p$\n",
    "<br> or P = 1 - (1 - P(k = 0)$)^p$\n",
    "<br> or P = 1 - (1 - (1-$\\mu)^n)^p$\n",
    "<br> or P = 1 - (1 - 0.95$^n)^p$\n",
    "<br> or P = 1 - (1 - 0.95^10)^p\n",
    "<br>\n",
    "<br> <b>$\\mu$ = 0.05</b>\n",
    "<br> for p = 1, \n",
    "<br> P = 1 - (1 - 0.95^10)^1\n",
    "<br> P = 0.5987\n",
    "<br>\n",
    "<br> for p = 1000, \n",
    "<br> P = 1 - (1 - 0.95^10)^1000\n",
    "<br> P = 1\n",
    "<br>\n",
    "<br> for p = 1,000,000 \n",
    "<br> P = 1 - (1 - 0.95^10)^1000000\n",
    "<br> P = 1\n",
    "<br>\n",
    "<br> <b>$\\mu$ = 0.8</b>\n",
    "<br> for p = 1, and \n",
    "<br> P = 1 - (1 - 0.2^10)^1\n",
    "<br> P = 1.024e-07\n",
    "<br>\n",
    "<br> for p = 1000,\n",
    "<br> P = 1 - (1 - 0.2^10)^1000\n",
    "<br> P = 0.0001023\n",
    "<br>\n",
    "<br> for p = 1000000\n",
    "<br> P = 1 - (1 - 0.2^10)^1000000\n",
    "<br> P = 0.09733\n"
   ]
  },
  {
   "cell_type": "code",
   "execution_count": 9,
   "metadata": {},
   "outputs": [
    {
     "data": {
      "text/plain": [
       "0.09733159268316072"
      ]
     },
     "execution_count": 9,
     "metadata": {},
     "output_type": "execute_result"
    }
   ],
   "source": [
    "p = 1-pow((1 - pow(0.2,10)),1000000)\n",
    "p"
   ]
  },
  {
   "cell_type": "markdown",
   "metadata": {},
   "source": [
    "### Part (b)"
   ]
  },
  {
   "cell_type": "code",
   "execution_count": 38,
   "metadata": {},
   "outputs": [],
   "source": [
    "from scipy.stats import binom\n",
    "import matplotlib.pyplot as plt\n",
    "import numpy as np"
   ]
  },
  {
   "cell_type": "code",
   "execution_count": 12,
   "metadata": {},
   "outputs": [
    {
     "data": {
      "text/plain": [
       "array([0.015625, 0.09375 , 0.234375, 0.3125  , 0.234375, 0.09375 ,\n",
       "       0.015625])"
      ]
     },
     "execution_count": 12,
     "metadata": {},
     "output_type": "execute_result"
    }
   ],
   "source": [
    "X = [0,1,2,3,4,5,6]\n",
    "Y = binom.pmf(X,6,0.5)\n",
    "Y"
   ]
  },
  {
   "cell_type": "markdown",
   "metadata": {},
   "source": [
    "<br> lets consider, P = $P[[|ν_1 −μ|>ε]$\n",
    "<br> P(ε) = 2* $P[|ν_1 −0.5|>ε]$ for ε > 0, (as for $\\mu$ = 0.5, probability function will be constant around the mean)\n",
    "<br> P(ε) = 2* $P[|ν_1 > 0.5 + ε]$ for ε > 0\n",
    "<br> P(ε) = 2* $P[|K >n*(0.5 + ε)]$ for ε > 0\n",
    "<br> P(ε) = 2* $P[|K > 6*(0.5 + ε)]$ for ε > 0\n",
    "<br> P(ε) = 2* $P[|K > 3 + 6ε)]$ for ε > 0"
   ]
  },
  {
   "cell_type": "markdown",
   "metadata": {},
   "source": [
    "Coming back to P(ε):\n",
    "<br> P(ε) = 2* $P[|K > 3 + 6ε)]$ for ε > 0\n",
    "<br> P(ε = 0) = 2*$P[|K > 3)]$ = 2* P[K = 4,5,6] = 0.6875\n",
    "<br> P(ε = 0.05) = 2*$P[|K > 3+0.3)]$ = 2*$P[|K > 3.3)]$ = 2* P[K = 4,5,6] = 0.6875\n",
    "<br> P(ε = 0.1) = 2*$P[|K > 3+0.6)]$ = 2*$P[|K > 3.6)]$ = 2* P[K = 4,5,6] = 0.6875\n",
    "<br> P(ε = 0.15) = 2*$P[|K > 3+0.9)]$ = 2*$P[|K > 3.9)]$ = 2* P[K = 4,5,6] = 0.6875\n",
    "<br> P(ε = 0.2) = 2*$P[|K > 3+1.2)]$ = 2*$P[|K > 4.2)]$ = 2* P[K = 5,6] = 0.21875\n",
    "<br> P(ε = 0.25) = 2*$P[|K > 3+1.5)]$ = 2*$P[|K > 4.5)]$ = 2* P[K = 5,6] = 0.21875\n",
    "<br> P(ε = 0.3) = 2*$P[|K > 3+1.8)]$ = 2*$P[|K > 4.8)]$ = 2* P[K = 5,6] = 0.21875\n",
    "<br> P(ε = 0.35) = 2*$P[|K > 3+2.1)]$ = 2*$P[|K > 5.1)]$ = 2* P[K = 6] = 0.03125\n",
    "<br> P(ε = 0.4) = 2*$P[|K > 3+2.4)]$ = 2*$P[|K > 5.4)]$ = 2* P[K = 6] = 0.03125\n",
    "<br> P(ε = 0.45) = 2*$P[|K > 3+2.7)]$ = 2*$P[|K > 5.7)]$ = 2* P[K = 6] = 0.03125\n",
    "<br> P(ε = 0.5) = 2*$P[|K > 3+3)]$ = 2*$P[|K > 6)]$ = 2* 0 = 0\n",
    "<br> P(ε > 0.5) = 0"
   ]
  },
  {
   "cell_type": "code",
   "execution_count": 39,
   "metadata": {},
   "outputs": [
    {
     "data": {
      "text/plain": [
       "0.03125"
      ]
     },
     "execution_count": 39,
     "metadata": {},
     "output_type": "execute_result"
    }
   ],
   "source": [
    "a = 0.015625\n",
    "2*a"
   ]
  },
  {
   "cell_type": "code",
   "execution_count": 19,
   "metadata": {},
   "outputs": [
    {
     "data": {
      "text/plain": [
       "0.0615234375"
      ]
     },
     "execution_count": 19,
     "metadata": {},
     "output_type": "execute_result"
    }
   ],
   "source": [
    "b = 0.03125\n",
    "2*b - pow(b,2)"
   ]
  },
  {
   "cell_type": "code",
   "execution_count": 22,
   "metadata": {},
   "outputs": [
    {
     "data": {
      "text/plain": [
       "array([0.  , 0.05, 0.1 , 0.15, 0.2 , 0.25, 0.3 , 0.35, 0.4 , 0.45, 0.5 ,\n",
       "       0.55, 0.6 , 0.65, 0.7 , 0.75, 0.8 , 0.85, 0.9 , 0.95, 1.  ])"
      ]
     },
     "execution_count": 22,
     "metadata": {},
     "output_type": "execute_result"
    }
   ],
   "source": [
    "h = np.linspace(0,1,21)\n",
    "h"
   ]
  },
  {
   "cell_type": "code",
   "execution_count": 35,
   "metadata": {},
   "outputs": [
    {
     "data": {
      "text/plain": [
       "21"
      ]
     },
     "execution_count": 35,
     "metadata": {},
     "output_type": "execute_result"
    }
   ],
   "source": [
    "P = [0.6875, 0.6875 ,0.6875 ,0.6875 ,0.21875, 0.21875, 0.21875, 0.03125 ,0.03125 ,0.03125 , 0,0,0,0,0,0,0,0,0,0,0] \n",
    "np.size(P)"
   ]
  },
  {
   "cell_type": "code",
   "execution_count": 40,
   "metadata": {},
   "outputs": [
    {
     "data": {
      "text/plain": [
       "[<matplotlib.lines.Line2D at 0x1a1e59a7b8>]"
      ]
     },
     "execution_count": 40,
     "metadata": {},
     "output_type": "execute_result"
    },
    {
     "data": {
      "image/png": "[encoded data removed]",
      "text/plain": [
       "<Figure size 432x288 with 1 Axes>"
      ]
     },
     "metadata": {
      "needs_background": "light"
     },
     "output_type": "display_data"
    }
   ],
   "source": [
    "plt.plot(h,P)"
   ]
  },
  {
   "cell_type": "markdown",
   "metadata": {},
   "source": [
    "using Hoeffding Inequality, P[|ν − μ| > ε] ≤ 2e−2nε2, "
   ]
  },
  {
   "cell_type": "code",
   "execution_count": 41,
   "metadata": {},
   "outputs": [],
   "source": [
    "P_hoeff = 2*np.exp(-2*6*pow(h,2))"
   ]
  },
  {
   "cell_type": "code",
   "execution_count": 42,
   "metadata": {},
   "outputs": [
    {
     "data": {
      "text/plain": [
       "array([2.00000000e+00, 1.94089107e+00, 1.77384087e+00, 1.52675899e+00,\n",
       "       1.23756678e+00, 9.44733105e-01, 6.79191051e-01, 4.59850970e-01,\n",
       "       2.93213924e-01, 1.76073665e-01, 9.95741367e-02, 5.30323688e-02,\n",
       "       2.65997671e-02, 1.25648403e-02, 5.58957055e-03, 2.34175924e-03,\n",
       "       9.23949798e-04, 3.43318208e-04, 1.20140001e-04, 3.95932139e-05,\n",
       "       1.22884247e-05])"
      ]
     },
     "execution_count": 42,
     "metadata": {},
     "output_type": "execute_result"
    }
   ],
   "source": [
    "P_hoeff"
   ]
  },
  {
   "cell_type": "code",
   "execution_count": 43,
   "metadata": {},
   "outputs": [
    {
     "data": {
      "text/plain": [
       "[<matplotlib.lines.Line2D at 0x1a1e50ec88>]"
      ]
     },
     "execution_count": 43,
     "metadata": {},
     "output_type": "execute_result"
    },
    {
     "data": {
      "image/png": "[encoded data removed]",
      "text/plain": [
       "<Figure size 432x288 with 1 Axes>"
      ]
     },
     "metadata": {
      "needs_background": "light"
     },
     "output_type": "display_data"
    }
   ],
   "source": [
    "plt.plot(h,P_hoeff)\n",
    "plt.plot(h,P)"
   ]
  },
  {
   "cell_type": "markdown",
   "metadata": {},
   "source": [
    "Now lets consider two centers: \n",
    "<br>Required probability, G(ε) = $P[max|ν_j −μ|>ε]$\n",
    "<br>Required probability, G(ε) = $P((|ν_1 −μ|>ε $ OR $|ν_2 −μ|) > ε)$\n",
    "<br>Required probability, G(ε) = $P(|ν_1 −μ| > ε )$ + P$(|ν_2 −μ| > ε)$ - $P((|ν_1 −μ| > ε)$ AND $(|ν_2 −μ| > ε)) >0)$\n",
    "<br>Required probability, G(ε) = $P(|ν_1 −μ| > ε )$ + P$(|ν_2 −μ| > ε)$ - $P((|ν_1 −μ| > ε)*(|ν_2 −μ| > ε)) >0)$ (v1 and v2 are independent)\n",
    "<br>Required probability, G(ε) = P(ε) + P(ε) - P(ε)* P(ε) (referring to P(ε) calculated above)\n",
    "<br>Required probability, G(ε) = 2P(ε) - $(P(ε))^2$"
   ]
  },
  {
   "cell_type": "markdown",
   "metadata": {},
   "source": [
    "<br>Required probability, G(ε) = 2P(ε) - (P(ε))^2\n",
    "<br> G(ε = 0) = 2 * 0.6875 - (0.6875)^2 = 0.90234375\n",
    "<br> G(ε = 0.05) = 0.90234375\n",
    "<br> G(ε = 0.1) = 0.90234375\n",
    "<br> G(ε = 0.15) = 0.90234375\n",
    "<br> G(ε = 0.2) = 0.3896484375\n",
    "<br> G(ε = 0.25) = 0.3896484375\n",
    "<br> G(ε = 0.3) = 0.3896484375\n",
    "<br> G(ε = 0.35) = 0.0615234375\n",
    "<br> G(ε = 0.4) = 0.0615234375\n",
    "<br> G(ε = 0.45) = 0.0615234375\n",
    "<br> G(ε = 0.5) = 0\n",
    "<br> G(ε > 0.5) = 0"
   ]
  },
  {
   "cell_type": "code",
   "execution_count": 25,
   "metadata": {},
   "outputs": [
    {
     "data": {
      "text/plain": [
       "21"
      ]
     },
     "execution_count": 25,
     "metadata": {},
     "output_type": "execute_result"
    }
   ],
   "source": [
    "G = [0.90234375, 0.90234375 ,0.90234375 ,0.90234375 , 0.3896484375, 0.3896484375, 0.3896484375, 0.0615234375 ,0.0615234375 ,0.0615234375 , 0,0,0,0,0,0,0,0,0,0,0] \n",
    "np.size(G)"
   ]
  },
  {
   "cell_type": "code",
   "execution_count": 44,
   "metadata": {},
   "outputs": [
    {
     "data": {
      "text/plain": [
       "[<matplotlib.lines.Line2D at 0x1a1e6b5b38>]"
      ]
     },
     "execution_count": 44,
     "metadata": {},
     "output_type": "execute_result"
    },
    {
     "data": {
      "image/png": "[encoded data removed]",
      "text/plain": [
       "<Figure size 432x288 with 1 Axes>"
      ]
     },
     "metadata": {
      "needs_background": "light"
     },
     "output_type": "display_data"
    }
   ],
   "source": [
    "plt.plot(h,P_hoeff)\n",
    "plt.plot(h,G)"
   ]
  }
 ],
 "metadata": {
  "kernelspec": {
   "display_name": "Python 3",
   "language": "python",
   "name": "python3"
  },
  "language_info": {
   "codemirror_mode": {
    "name": "ipython",
    "version": 3
   },
   "file_extension": ".py",
   "mimetype": "text/x-python",
   "name": "python",
   "nbconvert_exporter": "python",
   "pygments_lexer": "ipython3",
   "version": "3.7.3"
  }
 },
 "nbformat": 4,
 "nbformat_minor": 2
}
