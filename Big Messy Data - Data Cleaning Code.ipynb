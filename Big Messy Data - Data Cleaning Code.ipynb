{
 "cells": [
  {
   "cell_type": "code",
   "execution_count": 2,
   "metadata": {},
   "outputs": [],
   "source": [
    "import pandas as pd\n",
    "import numpy as np\n",
    "import json, urllib\n",
    "from datetime import datetime\n",
    "import matplotlib.pyplot as plt\n",
    "import math"
   ]
  },
  {
   "cell_type": "markdown",
   "metadata": {},
   "source": [
    "#### Sheets Consolidated"
   ]
  },
  {
   "cell_type": "code",
   "execution_count": 3,
   "metadata": {},
   "outputs": [],
   "source": [
    "datalocation = 'C:/Users/yours/OneDrive/Documents/2019 - Cornell - Coursework/Big Messy/Project MoveInSync/MoveInSyncData-consolidated.csv'\n",
    "df = pd.read_csv(datalocation)\n",
    "original_data = df"
   ]
  },
  {
   "cell_type": "code",
   "execution_count": 4,
   "metadata": {},
   "outputs": [],
   "source": [
    "df = original_data"
   ]
  },
  {
   "cell_type": "markdown",
   "metadata": {},
   "source": [
    "#### Split Lat and Long"
   ]
  },
  {
   "cell_type": "code",
   "execution_count": 5,
   "metadata": {},
   "outputs": [],
   "source": [
    "df[['pickup_geoX','pickup_geoY']] = df['pickup_geo'].str.split(',',expand=True)\n",
    "df[['drop_geoX','drop_geoY']] = df['drop_geo'].str.split(',',expand=True)"
   ]
  },
  {
   "cell_type": "code",
   "execution_count": 6,
   "metadata": {},
   "outputs": [],
   "source": [
    "df['pickup_geoX'] = df['pickup_geoX'].astype(float)\n",
    "df['pickup_geoY'] = df['pickup_geoY'].astype(float)\n",
    "df['drop_geoX'] = df['drop_geoX'].astype(float)\n",
    "df['drop_geoY'] = df['drop_geoY'].astype(float)"
   ]
  },
  {
   "cell_type": "markdown",
   "metadata": {},
   "source": [
    "#### Protect Privacy of Company"
   ]
  },
  {
   "cell_type": "code",
   "execution_count": 7,
   "metadata": {},
   "outputs": [],
   "source": [
    "df['Company'] = 0\n",
    "df.loc[df['bunit_id']=='att-ATT','Company'] = 1\n",
    "df.loc[df['bunit_id']=='dxcshell-DBlr','Company'] = 2\n",
    "df.loc[df['bunit_id']=='cerner-GTP','Company'] = 3\n",
    "df.loc[df['bunit_id']=='cerner-MBlr','Company'] = 4\n",
    "df.loc[df['bunit_id']=='fico-FBlr','Company'] = 5\n",
    "df.loc[df['bunit_id']=='hbc-HBlr','Company'] = 6\n",
    "df.loc[df['bunit_id']=='ensono-Ensono','Company'] = 7\n",
    "df.loc[df['bunit_id']=='nutanix-NBlr','Company'] = 8\n",
    "df.loc[df['bunit_id']=='infosys-IBlr','Company'] = 9\n",
    "df.loc[df['bunit_id']=='rideinsync-blr','Company'] = 10"
   ]
  },
  {
   "cell_type": "markdown",
   "metadata": {},
   "source": [
    "#### Distance Calculation"
   ]
  },
  {
   "cell_type": "code",
   "execution_count": 8,
   "metadata": {},
   "outputs": [],
   "source": [
    "lon2 = df['drop_geoY']\n",
    "lat2 = df['drop_geoX']\n",
    "lon1 = (df['pickup_geoY'])\n",
    "lat1 = (df['pickup_geoX'])\n",
    "\n",
    "radius = 6371  # km\n",
    "dlat = (lat2 - lat1)\n",
    "dlon = (lon2 - lon1)\n",
    "dlat = [math.sin(math.radians(x)/2)*math.sin(math.radians(x)/2) for x in dlat]\n",
    "dlon = [math.sin(math.radians(x)/2)*math.sin(math.radians(x)/2) for x in dlon]\n",
    "cosradlat1 = [math.cos(math.radians(x)) for x in lat1]\n",
    "cosradlat2 = [math.cos(math.radians(x)) for x in lat2]\n",
    "a = dlat + np.multiply(np.multiply(cosradlat1,cosradlat2),dlon)\n",
    "c = [2 * math.atan2(math.sqrt(x), math.sqrt(1 - x)) for x in a]\n",
    "df['distance'] = [radius * x for x in c]"
   ]
  },
  {
   "cell_type": "markdown",
   "metadata": {},
   "source": [
    "#### Extracting Time, Month, Hour, Minute, Day of Week from Planned Pickup Time and Shift Time"
   ]
  },
  {
   "cell_type": "code",
   "execution_count": 9,
   "metadata": {
    "scrolled": true
   },
   "outputs": [
    {
     "data": {
      "text/plain": [
       "0    2019-05-16 06:45:00\n",
       "1    2019-05-16 06:26:00\n",
       "2    2019-05-16 15:45:00\n",
       "3    2019-05-16 01:45:00\n",
       "4    2019-05-16 06:09:00\n",
       "Name: planned_pickup_time, dtype: object"
      ]
     },
     "execution_count": 9,
     "metadata": {},
     "output_type": "execute_result"
    }
   ],
   "source": [
    "df.planned_pickup_time.head()"
   ]
  },
  {
   "cell_type": "code",
   "execution_count": 10,
   "metadata": {},
   "outputs": [],
   "source": [
    "x = list(df.planned_pickup_time)\n",
    "df['dayofweek'] = [str(p)[5:10] for p in x]\n",
    "df['Hourpickup']= [str(p)[11:13] for p in x]\n",
    "df['Minutepickup']= [str(p)[14:16] for p in x]\n",
    "df['month']= [str(p)[5:7] for p in x]"
   ]
  },
  {
   "cell_type": "code",
   "execution_count": 11,
   "metadata": {},
   "outputs": [],
   "source": [
    "x = list(df.shift_time_type)\n",
    "df['hour_shift']= [str(p)[:2] for p in x]\n",
    "df['minute_shift']= [str(p)[3:5] for p in x]"
   ]
  },
  {
   "cell_type": "code",
   "execution_count": 12,
   "metadata": {},
   "outputs": [],
   "source": [
    "storedf = df"
   ]
  },
  {
   "cell_type": "code",
   "execution_count": 13,
   "metadata": {},
   "outputs": [
    {
     "data": {
      "text/plain": [
       "Index(['shift_time_type', 'date', 'bunit_id', 'profile_office', 'employee_id',\n",
       "       'trip_id', 'trip_type', 'actual_cab_registration',\n",
       "       'actual_vendor_cab_id', 'vendor_id', 'gender', 'planned_escort',\n",
       "       'planned_km', 'traveled_km', 'employee_order', 'employee_count',\n",
       "       'required_escort', 'cab_type', 'trip_state_text', 'pickup_geo',\n",
       "       'drop_geo', 'planned_pickup_time', 'pickup_geoX', 'pickup_geoY',\n",
       "       'drop_geoX', 'drop_geoY', 'Company', 'distance', 'dayofweek',\n",
       "       'Hourpickup', 'Minutepickup', 'month', 'hour_shift', 'minute_shift'],\n",
       "      dtype='object')"
      ]
     },
     "execution_count": 13,
     "metadata": {},
     "output_type": "execute_result"
    }
   ],
   "source": [
    "original_data.columns"
   ]
  },
  {
   "cell_type": "markdown",
   "metadata": {},
   "source": [
    "#### Extracting Relevant Features"
   ]
  },
  {
   "cell_type": "code",
   "execution_count": 17,
   "metadata": {},
   "outputs": [],
   "source": [
    "features_req = ['employee_id','trip_id','trip_type','gender','cab_type', 'trip_state_text','planned_pickup_time', 'pickup_geoX', 'pickup_geoY',\n",
    "       'drop_geoX', 'drop_geoY', 'distance', 'Company', 'dayofweek', 'Hourpickup', 'Minutepickup',\n",
    "       'month']"
   ]
  },
  {
   "cell_type": "code",
   "execution_count": 18,
   "metadata": {},
   "outputs": [],
   "source": [
    "cleaneddf = df[features_req]"
   ]
  },
  {
   "cell_type": "markdown",
   "metadata": {},
   "source": [
    "#### Removing Data"
   ]
  },
  {
   "cell_type": "code",
   "execution_count": 19,
   "metadata": {},
   "outputs": [],
   "source": [
    "df1 = cleaneddf"
   ]
  },
  {
   "cell_type": "code",
   "execution_count": 20,
   "metadata": {},
   "outputs": [
    {
     "data": {
      "text/plain": [
       "(896047, 17)"
      ]
     },
     "execution_count": 20,
     "metadata": {},
     "output_type": "execute_result"
    }
   ],
   "source": [
    "df1.shape"
   ]
  },
  {
   "cell_type": "markdown",
   "metadata": {},
   "source": [
    "#### Extracting only Completed Trips"
   ]
  },
  {
   "cell_type": "code",
   "execution_count": 21,
   "metadata": {},
   "outputs": [
    {
     "data": {
      "text/plain": [
       "(700506, 17)"
      ]
     },
     "execution_count": 21,
     "metadata": {},
     "output_type": "execute_result"
    }
   ],
   "source": [
    "df1 = df1[df1.trip_state_text == 'COMPLETED']\n",
    "df1.shape"
   ]
  },
  {
   "cell_type": "markdown",
   "metadata": {},
   "source": [
    "#### Removing Chennai and Pune Data"
   ]
  },
  {
   "cell_type": "code",
   "execution_count": 22,
   "metadata": {},
   "outputs": [
    {
     "data": {
      "text/plain": [
       "(679815, 17)"
      ]
     },
     "execution_count": 22,
     "metadata": {},
     "output_type": "execute_result"
    }
   ],
   "source": [
    "df1 = df1[(df1['pickup_geoX'] < 17) | (df1['pickup_geoX'] == 0 ) | (df1['pickup_geoX'].isnull())]\n",
    "df1 = df1[(df1['pickup_geoY'] < 79) | (df1['pickup_geoY'] == 0 ) | (df1['pickup_geoY'].isnull())]\n",
    "df1 = df1[(df1['drop_geoY'] < 80) | (df1['drop_geoY'] == 0 ) | (df1['drop_geoY'].isnull())]\n",
    "df1 = df1[(df1['drop_geoX'] < 13.4) | (df1['drop_geoX'] == 0 ) | (df1['drop_geoX'].isnull())]\n",
    "df1.shape"
   ]
  },
  {
   "cell_type": "markdown",
   "metadata": {},
   "source": [
    "#### Removing rows with no Employee ID ( same as the rows with no Gender)"
   ]
  },
  {
   "cell_type": "code",
   "execution_count": 24,
   "metadata": {},
   "outputs": [
    {
     "data": {
      "text/plain": [
       "(677787, 17)"
      ]
     },
     "execution_count": 24,
     "metadata": {},
     "output_type": "execute_result"
    }
   ],
   "source": [
    "df1 = df1[~df1.employee_id.isnull()]\n",
    "df1.shape"
   ]
  },
  {
   "cell_type": "code",
   "execution_count": 25,
   "metadata": {},
   "outputs": [
    {
     "data": {
      "text/plain": [
       "Index(['employee_id', 'trip_id', 'trip_type', 'gender', 'cab_type',\n",
       "       'trip_state_text', 'planned_pickup_time', 'pickup_geoX', 'pickup_geoY',\n",
       "       'drop_geoX', 'drop_geoY', 'distance', 'Company', 'dayofweek',\n",
       "       'Hourpickup', 'Minutepickup', 'month'],\n",
       "      dtype='object')"
      ]
     },
     "execution_count": 25,
     "metadata": {},
     "output_type": "execute_result"
    }
   ],
   "source": [
    "df1.columns"
   ]
  },
  {
   "cell_type": "code",
   "execution_count": 26,
   "metadata": {},
   "outputs": [
    {
     "data": {
      "text/html": [
       "<div>\n",
       "<style scoped>\n",
       "    .dataframe tbody tr th:only-of-type {\n",
       "        vertical-align: middle;\n",
       "    }\n",
       "\n",
       "    .dataframe tbody tr th {\n",
       "        vertical-align: top;\n",
       "    }\n",
       "\n",
       "    .dataframe thead th {\n",
       "        text-align: right;\n",
       "    }\n",
       "</style>\n",
       "<table border=\"1\" class=\"dataframe\">\n",
       "  <thead>\n",
       "    <tr style=\"text-align: right;\">\n",
       "      <th></th>\n",
       "      <th>trip_id</th>\n",
       "      <th>pickup_geoX</th>\n",
       "      <th>pickup_geoY</th>\n",
       "      <th>drop_geoX</th>\n",
       "      <th>drop_geoY</th>\n",
       "      <th>distance</th>\n",
       "      <th>Company</th>\n",
       "    </tr>\n",
       "  </thead>\n",
       "  <tbody>\n",
       "    <tr>\n",
       "      <th>count</th>\n",
       "      <td>6.777870e+05</td>\n",
       "      <td>647988.000000</td>\n",
       "      <td>647988.000000</td>\n",
       "      <td>647988.000000</td>\n",
       "      <td>647988.000000</td>\n",
       "      <td>647988.000000</td>\n",
       "      <td>677787.000000</td>\n",
       "    </tr>\n",
       "    <tr>\n",
       "      <th>mean</th>\n",
       "      <td>7.856079e+05</td>\n",
       "      <td>12.880570</td>\n",
       "      <td>77.404153</td>\n",
       "      <td>12.895569</td>\n",
       "      <td>77.444947</td>\n",
       "      <td>20.083719</td>\n",
       "      <td>7.178574</td>\n",
       "    </tr>\n",
       "    <tr>\n",
       "      <th>std</th>\n",
       "      <td>3.964730e+05</td>\n",
       "      <td>0.722697</td>\n",
       "      <td>4.317989</td>\n",
       "      <td>0.650422</td>\n",
       "      <td>3.881074</td>\n",
       "      <td>280.994121</td>\n",
       "      <td>2.915860</td>\n",
       "    </tr>\n",
       "    <tr>\n",
       "      <th>min</th>\n",
       "      <td>2.852000e+03</td>\n",
       "      <td>0.000000</td>\n",
       "      <td>0.000000</td>\n",
       "      <td>0.000000</td>\n",
       "      <td>0.000000</td>\n",
       "      <td>0.000000</td>\n",
       "      <td>1.000000</td>\n",
       "    </tr>\n",
       "    <tr>\n",
       "      <th>25%</th>\n",
       "      <td>4.688025e+05</td>\n",
       "      <td>12.850023</td>\n",
       "      <td>77.621961</td>\n",
       "      <td>12.851022</td>\n",
       "      <td>77.613263</td>\n",
       "      <td>5.516659</td>\n",
       "      <td>6.000000</td>\n",
       "    </tr>\n",
       "    <tr>\n",
       "      <th>50%</th>\n",
       "      <td>1.029687e+06</td>\n",
       "      <td>12.908444</td>\n",
       "      <td>77.663161</td>\n",
       "      <td>12.920840</td>\n",
       "      <td>77.656903</td>\n",
       "      <td>10.755823</td>\n",
       "      <td>9.000000</td>\n",
       "    </tr>\n",
       "    <tr>\n",
       "      <th>75%</th>\n",
       "      <td>1.066434e+06</td>\n",
       "      <td>12.984913</td>\n",
       "      <td>77.667328</td>\n",
       "      <td>12.984987</td>\n",
       "      <td>77.670348</td>\n",
       "      <td>16.222257</td>\n",
       "      <td>9.000000</td>\n",
       "    </tr>\n",
       "    <tr>\n",
       "      <th>max</th>\n",
       "      <td>1.122656e+06</td>\n",
       "      <td>13.214574</td>\n",
       "      <td>77.844961</td>\n",
       "      <td>13.214552</td>\n",
       "      <td>77.844875</td>\n",
       "      <td>8685.541487</td>\n",
       "      <td>10.000000</td>\n",
       "    </tr>\n",
       "  </tbody>\n",
       "</table>\n",
       "</div>"
      ],
      "text/plain": [
       "            trip_id    pickup_geoX    pickup_geoY      drop_geoX  \\\n",
       "count  6.777870e+05  647988.000000  647988.000000  647988.000000   \n",
       "mean   7.856079e+05      12.880570      77.404153      12.895569   \n",
       "std    3.964730e+05       0.722697       4.317989       0.650422   \n",
       "min    2.852000e+03       0.000000       0.000000       0.000000   \n",
       "25%    4.688025e+05      12.850023      77.621961      12.851022   \n",
       "50%    1.029687e+06      12.908444      77.663161      12.920840   \n",
       "75%    1.066434e+06      12.984913      77.667328      12.984987   \n",
       "max    1.122656e+06      13.214574      77.844961      13.214552   \n",
       "\n",
       "           drop_geoY       distance        Company  \n",
       "count  647988.000000  647988.000000  677787.000000  \n",
       "mean       77.444947      20.083719       7.178574  \n",
       "std         3.881074     280.994121       2.915860  \n",
       "min         0.000000       0.000000       1.000000  \n",
       "25%        77.613263       5.516659       6.000000  \n",
       "50%        77.656903      10.755823       9.000000  \n",
       "75%        77.670348      16.222257       9.000000  \n",
       "max        77.844875    8685.541487      10.000000  "
      ]
     },
     "execution_count": 26,
     "metadata": {},
     "output_type": "execute_result"
    }
   ],
   "source": [
    "df1.describe()"
   ]
  },
  {
   "cell_type": "markdown",
   "metadata": {},
   "source": [
    "#### Imputing the lat long missing data after sending data to excel. Importing back to python"
   ]
  },
  {
   "cell_type": "code",
   "execution_count": 27,
   "metadata": {},
   "outputs": [],
   "source": [
    "nolatlong = df1[(df1.distance >= 40) | (df1.distance== 0) | (df1.distance.isnull())]\n",
    "features = ['employee_id','trip_id','trip_type','pickup_geoX', 'pickup_geoY','drop_geoX', 'drop_geoY']\n",
    "find = nolatlong[features]\n",
    "yeslatlong = df1[~((df1.distance >= 40) | (df1.distance== 0) | (df1.distance.isnull()))]\n",
    "data = yeslatlong[features]"
   ]
  },
  {
   "cell_type": "code",
   "execution_count": 28,
   "metadata": {},
   "outputs": [],
   "source": [
    "find.to_csv('nolatlong.csv', encoding='utf-8', index=False)\n",
    "data.to_csv('original.csv', encoding='utf-8', index=False)"
   ]
  },
  {
   "cell_type": "code",
   "execution_count": 29,
   "metadata": {},
   "outputs": [],
   "source": [
    "datalocation = 'C:/Users/yours/OneDrive/Documents/2019 - Cornell - Coursework/Big Messy/Project MoveInSync/missinglatlong.csv'\n",
    "dfmiss = pd.read_csv(datalocation)"
   ]
  },
  {
   "cell_type": "code",
   "execution_count": 30,
   "metadata": {},
   "outputs": [
    {
     "data": {
      "text/html": [
       "<div>\n",
       "<style scoped>\n",
       "    .dataframe tbody tr th:only-of-type {\n",
       "        vertical-align: middle;\n",
       "    }\n",
       "\n",
       "    .dataframe tbody tr th {\n",
       "        vertical-align: top;\n",
       "    }\n",
       "\n",
       "    .dataframe thead th {\n",
       "        text-align: right;\n",
       "    }\n",
       "</style>\n",
       "<table border=\"1\" class=\"dataframe\">\n",
       "  <thead>\n",
       "    <tr style=\"text-align: right;\">\n",
       "      <th></th>\n",
       "      <th>hey</th>\n",
       "      <th>employee_id</th>\n",
       "      <th>trip_id</th>\n",
       "      <th>pickup_geoX</th>\n",
       "      <th>pickup_geoY</th>\n",
       "      <th>drop_geoX</th>\n",
       "      <th>drop_geoY</th>\n",
       "    </tr>\n",
       "  </thead>\n",
       "  <tbody>\n",
       "    <tr>\n",
       "      <th>0</th>\n",
       "      <td>ATT-0012461458</td>\n",
       "      <td>ATT-0012</td>\n",
       "      <td>461458</td>\n",
       "      <td>13.000378</td>\n",
       "      <td>77.709059</td>\n",
       "      <td>13.000918</td>\n",
       "      <td>77.631571</td>\n",
       "    </tr>\n",
       "    <tr>\n",
       "      <th>1</th>\n",
       "      <td>ATT-0022461946</td>\n",
       "      <td>ATT-0022</td>\n",
       "      <td>461946</td>\n",
       "      <td>13.008054</td>\n",
       "      <td>77.716602</td>\n",
       "      <td>13.008505</td>\n",
       "      <td>77.674678</td>\n",
       "    </tr>\n",
       "    <tr>\n",
       "      <th>2</th>\n",
       "      <td>ATT-0023462022</td>\n",
       "      <td>ATT-0023</td>\n",
       "      <td>462022</td>\n",
       "      <td>12.924350</td>\n",
       "      <td>77.671087</td>\n",
       "      <td>12.927514</td>\n",
       "      <td>77.672085</td>\n",
       "    </tr>\n",
       "    <tr>\n",
       "      <th>3</th>\n",
       "      <td>ATT-0086461496</td>\n",
       "      <td>ATT-0086</td>\n",
       "      <td>461496</td>\n",
       "      <td>12.938461</td>\n",
       "      <td>77.671299</td>\n",
       "      <td>12.938233</td>\n",
       "      <td>77.730927</td>\n",
       "    </tr>\n",
       "    <tr>\n",
       "      <th>4</th>\n",
       "      <td>ATT-0108462002</td>\n",
       "      <td>ATT-0108</td>\n",
       "      <td>462002</td>\n",
       "      <td>12.959024</td>\n",
       "      <td>77.708128</td>\n",
       "      <td>12.786387</td>\n",
       "      <td>77.768996</td>\n",
       "    </tr>\n",
       "  </tbody>\n",
       "</table>\n",
       "</div>"
      ],
      "text/plain": [
       "              hey employee_id  trip_id  pickup_geoX  pickup_geoY  drop_geoX  \\\n",
       "0  ATT-0012461458    ATT-0012   461458    13.000378    77.709059  13.000918   \n",
       "1  ATT-0022461946    ATT-0022   461946    13.008054    77.716602  13.008505   \n",
       "2  ATT-0023462022    ATT-0023   462022    12.924350    77.671087  12.927514   \n",
       "3  ATT-0086461496    ATT-0086   461496    12.938461    77.671299  12.938233   \n",
       "4  ATT-0108462002    ATT-0108   462002    12.959024    77.708128  12.786387   \n",
       "\n",
       "   drop_geoY  \n",
       "0  77.631571  \n",
       "1  77.674678  \n",
       "2  77.672085  \n",
       "3  77.730927  \n",
       "4  77.768996  "
      ]
     },
     "execution_count": 30,
     "metadata": {},
     "output_type": "execute_result"
    }
   ],
   "source": [
    "dfmiss.head()"
   ]
  },
  {
   "cell_type": "code",
   "execution_count": 31,
   "metadata": {},
   "outputs": [],
   "source": [
    "datalocation = 'C:/Users/yours/OneDrive/Documents/2019 - Cornell - Coursework/Big Messy/Project MoveInSync/MoveInSyncData-cleaned.csv'\n",
    "df2 = pd.read_csv(datalocation)"
   ]
  },
  {
   "cell_type": "markdown",
   "metadata": {},
   "source": [
    "#### Removing the rows with no lat long location even after imputation"
   ]
  },
  {
   "cell_type": "code",
   "execution_count": 32,
   "metadata": {},
   "outputs": [],
   "source": [
    "df3 = df2[~((df2.pickup_geoX == 0) | (df2.pickup_geoY == 0) | (df2.drop_geoX == 0) | (df2.drop_geoY == 0)) ]"
   ]
  },
  {
   "cell_type": "code",
   "execution_count": 33,
   "metadata": {},
   "outputs": [
    {
     "data": {
      "text/plain": [
       "(675761, 23)"
      ]
     },
     "execution_count": 33,
     "metadata": {},
     "output_type": "execute_result"
    }
   ],
   "source": [
    "df3.shape"
   ]
  },
  {
   "cell_type": "code",
   "execution_count": 34,
   "metadata": {},
   "outputs": [
    {
     "data": {
      "text/plain": [
       "Index(['employee_id', 'trip_id', 'trip_type', 'gender', 'cab_type',\n",
       "       'trip_state_text', 'planned_pickup_time', 'pickup_geoX', 'pickup_geoY',\n",
       "       'drop_geoX', 'drop_geoY', 'distance', 'employee_count_y',\n",
       "       'required_escort_y', 'max_distance', 'total_distance', 'costoftrip',\n",
       "       'perpersoncost', 'Company', 'dayofweek', 'Hourpickup', 'Minutepickup',\n",
       "       'month'],\n",
       "      dtype='object')"
      ]
     },
     "execution_count": 34,
     "metadata": {},
     "output_type": "execute_result"
    }
   ],
   "source": [
    "df3.columns"
   ]
  },
  {
   "cell_type": "markdown",
   "metadata": {},
   "source": [
    "#### Calculating the distance again for new found lat longs"
   ]
  },
  {
   "cell_type": "code",
   "execution_count": 35,
   "metadata": {},
   "outputs": [
    {
     "name": "stderr",
     "output_type": "stream",
     "text": [
      "C:\\Users\\yours\\Anaconda3\\lib\\site-packages\\ipykernel_launcher.py:15: SettingWithCopyWarning: \n",
      "A value is trying to be set on a copy of a slice from a DataFrame.\n",
      "Try using .loc[row_indexer,col_indexer] = value instead\n",
      "\n",
      "See the caveats in the documentation: http://pandas.pydata.org/pandas-docs/stable/indexing.html#indexing-view-versus-copy\n",
      "  from ipykernel import kernelapp as app\n"
     ]
    }
   ],
   "source": [
    "lon2 = df3['drop_geoY']\n",
    "lat2 = df3['drop_geoX']\n",
    "lon1 = (df3['pickup_geoY'])\n",
    "lat1 = (df3['pickup_geoX'])\n",
    "\n",
    "radius = 6371  # km\n",
    "dlat = (lat2 - lat1)\n",
    "dlon = (lon2 - lon1)\n",
    "dlat = [math.sin(math.radians(x)/2)*math.sin(math.radians(x)/2) for x in dlat]\n",
    "dlon = [math.sin(math.radians(x)/2)*math.sin(math.radians(x)/2) for x in dlon]\n",
    "cosradlat1 = [math.cos(math.radians(x)) for x in lat1]\n",
    "cosradlat2 = [math.cos(math.radians(x)) for x in lat2]\n",
    "a = dlat + np.multiply(np.multiply(cosradlat1,cosradlat2),dlon)\n",
    "c = [2 * math.atan2(math.sqrt(x), math.sqrt(1 - x)) for x in a]\n",
    "df3['distance'] = [radius * x for x in c]"
   ]
  },
  {
   "cell_type": "code",
   "execution_count": 36,
   "metadata": {},
   "outputs": [],
   "source": [
    "store2 = df3"
   ]
  },
  {
   "cell_type": "code",
   "execution_count": 72,
   "metadata": {},
   "outputs": [],
   "source": [
    "dropping = ['employee_count_y','required_escort_y', 'max_distance', 'total_distance', 'costoftrip','perpersoncost']\n",
    "df3 = df3.drop(columns=dropping)"
   ]
  },
  {
   "cell_type": "code",
   "execution_count": 73,
   "metadata": {},
   "outputs": [
    {
     "data": {
      "text/plain": [
       "(675761, 17)"
      ]
     },
     "execution_count": 73,
     "metadata": {},
     "output_type": "execute_result"
    }
   ],
   "source": [
    "df3.shape"
   ]
  },
  {
   "cell_type": "markdown",
   "metadata": {},
   "source": [
    "#### Removing duplicates"
   ]
  },
  {
   "cell_type": "code",
   "execution_count": 74,
   "metadata": {},
   "outputs": [],
   "source": [
    "datalocation = 'C:/Users/yours/OneDrive/Documents/2019 - Cornell - Coursework/Big Messy/Project MoveInSync/keys.csv'\n",
    "merging = pd.read_csv(datalocation)"
   ]
  },
  {
   "cell_type": "code",
   "execution_count": 75,
   "metadata": {},
   "outputs": [
    {
     "data": {
      "text/plain": [
       "(698478, 5)"
      ]
     },
     "execution_count": 75,
     "metadata": {},
     "output_type": "execute_result"
    }
   ],
   "source": [
    "merging.shape"
   ]
  },
  {
   "cell_type": "code",
   "execution_count": 76,
   "metadata": {},
   "outputs": [
    {
     "data": {
      "text/plain": [
       "(623415, 5)"
      ]
     },
     "execution_count": 76,
     "metadata": {},
     "output_type": "execute_result"
    }
   ],
   "source": [
    "newmerging = merging.drop_duplicates()\n",
    "newmerging.shape"
   ]
  },
  {
   "cell_type": "code",
   "execution_count": 77,
   "metadata": {},
   "outputs": [],
   "source": [
    "final = pd.merge(df3,newmerging, on=['employee_id','trip_id'], how = 'left')"
   ]
  },
  {
   "cell_type": "code",
   "execution_count": 78,
   "metadata": {},
   "outputs": [
    {
     "data": {
      "text/plain": [
       "(675761, 17)"
      ]
     },
     "execution_count": 78,
     "metadata": {},
     "output_type": "execute_result"
    }
   ],
   "source": [
    "df3.shape"
   ]
  },
  {
   "cell_type": "code",
   "execution_count": 79,
   "metadata": {},
   "outputs": [
    {
     "data": {
      "text/plain": [
       "(600841, 17)"
      ]
     },
     "execution_count": 79,
     "metadata": {},
     "output_type": "execute_result"
    }
   ],
   "source": [
    "df4 = df3.drop_duplicates()\n",
    "df4.shape"
   ]
  },
  {
   "cell_type": "code",
   "execution_count": 80,
   "metadata": {
    "scrolled": true
   },
   "outputs": [],
   "source": [
    "df4 = final.drop_duplicates()"
   ]
  },
  {
   "cell_type": "markdown",
   "metadata": {},
   "source": [
    "#### Cost Attribution"
   ]
  },
  {
   "cell_type": "code",
   "execution_count": 81,
   "metadata": {},
   "outputs": [],
   "source": [
    "attr = df4.groupby(['trip_id']).agg(\n",
    "    {\n",
    "        'employee_count':max,\n",
    "        'required_escort':sum,\n",
    "        'distance':max,\n",
    "    }\n",
    ")\n",
    "attr2 = df4.groupby(['trip_id']).agg(\n",
    "    {\n",
    "        'distance':sum,\n",
    "    }\n",
    ")"
   ]
  },
  {
   "cell_type": "code",
   "execution_count": 82,
   "metadata": {},
   "outputs": [],
   "source": [
    "attr = pd.merge(attr,attr2, on=['trip_id'], how = 'left')"
   ]
  },
  {
   "cell_type": "code",
   "execution_count": 83,
   "metadata": {},
   "outputs": [],
   "source": [
    "attr.rename(columns={\"distance_x\": \"max_distance\"}, inplace = True)\n",
    "attr.rename(columns={\"distance_y\": \"total_distance\"}, inplace = True) "
   ]
  },
  {
   "cell_type": "code",
   "execution_count": 84,
   "metadata": {},
   "outputs": [],
   "source": [
    "attr.loc[attr['required_escort']>0,'required_escort'] = 1"
   ]
  },
  {
   "cell_type": "code",
   "execution_count": 85,
   "metadata": {},
   "outputs": [
    {
     "data": {
      "text/html": [
       "<div>\n",
       "<style scoped>\n",
       "    .dataframe tbody tr th:only-of-type {\n",
       "        vertical-align: middle;\n",
       "    }\n",
       "\n",
       "    .dataframe tbody tr th {\n",
       "        vertical-align: top;\n",
       "    }\n",
       "\n",
       "    .dataframe thead th {\n",
       "        text-align: right;\n",
       "    }\n",
       "</style>\n",
       "<table border=\"1\" class=\"dataframe\">\n",
       "  <thead>\n",
       "    <tr style=\"text-align: right;\">\n",
       "      <th></th>\n",
       "      <th>employee_count</th>\n",
       "      <th>required_escort</th>\n",
       "      <th>max_distance</th>\n",
       "      <th>total_distance</th>\n",
       "    </tr>\n",
       "    <tr>\n",
       "      <th>trip_id</th>\n",
       "      <th></th>\n",
       "      <th></th>\n",
       "      <th></th>\n",
       "      <th></th>\n",
       "    </tr>\n",
       "  </thead>\n",
       "  <tbody>\n",
       "    <tr>\n",
       "      <th>2852</th>\n",
       "      <td>1</td>\n",
       "      <td>0.0</td>\n",
       "      <td>8.531675</td>\n",
       "      <td>8.531675</td>\n",
       "    </tr>\n",
       "    <tr>\n",
       "      <th>2853</th>\n",
       "      <td>2</td>\n",
       "      <td>1.0</td>\n",
       "      <td>15.560621</td>\n",
       "      <td>16.360969</td>\n",
       "    </tr>\n",
       "    <tr>\n",
       "      <th>2854</th>\n",
       "      <td>2</td>\n",
       "      <td>0.0</td>\n",
       "      <td>10.352357</td>\n",
       "      <td>17.590432</td>\n",
       "    </tr>\n",
       "    <tr>\n",
       "      <th>2855</th>\n",
       "      <td>1</td>\n",
       "      <td>0.0</td>\n",
       "      <td>18.032145</td>\n",
       "      <td>18.032145</td>\n",
       "    </tr>\n",
       "    <tr>\n",
       "      <th>2856</th>\n",
       "      <td>1</td>\n",
       "      <td>0.0</td>\n",
       "      <td>9.004197</td>\n",
       "      <td>9.004197</td>\n",
       "    </tr>\n",
       "  </tbody>\n",
       "</table>\n",
       "</div>"
      ],
      "text/plain": [
       "         employee_count  required_escort  max_distance  total_distance\n",
       "trip_id                                                               \n",
       "2852                  1              0.0      8.531675        8.531675\n",
       "2853                  2              1.0     15.560621       16.360969\n",
       "2854                  2              0.0     10.352357       17.590432\n",
       "2855                  1              0.0     18.032145       18.032145\n",
       "2856                  1              0.0      9.004197        9.004197"
      ]
     },
     "execution_count": 85,
     "metadata": {},
     "output_type": "execute_result"
    }
   ],
   "source": [
    "attr.head()"
   ]
  },
  {
   "cell_type": "code",
   "execution_count": 86,
   "metadata": {},
   "outputs": [],
   "source": [
    "attr['costoftrip'] = (attr['max_distance'] + attr['max_distance']*attr['required_escort'])*10"
   ]
  },
  {
   "cell_type": "code",
   "execution_count": 87,
   "metadata": {},
   "outputs": [
    {
     "data": {
      "text/html": [
       "<div>\n",
       "<style scoped>\n",
       "    .dataframe tbody tr th:only-of-type {\n",
       "        vertical-align: middle;\n",
       "    }\n",
       "\n",
       "    .dataframe tbody tr th {\n",
       "        vertical-align: top;\n",
       "    }\n",
       "\n",
       "    .dataframe thead th {\n",
       "        text-align: right;\n",
       "    }\n",
       "</style>\n",
       "<table border=\"1\" class=\"dataframe\">\n",
       "  <thead>\n",
       "    <tr style=\"text-align: right;\">\n",
       "      <th></th>\n",
       "      <th>employee_count</th>\n",
       "      <th>required_escort</th>\n",
       "      <th>max_distance</th>\n",
       "      <th>total_distance</th>\n",
       "      <th>costoftrip</th>\n",
       "    </tr>\n",
       "    <tr>\n",
       "      <th>trip_id</th>\n",
       "      <th></th>\n",
       "      <th></th>\n",
       "      <th></th>\n",
       "      <th></th>\n",
       "      <th></th>\n",
       "    </tr>\n",
       "  </thead>\n",
       "  <tbody>\n",
       "    <tr>\n",
       "      <th>2852</th>\n",
       "      <td>1</td>\n",
       "      <td>0.0</td>\n",
       "      <td>8.531675</td>\n",
       "      <td>8.531675</td>\n",
       "      <td>85.316749</td>\n",
       "    </tr>\n",
       "    <tr>\n",
       "      <th>2853</th>\n",
       "      <td>2</td>\n",
       "      <td>1.0</td>\n",
       "      <td>15.560621</td>\n",
       "      <td>16.360969</td>\n",
       "      <td>311.212419</td>\n",
       "    </tr>\n",
       "    <tr>\n",
       "      <th>2854</th>\n",
       "      <td>2</td>\n",
       "      <td>0.0</td>\n",
       "      <td>10.352357</td>\n",
       "      <td>17.590432</td>\n",
       "      <td>103.523574</td>\n",
       "    </tr>\n",
       "    <tr>\n",
       "      <th>2855</th>\n",
       "      <td>1</td>\n",
       "      <td>0.0</td>\n",
       "      <td>18.032145</td>\n",
       "      <td>18.032145</td>\n",
       "      <td>180.321446</td>\n",
       "    </tr>\n",
       "    <tr>\n",
       "      <th>2856</th>\n",
       "      <td>1</td>\n",
       "      <td>0.0</td>\n",
       "      <td>9.004197</td>\n",
       "      <td>9.004197</td>\n",
       "      <td>90.041974</td>\n",
       "    </tr>\n",
       "  </tbody>\n",
       "</table>\n",
       "</div>"
      ],
      "text/plain": [
       "         employee_count  required_escort  max_distance  total_distance  \\\n",
       "trip_id                                                                  \n",
       "2852                  1              0.0      8.531675        8.531675   \n",
       "2853                  2              1.0     15.560621       16.360969   \n",
       "2854                  2              0.0     10.352357       17.590432   \n",
       "2855                  1              0.0     18.032145       18.032145   \n",
       "2856                  1              0.0      9.004197        9.004197   \n",
       "\n",
       "         costoftrip  \n",
       "trip_id              \n",
       "2852      85.316749  \n",
       "2853     311.212419  \n",
       "2854     103.523574  \n",
       "2855     180.321446  \n",
       "2856      90.041974  "
      ]
     },
     "execution_count": 87,
     "metadata": {},
     "output_type": "execute_result"
    }
   ],
   "source": [
    "attr.head()"
   ]
  },
  {
   "cell_type": "code",
   "execution_count": 88,
   "metadata": {},
   "outputs": [],
   "source": [
    "x = pd.merge(df4,attr, on=['trip_id'], how = 'left')"
   ]
  },
  {
   "cell_type": "code",
   "execution_count": 89,
   "metadata": {},
   "outputs": [],
   "source": [
    "df4 = x"
   ]
  },
  {
   "cell_type": "code",
   "execution_count": 90,
   "metadata": {
    "scrolled": true
   },
   "outputs": [
    {
     "data": {
      "text/plain": [
       "Index(['employee_id', 'trip_id', 'trip_type', 'gender', 'cab_type',\n",
       "       'trip_state_text_x', 'planned_pickup_time', 'pickup_geoX',\n",
       "       'pickup_geoY', 'drop_geoX', 'drop_geoY', 'distance', 'Company',\n",
       "       'dayofweek', 'Hourpickup', 'Minutepickup', 'month', 'employee_count_x',\n",
       "       'required_escort_x', 'trip_state_text_y', 'employee_count_y',\n",
       "       'required_escort_y', 'max_distance', 'total_distance', 'costoftrip'],\n",
       "      dtype='object')"
      ]
     },
     "execution_count": 90,
     "metadata": {},
     "output_type": "execute_result"
    }
   ],
   "source": [
    "df4.columns"
   ]
  },
  {
   "cell_type": "markdown",
   "metadata": {},
   "source": [
    "#### Removing employee count = 0 rows (1800)"
   ]
  },
  {
   "cell_type": "code",
   "execution_count": 91,
   "metadata": {},
   "outputs": [
    {
     "data": {
      "text/plain": [
       "1761"
      ]
     },
     "execution_count": 91,
     "metadata": {},
     "output_type": "execute_result"
    }
   ],
   "source": [
    "sum(df4.employee_count_y == 0)"
   ]
  },
  {
   "cell_type": "code",
   "execution_count": 92,
   "metadata": {},
   "outputs": [],
   "source": [
    "df5 = df4[~(df4.employee_count_x == 0)]"
   ]
  },
  {
   "cell_type": "code",
   "execution_count": 93,
   "metadata": {},
   "outputs": [
    {
     "data": {
      "text/plain": [
       "Index(['employee_id', 'trip_id', 'trip_type', 'gender', 'cab_type',\n",
       "       'trip_state_text_x', 'planned_pickup_time', 'pickup_geoX',\n",
       "       'pickup_geoY', 'drop_geoX', 'drop_geoY', 'distance', 'Company',\n",
       "       'dayofweek', 'Hourpickup', 'Minutepickup', 'month', 'employee_count_x',\n",
       "       'required_escort_x', 'trip_state_text_y', 'employee_count_y',\n",
       "       'required_escort_y', 'max_distance', 'total_distance', 'costoftrip'],\n",
       "      dtype='object')"
      ]
     },
     "execution_count": 93,
     "metadata": {},
     "output_type": "execute_result"
    }
   ],
   "source": [
    "df5.columns"
   ]
  },
  {
   "cell_type": "code",
   "execution_count": 94,
   "metadata": {},
   "outputs": [
    {
     "name": "stderr",
     "output_type": "stream",
     "text": [
      "C:\\Users\\yours\\Anaconda3\\lib\\site-packages\\ipykernel_launcher.py:1: SettingWithCopyWarning: \n",
      "A value is trying to be set on a copy of a slice from a DataFrame.\n",
      "Try using .loc[row_indexer,col_indexer] = value instead\n",
      "\n",
      "See the caveats in the documentation: http://pandas.pydata.org/pandas-docs/stable/indexing.html#indexing-view-versus-copy\n",
      "  \"\"\"Entry point for launching an IPython kernel.\n"
     ]
    }
   ],
   "source": [
    "df5['perpersoncost'] = ((df5['distance']/df5['total_distance'])*df5['costoftrip']/2)  + (df5['costoftrip']/(2*df5['employee_count_y']))"
   ]
  },
  {
   "cell_type": "code",
   "execution_count": 96,
   "metadata": {},
   "outputs": [
    {
     "data": {
      "text/plain": [
       "count    599041.000000\n",
       "mean         58.252701\n",
       "std          58.584181\n",
       "min           0.000556\n",
       "25%          20.348198\n",
       "50%          43.153307\n",
       "75%          74.727419\n",
       "max         547.073084\n",
       "Name: perpersoncost, dtype: float64"
      ]
     },
     "execution_count": 96,
     "metadata": {},
     "output_type": "execute_result"
    }
   ],
   "source": [
    "df5.perpersoncost.describe()"
   ]
  },
  {
   "cell_type": "markdown",
   "metadata": {},
   "source": [
    "#### Imputing missing Planned Pick up time column"
   ]
  },
  {
   "cell_type": "code",
   "execution_count": 97,
   "metadata": {},
   "outputs": [
    {
     "data": {
      "text/plain": [
       "110207"
      ]
     },
     "execution_count": 97,
     "metadata": {},
     "output_type": "execute_result"
    }
   ],
   "source": [
    "sum(df5.planned_pickup_time.isnull())"
   ]
  },
  {
   "cell_type": "code",
   "execution_count": 99,
   "metadata": {},
   "outputs": [
    {
     "data": {
      "text/plain": [
       "(599041, 26)"
      ]
     },
     "execution_count": 99,
     "metadata": {},
     "output_type": "execute_result"
    }
   ],
   "source": [
    "df5.shape"
   ]
  },
  {
   "cell_type": "code",
   "execution_count": 98,
   "metadata": {},
   "outputs": [
    {
     "data": {
      "text/html": [
       "<div>\n",
       "<style scoped>\n",
       "    .dataframe tbody tr th:only-of-type {\n",
       "        vertical-align: middle;\n",
       "    }\n",
       "\n",
       "    .dataframe tbody tr th {\n",
       "        vertical-align: top;\n",
       "    }\n",
       "\n",
       "    .dataframe thead th {\n",
       "        text-align: right;\n",
       "    }\n",
       "</style>\n",
       "<table border=\"1\" class=\"dataframe\">\n",
       "  <thead>\n",
       "    <tr style=\"text-align: right;\">\n",
       "      <th></th>\n",
       "      <th>employee_id</th>\n",
       "      <th>trip_id</th>\n",
       "      <th>trip_type</th>\n",
       "      <th>gender</th>\n",
       "      <th>cab_type</th>\n",
       "      <th>trip_state_text_x</th>\n",
       "      <th>planned_pickup_time</th>\n",
       "      <th>pickup_geoX</th>\n",
       "      <th>pickup_geoY</th>\n",
       "      <th>drop_geoX</th>\n",
       "      <th>...</th>\n",
       "      <th>month</th>\n",
       "      <th>employee_count_x</th>\n",
       "      <th>required_escort_x</th>\n",
       "      <th>trip_state_text_y</th>\n",
       "      <th>employee_count_y</th>\n",
       "      <th>required_escort_y</th>\n",
       "      <th>max_distance</th>\n",
       "      <th>total_distance</th>\n",
       "      <th>costoftrip</th>\n",
       "      <th>perpersoncost</th>\n",
       "    </tr>\n",
       "  </thead>\n",
       "  <tbody>\n",
       "    <tr>\n",
       "      <th>0</th>\n",
       "      <td>ATT-0001</td>\n",
       "      <td>461353</td>\n",
       "      <td>LOGOUT</td>\n",
       "      <td>MALE</td>\n",
       "      <td>4 Seater</td>\n",
       "      <td>COMPLETED</td>\n",
       "      <td>5/16/2019 6:45</td>\n",
       "      <td>12.923583</td>\n",
       "      <td>77.671061</td>\n",
       "      <td>12.988366</td>\n",
       "      <td>...</td>\n",
       "      <td>5.0</td>\n",
       "      <td>2</td>\n",
       "      <td>False</td>\n",
       "      <td>COMPLETED</td>\n",
       "      <td>2</td>\n",
       "      <td>0.0</td>\n",
       "      <td>15.506603</td>\n",
       "      <td>30.629322</td>\n",
       "      <td>155.066034</td>\n",
       "      <td>77.047147</td>\n",
       "    </tr>\n",
       "    <tr>\n",
       "      <th>1</th>\n",
       "      <td>ATT-0002</td>\n",
       "      <td>461528</td>\n",
       "      <td>LOGIN</td>\n",
       "      <td>MALE</td>\n",
       "      <td>4 Seater</td>\n",
       "      <td>COMPLETED</td>\n",
       "      <td>5/16/2019 6:26</td>\n",
       "      <td>12.955146</td>\n",
       "      <td>77.738991</td>\n",
       "      <td>12.934748</td>\n",
       "      <td>...</td>\n",
       "      <td>5.0</td>\n",
       "      <td>1</td>\n",
       "      <td>False</td>\n",
       "      <td>COMPLETED</td>\n",
       "      <td>1</td>\n",
       "      <td>0.0</td>\n",
       "      <td>5.301257</td>\n",
       "      <td>7.177641</td>\n",
       "      <td>53.012574</td>\n",
       "      <td>46.083283</td>\n",
       "    </tr>\n",
       "    <tr>\n",
       "      <th>2</th>\n",
       "      <td>ATT-0003</td>\n",
       "      <td>461849</td>\n",
       "      <td>LOGOUT</td>\n",
       "      <td>MALE</td>\n",
       "      <td>4 Seater</td>\n",
       "      <td>COMPLETED</td>\n",
       "      <td>5/16/2019 15:45</td>\n",
       "      <td>12.924626</td>\n",
       "      <td>77.671098</td>\n",
       "      <td>12.968512</td>\n",
       "      <td>...</td>\n",
       "      <td>5.0</td>\n",
       "      <td>3</td>\n",
       "      <td>False</td>\n",
       "      <td>COMPLETED</td>\n",
       "      <td>3</td>\n",
       "      <td>0.0</td>\n",
       "      <td>16.542731</td>\n",
       "      <td>46.928047</td>\n",
       "      <td>165.427313</td>\n",
       "      <td>56.728831</td>\n",
       "    </tr>\n",
       "    <tr>\n",
       "      <th>3</th>\n",
       "      <td>ATT-0004</td>\n",
       "      <td>461431</td>\n",
       "      <td>LOGOUT</td>\n",
       "      <td>MALE</td>\n",
       "      <td>4 Seater</td>\n",
       "      <td>COMPLETED</td>\n",
       "      <td>5/16/2019 1:45</td>\n",
       "      <td>12.924514</td>\n",
       "      <td>77.671051</td>\n",
       "      <td>13.043238</td>\n",
       "      <td>...</td>\n",
       "      <td>5.0</td>\n",
       "      <td>3</td>\n",
       "      <td>True</td>\n",
       "      <td>COMPLETED</td>\n",
       "      <td>3</td>\n",
       "      <td>1.0</td>\n",
       "      <td>22.936604</td>\n",
       "      <td>59.086995</td>\n",
       "      <td>458.732089</td>\n",
       "      <td>128.031994</td>\n",
       "    </tr>\n",
       "    <tr>\n",
       "      <th>4</th>\n",
       "      <td>ATT-0005</td>\n",
       "      <td>461915</td>\n",
       "      <td>LOGIN</td>\n",
       "      <td>FEMALE</td>\n",
       "      <td>4 Seater</td>\n",
       "      <td>COMPLETED</td>\n",
       "      <td>5/16/2019 6:09</td>\n",
       "      <td>12.921150</td>\n",
       "      <td>77.646636</td>\n",
       "      <td>12.923322</td>\n",
       "      <td>...</td>\n",
       "      <td>5.0</td>\n",
       "      <td>2</td>\n",
       "      <td>True</td>\n",
       "      <td>COMPLETED</td>\n",
       "      <td>2</td>\n",
       "      <td>1.0</td>\n",
       "      <td>2.596742</td>\n",
       "      <td>5.193483</td>\n",
       "      <td>51.934835</td>\n",
       "      <td>25.967417</td>\n",
       "    </tr>\n",
       "  </tbody>\n",
       "</table>\n",
       "<p>5 rows × 26 columns</p>\n",
       "</div>"
      ],
      "text/plain": [
       "  employee_id  trip_id trip_type  gender  cab_type trip_state_text_x  \\\n",
       "0    ATT-0001   461353    LOGOUT    MALE  4 Seater         COMPLETED   \n",
       "1    ATT-0002   461528     LOGIN    MALE  4 Seater         COMPLETED   \n",
       "2    ATT-0003   461849    LOGOUT    MALE  4 Seater         COMPLETED   \n",
       "3    ATT-0004   461431    LOGOUT    MALE  4 Seater         COMPLETED   \n",
       "4    ATT-0005   461915     LOGIN  FEMALE  4 Seater         COMPLETED   \n",
       "\n",
       "  planned_pickup_time  pickup_geoX  pickup_geoY  drop_geoX  ...  month  \\\n",
       "0      5/16/2019 6:45    12.923583    77.671061  12.988366  ...    5.0   \n",
       "1      5/16/2019 6:26    12.955146    77.738991  12.934748  ...    5.0   \n",
       "2     5/16/2019 15:45    12.924626    77.671098  12.968512  ...    5.0   \n",
       "3      5/16/2019 1:45    12.924514    77.671051  13.043238  ...    5.0   \n",
       "4      5/16/2019 6:09    12.921150    77.646636  12.923322  ...    5.0   \n",
       "\n",
       "   employee_count_x  required_escort_x trip_state_text_y  employee_count_y  \\\n",
       "0                 2              False         COMPLETED                 2   \n",
       "1                 1              False         COMPLETED                 1   \n",
       "2                 3              False         COMPLETED                 3   \n",
       "3                 3               True         COMPLETED                 3   \n",
       "4                 2               True         COMPLETED                 2   \n",
       "\n",
       "   required_escort_y  max_distance  total_distance  costoftrip perpersoncost  \n",
       "0                0.0     15.506603       30.629322  155.066034     77.047147  \n",
       "1                0.0      5.301257        7.177641   53.012574     46.083283  \n",
       "2                0.0     16.542731       46.928047  165.427313     56.728831  \n",
       "3                1.0     22.936604       59.086995  458.732089    128.031994  \n",
       "4                1.0      2.596742        5.193483   51.934835     25.967417  \n",
       "\n",
       "[5 rows x 26 columns]"
      ]
     },
     "execution_count": 98,
     "metadata": {},
     "output_type": "execute_result"
    }
   ],
   "source": [
    "df5.head()"
   ]
  },
  {
   "cell_type": "code",
   "execution_count": 100,
   "metadata": {},
   "outputs": [],
   "source": [
    "x = list(original_data.shift_time_type)\n",
    "original_data['hour_shift']= [str(p)[:2] for p in x]\n",
    "original_data['minute_shift']= [str(p)[3:5] for p in x]"
   ]
  },
  {
   "cell_type": "code",
   "execution_count": 101,
   "metadata": {},
   "outputs": [
    {
     "data": {
      "text/plain": [
       "Index(['shift_time_type', 'date', 'bunit_id', 'profile_office', 'employee_id',\n",
       "       'trip_id', 'trip_type', 'actual_cab_registration',\n",
       "       'actual_vendor_cab_id', 'vendor_id', 'gender', 'planned_escort',\n",
       "       'planned_km', 'traveled_km', 'employee_order', 'employee_count',\n",
       "       'required_escort', 'cab_type', 'trip_state_text', 'pickup_geo',\n",
       "       'drop_geo', 'planned_pickup_time', 'pickup_geoX', 'pickup_geoY',\n",
       "       'drop_geoX', 'drop_geoY', 'Company', 'distance', 'dayofweek',\n",
       "       'Hourpickup', 'Minutepickup', 'month', 'hour_shift', 'minute_shift'],\n",
       "      dtype='object')"
      ]
     },
     "execution_count": 101,
     "metadata": {},
     "output_type": "execute_result"
    }
   ],
   "source": [
    "original_data.columns"
   ]
  },
  {
   "cell_type": "code",
   "execution_count": 102,
   "metadata": {},
   "outputs": [],
   "source": [
    "features = ['trip_id','employee_id','hour_shift','minute_shift']"
   ]
  },
  {
   "cell_type": "code",
   "execution_count": 103,
   "metadata": {},
   "outputs": [],
   "source": [
    "shiftmerge = original_data[features]"
   ]
  },
  {
   "cell_type": "code",
   "execution_count": 104,
   "metadata": {},
   "outputs": [],
   "source": [
    "dummy = pd.merge(df5,shiftmerge, on=['employee_id','trip_id'], how = 'left')"
   ]
  },
  {
   "cell_type": "code",
   "execution_count": 105,
   "metadata": {},
   "outputs": [
    {
     "data": {
      "text/plain": [
       "(599041, 26)"
      ]
     },
     "execution_count": 105,
     "metadata": {},
     "output_type": "execute_result"
    }
   ],
   "source": [
    "df5.shape"
   ]
  },
  {
   "cell_type": "code",
   "execution_count": 106,
   "metadata": {},
   "outputs": [],
   "source": [
    "dummy1 =dummy.drop_duplicates()"
   ]
  },
  {
   "cell_type": "code",
   "execution_count": 107,
   "metadata": {},
   "outputs": [
    {
     "data": {
      "text/plain": [
       "(599041, 28)"
      ]
     },
     "execution_count": 107,
     "metadata": {},
     "output_type": "execute_result"
    }
   ],
   "source": [
    "dummy1.shape"
   ]
  },
  {
   "cell_type": "code",
   "execution_count": 109,
   "metadata": {},
   "outputs": [],
   "source": [
    "df5 = dummy1"
   ]
  },
  {
   "cell_type": "code",
   "execution_count": 110,
   "metadata": {},
   "outputs": [
    {
     "data": {
      "text/plain": [
       "employee_id             object\n",
       "trip_id                  int64\n",
       "trip_type               object\n",
       "gender                  object\n",
       "cab_type                object\n",
       "trip_state_text_x       object\n",
       "planned_pickup_time     object\n",
       "pickup_geoX            float64\n",
       "pickup_geoY            float64\n",
       "drop_geoX              float64\n",
       "drop_geoY              float64\n",
       "distance               float64\n",
       "Company                  int64\n",
       "dayofweek               object\n",
       "Hourpickup             float64\n",
       "Minutepickup           float64\n",
       "month                  float64\n",
       "employee_count_x         int64\n",
       "required_escort_x         bool\n",
       "trip_state_text_y       object\n",
       "employee_count_y         int64\n",
       "required_escort_y      float64\n",
       "max_distance           float64\n",
       "total_distance         float64\n",
       "costoftrip             float64\n",
       "perpersoncost          float64\n",
       "hour_shift              object\n",
       "minute_shift            object\n",
       "dtype: object"
      ]
     },
     "execution_count": 110,
     "metadata": {},
     "output_type": "execute_result"
    }
   ],
   "source": [
    "df5.dtypes"
   ]
  },
  {
   "cell_type": "code",
   "execution_count": 124,
   "metadata": {},
   "outputs": [
    {
     "data": {
      "text/plain": [
       "110207"
      ]
     },
     "execution_count": 124,
     "metadata": {},
     "output_type": "execute_result"
    }
   ],
   "source": [
    "sum(df5.Hourpickup.isnull())"
   ]
  },
  {
   "cell_type": "code",
   "execution_count": 114,
   "metadata": {},
   "outputs": [
    {
     "data": {
      "text/plain": [
       "array(['06', '15', '01', '07', '17', '22', '21', '12', '16', '14', '05',\n",
       "       '13', '02', '23', '03', '00', '10', '18', '04', 'Ad', 'No', '20',\n",
       "       '19', '11', '09', '08'], dtype=object)"
      ]
     },
     "execution_count": 114,
     "metadata": {},
     "output_type": "execute_result"
    }
   ],
   "source": [
    "df5.hour_shift.unique()"
   ]
  },
  {
   "cell_type": "code",
   "execution_count": 115,
   "metadata": {},
   "outputs": [],
   "source": [
    "features = ['trip_id','employee_id','trip_type','distance','Hourpickup','Minutepickup','hour_shift','minute_shift']"
   ]
  },
  {
   "cell_type": "code",
   "execution_count": 116,
   "metadata": {},
   "outputs": [],
   "source": [
    "plannedtime = df5[features]"
   ]
  },
  {
   "cell_type": "code",
   "execution_count": 120,
   "metadata": {},
   "outputs": [],
   "source": [
    "plannedtime = plannedtime[~((plannedtime.hour_shift == 'Ad') | (plannedtime.hour_shift == 'No'))]"
   ]
  },
  {
   "cell_type": "code",
   "execution_count": 121,
   "metadata": {},
   "outputs": [],
   "source": [
    "plannedtime.to_csv('plannedtime.csv', encoding='utf-8', index=False)"
   ]
  },
  {
   "cell_type": "code",
   "execution_count": 131,
   "metadata": {},
   "outputs": [
    {
     "data": {
      "text/plain": [
       "(511140, 28)"
      ]
     },
     "execution_count": 131,
     "metadata": {},
     "output_type": "execute_result"
    }
   ],
   "source": [
    "df5[~(((df5.hour_shift == 'Ad') | (df5.hour_shift == 'No')) & (df5.Hourpickup.isnull()))].shape"
   ]
  },
  {
   "cell_type": "code",
   "execution_count": 132,
   "metadata": {},
   "outputs": [
    {
     "data": {
      "text/plain": [
       "Index(['employee_id', 'trip_id', 'trip_type', 'gender', 'cab_type',\n",
       "       'trip_state_text_x', 'planned_pickup_time', 'pickup_geoX',\n",
       "       'pickup_geoY', 'drop_geoX', 'drop_geoY', 'distance', 'Company',\n",
       "       'dayofweek', 'Hourpickup', 'Minutepickup', 'month', 'employee_count_x',\n",
       "       'required_escort_x', 'trip_state_text_y', 'employee_count_y',\n",
       "       'required_escort_y', 'max_distance', 'total_distance', 'costoftrip',\n",
       "       'perpersoncost', 'hour_shift', 'minute_shift'],\n",
       "      dtype='object')"
      ]
     },
     "execution_count": 132,
     "metadata": {},
     "output_type": "execute_result"
    }
   ],
   "source": [
    "df5.columns"
   ]
  },
  {
   "cell_type": "code",
   "execution_count": 133,
   "metadata": {},
   "outputs": [],
   "source": [
    "features = ['employee_id', 'trip_id', 'trip_type', 'gender', 'cab_type',\n",
    "       'trip_state_text_x', 'planned_pickup_time', 'pickup_geoX',\n",
    "       'pickup_geoY', 'drop_geoX', 'drop_geoY', 'distance', 'Company',\n",
    "       'dayofweek', 'month', 'employee_count_x',\n",
    "       'required_escort_x', 'trip_state_text_y', 'employee_count_y',\n",
    "       'required_escort_y', 'max_distance', 'total_distance', 'costoftrip',\n",
    "       'perpersoncost', 'hour_shift', 'minute_shift']"
   ]
  },
  {
   "cell_type": "code",
   "execution_count": 134,
   "metadata": {},
   "outputs": [],
   "source": [
    "df6 = df5[features]"
   ]
  },
  {
   "cell_type": "code",
   "execution_count": 135,
   "metadata": {},
   "outputs": [],
   "source": [
    "datalocation = 'C:/Users/yours/OneDrive/Documents/2019 - Cornell - Coursework/Big Messy/Project MoveInSync/plannedtimefinds.csv'\n",
    "merging = pd.read_csv(datalocation)"
   ]
  },
  {
   "cell_type": "code",
   "execution_count": 136,
   "metadata": {},
   "outputs": [
    {
     "data": {
      "text/html": [
       "<div>\n",
       "<style scoped>\n",
       "    .dataframe tbody tr th:only-of-type {\n",
       "        vertical-align: middle;\n",
       "    }\n",
       "\n",
       "    .dataframe tbody tr th {\n",
       "        vertical-align: top;\n",
       "    }\n",
       "\n",
       "    .dataframe thead th {\n",
       "        text-align: right;\n",
       "    }\n",
       "</style>\n",
       "<table border=\"1\" class=\"dataframe\">\n",
       "  <thead>\n",
       "    <tr style=\"text-align: right;\">\n",
       "      <th></th>\n",
       "      <th>trip_id</th>\n",
       "      <th>employee_id</th>\n",
       "      <th>trip_type</th>\n",
       "      <th>distance</th>\n",
       "      <th>Hourpickup</th>\n",
       "      <th>Minutepickup</th>\n",
       "      <th>hour_shift</th>\n",
       "      <th>minute_shift</th>\n",
       "      <th>Delay</th>\n",
       "    </tr>\n",
       "  </thead>\n",
       "  <tbody>\n",
       "    <tr>\n",
       "      <th>0</th>\n",
       "      <td>461353</td>\n",
       "      <td>ATT-0001</td>\n",
       "      <td>LOGOUT</td>\n",
       "      <td>15.122719</td>\n",
       "      <td>6</td>\n",
       "      <td>45</td>\n",
       "      <td>6</td>\n",
       "      <td>30</td>\n",
       "      <td>-15.0</td>\n",
       "    </tr>\n",
       "    <tr>\n",
       "      <th>1</th>\n",
       "      <td>461528</td>\n",
       "      <td>ATT-0002</td>\n",
       "      <td>LOGIN</td>\n",
       "      <td>5.301257</td>\n",
       "      <td>6</td>\n",
       "      <td>26</td>\n",
       "      <td>6</td>\n",
       "      <td>45</td>\n",
       "      <td>19.0</td>\n",
       "    </tr>\n",
       "    <tr>\n",
       "      <th>2</th>\n",
       "      <td>461849</td>\n",
       "      <td>ATT-0003</td>\n",
       "      <td>LOGOUT</td>\n",
       "      <td>16.542731</td>\n",
       "      <td>15</td>\n",
       "      <td>45</td>\n",
       "      <td>15</td>\n",
       "      <td>30</td>\n",
       "      <td>-15.0</td>\n",
       "    </tr>\n",
       "    <tr>\n",
       "      <th>3</th>\n",
       "      <td>461431</td>\n",
       "      <td>ATT-0004</td>\n",
       "      <td>LOGOUT</td>\n",
       "      <td>13.286662</td>\n",
       "      <td>1</td>\n",
       "      <td>45</td>\n",
       "      <td>1</td>\n",
       "      <td>30</td>\n",
       "      <td>-15.0</td>\n",
       "    </tr>\n",
       "    <tr>\n",
       "      <th>4</th>\n",
       "      <td>461915</td>\n",
       "      <td>ATT-0005</td>\n",
       "      <td>LOGIN</td>\n",
       "      <td>2.596742</td>\n",
       "      <td>6</td>\n",
       "      <td>9</td>\n",
       "      <td>6</td>\n",
       "      <td>15</td>\n",
       "      <td>6.0</td>\n",
       "    </tr>\n",
       "  </tbody>\n",
       "</table>\n",
       "</div>"
      ],
      "text/plain": [
       "   trip_id employee_id trip_type   distance  Hourpickup  Minutepickup  \\\n",
       "0   461353    ATT-0001    LOGOUT  15.122719           6            45   \n",
       "1   461528    ATT-0002     LOGIN   5.301257           6            26   \n",
       "2   461849    ATT-0003    LOGOUT  16.542731          15            45   \n",
       "3   461431    ATT-0004    LOGOUT  13.286662           1            45   \n",
       "4   461915    ATT-0005     LOGIN   2.596742           6             9   \n",
       "\n",
       "   hour_shift  minute_shift  Delay  \n",
       "0           6            30  -15.0  \n",
       "1           6            45   19.0  \n",
       "2          15            30  -15.0  \n",
       "3           1            30  -15.0  \n",
       "4           6            15    6.0  "
      ]
     },
     "execution_count": 136,
     "metadata": {},
     "output_type": "execute_result"
    }
   ],
   "source": [
    "merging.head()"
   ]
  },
  {
   "cell_type": "code",
   "execution_count": 137,
   "metadata": {},
   "outputs": [],
   "source": [
    "features = ['trip_id','employee_id','Hourpickup','Minutepickup']\n",
    "mergingf = merging[features]"
   ]
  },
  {
   "cell_type": "code",
   "execution_count": 139,
   "metadata": {},
   "outputs": [],
   "source": [
    "final2 = pd.merge(df6,mergingf, on=['trip_id','employee_id'], how = 'left')"
   ]
  },
  {
   "cell_type": "code",
   "execution_count": 142,
   "metadata": {},
   "outputs": [
    {
     "data": {
      "text/plain": [
       "(599041, 28)"
      ]
     },
     "execution_count": 142,
     "metadata": {},
     "output_type": "execute_result"
    }
   ],
   "source": [
    "x = final2.drop_duplicates()\n",
    "x.shape"
   ]
  },
  {
   "cell_type": "code",
   "execution_count": 151,
   "metadata": {},
   "outputs": [],
   "source": [
    "y = final2[~final2.Hourpickup.isnull()]"
   ]
  },
  {
   "cell_type": "code",
   "execution_count": 153,
   "metadata": {},
   "outputs": [],
   "source": [
    "df7 = y"
   ]
  },
  {
   "cell_type": "code",
   "execution_count": 167,
   "metadata": {},
   "outputs": [],
   "source": [
    "f = ['trip_id','employee_id','month']\n",
    "z = original_data[f]"
   ]
  },
  {
   "cell_type": "code",
   "execution_count": 170,
   "metadata": {},
   "outputs": [
    {
     "data": {
      "text/plain": [
       "Index(['employee_id', 'trip_id', 'trip_type', 'gender', 'cab_type',\n",
       "       'trip_state_text_x', 'planned_pickup_time', 'pickup_geoX',\n",
       "       'pickup_geoY', 'drop_geoX', 'drop_geoY', 'distance', 'Company',\n",
       "       'dayofweek', 'month', 'employee_count_x', 'required_escort_x',\n",
       "       'trip_state_text_y', 'employee_count_y', 'required_escort_y',\n",
       "       'max_distance', 'total_distance', 'costoftrip', 'perpersoncost',\n",
       "       'hour_shift', 'minute_shift', 'Hourpickup', 'Minutepickup'],\n",
       "      dtype='object')"
      ]
     },
     "execution_count": 170,
     "metadata": {},
     "output_type": "execute_result"
    }
   ],
   "source": [
    "df7.columns"
   ]
  },
  {
   "cell_type": "code",
   "execution_count": 172,
   "metadata": {},
   "outputs": [],
   "source": [
    "f = ['employee_id', 'trip_id', 'trip_type', 'gender', 'cab_type',\n",
    "       'trip_state_text_x', 'planned_pickup_time', 'pickup_geoX',\n",
    "       'pickup_geoY', 'drop_geoX', 'drop_geoY', 'distance', 'Company',\n",
    "       'dayofweek', 'employee_count_x', 'required_escort_x',\n",
    "       'trip_state_text_y', 'employee_count_y', 'required_escort_y',\n",
    "       'max_distance', 'total_distance', 'costoftrip', 'perpersoncost',\n",
    "       'hour_shift', 'minute_shift', 'Hourpickup', 'Minutepickup']"
   ]
  },
  {
   "cell_type": "code",
   "execution_count": 173,
   "metadata": {},
   "outputs": [],
   "source": [
    "df8 = df7[f]"
   ]
  },
  {
   "cell_type": "code",
   "execution_count": 174,
   "metadata": {},
   "outputs": [],
   "source": [
    "res = pd.merge(df8,z, on=['trip_id','employee_id'], how = 'left')"
   ]
  },
  {
   "cell_type": "code",
   "execution_count": 178,
   "metadata": {},
   "outputs": [],
   "source": [
    "bit = res.drop_duplicates()"
   ]
  },
  {
   "cell_type": "code",
   "execution_count": 181,
   "metadata": {},
   "outputs": [],
   "source": [
    "df9 = bit"
   ]
  },
  {
   "cell_type": "code",
   "execution_count": 191,
   "metadata": {},
   "outputs": [
    {
     "data": {
      "text/plain": [
       "Index(['employee_id', 'trip_id', 'trip_type', 'gender', 'cab_type',\n",
       "       'trip_state_text_x', 'planned_pickup_time', 'pickup_geoX',\n",
       "       'pickup_geoY', 'drop_geoX', 'drop_geoY', 'distance', 'Company',\n",
       "       'dayofweek', 'employee_count_x', 'required_escort_x',\n",
       "       'trip_state_text_y', 'employee_count_y', 'required_escort_y',\n",
       "       'max_distance', 'total_distance', 'costoftrip', 'perpersoncost',\n",
       "       'hour_shift', 'minute_shift', 'Hourpickup', 'Minutepickup', 'month'],\n",
       "      dtype='object')"
      ]
     },
     "execution_count": 191,
     "metadata": {},
     "output_type": "execute_result"
    }
   ],
   "source": [
    "df9.columns"
   ]
  },
  {
   "cell_type": "code",
   "execution_count": 351,
   "metadata": {},
   "outputs": [],
   "source": [
    "datalocation = 'C:/Users/yours/OneDrive/Documents/2019 - Cornell - Coursework/Big Messy/Project MoveInSync/Dayofweek.csv'\n",
    "merging = pd.read_csv(datalocation)"
   ]
  },
  {
   "cell_type": "markdown",
   "metadata": {},
   "source": [
    "#### Finding the day of week from Planned Pick up time. "
   ]
  },
  {
   "cell_type": "code",
   "execution_count": 352,
   "metadata": {},
   "outputs": [
    {
     "data": {
      "text/html": [
       "<div>\n",
       "<style scoped>\n",
       "    .dataframe tbody tr th:only-of-type {\n",
       "        vertical-align: middle;\n",
       "    }\n",
       "\n",
       "    .dataframe tbody tr th {\n",
       "        vertical-align: top;\n",
       "    }\n",
       "\n",
       "    .dataframe thead th {\n",
       "        text-align: right;\n",
       "    }\n",
       "</style>\n",
       "<table border=\"1\" class=\"dataframe\">\n",
       "  <thead>\n",
       "    <tr style=\"text-align: right;\">\n",
       "      <th></th>\n",
       "      <th>dayofweek</th>\n",
       "      <th>daynum</th>\n",
       "    </tr>\n",
       "  </thead>\n",
       "  <tbody>\n",
       "    <tr>\n",
       "      <th>0</th>\n",
       "      <td>05-01</td>\n",
       "      <td>4</td>\n",
       "    </tr>\n",
       "    <tr>\n",
       "      <th>1</th>\n",
       "      <td>05-02</td>\n",
       "      <td>5</td>\n",
       "    </tr>\n",
       "    <tr>\n",
       "      <th>2</th>\n",
       "      <td>05-03</td>\n",
       "      <td>6</td>\n",
       "    </tr>\n",
       "    <tr>\n",
       "      <th>3</th>\n",
       "      <td>05-04</td>\n",
       "      <td>7</td>\n",
       "    </tr>\n",
       "    <tr>\n",
       "      <th>4</th>\n",
       "      <td>05-05</td>\n",
       "      <td>1</td>\n",
       "    </tr>\n",
       "  </tbody>\n",
       "</table>\n",
       "</div>"
      ],
      "text/plain": [
       "  dayofweek  daynum\n",
       "0     05-01       4\n",
       "1     05-02       5\n",
       "2     05-03       6\n",
       "3     05-04       7\n",
       "4     05-05       1"
      ]
     },
     "execution_count": 352,
     "metadata": {},
     "output_type": "execute_result"
    }
   ],
   "source": [
    "merging.head()"
   ]
  },
  {
   "cell_type": "code",
   "execution_count": 199,
   "metadata": {},
   "outputs": [],
   "source": [
    "df10 = df9"
   ]
  },
  {
   "cell_type": "code",
   "execution_count": 200,
   "metadata": {},
   "outputs": [
    {
     "data": {
      "text/plain": [
       "Index(['employee_id', 'trip_id', 'trip_type', 'gender', 'cab_type',\n",
       "       'trip_state_text_x', 'planned_pickup_time', 'pickup_geoX',\n",
       "       'pickup_geoY', 'drop_geoX', 'drop_geoY', 'distance', 'Company',\n",
       "       'dayofweek', 'employee_count_x', 'required_escort_x',\n",
       "       'trip_state_text_y', 'employee_count_y', 'required_escort_y',\n",
       "       'max_distance', 'total_distance', 'costoftrip', 'perpersoncost',\n",
       "       'hour_shift', 'minute_shift', 'Hourpickup', 'Minutepickup', 'month'],\n",
       "      dtype='object')"
      ]
     },
     "execution_count": 200,
     "metadata": {},
     "output_type": "execute_result"
    }
   ],
   "source": [
    "df9.columns"
   ]
  },
  {
   "cell_type": "code",
   "execution_count": 280,
   "metadata": {},
   "outputs": [],
   "source": [
    "yo = original_data.date\n",
    "mon = [str(x)[5:7] for x in yo]\n",
    "dmon = [str(x)[8:10] for x in yo]"
   ]
  },
  {
   "cell_type": "code",
   "execution_count": 243,
   "metadata": {},
   "outputs": [],
   "source": [
    "f = ['trip_id','employee_id']\n",
    "dummy = original_data[f]"
   ]
  },
  {
   "cell_type": "code",
   "execution_count": 282,
   "metadata": {},
   "outputs": [
    {
     "name": "stderr",
     "output_type": "stream",
     "text": [
      "C:\\Users\\yours\\Anaconda3\\lib\\site-packages\\ipykernel_launcher.py:1: SettingWithCopyWarning: \n",
      "A value is trying to be set on a copy of a slice from a DataFrame.\n",
      "Try using .loc[row_indexer,col_indexer] = value instead\n",
      "\n",
      "See the caveats in the documentation: http://pandas.pydata.org/pandas-docs/stable/indexing.html#indexing-view-versus-copy\n",
      "  \"\"\"Entry point for launching an IPython kernel.\n",
      "C:\\Users\\yours\\Anaconda3\\lib\\site-packages\\ipykernel_launcher.py:2: SettingWithCopyWarning: \n",
      "A value is trying to be set on a copy of a slice from a DataFrame.\n",
      "Try using .loc[row_indexer,col_indexer] = value instead\n",
      "\n",
      "See the caveats in the documentation: http://pandas.pydata.org/pandas-docs/stable/indexing.html#indexing-view-versus-copy\n",
      "  \n"
     ]
    }
   ],
   "source": [
    "dummy['month'] = mon\n",
    "dummy['dateofmonth'] = dmon"
   ]
  },
  {
   "cell_type": "code",
   "execution_count": 283,
   "metadata": {},
   "outputs": [],
   "source": [
    "f = ['employee_id', 'trip_id', 'trip_type', 'gender', 'cab_type',\n",
    "       'trip_state_text_x', 'planned_pickup_time', 'pickup_geoX',\n",
    "       'pickup_geoY', 'drop_geoX', 'drop_geoY', 'distance', 'Company',\n",
    "       'dayofweek', 'employee_count_x', 'required_escort_x',\n",
    "       'trip_state_text_y', 'employee_count_y', 'required_escort_y',\n",
    "       'max_distance', 'total_distance', 'costoftrip', 'perpersoncost',\n",
    "       'hour_shift', 'minute_shift', 'Hourpickup', 'Minutepickup']\n",
    "df11 = df9[f]"
   ]
  },
  {
   "cell_type": "code",
   "execution_count": 284,
   "metadata": {},
   "outputs": [],
   "source": [
    "res3 = pd.merge(df11,dummy, on=['trip_id','employee_id'], how = 'left')"
   ]
  },
  {
   "cell_type": "code",
   "execution_count": 333,
   "metadata": {},
   "outputs": [],
   "source": [
    "x = res3.drop_duplicates()"
   ]
  },
  {
   "cell_type": "code",
   "execution_count": 334,
   "metadata": {},
   "outputs": [],
   "source": [
    "df12 = x"
   ]
  },
  {
   "cell_type": "code",
   "execution_count": 339,
   "metadata": {},
   "outputs": [
    {
     "data": {
      "text/html": [
       "<div>\n",
       "<style scoped>\n",
       "    .dataframe tbody tr th:only-of-type {\n",
       "        vertical-align: middle;\n",
       "    }\n",
       "\n",
       "    .dataframe tbody tr th {\n",
       "        vertical-align: top;\n",
       "    }\n",
       "\n",
       "    .dataframe thead th {\n",
       "        text-align: right;\n",
       "    }\n",
       "</style>\n",
       "<table border=\"1\" class=\"dataframe\">\n",
       "  <thead>\n",
       "    <tr style=\"text-align: right;\">\n",
       "      <th></th>\n",
       "      <th>employee_id</th>\n",
       "      <th>trip_id</th>\n",
       "      <th>trip_type</th>\n",
       "      <th>gender</th>\n",
       "      <th>cab_type</th>\n",
       "      <th>trip_state_text_x</th>\n",
       "      <th>planned_pickup_time</th>\n",
       "      <th>pickup_geoX</th>\n",
       "      <th>pickup_geoY</th>\n",
       "      <th>drop_geoX</th>\n",
       "      <th>...</th>\n",
       "      <th>max_distance</th>\n",
       "      <th>total_distance</th>\n",
       "      <th>costoftrip</th>\n",
       "      <th>perpersoncost</th>\n",
       "      <th>hour_shift</th>\n",
       "      <th>minute_shift</th>\n",
       "      <th>Hourpickup</th>\n",
       "      <th>Minutepickup</th>\n",
       "      <th>month</th>\n",
       "      <th>dateofmonth</th>\n",
       "    </tr>\n",
       "  </thead>\n",
       "  <tbody>\n",
       "    <tr>\n",
       "      <th>0</th>\n",
       "      <td>ATT-0001</td>\n",
       "      <td>461353</td>\n",
       "      <td>LOGOUT</td>\n",
       "      <td>MALE</td>\n",
       "      <td>4 Seater</td>\n",
       "      <td>COMPLETED</td>\n",
       "      <td>5/16/2019 6:45</td>\n",
       "      <td>12.923583</td>\n",
       "      <td>77.671061</td>\n",
       "      <td>12.988366</td>\n",
       "      <td>...</td>\n",
       "      <td>15.506603</td>\n",
       "      <td>30.629322</td>\n",
       "      <td>155.066034</td>\n",
       "      <td>77.047147</td>\n",
       "      <td>06</td>\n",
       "      <td>30</td>\n",
       "      <td>6.0</td>\n",
       "      <td>45.0</td>\n",
       "      <td>05</td>\n",
       "      <td>16</td>\n",
       "    </tr>\n",
       "    <tr>\n",
       "      <th>1</th>\n",
       "      <td>ATT-0002</td>\n",
       "      <td>461528</td>\n",
       "      <td>LOGIN</td>\n",
       "      <td>MALE</td>\n",
       "      <td>4 Seater</td>\n",
       "      <td>COMPLETED</td>\n",
       "      <td>5/16/2019 6:26</td>\n",
       "      <td>12.955146</td>\n",
       "      <td>77.738991</td>\n",
       "      <td>12.934748</td>\n",
       "      <td>...</td>\n",
       "      <td>5.301257</td>\n",
       "      <td>7.177641</td>\n",
       "      <td>53.012574</td>\n",
       "      <td>46.083283</td>\n",
       "      <td>06</td>\n",
       "      <td>45</td>\n",
       "      <td>6.0</td>\n",
       "      <td>26.0</td>\n",
       "      <td>05</td>\n",
       "      <td>16</td>\n",
       "    </tr>\n",
       "    <tr>\n",
       "      <th>2</th>\n",
       "      <td>ATT-0003</td>\n",
       "      <td>461849</td>\n",
       "      <td>LOGOUT</td>\n",
       "      <td>MALE</td>\n",
       "      <td>4 Seater</td>\n",
       "      <td>COMPLETED</td>\n",
       "      <td>5/16/2019 15:45</td>\n",
       "      <td>12.924626</td>\n",
       "      <td>77.671098</td>\n",
       "      <td>12.968512</td>\n",
       "      <td>...</td>\n",
       "      <td>16.542731</td>\n",
       "      <td>46.928047</td>\n",
       "      <td>165.427313</td>\n",
       "      <td>56.728831</td>\n",
       "      <td>15</td>\n",
       "      <td>30</td>\n",
       "      <td>15.0</td>\n",
       "      <td>45.0</td>\n",
       "      <td>05</td>\n",
       "      <td>16</td>\n",
       "    </tr>\n",
       "    <tr>\n",
       "      <th>3</th>\n",
       "      <td>ATT-0004</td>\n",
       "      <td>461431</td>\n",
       "      <td>LOGOUT</td>\n",
       "      <td>MALE</td>\n",
       "      <td>4 Seater</td>\n",
       "      <td>COMPLETED</td>\n",
       "      <td>5/16/2019 1:45</td>\n",
       "      <td>12.924514</td>\n",
       "      <td>77.671051</td>\n",
       "      <td>13.043238</td>\n",
       "      <td>...</td>\n",
       "      <td>22.936604</td>\n",
       "      <td>59.086995</td>\n",
       "      <td>458.732089</td>\n",
       "      <td>128.031994</td>\n",
       "      <td>01</td>\n",
       "      <td>30</td>\n",
       "      <td>1.0</td>\n",
       "      <td>45.0</td>\n",
       "      <td>05</td>\n",
       "      <td>16</td>\n",
       "    </tr>\n",
       "    <tr>\n",
       "      <th>4</th>\n",
       "      <td>ATT-0005</td>\n",
       "      <td>461915</td>\n",
       "      <td>LOGIN</td>\n",
       "      <td>FEMALE</td>\n",
       "      <td>4 Seater</td>\n",
       "      <td>COMPLETED</td>\n",
       "      <td>5/16/2019 6:09</td>\n",
       "      <td>12.921150</td>\n",
       "      <td>77.646636</td>\n",
       "      <td>12.923322</td>\n",
       "      <td>...</td>\n",
       "      <td>2.596742</td>\n",
       "      <td>5.193483</td>\n",
       "      <td>51.934835</td>\n",
       "      <td>25.967417</td>\n",
       "      <td>06</td>\n",
       "      <td>15</td>\n",
       "      <td>6.0</td>\n",
       "      <td>9.0</td>\n",
       "      <td>05</td>\n",
       "      <td>16</td>\n",
       "    </tr>\n",
       "  </tbody>\n",
       "</table>\n",
       "<p>5 rows × 29 columns</p>\n",
       "</div>"
      ],
      "text/plain": [
       "  employee_id  trip_id trip_type  gender  cab_type trip_state_text_x  \\\n",
       "0    ATT-0001   461353    LOGOUT    MALE  4 Seater         COMPLETED   \n",
       "1    ATT-0002   461528     LOGIN    MALE  4 Seater         COMPLETED   \n",
       "2    ATT-0003   461849    LOGOUT    MALE  4 Seater         COMPLETED   \n",
       "3    ATT-0004   461431    LOGOUT    MALE  4 Seater         COMPLETED   \n",
       "4    ATT-0005   461915     LOGIN  FEMALE  4 Seater         COMPLETED   \n",
       "\n",
       "  planned_pickup_time  pickup_geoX  pickup_geoY  drop_geoX  ...  max_distance  \\\n",
       "0      5/16/2019 6:45    12.923583    77.671061  12.988366  ...     15.506603   \n",
       "1      5/16/2019 6:26    12.955146    77.738991  12.934748  ...      5.301257   \n",
       "2     5/16/2019 15:45    12.924626    77.671098  12.968512  ...     16.542731   \n",
       "3      5/16/2019 1:45    12.924514    77.671051  13.043238  ...     22.936604   \n",
       "4      5/16/2019 6:09    12.921150    77.646636  12.923322  ...      2.596742   \n",
       "\n",
       "   total_distance  costoftrip perpersoncost  hour_shift  minute_shift  \\\n",
       "0       30.629322  155.066034     77.047147          06            30   \n",
       "1        7.177641   53.012574     46.083283          06            45   \n",
       "2       46.928047  165.427313     56.728831          15            30   \n",
       "3       59.086995  458.732089    128.031994          01            30   \n",
       "4        5.193483   51.934835     25.967417          06            15   \n",
       "\n",
       "  Hourpickup  Minutepickup  month  dateofmonth  \n",
       "0        6.0          45.0     05           16  \n",
       "1        6.0          26.0     05           16  \n",
       "2       15.0          45.0     05           16  \n",
       "3        1.0          45.0     05           16  \n",
       "4        6.0           9.0     05           16  \n",
       "\n",
       "[5 rows x 29 columns]"
      ]
     },
     "execution_count": 339,
     "metadata": {},
     "output_type": "execute_result"
    }
   ],
   "source": [
    "df12.head()"
   ]
  },
  {
   "cell_type": "code",
   "execution_count": 340,
   "metadata": {},
   "outputs": [
    {
     "name": "stderr",
     "output_type": "stream",
     "text": [
      "C:\\Users\\yours\\Anaconda3\\lib\\site-packages\\ipykernel_launcher.py:1: SettingWithCopyWarning: \n",
      "A value is trying to be set on a copy of a slice from a DataFrame.\n",
      "Try using .loc[row_indexer,col_indexer] = value instead\n",
      "\n",
      "See the caveats in the documentation: http://pandas.pydata.org/pandas-docs/stable/indexing.html#indexing-view-versus-copy\n",
      "  \"\"\"Entry point for launching an IPython kernel.\n"
     ]
    }
   ],
   "source": [
    "df12['dayofweek'] = df12['month'] + '-' + df12['dateofmonth']"
   ]
  },
  {
   "cell_type": "code",
   "execution_count": 353,
   "metadata": {},
   "outputs": [],
   "source": [
    "res5 = pd.merge(df12,merging, on=['dayofweek'], how = 'left')"
   ]
  },
  {
   "cell_type": "code",
   "execution_count": 356,
   "metadata": {},
   "outputs": [],
   "source": [
    "df13 = res5"
   ]
  },
  {
   "cell_type": "code",
   "execution_count": 358,
   "metadata": {},
   "outputs": [
    {
     "data": {
      "text/html": [
       "<div>\n",
       "<style scoped>\n",
       "    .dataframe tbody tr th:only-of-type {\n",
       "        vertical-align: middle;\n",
       "    }\n",
       "\n",
       "    .dataframe tbody tr th {\n",
       "        vertical-align: top;\n",
       "    }\n",
       "\n",
       "    .dataframe thead th {\n",
       "        text-align: right;\n",
       "    }\n",
       "</style>\n",
       "<table border=\"1\" class=\"dataframe\">\n",
       "  <thead>\n",
       "    <tr style=\"text-align: right;\">\n",
       "      <th></th>\n",
       "      <th>employee_id</th>\n",
       "      <th>trip_id</th>\n",
       "      <th>trip_type</th>\n",
       "      <th>gender</th>\n",
       "      <th>cab_type</th>\n",
       "      <th>trip_state_text_x</th>\n",
       "      <th>planned_pickup_time</th>\n",
       "      <th>pickup_geoX</th>\n",
       "      <th>pickup_geoY</th>\n",
       "      <th>drop_geoX</th>\n",
       "      <th>...</th>\n",
       "      <th>total_distance</th>\n",
       "      <th>costoftrip</th>\n",
       "      <th>perpersoncost</th>\n",
       "      <th>hour_shift</th>\n",
       "      <th>minute_shift</th>\n",
       "      <th>Hourpickup</th>\n",
       "      <th>Minutepickup</th>\n",
       "      <th>month</th>\n",
       "      <th>dateofmonth</th>\n",
       "      <th>daynum</th>\n",
       "    </tr>\n",
       "  </thead>\n",
       "  <tbody>\n",
       "    <tr>\n",
       "      <th>0</th>\n",
       "      <td>ATT-0001</td>\n",
       "      <td>461353</td>\n",
       "      <td>LOGOUT</td>\n",
       "      <td>MALE</td>\n",
       "      <td>4 Seater</td>\n",
       "      <td>COMPLETED</td>\n",
       "      <td>5/16/2019 6:45</td>\n",
       "      <td>12.923583</td>\n",
       "      <td>77.671061</td>\n",
       "      <td>12.988366</td>\n",
       "      <td>...</td>\n",
       "      <td>30.629322</td>\n",
       "      <td>155.066034</td>\n",
       "      <td>77.047147</td>\n",
       "      <td>06</td>\n",
       "      <td>30</td>\n",
       "      <td>6.0</td>\n",
       "      <td>45.0</td>\n",
       "      <td>05</td>\n",
       "      <td>16</td>\n",
       "      <td>5</td>\n",
       "    </tr>\n",
       "    <tr>\n",
       "      <th>1</th>\n",
       "      <td>ATT-0002</td>\n",
       "      <td>461528</td>\n",
       "      <td>LOGIN</td>\n",
       "      <td>MALE</td>\n",
       "      <td>4 Seater</td>\n",
       "      <td>COMPLETED</td>\n",
       "      <td>5/16/2019 6:26</td>\n",
       "      <td>12.955146</td>\n",
       "      <td>77.738991</td>\n",
       "      <td>12.934748</td>\n",
       "      <td>...</td>\n",
       "      <td>7.177641</td>\n",
       "      <td>53.012574</td>\n",
       "      <td>46.083283</td>\n",
       "      <td>06</td>\n",
       "      <td>45</td>\n",
       "      <td>6.0</td>\n",
       "      <td>26.0</td>\n",
       "      <td>05</td>\n",
       "      <td>16</td>\n",
       "      <td>5</td>\n",
       "    </tr>\n",
       "    <tr>\n",
       "      <th>2</th>\n",
       "      <td>ATT-0003</td>\n",
       "      <td>461849</td>\n",
       "      <td>LOGOUT</td>\n",
       "      <td>MALE</td>\n",
       "      <td>4 Seater</td>\n",
       "      <td>COMPLETED</td>\n",
       "      <td>5/16/2019 15:45</td>\n",
       "      <td>12.924626</td>\n",
       "      <td>77.671098</td>\n",
       "      <td>12.968512</td>\n",
       "      <td>...</td>\n",
       "      <td>46.928047</td>\n",
       "      <td>165.427313</td>\n",
       "      <td>56.728831</td>\n",
       "      <td>15</td>\n",
       "      <td>30</td>\n",
       "      <td>15.0</td>\n",
       "      <td>45.0</td>\n",
       "      <td>05</td>\n",
       "      <td>16</td>\n",
       "      <td>5</td>\n",
       "    </tr>\n",
       "    <tr>\n",
       "      <th>3</th>\n",
       "      <td>ATT-0004</td>\n",
       "      <td>461431</td>\n",
       "      <td>LOGOUT</td>\n",
       "      <td>MALE</td>\n",
       "      <td>4 Seater</td>\n",
       "      <td>COMPLETED</td>\n",
       "      <td>5/16/2019 1:45</td>\n",
       "      <td>12.924514</td>\n",
       "      <td>77.671051</td>\n",
       "      <td>13.043238</td>\n",
       "      <td>...</td>\n",
       "      <td>59.086995</td>\n",
       "      <td>458.732089</td>\n",
       "      <td>128.031994</td>\n",
       "      <td>01</td>\n",
       "      <td>30</td>\n",
       "      <td>1.0</td>\n",
       "      <td>45.0</td>\n",
       "      <td>05</td>\n",
       "      <td>16</td>\n",
       "      <td>5</td>\n",
       "    </tr>\n",
       "    <tr>\n",
       "      <th>4</th>\n",
       "      <td>ATT-0005</td>\n",
       "      <td>461915</td>\n",
       "      <td>LOGIN</td>\n",
       "      <td>FEMALE</td>\n",
       "      <td>4 Seater</td>\n",
       "      <td>COMPLETED</td>\n",
       "      <td>5/16/2019 6:09</td>\n",
       "      <td>12.921150</td>\n",
       "      <td>77.646636</td>\n",
       "      <td>12.923322</td>\n",
       "      <td>...</td>\n",
       "      <td>5.193483</td>\n",
       "      <td>51.934835</td>\n",
       "      <td>25.967417</td>\n",
       "      <td>06</td>\n",
       "      <td>15</td>\n",
       "      <td>6.0</td>\n",
       "      <td>9.0</td>\n",
       "      <td>05</td>\n",
       "      <td>16</td>\n",
       "      <td>5</td>\n",
       "    </tr>\n",
       "  </tbody>\n",
       "</table>\n",
       "<p>5 rows × 30 columns</p>\n",
       "</div>"
      ],
      "text/plain": [
       "  employee_id  trip_id trip_type  gender  cab_type trip_state_text_x  \\\n",
       "0    ATT-0001   461353    LOGOUT    MALE  4 Seater         COMPLETED   \n",
       "1    ATT-0002   461528     LOGIN    MALE  4 Seater         COMPLETED   \n",
       "2    ATT-0003   461849    LOGOUT    MALE  4 Seater         COMPLETED   \n",
       "3    ATT-0004   461431    LOGOUT    MALE  4 Seater         COMPLETED   \n",
       "4    ATT-0005   461915     LOGIN  FEMALE  4 Seater         COMPLETED   \n",
       "\n",
       "  planned_pickup_time  pickup_geoX  pickup_geoY  drop_geoX  ...  \\\n",
       "0      5/16/2019 6:45    12.923583    77.671061  12.988366  ...   \n",
       "1      5/16/2019 6:26    12.955146    77.738991  12.934748  ...   \n",
       "2     5/16/2019 15:45    12.924626    77.671098  12.968512  ...   \n",
       "3      5/16/2019 1:45    12.924514    77.671051  13.043238  ...   \n",
       "4      5/16/2019 6:09    12.921150    77.646636  12.923322  ...   \n",
       "\n",
       "   total_distance  costoftrip  perpersoncost hour_shift  minute_shift  \\\n",
       "0       30.629322  155.066034      77.047147         06            30   \n",
       "1        7.177641   53.012574      46.083283         06            45   \n",
       "2       46.928047  165.427313      56.728831         15            30   \n",
       "3       59.086995  458.732089     128.031994         01            30   \n",
       "4        5.193483   51.934835      25.967417         06            15   \n",
       "\n",
       "   Hourpickup Minutepickup  month  dateofmonth  daynum  \n",
       "0         6.0         45.0     05           16       5  \n",
       "1         6.0         26.0     05           16       5  \n",
       "2        15.0         45.0     05           16       5  \n",
       "3         1.0         45.0     05           16       5  \n",
       "4         6.0          9.0     05           16       5  \n",
       "\n",
       "[5 rows x 30 columns]"
      ]
     },
     "execution_count": 358,
     "metadata": {},
     "output_type": "execute_result"
    }
   ],
   "source": [
    "df13.head()"
   ]
  },
  {
   "cell_type": "markdown",
   "metadata": {},
   "source": [
    "#### Renaming Columns"
   ]
  },
  {
   "cell_type": "code",
   "execution_count": 359,
   "metadata": {},
   "outputs": [],
   "source": [
    "df13.rename(columns={\"dateofmonth\": \"date_of_month\"}, inplace = True)\n",
    "df13.rename(columns={\"daynum\": \"day\"}, inplace = True)\n",
    "df13.rename(columns={\"Minutepickup\": \"minute\"}, inplace = True)\n",
    "df13.rename(columns={\"Hourpickup\": \"hour\"}, inplace = True)"
   ]
  },
  {
   "cell_type": "code",
   "execution_count": 361,
   "metadata": {
    "scrolled": true
   },
   "outputs": [
    {
     "data": {
      "text/html": [
       "<div>\n",
       "<style scoped>\n",
       "    .dataframe tbody tr th:only-of-type {\n",
       "        vertical-align: middle;\n",
       "    }\n",
       "\n",
       "    .dataframe tbody tr th {\n",
       "        vertical-align: top;\n",
       "    }\n",
       "\n",
       "    .dataframe thead th {\n",
       "        text-align: right;\n",
       "    }\n",
       "</style>\n",
       "<table border=\"1\" class=\"dataframe\">\n",
       "  <thead>\n",
       "    <tr style=\"text-align: right;\">\n",
       "      <th></th>\n",
       "      <th>employee_id</th>\n",
       "      <th>trip_id</th>\n",
       "      <th>trip_type</th>\n",
       "      <th>gender</th>\n",
       "      <th>cab_type</th>\n",
       "      <th>trip_state_text</th>\n",
       "      <th>planned_pickup_time</th>\n",
       "      <th>pickup_geoX</th>\n",
       "      <th>pickup_geoY</th>\n",
       "      <th>drop_geoX</th>\n",
       "      <th>...</th>\n",
       "      <th>total_distance</th>\n",
       "      <th>costoftrip</th>\n",
       "      <th>perpersoncost</th>\n",
       "      <th>hour_shift</th>\n",
       "      <th>minute_shift</th>\n",
       "      <th>hour</th>\n",
       "      <th>minute</th>\n",
       "      <th>month</th>\n",
       "      <th>date_of_month</th>\n",
       "      <th>day</th>\n",
       "    </tr>\n",
       "  </thead>\n",
       "  <tbody>\n",
       "    <tr>\n",
       "      <th>0</th>\n",
       "      <td>ATT-0001</td>\n",
       "      <td>461353</td>\n",
       "      <td>LOGOUT</td>\n",
       "      <td>MALE</td>\n",
       "      <td>4 Seater</td>\n",
       "      <td>COMPLETED</td>\n",
       "      <td>5/16/2019 6:45</td>\n",
       "      <td>12.923583</td>\n",
       "      <td>77.671061</td>\n",
       "      <td>12.988366</td>\n",
       "      <td>...</td>\n",
       "      <td>30.629322</td>\n",
       "      <td>155.066034</td>\n",
       "      <td>77.047147</td>\n",
       "      <td>06</td>\n",
       "      <td>30</td>\n",
       "      <td>6.0</td>\n",
       "      <td>45.0</td>\n",
       "      <td>05</td>\n",
       "      <td>16</td>\n",
       "      <td>5</td>\n",
       "    </tr>\n",
       "    <tr>\n",
       "      <th>1</th>\n",
       "      <td>ATT-0002</td>\n",
       "      <td>461528</td>\n",
       "      <td>LOGIN</td>\n",
       "      <td>MALE</td>\n",
       "      <td>4 Seater</td>\n",
       "      <td>COMPLETED</td>\n",
       "      <td>5/16/2019 6:26</td>\n",
       "      <td>12.955146</td>\n",
       "      <td>77.738991</td>\n",
       "      <td>12.934748</td>\n",
       "      <td>...</td>\n",
       "      <td>7.177641</td>\n",
       "      <td>53.012574</td>\n",
       "      <td>46.083283</td>\n",
       "      <td>06</td>\n",
       "      <td>45</td>\n",
       "      <td>6.0</td>\n",
       "      <td>26.0</td>\n",
       "      <td>05</td>\n",
       "      <td>16</td>\n",
       "      <td>5</td>\n",
       "    </tr>\n",
       "    <tr>\n",
       "      <th>2</th>\n",
       "      <td>ATT-0003</td>\n",
       "      <td>461849</td>\n",
       "      <td>LOGOUT</td>\n",
       "      <td>MALE</td>\n",
       "      <td>4 Seater</td>\n",
       "      <td>COMPLETED</td>\n",
       "      <td>5/16/2019 15:45</td>\n",
       "      <td>12.924626</td>\n",
       "      <td>77.671098</td>\n",
       "      <td>12.968512</td>\n",
       "      <td>...</td>\n",
       "      <td>46.928047</td>\n",
       "      <td>165.427313</td>\n",
       "      <td>56.728831</td>\n",
       "      <td>15</td>\n",
       "      <td>30</td>\n",
       "      <td>15.0</td>\n",
       "      <td>45.0</td>\n",
       "      <td>05</td>\n",
       "      <td>16</td>\n",
       "      <td>5</td>\n",
       "    </tr>\n",
       "    <tr>\n",
       "      <th>3</th>\n",
       "      <td>ATT-0004</td>\n",
       "      <td>461431</td>\n",
       "      <td>LOGOUT</td>\n",
       "      <td>MALE</td>\n",
       "      <td>4 Seater</td>\n",
       "      <td>COMPLETED</td>\n",
       "      <td>5/16/2019 1:45</td>\n",
       "      <td>12.924514</td>\n",
       "      <td>77.671051</td>\n",
       "      <td>13.043238</td>\n",
       "      <td>...</td>\n",
       "      <td>59.086995</td>\n",
       "      <td>458.732089</td>\n",
       "      <td>128.031994</td>\n",
       "      <td>01</td>\n",
       "      <td>30</td>\n",
       "      <td>1.0</td>\n",
       "      <td>45.0</td>\n",
       "      <td>05</td>\n",
       "      <td>16</td>\n",
       "      <td>5</td>\n",
       "    </tr>\n",
       "    <tr>\n",
       "      <th>4</th>\n",
       "      <td>ATT-0005</td>\n",
       "      <td>461915</td>\n",
       "      <td>LOGIN</td>\n",
       "      <td>FEMALE</td>\n",
       "      <td>4 Seater</td>\n",
       "      <td>COMPLETED</td>\n",
       "      <td>5/16/2019 6:09</td>\n",
       "      <td>12.921150</td>\n",
       "      <td>77.646636</td>\n",
       "      <td>12.923322</td>\n",
       "      <td>...</td>\n",
       "      <td>5.193483</td>\n",
       "      <td>51.934835</td>\n",
       "      <td>25.967417</td>\n",
       "      <td>06</td>\n",
       "      <td>15</td>\n",
       "      <td>6.0</td>\n",
       "      <td>9.0</td>\n",
       "      <td>05</td>\n",
       "      <td>16</td>\n",
       "      <td>5</td>\n",
       "    </tr>\n",
       "  </tbody>\n",
       "</table>\n",
       "<p>5 rows × 30 columns</p>\n",
       "</div>"
      ],
      "text/plain": [
       "  employee_id  trip_id trip_type  gender  cab_type trip_state_text  \\\n",
       "0    ATT-0001   461353    LOGOUT    MALE  4 Seater       COMPLETED   \n",
       "1    ATT-0002   461528     LOGIN    MALE  4 Seater       COMPLETED   \n",
       "2    ATT-0003   461849    LOGOUT    MALE  4 Seater       COMPLETED   \n",
       "3    ATT-0004   461431    LOGOUT    MALE  4 Seater       COMPLETED   \n",
       "4    ATT-0005   461915     LOGIN  FEMALE  4 Seater       COMPLETED   \n",
       "\n",
       "  planned_pickup_time  pickup_geoX  pickup_geoY  drop_geoX  ...  \\\n",
       "0      5/16/2019 6:45    12.923583    77.671061  12.988366  ...   \n",
       "1      5/16/2019 6:26    12.955146    77.738991  12.934748  ...   \n",
       "2     5/16/2019 15:45    12.924626    77.671098  12.968512  ...   \n",
       "3      5/16/2019 1:45    12.924514    77.671051  13.043238  ...   \n",
       "4      5/16/2019 6:09    12.921150    77.646636  12.923322  ...   \n",
       "\n",
       "   total_distance  costoftrip  perpersoncost hour_shift  minute_shift  hour  \\\n",
       "0       30.629322  155.066034      77.047147         06            30   6.0   \n",
       "1        7.177641   53.012574      46.083283         06            45   6.0   \n",
       "2       46.928047  165.427313      56.728831         15            30  15.0   \n",
       "3       59.086995  458.732089     128.031994         01            30   1.0   \n",
       "4        5.193483   51.934835      25.967417         06            15   6.0   \n",
       "\n",
       "  minute  month  date_of_month  day  \n",
       "0   45.0     05             16    5  \n",
       "1   26.0     05             16    5  \n",
       "2   45.0     05             16    5  \n",
       "3   45.0     05             16    5  \n",
       "4    9.0     05             16    5  \n",
       "\n",
       "[5 rows x 30 columns]"
      ]
     },
     "execution_count": 361,
     "metadata": {},
     "output_type": "execute_result"
    }
   ],
   "source": [
    "df13.rename(columns={\"trip_state_text_x\": \"trip_state_text\"}, inplace = True)\n",
    "df13.head()"
   ]
  },
  {
   "cell_type": "code",
   "execution_count": 362,
   "metadata": {},
   "outputs": [
    {
     "data": {
      "text/plain": [
       "(510778, 30)"
      ]
     },
     "execution_count": 362,
     "metadata": {},
     "output_type": "execute_result"
    }
   ],
   "source": [
    "df13.shape"
   ]
  },
  {
   "cell_type": "code",
   "execution_count": 363,
   "metadata": {},
   "outputs": [],
   "source": [
    "df13.to_csv('MoveInSyncData-final.csv', encoding='utf-8', index=False)"
   ]
  }
 ],
 "metadata": {
  "kernelspec": {
   "display_name": "Python 3",
   "language": "python",
   "name": "python3"
  },
  "language_info": {
   "codemirror_mode": {
    "name": "ipython",
    "version": 3
   },
   "file_extension": ".py",
   "mimetype": "text/x-python",
   "name": "python",
   "nbconvert_exporter": "python",
   "pygments_lexer": "ipython3",
   "version": "3.7.3"
  }
 },
 "nbformat": 4,
 "nbformat_minor": 2
}
