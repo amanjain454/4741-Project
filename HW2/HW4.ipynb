{
 "cells": [
  {
   "cell_type": "markdown",
   "metadata": {},
   "source": [
    "<h1><center>Homework 4</center></h1>\n",
    "<h3><center>Submitted on 3rd Oct, 2019 by</center></h3>\n",
    "<h2><center>Aman Jain (aj644), Murali TS (mt788)</center></h2>\n",
    "\n"
   ]
  },
  {
   "cell_type": "markdown",
   "metadata": {},
   "source": [
    "# Question 1"
   ]
  },
  {
   "cell_type": "markdown",
   "metadata": {},
   "source": [
    "### Answer a"
   ]
  },
  {
   "cell_type": "markdown",
   "metadata": {},
   "source": [
    "random variables to be uniform on [α,β] , so that the expectation is 0 and the variance is 1.\n",
    "<br> note that α<β for given range. \n",
    "\n",
    "<br>for uniform distribution:\n",
    "<br>\n",
    "<br>mean(U) = (α + β) / 2 = 0 \n",
    "<br>=> α = -β\n",
    "<br>\n",
    "<br>var(U) = (β - α)^2 / 12 = 1\n",
    "<br>=> (2β)^2 = 12\n",
    "<br>=> β^2 = 3\n",
    "<br>=> β = sqrt(3)\n",
    "\n",
    "<br>=> $$ α = -\\sqrt{3}\\\\\\ and\\\\ β\\ = \\sqrt{3} $$"
   ]
  },
  {
   "cell_type": "markdown",
   "metadata": {},
   "source": [
    "### Answer b"
   ]
  },
  {
   "cell_type": "markdown",
   "metadata": {},
   "source": [
    "<br>Given: \n",
    "<br> V1 and V2 in terms of i.i.d. uniform random variables on [α, β]\n",
    "<br> and B drawn from Bernoulli(p)\n",
    "<br> U1 = V1\n",
    "<br>\n",
    "<br> U2 = V1 if B = 0, \n",
    "<br> .....= V2 if B = 1 \n",
    "\n",
    "<br> from part a we know, E(V1) = E(V2) = 0 and Var(V1) = Var (V2) = 1. \n",
    "<br>\n",
    "<br> E(U1) = E(V1) = 0 \n",
    "<br> Var(U1) = Var (V1) = 1\n",
    "<br>\n",
    "<br> E(U2) = E(V1)* Prob(B = 0) + E(V1)* Prob(B = 1)\n",
    "<br>=> E(U2) = 0 * (1-p) + 0 * p = 0\n",
    "<br>$$E(U2) = 0 $$\n"
   ]
  },
  {
   "cell_type": "markdown",
   "metadata": {},
   "source": [
    "### Answer c"
   ]
  },
  {
   "cell_type": "markdown",
   "metadata": {},
   "source": [
    "<br> Note that,\n",
    "<br> Var(V1) = 1 = E(V<sub>1</sub><sup>2</sup>) - (E(V<sub>1</sub>))<sup>2</sup>  \n",
    "<br> and E(V<sub>1</sub>) = 0\n",
    "<br>\n",
    "<br> hence E(V<sub>1</sub><sup>2</sup>) = 1 = E(V<sub>2</sub><sup>2</sup>)\n",
    "<br>\n",
    "<br> Var(U<sub>2</sub>) = E(U<sub>2</sub><sup>2</sup>) - (E(U<sub>2</sub>))<sup>2</sup> \n",
    "<br> but, E(U<sub>2</sub>) = 0 \n",
    "<br> hence, Var(U<sub>2</sub>) = E(U<sub>2</sub><sup>2</sup>)\n",
    "<br> => Var(U<sub>2</sub>) = E(V<sub>1</sub><sup>2</sup>) * Prob(B = 0) + E(V<sub>2</sub><sup>2</sup>) * Prob(B = 1)\n",
    "<br> => Var(U<sub>2</sub>) = 1 * (1-p) + 1 * p = 1\n",
    "<br> => Var(U<sub>2</sub>)= 1\n",
    "<br>\n",
    "<br> <b> <center>Var(U<sub>2</sub>)= 1</center> </b>\n"
   ]
  },
  {
   "cell_type": "markdown",
   "metadata": {},
   "source": [
    "### Answer d"
   ]
  },
  {
   "cell_type": "markdown",
   "metadata": {},
   "source": [
    "<br> Cov (U<sub>1</sub>, U<sub>2</sub>) = E((U<sub>1</sub> - E(U<sub>1</sub>)) * (U<sub>2</sub> - E(U<sub>2</sub>))\n",
    "<br> from above, E(U<sub>1</sub>) = E(U<sub>2</sub>) = 0\n",
    "<br> => Cov (U<sub>1</sub>, U<sub>2</sub>) = E((U<sub>1</sub>)(U<sub>2</sub>))\n",
    "<br> => Cov (U<sub>1</sub>, U<sub>2</sub>) = E((V<sub>1</sub>)(V<sub>1</sub>)) * Prob(B = 0) + E((V<sub>1</sub>)(V<sub>2</sub>)) * Prob(B = 1)\n",
    "<br> since V<sub>1</sub> and V<sub>2</sub> are iid, \n",
    "<br> => Cov (U<sub>1</sub>, U<sub>2</sub>) = E((V<sub>1</sub><sup>2</sup>) * (1-p) + E(V<sub>1</sub>)* E(V<sub>2</sub>)) * p    \n",
    "<br> => Cov (U<sub>1</sub>, U<sub>2</sub>) = 1 * (1-p) + 0 * 0 * p   \n",
    "<br> => Cov (U<sub>1</sub>, U<sub>2</sub>) = (1-p)\n",
    "<br> <b> => <center> Cov (U<sub>1</sub>, U<sub>2</sub>) = (1-p) </center> </b>"
   ]
  },
  {
   "cell_type": "markdown",
   "metadata": {},
   "source": [
    "### Answer e"
   ]
  },
  {
   "cell_type": "markdown",
   "metadata": {},
   "source": [
    "<br> Cov (U<sub>1</sub>, U<sub>2</sub>) = &sigma;<sub>12</sub> = 1 - p\n",
    "<br> <b> or p =  &sigma;<sub>12</sub> </b>"
   ]
  },
  {
   "cell_type": "markdown",
   "metadata": {},
   "source": [
    "### Answer f"
   ]
  },
  {
   "cell_type": "markdown",
   "metadata": {},
   "source": [
    "<br>As seen from Answer d, cov(U1, U2) is always +ve (1-p and p <=1 being a probability number). This positive covariance is being derived from the fact that U2 takes value of U1 for certain probability and independent rest while. \n",
    "\n",
    "<br>If we need always negative cov(U1, U2), We can define overlappng part to be negative (and independent rest while) - this will ensure negative covariance. One of possible ways to doing that might be as follow: \n",
    "\n",
    "<br> V1 and V2 in terms of i.i.d. uniform random variables on [α, β]\n",
    "<br> and B drawn from Bernoulli(p)\n",
    "<br> <b> U1 = -1* V1\n",
    "<br>\n",
    "<br> U2 = V1 if B = 0, \n",
    "<br> .....= V2 if B = 1 </b>\n",
    "<br>\n",
    "<br> here, E(U1) = E(V1) = 0, Var(U1) = (-1)* (-1)Var(V1) = 1\n",
    "<br> \n",
    "<br> from part c, E(U2) = 0, Var(U2) = 1\n",
    "<br> \n",
    "<br> Cov (U<sub>1</sub>, U<sub>2</sub>) = E((U<sub>1</sub> - E(U<sub>1</sub>)) * (U<sub>2</sub> - E(U<sub>2</sub>))\n",
    "<br> from above, E(U<sub>1</sub>) = E(U<sub>2</sub>) = 0\n",
    "<br> => Cov (U<sub>1</sub>, U<sub>2</sub>) = E((U<sub>1</sub>)(U<sub>2</sub>))\n",
    "<br> => Cov (U<sub>1</sub>, U<sub>2</sub>) = E(-1*(V<sub>1</sub>)(V<sub>1</sub>)) * Prob(B = 0) + E(-1*(V<sub>1</sub>)(V<sub>2</sub>)) * Prob(B = 1)\n",
    "<br> since V<sub>1</sub> and V<sub>2</sub> are iid, \n",
    "<br> => Cov (U<sub>1</sub>, U<sub>2</sub>) = E(-1*(V<sub>1</sub><sup>2</sup>) * (1-p) + E(-1*V<sub>1</sub>)* E(V<sub>2</sub>)) * p    \n",
    "<br> => Cov (U<sub>1</sub>, U<sub>2</sub>) = -1 * (1-p) + -1 * 0 * 0 * p   \n",
    "<br> => Cov (U<sub>1</sub>, U<sub>2</sub>) = p-1 < 0. Answer."
   ]
  },
  {
   "cell_type": "markdown",
   "metadata": {},
   "source": [
    "# Question 2"
   ]
  },
  {
   "cell_type": "code",
   "execution_count": 294,
   "metadata": {},
   "outputs": [],
   "source": [
    "import numpy as np\n",
    "import matplotlib.pyplot as plt\n",
    "import math\n",
    "import scipy\n",
    "import scipy.stats as st"
   ]
  },
  {
   "cell_type": "code",
   "execution_count": 295,
   "metadata": {},
   "outputs": [
    {
     "name": "stdout",
     "output_type": "stream",
     "text": [
      "[0.14, 0.07, 0.16] [[0.0625, -0.01, 0.0375], [-0.01, 0.01, -0.015], [0.0375, -0.015, 0.09]] [[ 0.25        0.          0.        ]\n",
      " [-0.04        0.09165151  0.        ]\n",
      " [ 0.15       -0.09819805  0.24053512]]\n"
     ]
    }
   ],
   "source": [
    "sigma = [[0.0625, -0.01, 0.0375],[-0.01, 0.01, -0.015], [0.0375, -0.015, 0.09]]\n",
    "sigma\n",
    "L = np.linalg.cholesky(sigma)\n",
    "mu = [0.14, 0.07, 0.16]\n",
    "print(mu, sigma, L)"
   ]
  },
  {
   "cell_type": "code",
   "execution_count": 296,
   "metadata": {},
   "outputs": [
    {
     "name": "stdout",
     "output_type": "stream",
     "text": [
      "Average number of scenarios for all positive returns is 0.36966133866133866\n",
      "Lower bounnd and upper bound for 95% CI is 0.36849407159345093 and 0.3708286057292264 respectively\n"
     ]
    }
   ],
   "source": [
    "m = 1000\n",
    "K = np.zeros(m+1)\n",
    "for i in range(m):\n",
    "    n = 1000\n",
    "    k = 0\n",
    "    for j in range(n):\n",
    "        N = np.random.normal(size = 3)\n",
    "        X = mu + np.dot(L,N)\n",
    "        if (X[0]>0 and X[1] >0 and X[2] >0):\n",
    "            k = k+1\n",
    "    K[i] = k/m\n",
    "\n",
    "\n",
    "proportion = np.mean(K)\n",
    "    \n",
    "LB = proportion - st.norm.ppf(0.975) * np.std(K, ddof = 1) / np.sqrt(m)\n",
    "UB = proportion + st.norm.ppf(0.975) * np.std(K, ddof = 1) / np.sqrt(m)\n",
    "print(\"Average number of scenarios for all positive returns is\", proportion) \n",
    "print (\"Lower bounnd and upper bound for 95% CI is\", LB,\"and\", UB,\"respectively\" )"
   ]
  },
  {
   "cell_type": "code",
   "execution_count": 297,
   "metadata": {},
   "outputs": [
    {
     "data": {
      "text/plain": [
       "array([0.349, 0.367, 0.368, ..., 0.376, 0.399, 0.   ])"
      ]
     },
     "execution_count": 297,
     "metadata": {},
     "output_type": "execute_result"
    }
   ],
   "source": [
    "K"
   ]
  },
  {
   "cell_type": "markdown",
   "metadata": {},
   "source": [
    "In case indepence, we can say, \n",
    "P(All three investments return positive) = P(return of 1st is positive) * P(return of 2nd is positive) * P(return of 3rd is positive)\n",
    "\n",
    "P(X1 > 0) = P(X1-mu1/sigma1 > 0-mu1/sigma1) = P (z > -mu1/sigma1) = 1-st.norm.cdf(-1* 0.14/np.sqrt(0.0625)) = 0.712260281150973\n",
    "\n",
    "P(X2 > 0) = P(X2-mu2/sigma2 > 0-mu2/sigma2) = P (z > -mu2/sigma2) = 1-st.norm.cdf(-1* 0.07/np.sqrt(0.01)) = 0.758036347776927\n",
    "\n",
    "P(X3 > 0) = P(X3-mu3/sigma3 > 0-mu3/sigma3) = P (z > -mu3/sigma3) = 1-st.norm.cdf(-1* 0.16/np.sqrt(0.09)) = 0.7030985713961488\n",
    "\n",
    "P(All three investments return positive) = 0.7030985713961488* 0.758036347776927* 0.712260281150973\n",
    "<br>P(All three investments return positive) = <b>0.37961 </b>  Answer."
   ]
  },
  {
   "cell_type": "code",
   "execution_count": 310,
   "metadata": {},
   "outputs": [
    {
     "data": {
      "text/plain": [
       "0.3796164056673423"
      ]
     },
     "execution_count": 310,
     "metadata": {},
     "output_type": "execute_result"
    }
   ],
   "source": [
    "x = -1* 0.16/np.sqrt(0.09)\n",
    "x\n",
    "1-st.norm.cdf(x)\n",
    "o = 0.7030985713961488*0.758036347776927*0.712260281150973\n",
    "o"
   ]
  },
  {
   "cell_type": "markdown",
   "metadata": {},
   "source": [
    "##### Alternatively, if all three instruments were independent of each other, then corresponding covariance terms in matrix will be 0. "
   ]
  },
  {
   "cell_type": "code",
   "execution_count": 311,
   "metadata": {},
   "outputs": [
    {
     "name": "stdout",
     "output_type": "stream",
     "text": [
      "[0.14, 0.07, 0.16] [[0.0625, 0, 0], [0, 0.01, 0], [0, 0, 0.09]] [[0.25 0.   0.  ]\n",
      " [0.   0.1  0.  ]\n",
      " [0.   0.   0.3 ]]\n"
     ]
    }
   ],
   "source": [
    "sigma_ind = [[0.0625, 0, 0],[0, 0.01, 0], [0, 0, 0.09]]\n",
    "sigma_ind\n",
    "L_ind = np.linalg.cholesky(sigma_ind)\n",
    "mu_ind = [0.14, 0.07, 0.16]\n",
    "print(mu_ind, sigma_ind, L_ind)"
   ]
  },
  {
   "cell_type": "code",
   "execution_count": 312,
   "metadata": {},
   "outputs": [
    {
     "name": "stdout",
     "output_type": "stream",
     "text": [
      "Average number of scenarios for all positive returns (when all independent) is 0.37861338661338656\n",
      "Corresponding Lower bounnd and upper bound for 95% CI is 0.37741607578349257 and 0.37981069744328055 respectively\n"
     ]
    }
   ],
   "source": [
    "m = 1000\n",
    "K_ind = np.zeros(m+1)\n",
    "for i in range(m):\n",
    "    n = 1000\n",
    "    k = 0\n",
    "    for j in range(n):\n",
    "        N = np.random.normal(size = 3)\n",
    "        X = mu_ind + np.dot(L_ind,N)\n",
    "        if (X[0]>=0 and X[1] >=0 and X[2] >=0):\n",
    "            k = k+1\n",
    "    K_ind[i] = k/m\n",
    "\n",
    "proportion = np.mean(K_ind)\n",
    "    \n",
    "LB = proportion - st.norm.ppf(0.975) * np.std(K_ind, ddof = 1) / np.sqrt(m)\n",
    "UB = proportion + st.norm.ppf(0.975) * np.std(K_ind, ddof = 1) / np.sqrt(m)\n",
    "\n",
    "print(\"Average number of scenarios for all positive returns (when all independent) is\", proportion) \n",
    "print (\"Corresponding Lower bounnd and upper bound for 95% CI is\", LB,\"and\", UB,\"respectively\" )"
   ]
  },
  {
   "cell_type": "markdown",
   "metadata": {},
   "source": [
    "# Question 3"
   ]
  },
  {
   "cell_type": "markdown",
   "metadata": {},
   "source": [
    "### Answer a"
   ]
  },
  {
   "cell_type": "code",
   "execution_count": 243,
   "metadata": {},
   "outputs": [
    {
     "name": "stdout",
     "output_type": "stream",
     "text": [
      "[[1.         0.         0.        ]\n",
      " [0.99       0.14106736 0.        ]\n",
      " [0.99       0.07017924 0.12237187]]\n"
     ]
    }
   ],
   "source": [
    "sigma_3a = [[1, 0.99, 0.99],[0.99, 1, 0.99], [0.99, 0.99, 1]]\n",
    "L_3a = np.linalg.cholesky(sigma_3a)\n",
    "print(L_3a)"
   ]
  },
  {
   "cell_type": "markdown",
   "metadata": {},
   "source": [
    "### Answer b"
   ]
  },
  {
   "cell_type": "markdown",
   "metadata": {},
   "source": [
    "<br> X = mean + L*N\n",
    "\n",
    "<br>where X is multivariate normal variables. \n",
    "<br>L is cholesky decomposition of sigma matrix. \n",
    "<br>N is set of normal iid"
   ]
  },
  {
   "cell_type": "code",
   "execution_count": 244,
   "metadata": {},
   "outputs": [],
   "source": [
    "N_3a = np.random.normal(size = 3)"
   ]
  },
  {
   "cell_type": "code",
   "execution_count": 245,
   "metadata": {},
   "outputs": [
    {
     "data": {
      "text/plain": [
       "array([1.11242857, 1.25427684, 1.44577015])"
      ]
     },
     "execution_count": 245,
     "metadata": {},
     "output_type": "execute_result"
    }
   ],
   "source": [
    "X_3a = np.dot(L_3a,N_3a)\n",
    "X_3a"
   ]
  },
  {
   "cell_type": "markdown",
   "metadata": {},
   "source": [
    "### Answer c"
   ]
  },
  {
   "cell_type": "code",
   "execution_count": 246,
   "metadata": {},
   "outputs": [
    {
     "ename": "LinAlgError",
     "evalue": "Matrix is not positive definite",
     "output_type": "error",
     "traceback": [
      "\u001b[0;31m---------------------------------------------------------------------------\u001b[0m",
      "\u001b[0;31mLinAlgError\u001b[0m                               Traceback (most recent call last)",
      "\u001b[0;32m<ipython-input-246-c7298c743cc7>\u001b[0m in \u001b[0;36m<module>\u001b[0;34m\u001b[0m\n\u001b[1;32m      1\u001b[0m \u001b[0msigma_3c\u001b[0m \u001b[0;34m=\u001b[0m \u001b[0;34m[\u001b[0m\u001b[0;34m[\u001b[0m\u001b[0;36m1\u001b[0m\u001b[0;34m,\u001b[0m \u001b[0;36m1\u001b[0m\u001b[0;34m,\u001b[0m \u001b[0;34m-\u001b[0m\u001b[0;36m1\u001b[0m\u001b[0;34m]\u001b[0m\u001b[0;34m,\u001b[0m\u001b[0;34m[\u001b[0m\u001b[0;36m1\u001b[0m\u001b[0;34m,\u001b[0m \u001b[0;36m1\u001b[0m\u001b[0;34m,\u001b[0m \u001b[0;36m1\u001b[0m\u001b[0;34m]\u001b[0m\u001b[0;34m,\u001b[0m \u001b[0;34m[\u001b[0m\u001b[0;34m-\u001b[0m\u001b[0;36m1\u001b[0m\u001b[0;34m,\u001b[0m \u001b[0;36m1\u001b[0m\u001b[0;34m,\u001b[0m \u001b[0;36m1\u001b[0m\u001b[0;34m]\u001b[0m\u001b[0;34m]\u001b[0m\u001b[0;34m\u001b[0m\u001b[0;34m\u001b[0m\u001b[0m\n\u001b[0;32m----> 2\u001b[0;31m \u001b[0mL_3c\u001b[0m \u001b[0;34m=\u001b[0m \u001b[0mnp\u001b[0m\u001b[0;34m.\u001b[0m\u001b[0mlinalg\u001b[0m\u001b[0;34m.\u001b[0m\u001b[0mcholesky\u001b[0m\u001b[0;34m(\u001b[0m\u001b[0msigma_3c\u001b[0m\u001b[0;34m)\u001b[0m\u001b[0;34m\u001b[0m\u001b[0;34m\u001b[0m\u001b[0m\n\u001b[0m\u001b[1;32m      3\u001b[0m \u001b[0mprint\u001b[0m\u001b[0;34m(\u001b[0m\u001b[0mL_3c\u001b[0m\u001b[0;34m)\u001b[0m\u001b[0;34m\u001b[0m\u001b[0;34m\u001b[0m\u001b[0m\n",
      "\u001b[0;32m~/anaconda3/lib/python3.7/site-packages/numpy/linalg/linalg.py\u001b[0m in \u001b[0;36mcholesky\u001b[0;34m(a)\u001b[0m\n\u001b[1;32m    757\u001b[0m     \u001b[0mt\u001b[0m\u001b[0;34m,\u001b[0m \u001b[0mresult_t\u001b[0m \u001b[0;34m=\u001b[0m \u001b[0m_commonType\u001b[0m\u001b[0;34m(\u001b[0m\u001b[0ma\u001b[0m\u001b[0;34m)\u001b[0m\u001b[0;34m\u001b[0m\u001b[0;34m\u001b[0m\u001b[0m\n\u001b[1;32m    758\u001b[0m     \u001b[0msignature\u001b[0m \u001b[0;34m=\u001b[0m \u001b[0;34m'D->D'\u001b[0m \u001b[0;32mif\u001b[0m \u001b[0misComplexType\u001b[0m\u001b[0;34m(\u001b[0m\u001b[0mt\u001b[0m\u001b[0;34m)\u001b[0m \u001b[0;32melse\u001b[0m \u001b[0;34m'd->d'\u001b[0m\u001b[0;34m\u001b[0m\u001b[0;34m\u001b[0m\u001b[0m\n\u001b[0;32m--> 759\u001b[0;31m     \u001b[0mr\u001b[0m \u001b[0;34m=\u001b[0m \u001b[0mgufunc\u001b[0m\u001b[0;34m(\u001b[0m\u001b[0ma\u001b[0m\u001b[0;34m,\u001b[0m \u001b[0msignature\u001b[0m\u001b[0;34m=\u001b[0m\u001b[0msignature\u001b[0m\u001b[0;34m,\u001b[0m \u001b[0mextobj\u001b[0m\u001b[0;34m=\u001b[0m\u001b[0mextobj\u001b[0m\u001b[0;34m)\u001b[0m\u001b[0;34m\u001b[0m\u001b[0;34m\u001b[0m\u001b[0m\n\u001b[0m\u001b[1;32m    760\u001b[0m     \u001b[0;32mreturn\u001b[0m \u001b[0mwrap\u001b[0m\u001b[0;34m(\u001b[0m\u001b[0mr\u001b[0m\u001b[0;34m.\u001b[0m\u001b[0mastype\u001b[0m\u001b[0;34m(\u001b[0m\u001b[0mresult_t\u001b[0m\u001b[0;34m,\u001b[0m \u001b[0mcopy\u001b[0m\u001b[0;34m=\u001b[0m\u001b[0;32mFalse\u001b[0m\u001b[0;34m)\u001b[0m\u001b[0;34m)\u001b[0m\u001b[0;34m\u001b[0m\u001b[0;34m\u001b[0m\u001b[0m\n\u001b[1;32m    761\u001b[0m \u001b[0;34m\u001b[0m\u001b[0m\n",
      "\u001b[0;32m~/anaconda3/lib/python3.7/site-packages/numpy/linalg/linalg.py\u001b[0m in \u001b[0;36m_raise_linalgerror_nonposdef\u001b[0;34m(err, flag)\u001b[0m\n\u001b[1;32m     98\u001b[0m \u001b[0;34m\u001b[0m\u001b[0m\n\u001b[1;32m     99\u001b[0m \u001b[0;32mdef\u001b[0m \u001b[0m_raise_linalgerror_nonposdef\u001b[0m\u001b[0;34m(\u001b[0m\u001b[0merr\u001b[0m\u001b[0;34m,\u001b[0m \u001b[0mflag\u001b[0m\u001b[0;34m)\u001b[0m\u001b[0;34m:\u001b[0m\u001b[0;34m\u001b[0m\u001b[0;34m\u001b[0m\u001b[0m\n\u001b[0;32m--> 100\u001b[0;31m     \u001b[0;32mraise\u001b[0m \u001b[0mLinAlgError\u001b[0m\u001b[0;34m(\u001b[0m\u001b[0;34m\"Matrix is not positive definite\"\u001b[0m\u001b[0;34m)\u001b[0m\u001b[0;34m\u001b[0m\u001b[0;34m\u001b[0m\u001b[0m\n\u001b[0m\u001b[1;32m    101\u001b[0m \u001b[0;34m\u001b[0m\u001b[0m\n\u001b[1;32m    102\u001b[0m \u001b[0;32mdef\u001b[0m \u001b[0m_raise_linalgerror_eigenvalues_nonconvergence\u001b[0m\u001b[0;34m(\u001b[0m\u001b[0merr\u001b[0m\u001b[0;34m,\u001b[0m \u001b[0mflag\u001b[0m\u001b[0;34m)\u001b[0m\u001b[0;34m:\u001b[0m\u001b[0;34m\u001b[0m\u001b[0;34m\u001b[0m\u001b[0m\n",
      "\u001b[0;31mLinAlgError\u001b[0m: Matrix is not positive definite"
     ]
    }
   ],
   "source": [
    "sigma_3c = [[1, 1, -1],[1, 1, 1], [-1, 1, 1]]\n",
    "L_3c = np.linalg.cholesky(sigma_3c)\n",
    "print(L_3c)"
   ]
  },
  {
   "cell_type": "markdown",
   "metadata": {},
   "source": [
    "### Answer d"
   ]
  },
  {
   "cell_type": "markdown",
   "metadata": {},
   "source": [
    "We see an error above. In terms of probability, \n",
    "<br> Covariance of (1,2) and 1 ; which means 1 and 2 moves together. \n",
    "<br> and covariance (2,3) is also 1; which means 2 and 3 moves together. \n",
    "<br> Then 1 and 3 can not move in oppposite directions. covariance of (1,3) can not be -1. "
   ]
  },
  {
   "cell_type": "markdown",
   "metadata": {},
   "source": [
    "### Answer e"
   ]
  },
  {
   "cell_type": "code",
   "execution_count": 247,
   "metadata": {},
   "outputs": [
    {
     "ename": "LinAlgError",
     "evalue": "Matrix is not positive definite",
     "output_type": "error",
     "traceback": [
      "\u001b[0;31m---------------------------------------------------------------------------\u001b[0m",
      "\u001b[0;31mLinAlgError\u001b[0m                               Traceback (most recent call last)",
      "\u001b[0;32m<ipython-input-247-006e168ee831>\u001b[0m in \u001b[0;36m<module>\u001b[0;34m\u001b[0m\n\u001b[1;32m      1\u001b[0m \u001b[0msigma_3e\u001b[0m \u001b[0;34m=\u001b[0m \u001b[0;34m[\u001b[0m\u001b[0;34m[\u001b[0m\u001b[0;36m1\u001b[0m\u001b[0;34m,\u001b[0m \u001b[0;36m1\u001b[0m\u001b[0;34m,\u001b[0m \u001b[0;36m1\u001b[0m\u001b[0;34m]\u001b[0m\u001b[0;34m,\u001b[0m\u001b[0;34m[\u001b[0m\u001b[0;36m1\u001b[0m\u001b[0;34m,\u001b[0m \u001b[0;36m1\u001b[0m\u001b[0;34m,\u001b[0m \u001b[0;36m1\u001b[0m\u001b[0;34m]\u001b[0m\u001b[0;34m,\u001b[0m \u001b[0;34m[\u001b[0m\u001b[0;36m1\u001b[0m\u001b[0;34m,\u001b[0m \u001b[0;36m1\u001b[0m\u001b[0;34m,\u001b[0m \u001b[0;36m1\u001b[0m\u001b[0;34m]\u001b[0m\u001b[0;34m]\u001b[0m\u001b[0;34m\u001b[0m\u001b[0;34m\u001b[0m\u001b[0m\n\u001b[0;32m----> 2\u001b[0;31m \u001b[0mL_3e\u001b[0m \u001b[0;34m=\u001b[0m \u001b[0mnp\u001b[0m\u001b[0;34m.\u001b[0m\u001b[0mlinalg\u001b[0m\u001b[0;34m.\u001b[0m\u001b[0mcholesky\u001b[0m\u001b[0;34m(\u001b[0m\u001b[0msigma_3e\u001b[0m\u001b[0;34m)\u001b[0m\u001b[0;34m\u001b[0m\u001b[0;34m\u001b[0m\u001b[0m\n\u001b[0m\u001b[1;32m      3\u001b[0m \u001b[0mprint\u001b[0m\u001b[0;34m(\u001b[0m\u001b[0mL_3e\u001b[0m\u001b[0;34m)\u001b[0m\u001b[0;34m\u001b[0m\u001b[0;34m\u001b[0m\u001b[0m\n",
      "\u001b[0;32m~/anaconda3/lib/python3.7/site-packages/numpy/linalg/linalg.py\u001b[0m in \u001b[0;36mcholesky\u001b[0;34m(a)\u001b[0m\n\u001b[1;32m    757\u001b[0m     \u001b[0mt\u001b[0m\u001b[0;34m,\u001b[0m \u001b[0mresult_t\u001b[0m \u001b[0;34m=\u001b[0m \u001b[0m_commonType\u001b[0m\u001b[0;34m(\u001b[0m\u001b[0ma\u001b[0m\u001b[0;34m)\u001b[0m\u001b[0;34m\u001b[0m\u001b[0;34m\u001b[0m\u001b[0m\n\u001b[1;32m    758\u001b[0m     \u001b[0msignature\u001b[0m \u001b[0;34m=\u001b[0m \u001b[0;34m'D->D'\u001b[0m \u001b[0;32mif\u001b[0m \u001b[0misComplexType\u001b[0m\u001b[0;34m(\u001b[0m\u001b[0mt\u001b[0m\u001b[0;34m)\u001b[0m \u001b[0;32melse\u001b[0m \u001b[0;34m'd->d'\u001b[0m\u001b[0;34m\u001b[0m\u001b[0;34m\u001b[0m\u001b[0m\n\u001b[0;32m--> 759\u001b[0;31m     \u001b[0mr\u001b[0m \u001b[0;34m=\u001b[0m \u001b[0mgufunc\u001b[0m\u001b[0;34m(\u001b[0m\u001b[0ma\u001b[0m\u001b[0;34m,\u001b[0m \u001b[0msignature\u001b[0m\u001b[0;34m=\u001b[0m\u001b[0msignature\u001b[0m\u001b[0;34m,\u001b[0m \u001b[0mextobj\u001b[0m\u001b[0;34m=\u001b[0m\u001b[0mextobj\u001b[0m\u001b[0;34m)\u001b[0m\u001b[0;34m\u001b[0m\u001b[0;34m\u001b[0m\u001b[0m\n\u001b[0m\u001b[1;32m    760\u001b[0m     \u001b[0;32mreturn\u001b[0m \u001b[0mwrap\u001b[0m\u001b[0;34m(\u001b[0m\u001b[0mr\u001b[0m\u001b[0;34m.\u001b[0m\u001b[0mastype\u001b[0m\u001b[0;34m(\u001b[0m\u001b[0mresult_t\u001b[0m\u001b[0;34m,\u001b[0m \u001b[0mcopy\u001b[0m\u001b[0;34m=\u001b[0m\u001b[0;32mFalse\u001b[0m\u001b[0;34m)\u001b[0m\u001b[0;34m)\u001b[0m\u001b[0;34m\u001b[0m\u001b[0;34m\u001b[0m\u001b[0m\n\u001b[1;32m    761\u001b[0m \u001b[0;34m\u001b[0m\u001b[0m\n",
      "\u001b[0;32m~/anaconda3/lib/python3.7/site-packages/numpy/linalg/linalg.py\u001b[0m in \u001b[0;36m_raise_linalgerror_nonposdef\u001b[0;34m(err, flag)\u001b[0m\n\u001b[1;32m     98\u001b[0m \u001b[0;34m\u001b[0m\u001b[0m\n\u001b[1;32m     99\u001b[0m \u001b[0;32mdef\u001b[0m \u001b[0m_raise_linalgerror_nonposdef\u001b[0m\u001b[0;34m(\u001b[0m\u001b[0merr\u001b[0m\u001b[0;34m,\u001b[0m \u001b[0mflag\u001b[0m\u001b[0;34m)\u001b[0m\u001b[0;34m:\u001b[0m\u001b[0;34m\u001b[0m\u001b[0;34m\u001b[0m\u001b[0m\n\u001b[0;32m--> 100\u001b[0;31m     \u001b[0;32mraise\u001b[0m \u001b[0mLinAlgError\u001b[0m\u001b[0;34m(\u001b[0m\u001b[0;34m\"Matrix is not positive definite\"\u001b[0m\u001b[0;34m)\u001b[0m\u001b[0;34m\u001b[0m\u001b[0;34m\u001b[0m\u001b[0m\n\u001b[0m\u001b[1;32m    101\u001b[0m \u001b[0;34m\u001b[0m\u001b[0m\n\u001b[1;32m    102\u001b[0m \u001b[0;32mdef\u001b[0m \u001b[0m_raise_linalgerror_eigenvalues_nonconvergence\u001b[0m\u001b[0;34m(\u001b[0m\u001b[0merr\u001b[0m\u001b[0;34m,\u001b[0m \u001b[0mflag\u001b[0m\u001b[0;34m)\u001b[0m\u001b[0;34m:\u001b[0m\u001b[0;34m\u001b[0m\u001b[0;34m\u001b[0m\u001b[0m\n",
      "\u001b[0;31mLinAlgError\u001b[0m: Matrix is not positive definite"
     ]
    }
   ],
   "source": [
    "sigma_3e = [[1, 1, 1],[1, 1, 1], [1, 1, 1]]\n",
    "L_3e = np.linalg.cholesky(sigma_3e)\n",
    "print(L_3e)"
   ]
  },
  {
   "cell_type": "markdown",
   "metadata": {},
   "source": [
    "<br> We see an error above as sigma matrix is not positive definite. "
   ]
  },
  {
   "cell_type": "markdown",
   "metadata": {},
   "source": [
    "### Answer f"
   ]
  },
  {
   "cell_type": "markdown",
   "metadata": {},
   "source": [
    "<br> [[1, 1, 1],[1, 1, 1], [1, 1, 1]] covariance matrix is basically a special case where N1 = N2 = N3 = np.random.normal(). "
   ]
  },
  {
   "cell_type": "code",
   "execution_count": 313,
   "metadata": {},
   "outputs": [
    {
     "name": "stdout",
     "output_type": "stream",
     "text": [
      "N1, N2, N3 are equal to  -0.6897855958927176\n"
     ]
    }
   ],
   "source": [
    "print (\"N1, N2, N3 are equal to \", np.random.normal())"
   ]
  },
  {
   "cell_type": "markdown",
   "metadata": {},
   "source": [
    "# Question 4"
   ]
  },
  {
   "cell_type": "markdown",
   "metadata": {},
   "source": [
    "### Answer a"
   ]
  },
  {
   "cell_type": "markdown",
   "metadata": {},
   "source": [
    "$$ \\int_{0}^{12} \\lambda (t) = 1/56 \\int_{0}^{12} (-5t^{3} + 90t^{2} - 300t + 760)\n",
    "    \\\\\n",
    "    \\\\                       =  -5t^{4}/4 + 90t^{3}/3 - 300t^{2}/2 + 760t \n",
    "    \\\\\n",
    "    \\\\                       =  -1.25*12^{4} + 30*12^{3} - 150* 12^{2} + 760*12\n",
    "    \\\\\n",
    "    \\\\                       = 240 $$"
   ]
  },
  {
   "cell_type": "code",
   "execution_count": 314,
   "metadata": {},
   "outputs": [],
   "source": [
    "from scipy.stats import poisson"
   ]
  },
  {
   "cell_type": "code",
   "execution_count": 315,
   "metadata": {},
   "outputs": [
    {
     "name": "stdout",
     "output_type": "stream",
     "text": [
      "probability that more than 250 customers show up during 12 hour period is 0.24711253205956696\n"
     ]
    }
   ],
   "source": [
    "x = 1 - poisson.cdf(250, 240)\n",
    "print (\"probability that more than 250 customers show up during 12 hour period is\", x)"
   ]
  },
  {
   "cell_type": "markdown",
   "metadata": {},
   "source": [
    "### Answer b"
   ]
  },
  {
   "cell_type": "code",
   "execution_count": 356,
   "metadata": {},
   "outputs": [
    {
     "data": {
      "text/plain": [
       "array([ 9.73214286,  8.57142857,  9.55357143, 12.14285714, 15.80357143,\n",
       "       20.        , 24.19642857, 27.85714286, 30.44642857, 31.42857143,\n",
       "       30.26785714, 26.42857143])"
      ]
     },
     "execution_count": 356,
     "metadata": {},
     "output_type": "execute_result"
    }
   ],
   "source": [
    "t = np.linspace(1,12,12)\n",
    "t\n",
    "lambda_t = (-5*pow(t,3) + 90*pow(t,2) - 300*t +760)/56\n",
    "lambda_t"
   ]
  },
  {
   "cell_type": "code",
   "execution_count": 357,
   "metadata": {},
   "outputs": [
    {
     "data": {
      "text/plain": [
       "31.428571428571427"
      ]
     },
     "execution_count": 357,
     "metadata": {},
     "output_type": "execute_result"
    }
   ],
   "source": [
    "lambda_max = np.max(lambda_t)\n",
    "lambda_max"
   ]
  },
  {
   "cell_type": "code",
   "execution_count": 358,
   "metadata": {},
   "outputs": [
    {
     "name": "stdout",
     "output_type": "stream",
     "text": [
      "probability that more than 250 customers turn up in 12 hours window is 0.278\n",
      "Corresponding Lower bounnd and upper bound for 95% CI is 0.2386912878994632 and 0.31730871210053685 respectively\n"
     ]
    }
   ],
   "source": [
    "num_sim = 500\n",
    "a = np.zeros(num_sim) # counter if total arrivals are more than  \n",
    "c = np.zeros((num_sim,12)) # in each simulaiton how many arrivals happening in each hour. \n",
    "for i in range(0,num_sim):\n",
    "    X = []\n",
    "    time = 0\n",
    "    while time <12:\n",
    "        time = time + np.random.exponential(1/lambda_max)\n",
    "        U = np.random.uniform()\n",
    "        lambdat = (-5*pow(time,3) + 90*pow(time,2) - 300*time +760)/56\n",
    "        if U < lambdat/lambda_max:\n",
    "                X.append(time)\n",
    "                for k in range(12):\n",
    "                    if (k+1>time>k):\n",
    "                        c[i][k] = c[i][k] + 1            \n",
    "                \n",
    "    if len(X) > 250:\n",
    "        a[i] = 1\n",
    "    else: \n",
    "        a[i] = 0\n",
    "\n",
    "proportion = np.mean(a)\n",
    "LB = proportion - st.norm.ppf(0.975) * np.std(a, ddof = 1) / np.sqrt(num_sim)\n",
    "UB = proportion + st.norm.ppf(0.975) * np.std(a, ddof = 1) / np.sqrt(num_sim)\n",
    "    \n",
    "print(\"probability that more than 250 customers turn up in 12 hours window is\", proportion) \n",
    "print (\"Corresponding Lower bounnd and upper bound for 95% CI is\", LB,\"and\", UB,\"respectively\" )"
   ]
  },
  {
   "cell_type": "markdown",
   "metadata": {},
   "source": [
    "### Answer c"
   ]
  },
  {
   "cell_type": "code",
   "execution_count": 324,
   "metadata": {},
   "outputs": [
    {
     "data": {
      "text/plain": [
       "array([11.566,  9.09 ,  8.81 , 10.732, 14.178, 17.826, 22.218, 26.064,\n",
       "       29.176, 30.894, 30.844, 28.888])"
      ]
     },
     "execution_count": 324,
     "metadata": {},
     "output_type": "execute_result"
    }
   ],
   "source": [
    "np.mean(c,0)"
   ]
  },
  {
   "cell_type": "code",
   "execution_count": 334,
   "metadata": {},
   "outputs": [
    {
     "data": {
      "text/plain": [
       "[<matplotlib.lines.Line2D at 0x1a16d856a0>]"
      ]
     },
     "execution_count": 334,
     "metadata": {},
     "output_type": "execute_result"
    },
    {
     "data": {
      "image/png": "[encoded data removed]",
      "text/plain": [
       "<Figure size 432x288 with 1 Axes>"
      ]
     },
     "metadata": {
      "needs_background": "light"
     },
     "output_type": "display_data"
    }
   ],
   "source": [
    "#### plot for arrival in each hour\n",
    "plt.bar(t,np.mean(c,0))\n",
    "plt.plot(lambda_t)"
   ]
  },
  {
   "cell_type": "markdown",
   "metadata": {},
   "source": [
    "Average number of customer coming in during each hour follow a similar trend as that of lambda as function of t. "
   ]
  },
  {
   "cell_type": "markdown",
   "metadata": {},
   "source": [
    "# Question 5"
   ]
  },
  {
   "cell_type": "markdown",
   "metadata": {},
   "source": [
    "### Answer a"
   ]
  },
  {
   "cell_type": "markdown",
   "metadata": {},
   "source": [
    "#### Simulating demand. \n",
    "##### note that uniform variable is generated for each player in each iteration as these are iid. "
   ]
  },
  {
   "cell_type": "code",
   "execution_count": 335,
   "metadata": {},
   "outputs": [],
   "source": [
    "## demand generation\n",
    "\n",
    "num_iter = 10000\n",
    "confirmed_demand = 4000\n",
    "num_small_player = 10\n",
    "vol_small_player = 200\n",
    "num_large_player = 2\n",
    "vol_large_player = 2500\n",
    "\n",
    "other_small_player_demand = np.zeros(num_iter)\n",
    "other_large_player_demand = np.zeros(num_iter)\n",
    "demand_array = np.zeros(num_iter)\n",
    "\n",
    "for i in range(num_iter):\n",
    "    small_player_demand = 0\n",
    "    for j in range(num_small_player):\n",
    "        u = np.random.uniform()   ## Simulating if contracts with a small player comes through. \n",
    "        if u > 0.5:\n",
    "            small_player_demand = small_player_demand + vol_small_player\n",
    "    \n",
    "    other_small_player_demand[i] = small_player_demand\n",
    "    \n",
    "    large_player_demand = confirmed_demand\n",
    "    for j in range(num_large_player):\n",
    "        u = np.random.uniform()\n",
    "        if u > 0.6:                ## Simulating if contracts with a large player comes through.\n",
    "            large_player_demand = large_player_demand + vol_large_player\n",
    "    \n",
    "    other_large_player_demand[i] = large_player_demand\n",
    "\n",
    "demand_array = other_small_player_demand + other_large_player_demand\n",
    "\n",
    "#print(demand_array) #, other_large_player_demand, demand_array)"
   ]
  },
  {
   "cell_type": "markdown",
   "metadata": {},
   "source": [
    "#### Cost function when all 4 suppliers are signed up"
   ]
  },
  {
   "cell_type": "code",
   "execution_count": 336,
   "metadata": {},
   "outputs": [],
   "source": [
    "def wood_cost(x):\n",
    "    \n",
    "    spot_rate = np.random.triangular(16,20,30)\n",
    "    ERM_rate = 10\n",
    "    HM_rate = 11.2\n",
    "    CS_rate = 12.3\n",
    "    CW_rate = 15\n",
    "    \n",
    "    additional_purchase_ERM = 0\n",
    "    additional_purchase_HM = 0\n",
    "    additional_purchase_CS = 0\n",
    "    additional_purchase_CW = 0\n",
    "    purchase_spot = 0\n",
    "        \n",
    "    if (x > 8000 and x <= 8400):\n",
    "        additional_purchase_ERM = x - 8000\n",
    "        additional_purchase_HM = 0\n",
    "        additional_purchase_CS = 0\n",
    "        additional_purchase_CW = 0\n",
    "        purchase_spot = 0\n",
    "       \n",
    "    elif (x > 8400 and x <= 9000):\n",
    "        additional_purchase_ERM = 400\n",
    "        additional_purchase_HM = x - 8400\n",
    "        additional_purchase_CS = 0\n",
    "        additional_purchase_CW = 0\n",
    "        purchase_spot = 0\n",
    "   \n",
    "    elif(x > 9000 and x <= 9400):\n",
    "        additional_purchase_ERM = 400\n",
    "        additional_purchase_HM = 600\n",
    "        additional_purchase_CS = x-9000\n",
    "        additional_purchase_CW = 0\n",
    "        purchase_spot = 0\n",
    "        \n",
    "    elif(x > 9400 and x <= 10000):\n",
    "        additional_purchase_ERM = 400\n",
    "        additional_purchase_HM = 600\n",
    "        additional_purchase_CS = 400\n",
    "        additional_purchase_CW = x-9400\n",
    "        purchase_spot = 0\n",
    "        \n",
    "    elif(x > 10000):\n",
    "        additional_purchase_ERM = 400\n",
    "        additional_purchase_HM = 600\n",
    "        additional_purchase_CS = 400\n",
    "        additional_purchase_CW = 600\n",
    "        purchase_spot = x-10000\n",
    "\n",
    "    \n",
    "    purchase_ERM = 1600 + additional_purchase_ERM\n",
    "    purchase_HM = 2400 + additional_purchase_HM\n",
    "    purchase_CS = 1600 + additional_purchase_CS\n",
    "    purchase_CW = 2400 + additional_purchase_CW\n",
    "    \n",
    "    total_cost = purchase_ERM*ERM_rate + purchase_HM*HM_rate + purchase_CS*CS_rate + purchase_CW*CW_rate + purchase_spot*spot_rate\n",
    "    total_purchased = purchase_ERM + purchase_HM +  purchase_CS +  purchase_CW + purchase_spot\n",
    "\n",
    "    return(total_cost) #, total_purchased, purchase_ERM, purchase_HM, purchase_CS,purchase_CW, purchase_spot)\n",
    "        "
   ]
  },
  {
   "cell_type": "code",
   "execution_count": 343,
   "metadata": {},
   "outputs": [
    {
     "name": "stdout",
     "output_type": "stream",
     "text": [
      "minimum cost is 98560.0\n",
      "estimate of 10%ile is 98560.0\n",
      "estimate of median is 98560.0\n",
      "estimate of 90%ile is 123200.0\n",
      "maximum cost is 152440.51065206598\n",
      "estimate of average is 102763.1006838139\n",
      "Average cost of wood to meet demand is (in this case) 102763.1006838139\n",
      "Corresponding Lower bounnd and upper bound for 95% CI is 102572.33221852014 and 102953.86914910766 respectively\n"
     ]
    }
   ],
   "source": [
    "total_cost = np.zeros(num_iter)\n",
    "\n",
    "for i in range(num_iter):\n",
    "    total_cost[i] = wood_cost(demand_array[i])\n",
    "\n",
    "print(\"minimum cost is\", min(total_cost))\n",
    "print (\"estimate of 10%ile is\", np.percentile(total_cost,10))\n",
    "print (\"estimate of median is\", np.percentile(total_cost,50))\n",
    "print (\"estimate of 90%ile is\", np.percentile(total_cost,90))\n",
    "print(\"maximum cost is\", max(total_cost))\n",
    "print(\"estimate of average is\", np.mean(total_cost))\n",
    "\n",
    "proportion = np.mean(total_cost)\n",
    "LB = proportion - st.norm.ppf(0.975) * np.std(total_cost, ddof = 1) / np.sqrt(num_iter)\n",
    "UB = proportion + st.norm.ppf(0.975) * np.std(total_cost, ddof = 1) / np.sqrt(num_iter)\n",
    "    \n",
    "print(\"Average cost of wood to meet demand is (in this case)\", proportion) \n",
    "print (\"Corresponding Lower bounnd and upper bound for 95% CI is\", LB,\"and\", UB,\"respectively\" )"
   ]
  },
  {
   "cell_type": "markdown",
   "metadata": {},
   "source": [
    "### Answer b"
   ]
  },
  {
   "cell_type": "code",
   "execution_count": 338,
   "metadata": {},
   "outputs": [
    {
     "name": "stdout",
     "output_type": "stream",
     "text": [
      "4000.0 7300.0 10000.0 11000.0\n"
     ]
    }
   ],
   "source": [
    "print(min(demand_array), np.percentile(demand_array,50), np.percentile(demand_array,90), np.percentile(demand_array,100))"
   ]
  },
  {
   "cell_type": "markdown",
   "metadata": {},
   "source": [
    "As minimum of 4000 is needed, contracting with ERM and HM is must (as they are lowest cost), so following cases arise:\n",
    "\n",
    "<br> Case 1: Only contract with ERM and HW, any excess from spot market. \n",
    "<br> Case 2: Contract with ERM, HW and CS, any excess from spot market. \n",
    "<br> Case 3: Contract with all, any excess from spot market.  (as answer a) \n",
    "\n",
    "<br> note that as CW's per unit cost and min quantity order both are greater than CS, CW will always be lower priority than CS. \n",
    "    \n",
    "\n"
   ]
  },
  {
   "cell_type": "markdown",
   "metadata": {},
   "source": [
    "#### Case 1 : Only contract with ERM and HW"
   ]
  },
  {
   "cell_type": "code",
   "execution_count": 344,
   "metadata": {},
   "outputs": [],
   "source": [
    "def wood_cost_case1(x):\n",
    "    \n",
    "    spot_rate = np.random.triangular(16,20,30)\n",
    "    ERM_rate = 10\n",
    "    HM_rate = 11.2\n",
    "    CS_rate = 12.3\n",
    "    CW_rate = 15\n",
    "    \n",
    "    additional_purchase_ERM = 0\n",
    "    additional_purchase_HM = 0\n",
    "    purchase_spot = 0\n",
    "        \n",
    "    if (x > 4000 and x <= 4400):\n",
    "        additional_purchase_ERM = x - 4000\n",
    "        additional_purchase_HM = 0\n",
    "        purchase_spot = 0\n",
    "       \n",
    "    elif (x > 4400 and x <= 5000):\n",
    "        additional_purchase_ERM = 400\n",
    "        additional_purchase_HM = x - 4400\n",
    "        purchase_spot = 0\n",
    "        \n",
    "    elif(x > 5000):\n",
    "        additional_purchase_ERM = 400\n",
    "        additional_purchase_HM = 600\n",
    "        purchase_spot = x-5000\n",
    "\n",
    "    \n",
    "    purchase_ERM = 1600 + additional_purchase_ERM\n",
    "    purchase_HM = 2400 + additional_purchase_HM\n",
    "    purchase_CS = 0\n",
    "    purchase_CW = 0\n",
    "    \n",
    "    total_cost = purchase_ERM*ERM_rate + purchase_HM*HM_rate + purchase_CS*CS_rate + purchase_CW*CW_rate + purchase_spot*spot_rate\n",
    "    total_purchased = purchase_ERM + purchase_HM +  purchase_CS +  purchase_CW + purchase_spot\n",
    "\n",
    "    return(total_cost) #, total_purchased, purchase_ERM, purchase_HM, purchase_CS,purchase_CW, purchase_spot)\n",
    "        "
   ]
  },
  {
   "cell_type": "code",
   "execution_count": 345,
   "metadata": {},
   "outputs": [
    {
     "name": "stdout",
     "output_type": "stream",
     "text": [
      "42880.0 102577.09296793188 157106.98277679842 220720.11427693142\n",
      "estimate of average cost in case 2 is 98420.43219027329\n",
      "Average cost of wood to meet demand is (in this case) 98420.43219027329\n",
      "Corresponding Lower bounnd and upper bound for 95% CI is 97657.48062123425 and 99183.38375931233 respectively\n"
     ]
    }
   ],
   "source": [
    "total_cost_case1 = np.zeros(num_iter)\n",
    "\n",
    "for i in range(num_iter):\n",
    "    total_cost_case1[i] = wood_cost_case1(demand_array[i])\n",
    "\n",
    "print(min(total_cost_case1), np.percentile(total_cost_case1,50), np.percentile(total_cost_case1,90), np.percentile(total_cost_case1,100))\n",
    "print(\"estimate of average cost in case 2 is\", np.mean(total_cost_case1))\n",
    "\n",
    "proportion = np.mean(total_cost_case1)\n",
    "LB = proportion - st.norm.ppf(0.975) * np.std(total_cost_case1, ddof = 1) / np.sqrt(num_iter)\n",
    "UB = proportion + st.norm.ppf(0.975) * np.std(total_cost_case1, ddof = 1) / np.sqrt(num_iter)\n",
    "    \n",
    "print(\"Average cost of wood to meet demand is (in this case)\", proportion) \n",
    "print (\"Corresponding Lower bounnd and upper bound for 95% CI is\", LB,\"and\", UB,\"respectively\" )"
   ]
  },
  {
   "cell_type": "markdown",
   "metadata": {},
   "source": [
    "#### Case 2: Contract with ERM, HW and CS"
   ]
  },
  {
   "cell_type": "code",
   "execution_count": 346,
   "metadata": {},
   "outputs": [],
   "source": [
    "def wood_cost_case2(x):\n",
    "    \n",
    "    spot_rate = np.random.triangular(16,20,30)\n",
    "    ERM_rate = 10\n",
    "    HM_rate = 11.2\n",
    "    CS_rate = 12.3\n",
    "    CW_rate = 15\n",
    "    \n",
    "    additional_purchase_ERM = 0\n",
    "    additional_purchase_HM = 0\n",
    "    additional_purchase_CS = 0\n",
    "    additional_purchase_CW = 0\n",
    "    purchase_spot = 0\n",
    "        \n",
    "    if (x > 5600 and x <= 6000):\n",
    "        additional_purchase_ERM = x - 5600\n",
    "        additional_purchase_HM = 0\n",
    "        additional_purchase_CS = 0\n",
    "        additional_purchase_CW = 0\n",
    "        purchase_spot = 0\n",
    "       \n",
    "    elif (x > 6000 and x <= 6600):\n",
    "        additional_purchase_ERM = 400\n",
    "        additional_purchase_HM = x - 6000\n",
    "        additional_purchase_CS = 0\n",
    "        additional_purchase_CW = 0\n",
    "        purchase_spot = 0\n",
    "   \n",
    "    elif(x > 6600 and x <= 7000):\n",
    "        additional_purchase_ERM = 400\n",
    "        additional_purchase_HM = 600\n",
    "        additional_purchase_CS = x-6600\n",
    "        additional_purchase_CW = 0\n",
    "        purchase_spot = 0\n",
    "        \n",
    "    elif(x > 7000):\n",
    "        additional_purchase_ERM = 400\n",
    "        additional_purchase_HM = 600\n",
    "        additional_purchase_CS = 400\n",
    "        additional_purchase_CW = 0\n",
    "        purchase_spot = x-7000\n",
    "\n",
    "    \n",
    "    purchase_ERM = 1600 + additional_purchase_ERM\n",
    "    purchase_HM = 2400 + additional_purchase_HM\n",
    "    purchase_CS = 1600 + additional_purchase_CS\n",
    "    purchase_CW = 0\n",
    "    \n",
    "    total_cost = purchase_ERM*ERM_rate + purchase_HM*HM_rate + purchase_CS*CS_rate + purchase_CW*CW_rate + purchase_spot*spot_rate\n",
    "    total_purchased = purchase_ERM + purchase_HM +  purchase_CS +  purchase_CW + purchase_spot\n",
    "\n",
    "    return(total_cost) #, total_purchased, purchase_ERM, purchase_HM, purchase_CS,purchase_CW, purchase_spot)\n",
    "        "
   ]
  },
  {
   "cell_type": "code",
   "execution_count": 348,
   "metadata": {},
   "outputs": [
    {
     "name": "stdout",
     "output_type": "stream",
     "text": [
      "62560.0 84951.1271017859 139747.5795545062 182694.90638527548\n",
      "estimate of average cost in case 2 is 88653.62842465418\n",
      "Average cost of wood to meet demand is (in this case) 88653.62842465418\n",
      "Corresponding Lower bounnd and upper bound for 95% CI is 88104.02257556836 and 89203.23427373999 respectively\n"
     ]
    }
   ],
   "source": [
    "total_cost_case2 = np.zeros(num_iter)\n",
    "\n",
    "for i in range(num_iter):\n",
    "    total_cost_case2[i] = wood_cost_case2(demand_array[i])\n",
    "\n",
    "print(min(total_cost_case2), np.percentile(total_cost_case2,50), np.percentile(total_cost_case2,90), np.percentile(total_cost_case2,100))\n",
    "print(\"estimate of average cost in case 2 is\", np.mean(total_cost_case2))\n",
    "\n",
    "proportion = np.mean(total_cost_case2)\n",
    "LB = proportion - st.norm.ppf(0.975) * np.std(total_cost_case2, ddof = 1) / np.sqrt(num_iter)\n",
    "UB = proportion + st.norm.ppf(0.975) * np.std(total_cost_case2, ddof = 1) / np.sqrt(num_iter)\n",
    "    \n",
    "print(\"Average cost of wood to meet demand is (in this case)\", proportion) \n",
    "print (\"Corresponding Lower bounnd and upper bound for 95% CI is\", LB,\"and\", UB,\"respectively\" )"
   ]
  },
  {
   "cell_type": "markdown",
   "metadata": {},
   "source": [
    "<br> For Case 1 (Only contract with ERM and HW) 95% CI is about 97657 and 99183\n",
    "<br> For Case 2 (Contract with ERM, HW and CS) 95% CI is about 88104 and 89203\n",
    "<br> For Case 3 (Contract with all 4) 95% CI is 102527 and 102953 \n",
    "\n",
    "<br> <b> Hence Contracting with ERM, HW and CS is best solution. </b>"
   ]
  },
  {
   "cell_type": "code",
   "execution_count": null,
   "metadata": {},
   "outputs": [],
   "source": []
  }
 ],
 "metadata": {
  "kernelspec": {
   "display_name": "Python 3",
   "language": "python",
   "name": "python3"
  },
  "language_info": {
   "codemirror_mode": {
    "name": "ipython",
    "version": 3
   },
   "file_extension": ".py",
   "mimetype": "text/x-python",
   "name": "python",
   "nbconvert_exporter": "python",
   "pygments_lexer": "ipython3",
   "version": "3.7.3"
  }
 },
 "nbformat": 4,
 "nbformat_minor": 2
}
